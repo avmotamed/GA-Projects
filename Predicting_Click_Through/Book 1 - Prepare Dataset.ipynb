{
 "cells": [
  {
   "cell_type": "markdown",
   "metadata": {},
   "source": [
    "# Predicting Click-Through's for Recommended Content\n",
    "\n",
    "## Reduce Kaggle Data Set to US only\n",
    "The data set used for the kaggle competition was large in scope. For this project I am scaling back the data to work on a local machine. After intial runs of this data, further work can be done by moving to larger systems to run the models.\n",
    "\n",
    "\n",
    "## Sampling for Train and Test data & merging tables\n",
    "Given the size and scope of the data, and having done the initial EDA, the preliminary model is to be developed using a random subset of the data.\n",
    "\n",
    "#### The following factors are being applied to pair down the data\n",
    "* Only using US data\n",
    "* This is a predominant part of the data, and EDA shows not much variation in behaviour in regards to display count and other factors.\n",
    "* Of this data, only those with full geo_location data will be used. This is to ensure proper correction for time zones (base times are in UTC counts).\n",
    "* From this a random slice of events will be chosen.\n",
    "\n",
    "The initial training data will be 5,000 events and the test set will be 500 events. Since each event has on average around five ad choices, this will tranlate in 25,000 rows of data for developing the training set.\n",
    "\n",
    "#### Further refinements to the process will include what selection of document data to use\n",
    "* Much of the data has low confidence levels\n",
    "* Will need to develop a threshold for when to use and when to ignore confidence level\n",
    "* Many documents also have multiple categories, so will need to determine how to pick the main one to use, or as the model develops, how to incorporate multiple categories."
   ]
  },
  {
   "cell_type": "markdown",
   "metadata": {},
   "source": [
    "## Slicing and prepping the data\n",
    "\n",
    "Note: CAPITAL LETTER items reference tables provided by Outbrains.\n",
    "\n",
    "Process:\n",
    "* Read in Outbrain CLICK data in parts, too big to read in as one dataframe\n",
    "* Compare to EVENTS data supplied by outbrain (Events is larger set the Click data)\n",
    "* EVENTS - make 2nd version that:\n",
    "    * Slice EVENTS down so that it only has items that are in CLICK\n",
    "    * Split up geo_location column into 'states' and 'DMA'\n",
    "    * Filter out empties and non US data, as well as data missing state and DMA info\n"
   ]
  },
  {
   "cell_type": "code",
   "execution_count": 1,
   "metadata": {
    "collapsed": true
   },
   "outputs": [],
   "source": [
    "import pandas as pd\n",
    "import numpy as np\n",
    "import seaborn as sns\n",
    "import matplotlib.pyplot as plt\n",
    "import pickle\n",
    "import random\n",
    "import matplotlib\n",
    "import matplotlib.cm as cm\n",
    "import seaborn as sns\n",
    "import datetime\n",
    "import time\n",
    "\n",
    "matplotlib.style.use('ggplot') \n",
    "%matplotlib inline"
   ]
  },
  {
   "cell_type": "markdown",
   "metadata": {},
   "source": [
    "## Read in Event Table Data\n",
    "\n",
    "The event file contains the item clicked (not the other ads displayed) and some basic user information.\n"
   ]
  },
  {
   "cell_type": "code",
   "execution_count": 2,
   "metadata": {
    "collapsed": false
   },
   "outputs": [],
   "source": [
    "# !ls ./data/ "
   ]
  },
  {
   "cell_type": "code",
   "execution_count": 3,
   "metadata": {
    "collapsed": false
   },
   "outputs": [
    {
     "name": "stderr",
     "output_type": "stream",
     "text": [
      "/Users/alex/anaconda/lib/python2.7/site-packages/IPython/core/interactiveshell.py:2723: DtypeWarning: Columns (4) have mixed types. Specify dtype option on import or set low_memory=False.\n",
      "  interactivity=interactivity, compiler=compiler, result=result)\n"
     ]
    }
   ],
   "source": [
    "events = pd.read_csv('./data/events.csv')"
   ]
  },
  {
   "cell_type": "code",
   "execution_count": 4,
   "metadata": {
    "collapsed": false
   },
   "outputs": [
    {
     "name": "stdout",
     "output_type": "stream",
     "text": [
      "Total number of events in full data: 23,120,126\n"
     ]
    }
   ],
   "source": [
    "print('Total number of events in full data: {0:,}'.\\\n",
    "      format(events['display_id'].nunique()))"
   ]
  },
  {
   "cell_type": "markdown",
   "metadata": {},
   "source": [
    "## Read the Page Recommended Content Data into 2 data frames\n",
    "File is too large to read into one dataframe. This file contains all the ads displayed at each click event. Each selection of ads is denoted by 'display_id'."
   ]
  },
  {
   "cell_type": "code",
   "execution_count": 5,
   "metadata": {
    "collapsed": true
   },
   "outputs": [],
   "source": [
    "df1 = pd.read_csv('./data/clicks_train.csv', nrows = 40000000)\n",
    "df2 = pd.read_csv('./data/clicks_train.csv', skiprows = 40000000)"
   ]
  },
  {
   "cell_type": "code",
   "execution_count": 6,
   "metadata": {
    "collapsed": false
   },
   "outputs": [],
   "source": [
    "titles = df1.columns\n",
    "df2.columns = titles"
   ]
  },
  {
   "cell_type": "code",
   "execution_count": 7,
   "metadata": {
    "collapsed": false
   },
   "outputs": [
    {
     "data": {
      "text/html": [
       "<div>\n",
       "<table border=\"1\" class=\"dataframe\">\n",
       "  <thead>\n",
       "    <tr style=\"text-align: right;\">\n",
       "      <th></th>\n",
       "      <th>display_id</th>\n",
       "      <th>ad_id</th>\n",
       "      <th>clicked</th>\n",
       "    </tr>\n",
       "  </thead>\n",
       "  <tbody>\n",
       "    <tr>\n",
       "      <th>0</th>\n",
       "      <td>7777790</td>\n",
       "      <td>152975</td>\n",
       "      <td>0</td>\n",
       "    </tr>\n",
       "    <tr>\n",
       "      <th>1</th>\n",
       "      <td>7777790</td>\n",
       "      <td>159143</td>\n",
       "      <td>0</td>\n",
       "    </tr>\n",
       "  </tbody>\n",
       "</table>\n",
       "</div>"
      ],
      "text/plain": [
       "   display_id   ad_id  clicked\n",
       "0     7777790  152975        0\n",
       "1     7777790  159143        0"
      ]
     },
     "execution_count": 7,
     "metadata": {},
     "output_type": "execute_result"
    }
   ],
   "source": [
    "df2.head(2)"
   ]
  },
  {
   "cell_type": "code",
   "execution_count": 8,
   "metadata": {
    "collapsed": false
   },
   "outputs": [
    {
     "data": {
      "text/html": [
       "<div>\n",
       "<table border=\"1\" class=\"dataframe\">\n",
       "  <thead>\n",
       "    <tr style=\"text-align: right;\">\n",
       "      <th></th>\n",
       "      <th>display_id</th>\n",
       "      <th>ad_id</th>\n",
       "      <th>clicked</th>\n",
       "    </tr>\n",
       "  </thead>\n",
       "  <tbody>\n",
       "    <tr>\n",
       "      <th>0</th>\n",
       "      <td>1</td>\n",
       "      <td>42337</td>\n",
       "      <td>0</td>\n",
       "    </tr>\n",
       "    <tr>\n",
       "      <th>1</th>\n",
       "      <td>1</td>\n",
       "      <td>139684</td>\n",
       "      <td>0</td>\n",
       "    </tr>\n",
       "  </tbody>\n",
       "</table>\n",
       "</div>"
      ],
      "text/plain": [
       "   display_id   ad_id  clicked\n",
       "0           1   42337        0\n",
       "1           1  139684        0"
      ]
     },
     "execution_count": 8,
     "metadata": {},
     "output_type": "execute_result"
    }
   ],
   "source": [
    "df1.head(2)"
   ]
  },
  {
   "cell_type": "markdown",
   "metadata": {},
   "source": [
    "## Do some data cleaning"
   ]
  },
  {
   "cell_type": "code",
   "execution_count": 9,
   "metadata": {
    "collapsed": false,
    "scrolled": true
   },
   "outputs": [
    {
     "name": "stdout",
     "output_type": "stream",
     "text": [
      "[3 2 1 '2' '1' '3' '\\\\N']\n"
     ]
    },
    {
     "data": {
      "text/plain": [
       "2     10684579\n",
       "1      8747280\n",
       "3      3032907\n",
       "2       291699\n",
       "1       279988\n",
       "3        83668\n",
       "\\N           5\n",
       "Name: platform, dtype: int64"
      ]
     },
     "execution_count": 9,
     "metadata": {},
     "output_type": "execute_result"
    }
   ],
   "source": [
    "print(events['platform'].unique())\n",
    "events['platform'].value_counts()"
   ]
  },
  {
   "cell_type": "code",
   "execution_count": 10,
   "metadata": {
    "collapsed": false
   },
   "outputs": [
    {
     "data": {
      "text/plain": [
       "array(['3', '2', '1', nan], dtype=object)"
      ]
     },
     "execution_count": 10,
     "metadata": {},
     "output_type": "execute_result"
    }
   ],
   "source": [
    "# function to convert all data to strings (will be used for classification)\n",
    "\n",
    "def platform_filter(x):\n",
    "    if x == '\\\\N':\n",
    "        return np.nan\n",
    "    elif type(x) is int:\n",
    "        return str(x)  # make into string since this is a category\n",
    "    else:\n",
    "        return x\n",
    "\n",
    "# updated platform column\n",
    "events['platform'] = [platform_filter(x) for x in events['platform']]\n",
    "events['platform'].unique()"
   ]
  },
  {
   "cell_type": "markdown",
   "metadata": {},
   "source": [
    "## Break out Geo_Location data and use only US data"
   ]
  },
  {
   "cell_type": "code",
   "execution_count": 11,
   "metadata": {
    "collapsed": true
   },
   "outputs": [],
   "source": [
    "events['country'] = events['geo_location'].str[0:2]\n",
    "# take only US data from events\n",
    "# and break out other geographic data\n",
    "events = events[events['country'] == 'US']\n",
    "events['state'] = events['geo_location'].str[3:5]\n",
    "events['DMA'] = events['geo_location'].str[6:]"
   ]
  },
  {
   "cell_type": "code",
   "execution_count": 12,
   "metadata": {
    "collapsed": false
   },
   "outputs": [
    {
     "data": {
      "text/html": [
       "<div>\n",
       "<table border=\"1\" class=\"dataframe\">\n",
       "  <thead>\n",
       "    <tr style=\"text-align: right;\">\n",
       "      <th></th>\n",
       "      <th>display_id</th>\n",
       "      <th>uuid</th>\n",
       "      <th>document_id</th>\n",
       "      <th>timestamp</th>\n",
       "      <th>platform</th>\n",
       "      <th>geo_location</th>\n",
       "      <th>country</th>\n",
       "      <th>state</th>\n",
       "      <th>DMA</th>\n",
       "    </tr>\n",
       "  </thead>\n",
       "  <tbody>\n",
       "    <tr>\n",
       "      <th>0</th>\n",
       "      <td>1</td>\n",
       "      <td>cb8c55702adb93</td>\n",
       "      <td>379743</td>\n",
       "      <td>61</td>\n",
       "      <td>3</td>\n",
       "      <td>US&gt;SC&gt;519</td>\n",
       "      <td>US</td>\n",
       "      <td>SC</td>\n",
       "      <td>519</td>\n",
       "    </tr>\n",
       "    <tr>\n",
       "      <th>1</th>\n",
       "      <td>2</td>\n",
       "      <td>79a85fa78311b9</td>\n",
       "      <td>1794259</td>\n",
       "      <td>81</td>\n",
       "      <td>2</td>\n",
       "      <td>US&gt;CA&gt;807</td>\n",
       "      <td>US</td>\n",
       "      <td>CA</td>\n",
       "      <td>807</td>\n",
       "    </tr>\n",
       "    <tr>\n",
       "      <th>2</th>\n",
       "      <td>3</td>\n",
       "      <td>822932ce3d8757</td>\n",
       "      <td>1179111</td>\n",
       "      <td>182</td>\n",
       "      <td>2</td>\n",
       "      <td>US&gt;MI&gt;505</td>\n",
       "      <td>US</td>\n",
       "      <td>MI</td>\n",
       "      <td>505</td>\n",
       "    </tr>\n",
       "  </tbody>\n",
       "</table>\n",
       "</div>"
      ],
      "text/plain": [
       "   display_id            uuid  document_id  timestamp platform geo_location  \\\n",
       "0           1  cb8c55702adb93       379743         61        3    US>SC>519   \n",
       "1           2  79a85fa78311b9      1794259         81        2    US>CA>807   \n",
       "2           3  822932ce3d8757      1179111        182        2    US>MI>505   \n",
       "\n",
       "  country state  DMA  \n",
       "0      US    SC  519  \n",
       "1      US    CA  807  \n",
       "2      US    MI  505  "
      ]
     },
     "execution_count": 12,
     "metadata": {},
     "output_type": "execute_result"
    }
   ],
   "source": [
    "events.head(3)"
   ]
  },
  {
   "cell_type": "code",
   "execution_count": 13,
   "metadata": {
    "collapsed": true
   },
   "outputs": [],
   "source": [
    "# Clean DMA and state columns\n",
    "def filter_DMA(x):\n",
    "    try:\n",
    "        return str(int(x))\n",
    "    except:\n",
    "        return np.nan\n",
    "\n",
    "def filter_state(x):\n",
    "    if x == '':\n",
    "        return np.nan\n",
    "    else:\n",
    "        return x\n",
    "    \n",
    "events['state'] = [filter_state(x) for x in events['state']]\n",
    "events['DMA'] = [filter_DMA(x) for x in events['DMA']]"
   ]
  },
  {
   "cell_type": "code",
   "execution_count": 14,
   "metadata": {
    "collapsed": false
   },
   "outputs": [
    {
     "name": "stdout",
     "output_type": "stream",
     "text": [
      "# rows mising state data: 758,487\n",
      "# rows mising platform data: 5\n",
      "# rows mising DMA data: 1,264,852\n"
     ]
    }
   ],
   "source": [
    "print('# rows mising state data: {0:,}'.format(len(events[events['state'].isnull()])))\n",
    "print('# rows mising platform data: {0:,}'.format( len(events[events['platform'].isnull()])))\n",
    "print('# rows mising DMA data: {0:,}'.format( len(events[events['DMA'].isnull()])))"
   ]
  },
  {
   "cell_type": "code",
   "execution_count": 15,
   "metadata": {
    "collapsed": false
   },
   "outputs": [
    {
     "name": "stdout",
     "output_type": "stream",
     "text": [
      "# of total US events: 18,595,452\n"
     ]
    }
   ],
   "source": [
    "print('# of total US events: {0:,}'.format(len(events)))"
   ]
  },
  {
   "cell_type": "code",
   "execution_count": 16,
   "metadata": {
    "collapsed": true
   },
   "outputs": [],
   "source": [
    "US_orig_length = len(events)"
   ]
  },
  {
   "cell_type": "markdown",
   "metadata": {},
   "source": [
    "### Take out events missing geo data & military location designators\n",
    "AA and AP are military postal designations for overseas."
   ]
  },
  {
   "cell_type": "code",
   "execution_count": 17,
   "metadata": {
    "collapsed": true
   },
   "outputs": [],
   "source": [
    "events = events[(events['state'].notnull()) & (events['DMA'].notnull()) \\\n",
    "                & (events['state'] != \"AA\") & (events['state'] != 'AP') \\\n",
    "                & (events['platform'].notnull())]\n"
   ]
  },
  {
   "cell_type": "code",
   "execution_count": 18,
   "metadata": {
    "collapsed": false
   },
   "outputs": [
    {
     "name": "stdout",
     "output_type": "stream",
     "text": [
      "# rows mising state data: 0\n",
      "# rows mising platform data: 0\n",
      "# rows mising DMA data: 0\n"
     ]
    }
   ],
   "source": [
    "print('# rows mising state data: {0:,}'.format(len(events[events['state'].isnull()])))\n",
    "print('# rows mising platform data: {0:,}'.format( len(events[events['platform'].isnull()])))\n",
    "print('# rows mising DMA data: {0:,}'.format( len(events[events['DMA'].isnull()])))"
   ]
  },
  {
   "cell_type": "code",
   "execution_count": 19,
   "metadata": {
    "collapsed": false
   },
   "outputs": [
    {
     "name": "stdout",
     "output_type": "stream",
     "text": [
      "# of rows reduced: 1,264,857\n"
     ]
    }
   ],
   "source": [
    "reduction1 = US_orig_length - len(events)\n",
    "print('# of rows reduced: {0:,}'.format(reduction1))"
   ]
  },
  {
   "cell_type": "markdown",
   "metadata": {},
   "source": [
    "All the missing state data came from rows missing the DMA data (the 5 stragglers may be from misssing platform data or DMA or both)"
   ]
  },
  {
   "cell_type": "markdown",
   "metadata": {},
   "source": [
    "### Sync Data Between Main Click Data and EVENT table\n",
    "EVENT has more click's than in the main data set, so we want to reduce EVENT table to only have correpsonding click events."
   ]
  },
  {
   "cell_type": "code",
   "execution_count": 20,
   "metadata": {
    "collapsed": false
   },
   "outputs": [],
   "source": [
    "# identify events that are in main click data set \n",
    "event_id = list(df1['display_id'].unique()) + list(df2['display_id'].unique())"
   ]
  },
  {
   "cell_type": "code",
   "execution_count": 21,
   "metadata": {
    "collapsed": true
   },
   "outputs": [],
   "source": [
    "# filter main events dataframe to only include event_id's in main click data set\n",
    "events = events[events['display_id'].isin(event_id)]"
   ]
  },
  {
   "cell_type": "code",
   "execution_count": 22,
   "metadata": {
    "collapsed": false
   },
   "outputs": [
    {
     "name": "stdout",
     "output_type": "stream",
     "text": [
      "Further adjustment to number of events: 4,652,848\n"
     ]
    }
   ],
   "source": [
    "print('Further adjustment to number of events: {0:,}'.\\\n",
    "      format(US_orig_length - reduction1 - len(events)))"
   ]
  },
  {
   "cell_type": "markdown",
   "metadata": {},
   "source": [
    "Check events dataframe for stray nan or other odd values (ok since nothing odd at begining or end)"
   ]
  },
  {
   "cell_type": "code",
   "execution_count": 23,
   "metadata": {
    "collapsed": false
   },
   "outputs": [
    {
     "data": {
      "text/plain": [
       "array(['cb8c55702adb93', '79a85fa78311b9', '822932ce3d8757', ...,\n",
       "       '4032cf074d74a3', '49396799cb3a40', '21f03d8a66e702'], dtype=object)"
      ]
     },
     "execution_count": 23,
     "metadata": {},
     "output_type": "execute_result"
    }
   ],
   "source": [
    "events['uuid'].unique()"
   ]
  },
  {
   "cell_type": "code",
   "execution_count": 24,
   "metadata": {
    "collapsed": false
   },
   "outputs": [
    {
     "data": {
      "text/plain": [
       "array([ 379743, 1794259, 1179111, ..., 2681997, 2788096,  682611])"
      ]
     },
     "execution_count": 24,
     "metadata": {},
     "output_type": "execute_result"
    }
   ],
   "source": [
    "events['document_id'].unique()"
   ]
  },
  {
   "cell_type": "code",
   "execution_count": 25,
   "metadata": {
    "collapsed": false
   },
   "outputs": [
    {
     "data": {
      "text/plain": [
       "array([        61,         81,        182, ..., 1123199470, 1123199601,\n",
       "       1123199936])"
      ]
     },
     "execution_count": 25,
     "metadata": {},
     "output_type": "execute_result"
    }
   ],
   "source": [
    "events['timestamp'].unique()"
   ]
  },
  {
   "cell_type": "markdown",
   "metadata": {},
   "source": [
    "### Take list from events['display_id'] to generate random sample list\n",
    "This will be used later to draw random samples from the assembled dataset."
   ]
  },
  {
   "cell_type": "code",
   "execution_count": 26,
   "metadata": {
    "collapsed": true
   },
   "outputs": [],
   "source": [
    "event_US_id = list(events['display_id'].unique())"
   ]
  },
  {
   "cell_type": "code",
   "execution_count": null,
   "metadata": {
    "collapsed": true
   },
   "outputs": [],
   "source": []
  },
  {
   "cell_type": "markdown",
   "metadata": {},
   "source": [
    "## Date - put time stamp in terms of dates and local times"
   ]
  },
  {
   "cell_type": "code",
   "execution_count": 27,
   "metadata": {
    "collapsed": false
   },
   "outputs": [
    {
     "data": {
      "text/plain": [
       "datetime.datetime(2016, 6, 14, 0, 0)"
      ]
     },
     "execution_count": 27,
     "metadata": {},
     "output_type": "execute_result"
    }
   ],
   "source": [
    "# to adjsut timestamp later\n",
    "from datetime import datetime\n",
    "datetime.fromtimestamp(1465876800)\n",
    "# the timestamp is adjusted to time zero for data colleciton, whcih is 6/14/2016\n",
    "# adj in milliseconds: 1465876799998ms"
   ]
  },
  {
   "cell_type": "code",
   "execution_count": 28,
   "metadata": {
    "collapsed": false
   },
   "outputs": [
    {
     "data": {
      "text/html": [
       "<div>\n",
       "<table border=\"1\" class=\"dataframe\">\n",
       "  <thead>\n",
       "    <tr style=\"text-align: right;\">\n",
       "      <th></th>\n",
       "      <th>state</th>\n",
       "      <th>tz</th>\n",
       "      <th>utc_summer</th>\n",
       "      <th>tz_adj_sec</th>\n",
       "    </tr>\n",
       "  </thead>\n",
       "  <tbody>\n",
       "    <tr>\n",
       "      <th>0</th>\n",
       "      <td>AK</td>\n",
       "      <td>AKST</td>\n",
       "      <td>-8</td>\n",
       "      <td>-28800</td>\n",
       "    </tr>\n",
       "    <tr>\n",
       "      <th>1</th>\n",
       "      <td>AL</td>\n",
       "      <td>CST</td>\n",
       "      <td>-5</td>\n",
       "      <td>-18000</td>\n",
       "    </tr>\n",
       "    <tr>\n",
       "      <th>2</th>\n",
       "      <td>AR</td>\n",
       "      <td>CST</td>\n",
       "      <td>-5</td>\n",
       "      <td>-18000</td>\n",
       "    </tr>\n",
       "    <tr>\n",
       "      <th>3</th>\n",
       "      <td>IL</td>\n",
       "      <td>CST</td>\n",
       "      <td>-5</td>\n",
       "      <td>-18000</td>\n",
       "    </tr>\n",
       "    <tr>\n",
       "      <th>4</th>\n",
       "      <td>IA</td>\n",
       "      <td>CST</td>\n",
       "      <td>-5</td>\n",
       "      <td>-18000</td>\n",
       "    </tr>\n",
       "  </tbody>\n",
       "</table>\n",
       "</div>"
      ],
      "text/plain": [
       "  state    tz  utc_summer  tz_adj_sec\n",
       "0    AK  AKST          -8      -28800\n",
       "1    AL   CST          -5      -18000\n",
       "2    AR   CST          -5      -18000\n",
       "3    IL   CST          -5      -18000\n",
       "4    IA   CST          -5      -18000"
      ]
     },
     "execution_count": 28,
     "metadata": {},
     "output_type": "execute_result"
    }
   ],
   "source": [
    "tz= pd.read_csv('./data/tz.csv')\n",
    "tz.head()"
   ]
  },
  {
   "cell_type": "code",
   "execution_count": 29,
   "metadata": {
    "collapsed": true
   },
   "outputs": [],
   "source": [
    "events = events.merge(tz,on='state',how='left', suffixes=('_l','_r'))"
   ]
  },
  {
   "cell_type": "code",
   "execution_count": 30,
   "metadata": {
    "collapsed": false
   },
   "outputs": [],
   "source": [
    "events['ts_UTC'] = [t + 1465876799998 for t in events['timestamp']]\n",
    "events['date_UTC'] = pd.to_datetime(events['ts_UTC'],unit='ms')"
   ]
  },
  {
   "cell_type": "code",
   "execution_count": 31,
   "metadata": {
    "collapsed": false
   },
   "outputs": [
    {
     "data": {
      "text/html": [
       "<div>\n",
       "<table border=\"1\" class=\"dataframe\">\n",
       "  <thead>\n",
       "    <tr style=\"text-align: right;\">\n",
       "      <th></th>\n",
       "      <th>display_id</th>\n",
       "      <th>uuid</th>\n",
       "      <th>document_id</th>\n",
       "      <th>timestamp</th>\n",
       "      <th>platform</th>\n",
       "      <th>geo_location</th>\n",
       "      <th>country</th>\n",
       "      <th>state</th>\n",
       "      <th>DMA</th>\n",
       "      <th>tz</th>\n",
       "      <th>utc_summer</th>\n",
       "      <th>tz_adj_sec</th>\n",
       "      <th>ts_UTC</th>\n",
       "      <th>date_UTC</th>\n",
       "      <th>ts_local</th>\n",
       "      <th>date_local</th>\n",
       "    </tr>\n",
       "  </thead>\n",
       "  <tbody>\n",
       "    <tr>\n",
       "      <th>12677742</th>\n",
       "      <td>16874588</td>\n",
       "      <td>1bf30bbd832319</td>\n",
       "      <td>2822648</td>\n",
       "      <td>1123199298</td>\n",
       "      <td>2</td>\n",
       "      <td>US&gt;VA&gt;511</td>\n",
       "      <td>US</td>\n",
       "      <td>VA</td>\n",
       "      <td>511</td>\n",
       "      <td>EST</td>\n",
       "      <td>-4</td>\n",
       "      <td>-14400</td>\n",
       "      <td>1466999999296</td>\n",
       "      <td>2016-06-27 03:59:59.296</td>\n",
       "      <td>1466985599296</td>\n",
       "      <td>2016-06-26 23:59:59.296</td>\n",
       "    </tr>\n",
       "    <tr>\n",
       "      <th>12677743</th>\n",
       "      <td>16874589</td>\n",
       "      <td>d2c47d8183e37b</td>\n",
       "      <td>876520</td>\n",
       "      <td>1123199313</td>\n",
       "      <td>3</td>\n",
       "      <td>US&gt;TN&gt;557</td>\n",
       "      <td>US</td>\n",
       "      <td>TN</td>\n",
       "      <td>557</td>\n",
       "      <td>CST</td>\n",
       "      <td>-5</td>\n",
       "      <td>-18000</td>\n",
       "      <td>1466999999311</td>\n",
       "      <td>2016-06-27 03:59:59.311</td>\n",
       "      <td>1466981999311</td>\n",
       "      <td>2016-06-26 22:59:59.311</td>\n",
       "    </tr>\n",
       "    <tr>\n",
       "      <th>12677744</th>\n",
       "      <td>16874590</td>\n",
       "      <td>4032cf074d74a3</td>\n",
       "      <td>2819923</td>\n",
       "      <td>1123199470</td>\n",
       "      <td>3</td>\n",
       "      <td>US&gt;NM&gt;790</td>\n",
       "      <td>US</td>\n",
       "      <td>NM</td>\n",
       "      <td>790</td>\n",
       "      <td>MST</td>\n",
       "      <td>-6</td>\n",
       "      <td>-21600</td>\n",
       "      <td>1466999999468</td>\n",
       "      <td>2016-06-27 03:59:59.468</td>\n",
       "      <td>1466978399468</td>\n",
       "      <td>2016-06-26 21:59:59.468</td>\n",
       "    </tr>\n",
       "    <tr>\n",
       "      <th>12677745</th>\n",
       "      <td>16874591</td>\n",
       "      <td>49396799cb3a40</td>\n",
       "      <td>2816969</td>\n",
       "      <td>1123199601</td>\n",
       "      <td>1</td>\n",
       "      <td>US&gt;IN&gt;582</td>\n",
       "      <td>US</td>\n",
       "      <td>IN</td>\n",
       "      <td>582</td>\n",
       "      <td>EST</td>\n",
       "      <td>-4</td>\n",
       "      <td>-14400</td>\n",
       "      <td>1466999999599</td>\n",
       "      <td>2016-06-27 03:59:59.599</td>\n",
       "      <td>1466985599599</td>\n",
       "      <td>2016-06-26 23:59:59.599</td>\n",
       "    </tr>\n",
       "    <tr>\n",
       "      <th>12677746</th>\n",
       "      <td>16874593</td>\n",
       "      <td>21f03d8a66e702</td>\n",
       "      <td>2777166</td>\n",
       "      <td>1123199936</td>\n",
       "      <td>2</td>\n",
       "      <td>US&gt;NJ&gt;501</td>\n",
       "      <td>US</td>\n",
       "      <td>NJ</td>\n",
       "      <td>501</td>\n",
       "      <td>EST</td>\n",
       "      <td>-4</td>\n",
       "      <td>-14400</td>\n",
       "      <td>1466999999934</td>\n",
       "      <td>2016-06-27 03:59:59.934</td>\n",
       "      <td>1466985599934</td>\n",
       "      <td>2016-06-26 23:59:59.934</td>\n",
       "    </tr>\n",
       "  </tbody>\n",
       "</table>\n",
       "</div>"
      ],
      "text/plain": [
       "          display_id            uuid  document_id   timestamp platform  \\\n",
       "12677742    16874588  1bf30bbd832319      2822648  1123199298        2   \n",
       "12677743    16874589  d2c47d8183e37b       876520  1123199313        3   \n",
       "12677744    16874590  4032cf074d74a3      2819923  1123199470        3   \n",
       "12677745    16874591  49396799cb3a40      2816969  1123199601        1   \n",
       "12677746    16874593  21f03d8a66e702      2777166  1123199936        2   \n",
       "\n",
       "         geo_location country state  DMA   tz  utc_summer  tz_adj_sec  \\\n",
       "12677742    US>VA>511      US    VA  511  EST          -4      -14400   \n",
       "12677743    US>TN>557      US    TN  557  CST          -5      -18000   \n",
       "12677744    US>NM>790      US    NM  790  MST          -6      -21600   \n",
       "12677745    US>IN>582      US    IN  582  EST          -4      -14400   \n",
       "12677746    US>NJ>501      US    NJ  501  EST          -4      -14400   \n",
       "\n",
       "                 ts_UTC                date_UTC       ts_local  \\\n",
       "12677742  1466999999296 2016-06-27 03:59:59.296  1466985599296   \n",
       "12677743  1466999999311 2016-06-27 03:59:59.311  1466981999311   \n",
       "12677744  1466999999468 2016-06-27 03:59:59.468  1466978399468   \n",
       "12677745  1466999999599 2016-06-27 03:59:59.599  1466985599599   \n",
       "12677746  1466999999934 2016-06-27 03:59:59.934  1466985599934   \n",
       "\n",
       "                      date_local  \n",
       "12677742 2016-06-26 23:59:59.296  \n",
       "12677743 2016-06-26 22:59:59.311  \n",
       "12677744 2016-06-26 21:59:59.468  \n",
       "12677745 2016-06-26 23:59:59.599  \n",
       "12677746 2016-06-26 23:59:59.934  "
      ]
     },
     "execution_count": 31,
     "metadata": {},
     "output_type": "execute_result"
    }
   ],
   "source": [
    "events['ts_local'] = events['ts_UTC'] + 1000*events['tz_adj_sec']  # assigned to a column\n",
    "events['date_local'] = pd.to_datetime(events['ts_local'],unit='ms')\n",
    "events.tail()"
   ]
  },
  {
   "cell_type": "code",
   "execution_count": 32,
   "metadata": {
    "collapsed": false
   },
   "outputs": [],
   "source": [
    "events.drop(['utc_summer','timestamp','tz','utc_summer','tz_adj_sec','ts_UTC'],\\\n",
    "            axis=1, inplace=True)"
   ]
  },
  {
   "cell_type": "code",
   "execution_count": 33,
   "metadata": {
    "collapsed": false
   },
   "outputs": [],
   "source": [
    "events.drop(['date_UTC','ts_local'], axis=1, inplace=True)"
   ]
  },
  {
   "cell_type": "code",
   "execution_count": 34,
   "metadata": {
    "collapsed": false
   },
   "outputs": [
    {
     "data": {
      "text/html": [
       "<div>\n",
       "<table border=\"1\" class=\"dataframe\">\n",
       "  <thead>\n",
       "    <tr style=\"text-align: right;\">\n",
       "      <th></th>\n",
       "      <th>display_id</th>\n",
       "      <th>uuid</th>\n",
       "      <th>document_id</th>\n",
       "      <th>platform</th>\n",
       "      <th>geo_location</th>\n",
       "      <th>country</th>\n",
       "      <th>state</th>\n",
       "      <th>DMA</th>\n",
       "      <th>date_local</th>\n",
       "    </tr>\n",
       "  </thead>\n",
       "  <tbody>\n",
       "    <tr>\n",
       "      <th>0</th>\n",
       "      <td>1</td>\n",
       "      <td>cb8c55702adb93</td>\n",
       "      <td>379743</td>\n",
       "      <td>3</td>\n",
       "      <td>US&gt;SC&gt;519</td>\n",
       "      <td>US</td>\n",
       "      <td>SC</td>\n",
       "      <td>519</td>\n",
       "      <td>2016-06-14 00:00:00.059</td>\n",
       "    </tr>\n",
       "    <tr>\n",
       "      <th>1</th>\n",
       "      <td>2</td>\n",
       "      <td>79a85fa78311b9</td>\n",
       "      <td>1794259</td>\n",
       "      <td>2</td>\n",
       "      <td>US&gt;CA&gt;807</td>\n",
       "      <td>US</td>\n",
       "      <td>CA</td>\n",
       "      <td>807</td>\n",
       "      <td>2016-06-13 21:00:00.079</td>\n",
       "    </tr>\n",
       "    <tr>\n",
       "      <th>2</th>\n",
       "      <td>3</td>\n",
       "      <td>822932ce3d8757</td>\n",
       "      <td>1179111</td>\n",
       "      <td>2</td>\n",
       "      <td>US&gt;MI&gt;505</td>\n",
       "      <td>US</td>\n",
       "      <td>MI</td>\n",
       "      <td>505</td>\n",
       "      <td>2016-06-14 00:00:00.180</td>\n",
       "    </tr>\n",
       "    <tr>\n",
       "      <th>3</th>\n",
       "      <td>4</td>\n",
       "      <td>85281d0a49f7ac</td>\n",
       "      <td>1777797</td>\n",
       "      <td>2</td>\n",
       "      <td>US&gt;WV&gt;564</td>\n",
       "      <td>US</td>\n",
       "      <td>WV</td>\n",
       "      <td>564</td>\n",
       "      <td>2016-06-14 00:00:00.232</td>\n",
       "    </tr>\n",
       "    <tr>\n",
       "      <th>4</th>\n",
       "      <td>6</td>\n",
       "      <td>7765b4faae4ad4</td>\n",
       "      <td>1773517</td>\n",
       "      <td>3</td>\n",
       "      <td>US&gt;OH&gt;510</td>\n",
       "      <td>US</td>\n",
       "      <td>OH</td>\n",
       "      <td>510</td>\n",
       "      <td>2016-06-14 00:00:00.393</td>\n",
       "    </tr>\n",
       "  </tbody>\n",
       "</table>\n",
       "</div>"
      ],
      "text/plain": [
       "   display_id            uuid  document_id platform geo_location country  \\\n",
       "0           1  cb8c55702adb93       379743        3    US>SC>519      US   \n",
       "1           2  79a85fa78311b9      1794259        2    US>CA>807      US   \n",
       "2           3  822932ce3d8757      1179111        2    US>MI>505      US   \n",
       "3           4  85281d0a49f7ac      1777797        2    US>WV>564      US   \n",
       "4           6  7765b4faae4ad4      1773517        3    US>OH>510      US   \n",
       "\n",
       "  state  DMA              date_local  \n",
       "0    SC  519 2016-06-14 00:00:00.059  \n",
       "1    CA  807 2016-06-13 21:00:00.079  \n",
       "2    MI  505 2016-06-14 00:00:00.180  \n",
       "3    WV  564 2016-06-14 00:00:00.232  \n",
       "4    OH  510 2016-06-14 00:00:00.393  "
      ]
     },
     "execution_count": 34,
     "metadata": {},
     "output_type": "execute_result"
    }
   ],
   "source": [
    "events.head()"
   ]
  },
  {
   "cell_type": "code",
   "execution_count": 35,
   "metadata": {
    "collapsed": true
   },
   "outputs": [],
   "source": [
    "def time_bucket(x):\n",
    "    hour = int(str(x)[11:13])\n",
    "    if hour >6 and hour <12:\n",
    "        s = 'morning'\n",
    "    elif hour > 11 and hour <18:\n",
    "        s = 'afternoon'\n",
    "    elif hour > 17 and hour < 23:\n",
    "        s = 'evening'\n",
    "    else:\n",
    "        s = 'overnight'\n",
    "    return s\n",
    "\n",
    "def date_bucket(x):\n",
    "    return int(str(x)[8:10]) # this is the date space in datetime\n",
    "\n",
    "def hour(x):\n",
    "    return int(str(x)[11:13])"
   ]
  },
  {
   "cell_type": "code",
   "execution_count": 36,
   "metadata": {
    "collapsed": false
   },
   "outputs": [
    {
     "data": {
      "text/plain": [
       "'14'"
      ]
     },
     "execution_count": 36,
     "metadata": {},
     "output_type": "execute_result"
    }
   ],
   "source": [
    "str(events['date_local'][4])[8:10]"
   ]
  },
  {
   "cell_type": "code",
   "execution_count": null,
   "metadata": {
    "collapsed": true
   },
   "outputs": [],
   "source": []
  },
  {
   "cell_type": "code",
   "execution_count": 37,
   "metadata": {
    "collapsed": false
   },
   "outputs": [
    {
     "data": {
      "text/html": [
       "<div>\n",
       "<table border=\"1\" class=\"dataframe\">\n",
       "  <thead>\n",
       "    <tr style=\"text-align: right;\">\n",
       "      <th></th>\n",
       "      <th>display_id</th>\n",
       "      <th>uuid</th>\n",
       "      <th>document_id</th>\n",
       "      <th>platform</th>\n",
       "      <th>geo_location</th>\n",
       "      <th>country</th>\n",
       "      <th>state</th>\n",
       "      <th>DMA</th>\n",
       "      <th>date_local</th>\n",
       "    </tr>\n",
       "  </thead>\n",
       "  <tbody>\n",
       "    <tr>\n",
       "      <th>0</th>\n",
       "      <td>1</td>\n",
       "      <td>cb8c55702adb93</td>\n",
       "      <td>379743</td>\n",
       "      <td>3</td>\n",
       "      <td>US&gt;SC&gt;519</td>\n",
       "      <td>US</td>\n",
       "      <td>SC</td>\n",
       "      <td>519</td>\n",
       "      <td>2016-06-14 00:00:00.059</td>\n",
       "    </tr>\n",
       "  </tbody>\n",
       "</table>\n",
       "</div>"
      ],
      "text/plain": [
       "   display_id            uuid  document_id platform geo_location country  \\\n",
       "0           1  cb8c55702adb93       379743        3    US>SC>519      US   \n",
       "\n",
       "  state  DMA              date_local  \n",
       "0    SC  519 2016-06-14 00:00:00.059  "
      ]
     },
     "execution_count": 37,
     "metadata": {},
     "output_type": "execute_result"
    }
   ],
   "source": [
    "events.head(1)"
   ]
  },
  {
   "cell_type": "code",
   "execution_count": 38,
   "metadata": {
    "collapsed": false
   },
   "outputs": [],
   "source": [
    "events['period'] = [time_bucket(rows['date_local']) for index,\\\n",
    "                        rows in events.iterrows()]\n",
    "events['day_of_mnth'] = [date_bucket(rows['date_local']) for index,\\\n",
    "                        rows in events.iterrows()]"
   ]
  },
  {
   "cell_type": "code",
   "execution_count": 39,
   "metadata": {
    "collapsed": false
   },
   "outputs": [
    {
     "data": {
      "text/html": [
       "<div>\n",
       "<table border=\"1\" class=\"dataframe\">\n",
       "  <thead>\n",
       "    <tr style=\"text-align: right;\">\n",
       "      <th></th>\n",
       "      <th>display_id</th>\n",
       "      <th>uuid</th>\n",
       "      <th>document_id</th>\n",
       "      <th>platform</th>\n",
       "      <th>geo_location</th>\n",
       "      <th>country</th>\n",
       "      <th>state</th>\n",
       "      <th>DMA</th>\n",
       "      <th>date_local</th>\n",
       "      <th>period</th>\n",
       "      <th>day_of_mnth</th>\n",
       "    </tr>\n",
       "  </thead>\n",
       "  <tbody>\n",
       "    <tr>\n",
       "      <th>0</th>\n",
       "      <td>1</td>\n",
       "      <td>cb8c55702adb93</td>\n",
       "      <td>379743</td>\n",
       "      <td>3</td>\n",
       "      <td>US&gt;SC&gt;519</td>\n",
       "      <td>US</td>\n",
       "      <td>SC</td>\n",
       "      <td>519</td>\n",
       "      <td>2016-06-14 00:00:00.059</td>\n",
       "      <td>overnight</td>\n",
       "      <td>14</td>\n",
       "    </tr>\n",
       "    <tr>\n",
       "      <th>1</th>\n",
       "      <td>2</td>\n",
       "      <td>79a85fa78311b9</td>\n",
       "      <td>1794259</td>\n",
       "      <td>2</td>\n",
       "      <td>US&gt;CA&gt;807</td>\n",
       "      <td>US</td>\n",
       "      <td>CA</td>\n",
       "      <td>807</td>\n",
       "      <td>2016-06-13 21:00:00.079</td>\n",
       "      <td>evening</td>\n",
       "      <td>13</td>\n",
       "    </tr>\n",
       "    <tr>\n",
       "      <th>2</th>\n",
       "      <td>3</td>\n",
       "      <td>822932ce3d8757</td>\n",
       "      <td>1179111</td>\n",
       "      <td>2</td>\n",
       "      <td>US&gt;MI&gt;505</td>\n",
       "      <td>US</td>\n",
       "      <td>MI</td>\n",
       "      <td>505</td>\n",
       "      <td>2016-06-14 00:00:00.180</td>\n",
       "      <td>overnight</td>\n",
       "      <td>14</td>\n",
       "    </tr>\n",
       "    <tr>\n",
       "      <th>3</th>\n",
       "      <td>4</td>\n",
       "      <td>85281d0a49f7ac</td>\n",
       "      <td>1777797</td>\n",
       "      <td>2</td>\n",
       "      <td>US&gt;WV&gt;564</td>\n",
       "      <td>US</td>\n",
       "      <td>WV</td>\n",
       "      <td>564</td>\n",
       "      <td>2016-06-14 00:00:00.232</td>\n",
       "      <td>overnight</td>\n",
       "      <td>14</td>\n",
       "    </tr>\n",
       "    <tr>\n",
       "      <th>4</th>\n",
       "      <td>6</td>\n",
       "      <td>7765b4faae4ad4</td>\n",
       "      <td>1773517</td>\n",
       "      <td>3</td>\n",
       "      <td>US&gt;OH&gt;510</td>\n",
       "      <td>US</td>\n",
       "      <td>OH</td>\n",
       "      <td>510</td>\n",
       "      <td>2016-06-14 00:00:00.393</td>\n",
       "      <td>overnight</td>\n",
       "      <td>14</td>\n",
       "    </tr>\n",
       "  </tbody>\n",
       "</table>\n",
       "</div>"
      ],
      "text/plain": [
       "   display_id            uuid  document_id platform geo_location country  \\\n",
       "0           1  cb8c55702adb93       379743        3    US>SC>519      US   \n",
       "1           2  79a85fa78311b9      1794259        2    US>CA>807      US   \n",
       "2           3  822932ce3d8757      1179111        2    US>MI>505      US   \n",
       "3           4  85281d0a49f7ac      1777797        2    US>WV>564      US   \n",
       "4           6  7765b4faae4ad4      1773517        3    US>OH>510      US   \n",
       "\n",
       "  state  DMA              date_local     period  day_of_mnth  \n",
       "0    SC  519 2016-06-14 00:00:00.059  overnight           14  \n",
       "1    CA  807 2016-06-13 21:00:00.079    evening           13  \n",
       "2    MI  505 2016-06-14 00:00:00.180  overnight           14  \n",
       "3    WV  564 2016-06-14 00:00:00.232  overnight           14  \n",
       "4    OH  510 2016-06-14 00:00:00.393  overnight           14  "
      ]
     },
     "execution_count": 39,
     "metadata": {},
     "output_type": "execute_result"
    }
   ],
   "source": [
    "events.head()"
   ]
  },
  {
   "cell_type": "code",
   "execution_count": 40,
   "metadata": {
    "collapsed": false
   },
   "outputs": [
    {
     "name": "stdout",
     "output_type": "stream",
     "text": [
      "Time to run: 0:22:36.867717\n"
     ]
    }
   ],
   "source": [
    "start = datetime.now()\n",
    "\n",
    "events['hour'] = [hour(rows['date_local']) for index,\\\n",
    "                        rows in events.iterrows()]\n",
    "\n",
    "finish = datetime.now()\n",
    "print('Time to run: {0}'.format(finish - start))"
   ]
  },
  {
   "cell_type": "code",
   "execution_count": 41,
   "metadata": {
    "collapsed": false
   },
   "outputs": [
    {
     "data": {
      "text/plain": [
       "0"
      ]
     },
     "execution_count": 41,
     "metadata": {},
     "output_type": "execute_result"
    }
   ],
   "source": [
    "import os\n",
    "os.system('say \"Hour run finished!\"')"
   ]
  },
  {
   "cell_type": "code",
   "execution_count": 42,
   "metadata": {
    "collapsed": false
   },
   "outputs": [
    {
     "name": "stdout",
     "output_type": "stream",
     "text": [
      "Time to run: 0:01:25.210845\n"
     ]
    }
   ],
   "source": [
    "start = datetime.now()\n",
    "\n",
    "events.to_csv('./data/events_b1a.csv',index=False)\n",
    "\n",
    "finish = datetime.now()\n",
    "print('Time to run: {0}'.format(finish - start))"
   ]
  },
  {
   "cell_type": "code",
   "execution_count": 43,
   "metadata": {
    "collapsed": false
   },
   "outputs": [],
   "source": [
    "# events = pd.read_csv('./data/events_b1a.csv')"
   ]
  },
  {
   "cell_type": "code",
   "execution_count": 44,
   "metadata": {
    "collapsed": false
   },
   "outputs": [
    {
     "data": {
      "text/html": [
       "<div>\n",
       "<table border=\"1\" class=\"dataframe\">\n",
       "  <thead>\n",
       "    <tr style=\"text-align: right;\">\n",
       "      <th></th>\n",
       "      <th>display_id</th>\n",
       "      <th>uuid</th>\n",
       "      <th>document_id</th>\n",
       "      <th>platform</th>\n",
       "      <th>geo_location</th>\n",
       "      <th>country</th>\n",
       "      <th>state</th>\n",
       "      <th>DMA</th>\n",
       "      <th>date_local</th>\n",
       "      <th>period</th>\n",
       "      <th>day_of_mnth</th>\n",
       "      <th>hour</th>\n",
       "    </tr>\n",
       "  </thead>\n",
       "  <tbody>\n",
       "    <tr>\n",
       "      <th>0</th>\n",
       "      <td>1</td>\n",
       "      <td>cb8c55702adb93</td>\n",
       "      <td>379743</td>\n",
       "      <td>3</td>\n",
       "      <td>US&gt;SC&gt;519</td>\n",
       "      <td>US</td>\n",
       "      <td>SC</td>\n",
       "      <td>519</td>\n",
       "      <td>2016-06-14 00:00:00.059</td>\n",
       "      <td>overnight</td>\n",
       "      <td>14</td>\n",
       "      <td>0</td>\n",
       "    </tr>\n",
       "    <tr>\n",
       "      <th>1</th>\n",
       "      <td>2</td>\n",
       "      <td>79a85fa78311b9</td>\n",
       "      <td>1794259</td>\n",
       "      <td>2</td>\n",
       "      <td>US&gt;CA&gt;807</td>\n",
       "      <td>US</td>\n",
       "      <td>CA</td>\n",
       "      <td>807</td>\n",
       "      <td>2016-06-13 21:00:00.079</td>\n",
       "      <td>evening</td>\n",
       "      <td>13</td>\n",
       "      <td>21</td>\n",
       "    </tr>\n",
       "    <tr>\n",
       "      <th>2</th>\n",
       "      <td>3</td>\n",
       "      <td>822932ce3d8757</td>\n",
       "      <td>1179111</td>\n",
       "      <td>2</td>\n",
       "      <td>US&gt;MI&gt;505</td>\n",
       "      <td>US</td>\n",
       "      <td>MI</td>\n",
       "      <td>505</td>\n",
       "      <td>2016-06-14 00:00:00.180</td>\n",
       "      <td>overnight</td>\n",
       "      <td>14</td>\n",
       "      <td>0</td>\n",
       "    </tr>\n",
       "    <tr>\n",
       "      <th>3</th>\n",
       "      <td>4</td>\n",
       "      <td>85281d0a49f7ac</td>\n",
       "      <td>1777797</td>\n",
       "      <td>2</td>\n",
       "      <td>US&gt;WV&gt;564</td>\n",
       "      <td>US</td>\n",
       "      <td>WV</td>\n",
       "      <td>564</td>\n",
       "      <td>2016-06-14 00:00:00.232</td>\n",
       "      <td>overnight</td>\n",
       "      <td>14</td>\n",
       "      <td>0</td>\n",
       "    </tr>\n",
       "    <tr>\n",
       "      <th>4</th>\n",
       "      <td>6</td>\n",
       "      <td>7765b4faae4ad4</td>\n",
       "      <td>1773517</td>\n",
       "      <td>3</td>\n",
       "      <td>US&gt;OH&gt;510</td>\n",
       "      <td>US</td>\n",
       "      <td>OH</td>\n",
       "      <td>510</td>\n",
       "      <td>2016-06-14 00:00:00.393</td>\n",
       "      <td>overnight</td>\n",
       "      <td>14</td>\n",
       "      <td>0</td>\n",
       "    </tr>\n",
       "  </tbody>\n",
       "</table>\n",
       "</div>"
      ],
      "text/plain": [
       "   display_id            uuid  document_id platform geo_location country  \\\n",
       "0           1  cb8c55702adb93       379743        3    US>SC>519      US   \n",
       "1           2  79a85fa78311b9      1794259        2    US>CA>807      US   \n",
       "2           3  822932ce3d8757      1179111        2    US>MI>505      US   \n",
       "3           4  85281d0a49f7ac      1777797        2    US>WV>564      US   \n",
       "4           6  7765b4faae4ad4      1773517        3    US>OH>510      US   \n",
       "\n",
       "  state  DMA              date_local     period  day_of_mnth  hour  \n",
       "0    SC  519 2016-06-14 00:00:00.059  overnight           14     0  \n",
       "1    CA  807 2016-06-13 21:00:00.079    evening           13    21  \n",
       "2    MI  505 2016-06-14 00:00:00.180  overnight           14     0  \n",
       "3    WV  564 2016-06-14 00:00:00.232  overnight           14     0  \n",
       "4    OH  510 2016-06-14 00:00:00.393  overnight           14     0  "
      ]
     },
     "execution_count": 44,
     "metadata": {},
     "output_type": "execute_result"
    }
   ],
   "source": [
    "events.head()"
   ]
  },
  {
   "cell_type": "code",
   "execution_count": 45,
   "metadata": {
    "collapsed": false
   },
   "outputs": [
    {
     "data": {
      "text/plain": [
       "0"
      ]
     },
     "execution_count": 45,
     "metadata": {},
     "output_type": "execute_result"
    }
   ],
   "source": [
    "import os\n",
    "os.system('say \"Hudson is cool!\"')"
   ]
  },
  {
   "cell_type": "markdown",
   "metadata": {},
   "source": [
    "## Now slice and dice main data and events data to what is needed to run models\n",
    "\n",
    "This will be 10,000 for training data and 1,000 for test data\n",
    "\n",
    "* Random list of 11,000\n",
    "* Filter EVENTS\n",
    "    * Done a few steps above\n",
    "* Filter df1 and df2 for 11k id's in sample list\n",
    "    * Merge now that down to manageable size\n",
    "    * Split into train and test\n",
    "    * Save to .csv\n",
    "    \n"
   ]
  },
  {
   "cell_type": "code",
   "execution_count": 46,
   "metadata": {
    "collapsed": false
   },
   "outputs": [
    {
     "data": {
      "text/plain": [
       "15000"
      ]
     },
     "execution_count": 46,
     "metadata": {},
     "output_type": "execute_result"
    }
   ],
   "source": [
    "disp_list = list(events['display_id'].unique())\n",
    "# cut down list to 15,000 for sampling\n",
    "\n",
    "# Random list from event_id list of df1 & df2\n",
    "random.seed(a=47)\n",
    "rand_list = random.sample(disp_list,15000)\n",
    "len(rand_list)"
   ]
  },
  {
   "cell_type": "code",
   "execution_count": 47,
   "metadata": {
    "collapsed": false
   },
   "outputs": [],
   "source": [
    "data1 = df1[df1['display_id'].isin(rand_list)]\n",
    "data2 = df2[df2['display_id'].isin(rand_list)]\n"
   ]
  },
  {
   "cell_type": "code",
   "execution_count": 48,
   "metadata": {
    "collapsed": false
   },
   "outputs": [],
   "source": [
    "data = pd.concat([data1,data2], axis=0)\n"
   ]
  },
  {
   "cell_type": "code",
   "execution_count": 49,
   "metadata": {
    "collapsed": false
   },
   "outputs": [
    {
     "data": {
      "text/html": [
       "<div>\n",
       "<table border=\"1\" class=\"dataframe\">\n",
       "  <thead>\n",
       "    <tr style=\"text-align: right;\">\n",
       "      <th></th>\n",
       "      <th>display_id</th>\n",
       "      <th>ad_id</th>\n",
       "      <th>clicked</th>\n",
       "    </tr>\n",
       "  </thead>\n",
       "  <tbody>\n",
       "    <tr>\n",
       "      <th>7719</th>\n",
       "      <td>1525</td>\n",
       "      <td>8846</td>\n",
       "      <td>0</td>\n",
       "    </tr>\n",
       "    <tr>\n",
       "      <th>7720</th>\n",
       "      <td>1525</td>\n",
       "      <td>45180</td>\n",
       "      <td>0</td>\n",
       "    </tr>\n",
       "    <tr>\n",
       "      <th>7721</th>\n",
       "      <td>1525</td>\n",
       "      <td>46293</td>\n",
       "      <td>0</td>\n",
       "    </tr>\n",
       "  </tbody>\n",
       "</table>\n",
       "</div>"
      ],
      "text/plain": [
       "      display_id  ad_id  clicked\n",
       "7719        1525   8846        0\n",
       "7720        1525  45180        0\n",
       "7721        1525  46293        0"
      ]
     },
     "execution_count": 49,
     "metadata": {},
     "output_type": "execute_result"
    }
   ],
   "source": [
    "data.head(3)"
   ]
  },
  {
   "cell_type": "code",
   "execution_count": 50,
   "metadata": {
    "collapsed": false
   },
   "outputs": [
    {
     "name": "stdout",
     "output_type": "stream",
     "text": [
      "Number of events in train data: 15,000\n",
      "Number of rows (total ads shown) in train data: 77,226\n"
     ]
    }
   ],
   "source": [
    "print('Number of events in train data: {0:,}'.format(data['display_id'].nunique()))\n",
    "print('Number of rows (total ads shown) in train data: {0:,}'.\\\n",
    "      format(len(data['display_id'])))"
   ]
  },
  {
   "cell_type": "code",
   "execution_count": 51,
   "metadata": {
    "collapsed": true
   },
   "outputs": [],
   "source": [
    "# clean up dataframes no longer being used:\n",
    "del df1, df2, data1, data2"
   ]
  },
  {
   "cell_type": "markdown",
   "metadata": {},
   "source": [
    "## Merge click and event data into main dataframe"
   ]
  },
  {
   "cell_type": "code",
   "execution_count": 52,
   "metadata": {
    "collapsed": true
   },
   "outputs": [],
   "source": [
    "data = data.merge(events,on='display_id',how='left', suffixes=('_l','_r'))"
   ]
  },
  {
   "cell_type": "code",
   "execution_count": 53,
   "metadata": {
    "collapsed": false
   },
   "outputs": [
    {
     "name": "stdout",
     "output_type": "stream",
     "text": [
      "<class 'pandas.core.frame.DataFrame'>\n",
      "Int64Index: 77226 entries, 0 to 77225\n",
      "Data columns (total 14 columns):\n",
      "display_id      77226 non-null int64\n",
      "ad_id           77226 non-null int64\n",
      "clicked         77226 non-null int64\n",
      "uuid            77226 non-null object\n",
      "document_id     77226 non-null int64\n",
      "platform        77226 non-null object\n",
      "geo_location    77226 non-null object\n",
      "country         77226 non-null object\n",
      "state           77226 non-null object\n",
      "DMA             77226 non-null object\n",
      "date_local      77226 non-null datetime64[ns]\n",
      "period          77226 non-null object\n",
      "day_of_mnth     77226 non-null int64\n",
      "hour            77226 non-null int64\n",
      "dtypes: datetime64[ns](1), int64(6), object(7)\n",
      "memory usage: 8.8+ MB\n"
     ]
    }
   ],
   "source": [
    "data.info()"
   ]
  },
  {
   "cell_type": "code",
   "execution_count": 54,
   "metadata": {
    "collapsed": false
   },
   "outputs": [
    {
     "data": {
      "text/html": [
       "<div>\n",
       "<table border=\"1\" class=\"dataframe\">\n",
       "  <thead>\n",
       "    <tr style=\"text-align: right;\">\n",
       "      <th></th>\n",
       "      <th>display_id</th>\n",
       "      <th>ad_id</th>\n",
       "      <th>clicked</th>\n",
       "      <th>uuid</th>\n",
       "      <th>document_id</th>\n",
       "      <th>platform</th>\n",
       "      <th>geo_location</th>\n",
       "      <th>country</th>\n",
       "      <th>state</th>\n",
       "      <th>DMA</th>\n",
       "      <th>date_local</th>\n",
       "      <th>period</th>\n",
       "      <th>day_of_mnth</th>\n",
       "      <th>hour</th>\n",
       "    </tr>\n",
       "  </thead>\n",
       "  <tbody>\n",
       "    <tr>\n",
       "      <th>0</th>\n",
       "      <td>1525</td>\n",
       "      <td>8846</td>\n",
       "      <td>0</td>\n",
       "      <td>443715a4da754f</td>\n",
       "      <td>1697627</td>\n",
       "      <td>1</td>\n",
       "      <td>US&gt;IL&gt;602</td>\n",
       "      <td>US</td>\n",
       "      <td>IL</td>\n",
       "      <td>602</td>\n",
       "      <td>2016-06-13 23:01:46.019</td>\n",
       "      <td>overnight</td>\n",
       "      <td>13</td>\n",
       "      <td>23</td>\n",
       "    </tr>\n",
       "    <tr>\n",
       "      <th>1</th>\n",
       "      <td>1525</td>\n",
       "      <td>45180</td>\n",
       "      <td>0</td>\n",
       "      <td>443715a4da754f</td>\n",
       "      <td>1697627</td>\n",
       "      <td>1</td>\n",
       "      <td>US&gt;IL&gt;602</td>\n",
       "      <td>US</td>\n",
       "      <td>IL</td>\n",
       "      <td>602</td>\n",
       "      <td>2016-06-13 23:01:46.019</td>\n",
       "      <td>overnight</td>\n",
       "      <td>13</td>\n",
       "      <td>23</td>\n",
       "    </tr>\n",
       "  </tbody>\n",
       "</table>\n",
       "</div>"
      ],
      "text/plain": [
       "   display_id  ad_id  clicked            uuid  document_id platform  \\\n",
       "0        1525   8846        0  443715a4da754f      1697627        1   \n",
       "1        1525  45180        0  443715a4da754f      1697627        1   \n",
       "\n",
       "  geo_location country state  DMA              date_local     period  \\\n",
       "0    US>IL>602      US    IL  602 2016-06-13 23:01:46.019  overnight   \n",
       "1    US>IL>602      US    IL  602 2016-06-13 23:01:46.019  overnight   \n",
       "\n",
       "   day_of_mnth  hour  \n",
       "0           13    23  \n",
       "1           13    23  "
      ]
     },
     "execution_count": 54,
     "metadata": {},
     "output_type": "execute_result"
    }
   ],
   "source": [
    "data.head(2)"
   ]
  },
  {
   "cell_type": "code",
   "execution_count": 55,
   "metadata": {
    "collapsed": false
   },
   "outputs": [
    {
     "data": {
      "text/plain": [
       "15000"
      ]
     },
     "execution_count": 55,
     "metadata": {},
     "output_type": "execute_result"
    }
   ],
   "source": [
    "pages = data['display_id'].unique()\n",
    "len(pages)"
   ]
  },
  {
   "cell_type": "code",
   "execution_count": null,
   "metadata": {
    "collapsed": true
   },
   "outputs": [],
   "source": []
  },
  {
   "cell_type": "code",
   "execution_count": 56,
   "metadata": {
    "collapsed": false
   },
   "outputs": [
    {
     "name": "stdout",
     "output_type": "stream",
     "text": [
      "Time to run: 0:00:10.037552\n"
     ]
    },
    {
     "data": {
      "text/plain": [
       "0"
      ]
     },
     "execution_count": 56,
     "metadata": {},
     "output_type": "execute_result"
    }
   ],
   "source": [
    "data['ads_per_page'] = [0 for _ in range(len(data))] # puts zeros in place\n",
    "\n",
    "start = datetime.now()\n",
    "\n",
    "for d_num in pages:  \n",
    "    disp_list = data[data['display_id'] == d_num].index.tolist()\n",
    "    size = len(disp_list)\n",
    "    for n in disp_list:\n",
    "        data.set_value(n, 'ads_per_page', size)\n",
    "\n",
    "finish = datetime.now()\n",
    "print('Time to run: {0}'.format(finish - start))\n",
    "os.system('say \"I am finished!\"')"
   ]
  },
  {
   "cell_type": "code",
   "execution_count": 57,
   "metadata": {
    "collapsed": false
   },
   "outputs": [
    {
     "data": {
      "text/html": [
       "<div>\n",
       "<table border=\"1\" class=\"dataframe\">\n",
       "  <thead>\n",
       "    <tr style=\"text-align: right;\">\n",
       "      <th></th>\n",
       "      <th>display_id</th>\n",
       "      <th>ad_id</th>\n",
       "      <th>clicked</th>\n",
       "      <th>uuid</th>\n",
       "      <th>document_id</th>\n",
       "      <th>platform</th>\n",
       "      <th>geo_location</th>\n",
       "      <th>country</th>\n",
       "      <th>state</th>\n",
       "      <th>DMA</th>\n",
       "      <th>date_local</th>\n",
       "      <th>period</th>\n",
       "      <th>day_of_mnth</th>\n",
       "      <th>hour</th>\n",
       "      <th>ads_per_page</th>\n",
       "    </tr>\n",
       "  </thead>\n",
       "  <tbody>\n",
       "    <tr>\n",
       "      <th>0</th>\n",
       "      <td>1525</td>\n",
       "      <td>8846</td>\n",
       "      <td>0</td>\n",
       "      <td>443715a4da754f</td>\n",
       "      <td>1697627</td>\n",
       "      <td>1</td>\n",
       "      <td>US&gt;IL&gt;602</td>\n",
       "      <td>US</td>\n",
       "      <td>IL</td>\n",
       "      <td>602</td>\n",
       "      <td>2016-06-13 23:01:46.019</td>\n",
       "      <td>overnight</td>\n",
       "      <td>13</td>\n",
       "      <td>23</td>\n",
       "      <td>9</td>\n",
       "    </tr>\n",
       "    <tr>\n",
       "      <th>1</th>\n",
       "      <td>1525</td>\n",
       "      <td>45180</td>\n",
       "      <td>0</td>\n",
       "      <td>443715a4da754f</td>\n",
       "      <td>1697627</td>\n",
       "      <td>1</td>\n",
       "      <td>US&gt;IL&gt;602</td>\n",
       "      <td>US</td>\n",
       "      <td>IL</td>\n",
       "      <td>602</td>\n",
       "      <td>2016-06-13 23:01:46.019</td>\n",
       "      <td>overnight</td>\n",
       "      <td>13</td>\n",
       "      <td>23</td>\n",
       "      <td>9</td>\n",
       "    </tr>\n",
       "    <tr>\n",
       "      <th>2</th>\n",
       "      <td>1525</td>\n",
       "      <td>46293</td>\n",
       "      <td>0</td>\n",
       "      <td>443715a4da754f</td>\n",
       "      <td>1697627</td>\n",
       "      <td>1</td>\n",
       "      <td>US&gt;IL&gt;602</td>\n",
       "      <td>US</td>\n",
       "      <td>IL</td>\n",
       "      <td>602</td>\n",
       "      <td>2016-06-13 23:01:46.019</td>\n",
       "      <td>overnight</td>\n",
       "      <td>13</td>\n",
       "      <td>23</td>\n",
       "      <td>9</td>\n",
       "    </tr>\n",
       "    <tr>\n",
       "      <th>3</th>\n",
       "      <td>1525</td>\n",
       "      <td>77878</td>\n",
       "      <td>0</td>\n",
       "      <td>443715a4da754f</td>\n",
       "      <td>1697627</td>\n",
       "      <td>1</td>\n",
       "      <td>US&gt;IL&gt;602</td>\n",
       "      <td>US</td>\n",
       "      <td>IL</td>\n",
       "      <td>602</td>\n",
       "      <td>2016-06-13 23:01:46.019</td>\n",
       "      <td>overnight</td>\n",
       "      <td>13</td>\n",
       "      <td>23</td>\n",
       "      <td>9</td>\n",
       "    </tr>\n",
       "    <tr>\n",
       "      <th>4</th>\n",
       "      <td>1525</td>\n",
       "      <td>78011</td>\n",
       "      <td>0</td>\n",
       "      <td>443715a4da754f</td>\n",
       "      <td>1697627</td>\n",
       "      <td>1</td>\n",
       "      <td>US&gt;IL&gt;602</td>\n",
       "      <td>US</td>\n",
       "      <td>IL</td>\n",
       "      <td>602</td>\n",
       "      <td>2016-06-13 23:01:46.019</td>\n",
       "      <td>overnight</td>\n",
       "      <td>13</td>\n",
       "      <td>23</td>\n",
       "      <td>9</td>\n",
       "    </tr>\n",
       "  </tbody>\n",
       "</table>\n",
       "</div>"
      ],
      "text/plain": [
       "   display_id  ad_id  clicked            uuid  document_id platform  \\\n",
       "0        1525   8846        0  443715a4da754f      1697627        1   \n",
       "1        1525  45180        0  443715a4da754f      1697627        1   \n",
       "2        1525  46293        0  443715a4da754f      1697627        1   \n",
       "3        1525  77878        0  443715a4da754f      1697627        1   \n",
       "4        1525  78011        0  443715a4da754f      1697627        1   \n",
       "\n",
       "  geo_location country state  DMA              date_local     period  \\\n",
       "0    US>IL>602      US    IL  602 2016-06-13 23:01:46.019  overnight   \n",
       "1    US>IL>602      US    IL  602 2016-06-13 23:01:46.019  overnight   \n",
       "2    US>IL>602      US    IL  602 2016-06-13 23:01:46.019  overnight   \n",
       "3    US>IL>602      US    IL  602 2016-06-13 23:01:46.019  overnight   \n",
       "4    US>IL>602      US    IL  602 2016-06-13 23:01:46.019  overnight   \n",
       "\n",
       "   day_of_mnth  hour  ads_per_page  \n",
       "0           13    23             9  \n",
       "1           13    23             9  \n",
       "2           13    23             9  \n",
       "3           13    23             9  \n",
       "4           13    23             9  "
      ]
     },
     "execution_count": 57,
     "metadata": {},
     "output_type": "execute_result"
    }
   ],
   "source": [
    "data.head()"
   ]
  },
  {
   "cell_type": "markdown",
   "metadata": {},
   "source": [
    "## Bring in promoted content info\n",
    "This table ties the ad_id from the click data to the ad's document_id, the advertiser and the campaign. The document_id is key to pulling topical/categorical data later."
   ]
  },
  {
   "cell_type": "code",
   "execution_count": 58,
   "metadata": {
    "collapsed": false
   },
   "outputs": [
    {
     "data": {
      "text/html": [
       "<div>\n",
       "<table border=\"1\" class=\"dataframe\">\n",
       "  <thead>\n",
       "    <tr style=\"text-align: right;\">\n",
       "      <th></th>\n",
       "      <th>ad_id</th>\n",
       "      <th>document_id</th>\n",
       "      <th>campaign_id</th>\n",
       "      <th>advertiser_id</th>\n",
       "    </tr>\n",
       "  </thead>\n",
       "  <tbody>\n",
       "    <tr>\n",
       "      <th>0</th>\n",
       "      <td>1</td>\n",
       "      <td>6614</td>\n",
       "      <td>1</td>\n",
       "      <td>7</td>\n",
       "    </tr>\n",
       "    <tr>\n",
       "      <th>1</th>\n",
       "      <td>2</td>\n",
       "      <td>471467</td>\n",
       "      <td>2</td>\n",
       "      <td>7</td>\n",
       "    </tr>\n",
       "    <tr>\n",
       "      <th>2</th>\n",
       "      <td>3</td>\n",
       "      <td>7692</td>\n",
       "      <td>3</td>\n",
       "      <td>7</td>\n",
       "    </tr>\n",
       "    <tr>\n",
       "      <th>3</th>\n",
       "      <td>4</td>\n",
       "      <td>471471</td>\n",
       "      <td>2</td>\n",
       "      <td>7</td>\n",
       "    </tr>\n",
       "    <tr>\n",
       "      <th>4</th>\n",
       "      <td>5</td>\n",
       "      <td>471472</td>\n",
       "      <td>2</td>\n",
       "      <td>7</td>\n",
       "    </tr>\n",
       "  </tbody>\n",
       "</table>\n",
       "</div>"
      ],
      "text/plain": [
       "   ad_id  document_id  campaign_id  advertiser_id\n",
       "0      1         6614            1              7\n",
       "1      2       471467            2              7\n",
       "2      3         7692            3              7\n",
       "3      4       471471            2              7\n",
       "4      5       471472            2              7"
      ]
     },
     "execution_count": 58,
     "metadata": {},
     "output_type": "execute_result"
    }
   ],
   "source": [
    "pc = pd.read_csv('./data/promoted_content.csv')\n",
    "pc.head()"
   ]
  },
  {
   "cell_type": "code",
   "execution_count": 59,
   "metadata": {
    "collapsed": false
   },
   "outputs": [],
   "source": [
    "data = data.merge(pc,on='ad_id',how='left', suffixes=('_l','_r'))\n"
   ]
  },
  {
   "cell_type": "code",
   "execution_count": 60,
   "metadata": {
    "collapsed": true
   },
   "outputs": [],
   "source": [
    "data.rename(columns={'document_id_l':'document_id','document_id_r':'ad_document_id' },\\\n",
    "                    inplace=True)"
   ]
  },
  {
   "cell_type": "code",
   "execution_count": 61,
   "metadata": {
    "collapsed": false
   },
   "outputs": [
    {
     "data": {
      "text/html": [
       "<div>\n",
       "<table border=\"1\" class=\"dataframe\">\n",
       "  <thead>\n",
       "    <tr style=\"text-align: right;\">\n",
       "      <th></th>\n",
       "      <th>display_id</th>\n",
       "      <th>ad_id</th>\n",
       "      <th>clicked</th>\n",
       "      <th>uuid</th>\n",
       "      <th>document_id</th>\n",
       "      <th>platform</th>\n",
       "      <th>geo_location</th>\n",
       "      <th>country</th>\n",
       "      <th>state</th>\n",
       "      <th>DMA</th>\n",
       "      <th>date_local</th>\n",
       "      <th>period</th>\n",
       "      <th>day_of_mnth</th>\n",
       "      <th>hour</th>\n",
       "      <th>ads_per_page</th>\n",
       "      <th>ad_document_id</th>\n",
       "      <th>campaign_id</th>\n",
       "      <th>advertiser_id</th>\n",
       "    </tr>\n",
       "  </thead>\n",
       "  <tbody>\n",
       "    <tr>\n",
       "      <th>10</th>\n",
       "      <td>1796</td>\n",
       "      <td>14120</td>\n",
       "      <td>0</td>\n",
       "      <td>6ebcd6c9c6bc96</td>\n",
       "      <td>1047732</td>\n",
       "      <td>2</td>\n",
       "      <td>US&gt;CA&gt;807</td>\n",
       "      <td>US</td>\n",
       "      <td>CA</td>\n",
       "      <td>807</td>\n",
       "      <td>2016-06-13 21:02:05.717</td>\n",
       "      <td>evening</td>\n",
       "      <td>13</td>\n",
       "      <td>21</td>\n",
       "      <td>4</td>\n",
       "      <td>700394</td>\n",
       "      <td>2496</td>\n",
       "      <td>1222</td>\n",
       "    </tr>\n",
       "  </tbody>\n",
       "</table>\n",
       "</div>"
      ],
      "text/plain": [
       "    display_id  ad_id  clicked            uuid  document_id platform  \\\n",
       "10        1796  14120        0  6ebcd6c9c6bc96      1047732        2   \n",
       "\n",
       "   geo_location country state  DMA              date_local   period  \\\n",
       "10    US>CA>807      US    CA  807 2016-06-13 21:02:05.717  evening   \n",
       "\n",
       "    day_of_mnth  hour  ads_per_page  ad_document_id  campaign_id  \\\n",
       "10           13    21             4          700394         2496   \n",
       "\n",
       "    advertiser_id  \n",
       "10           1222  "
      ]
     },
     "execution_count": 61,
     "metadata": {},
     "output_type": "execute_result"
    }
   ],
   "source": [
    "data[(data['document_id'] == 1047732) &\\\n",
    "      (data['ad_document_id'] == 700394)]\n"
   ]
  },
  {
   "cell_type": "markdown",
   "metadata": {
    "collapsed": true
   },
   "source": [
    "## Bring in Document Data\n",
    "There are three sets of document data that attempt to classify the material inside a document page:\n",
    "* Topic\n",
    "* Category\n",
    "* Entity <br>\n",
    "\n",
    "Some documents have more than one of the above for categorization, in those cases the item with the highest confidence level will be added to the table."
   ]
  },
  {
   "cell_type": "code",
   "execution_count": 62,
   "metadata": {
    "collapsed": true
   },
   "outputs": [],
   "source": [
    "d_top = pd.read_csv('./data/documents_topics.csv')\n",
    "# d_cat = pd.read_csv('./data/documents_categories.csv')\n",
    "# d_ent = pd.read_csv('./data/documents_entities.csv')"
   ]
  },
  {
   "cell_type": "markdown",
   "metadata": {},
   "source": [
    "An example of how data is organized in the tables.\n",
    "* document_id of source page: 1773554\n",
    "* document_id's of ad pages:\n",
    "    * 1328059\n",
    "    * 1086095\n",
    "    * 1414815\n",
    "    * 1130922\n",
    "\n",
    "For the source page, topic 199 will be chosen, for the first ad page 160 will be chose, and since the remainder have only one choice that will be what is used."
   ]
  },
  {
   "cell_type": "code",
   "execution_count": 63,
   "metadata": {
    "collapsed": false
   },
   "outputs": [
    {
     "data": {
      "text/html": [
       "<div>\n",
       "<table border=\"1\" class=\"dataframe\">\n",
       "  <thead>\n",
       "    <tr style=\"text-align: right;\">\n",
       "      <th></th>\n",
       "      <th>document_id</th>\n",
       "      <th>topic_id</th>\n",
       "      <th>confidence_level</th>\n",
       "    </tr>\n",
       "  </thead>\n",
       "  <tbody>\n",
       "    <tr>\n",
       "      <th>8371044</th>\n",
       "      <td>1773554</td>\n",
       "      <td>199</td>\n",
       "      <td>0.090703</td>\n",
       "    </tr>\n",
       "    <tr>\n",
       "      <th>8371045</th>\n",
       "      <td>1773554</td>\n",
       "      <td>183</td>\n",
       "      <td>0.013426</td>\n",
       "    </tr>\n",
       "    <tr>\n",
       "      <th>8371046</th>\n",
       "      <td>1773554</td>\n",
       "      <td>133</td>\n",
       "      <td>0.008202</td>\n",
       "    </tr>\n",
       "  </tbody>\n",
       "</table>\n",
       "</div>"
      ],
      "text/plain": [
       "         document_id  topic_id  confidence_level\n",
       "8371044      1773554       199          0.090703\n",
       "8371045      1773554       183          0.013426\n",
       "8371046      1773554       133          0.008202"
      ]
     },
     "execution_count": 63,
     "metadata": {},
     "output_type": "execute_result"
    }
   ],
   "source": [
    "# the original page document_id\n",
    "d_top[d_top['document_id'] == 1773554]"
   ]
  },
  {
   "cell_type": "code",
   "execution_count": 64,
   "metadata": {
    "collapsed": false
   },
   "outputs": [
    {
     "data": {
      "text/html": [
       "<div>\n",
       "<table border=\"1\" class=\"dataframe\">\n",
       "  <thead>\n",
       "    <tr style=\"text-align: right;\">\n",
       "      <th></th>\n",
       "      <th>document_id</th>\n",
       "      <th>topic_id</th>\n",
       "      <th>confidence_level</th>\n",
       "    </tr>\n",
       "  </thead>\n",
       "  <tbody>\n",
       "    <tr>\n",
       "      <th>10330835</th>\n",
       "      <td>1328059</td>\n",
       "      <td>160</td>\n",
       "      <td>0.331205</td>\n",
       "    </tr>\n",
       "    <tr>\n",
       "      <th>10330836</th>\n",
       "      <td>1328059</td>\n",
       "      <td>66</td>\n",
       "      <td>0.008115</td>\n",
       "    </tr>\n",
       "  </tbody>\n",
       "</table>\n",
       "</div>"
      ],
      "text/plain": [
       "          document_id  topic_id  confidence_level\n",
       "10330835      1328059       160          0.331205\n",
       "10330836      1328059        66          0.008115"
      ]
     },
     "execution_count": 64,
     "metadata": {},
     "output_type": "execute_result"
    }
   ],
   "source": [
    "# the corresponding ad doc_id's\n",
    "d_top[d_top['document_id'] == 1328059]"
   ]
  },
  {
   "cell_type": "code",
   "execution_count": 65,
   "metadata": {
    "collapsed": false
   },
   "outputs": [
    {
     "data": {
      "text/html": [
       "<div>\n",
       "<table border=\"1\" class=\"dataframe\">\n",
       "  <thead>\n",
       "    <tr style=\"text-align: right;\">\n",
       "      <th></th>\n",
       "      <th>document_id</th>\n",
       "      <th>topic_id</th>\n",
       "      <th>confidence_level</th>\n",
       "    </tr>\n",
       "  </thead>\n",
       "  <tbody>\n",
       "    <tr>\n",
       "      <th>10588629</th>\n",
       "      <td>1086095</td>\n",
       "      <td>26</td>\n",
       "      <td>0.259674</td>\n",
       "    </tr>\n",
       "  </tbody>\n",
       "</table>\n",
       "</div>"
      ],
      "text/plain": [
       "          document_id  topic_id  confidence_level\n",
       "10588629      1086095        26          0.259674"
      ]
     },
     "execution_count": 65,
     "metadata": {},
     "output_type": "execute_result"
    }
   ],
   "source": [
    "d_top[d_top['document_id'] == 1086095]"
   ]
  },
  {
   "cell_type": "code",
   "execution_count": 66,
   "metadata": {
    "collapsed": false
   },
   "outputs": [
    {
     "data": {
      "text/html": [
       "<div>\n",
       "<table border=\"1\" class=\"dataframe\">\n",
       "  <thead>\n",
       "    <tr style=\"text-align: right;\">\n",
       "      <th></th>\n",
       "      <th>document_id</th>\n",
       "      <th>topic_id</th>\n",
       "      <th>confidence_level</th>\n",
       "    </tr>\n",
       "  </thead>\n",
       "  <tbody>\n",
       "    <tr>\n",
       "      <th>9395631</th>\n",
       "      <td>1414815</td>\n",
       "      <td>183</td>\n",
       "      <td>0.309797</td>\n",
       "    </tr>\n",
       "  </tbody>\n",
       "</table>\n",
       "</div>"
      ],
      "text/plain": [
       "         document_id  topic_id  confidence_level\n",
       "9395631      1414815       183          0.309797"
      ]
     },
     "execution_count": 66,
     "metadata": {},
     "output_type": "execute_result"
    }
   ],
   "source": [
    "d_top[d_top['document_id'] == 1414815]"
   ]
  },
  {
   "cell_type": "code",
   "execution_count": 67,
   "metadata": {
    "collapsed": false
   },
   "outputs": [
    {
     "data": {
      "text/html": [
       "<div>\n",
       "<table border=\"1\" class=\"dataframe\">\n",
       "  <thead>\n",
       "    <tr style=\"text-align: right;\">\n",
       "      <th></th>\n",
       "      <th>document_id</th>\n",
       "      <th>topic_id</th>\n",
       "      <th>confidence_level</th>\n",
       "    </tr>\n",
       "  </thead>\n",
       "  <tbody>\n",
       "    <tr>\n",
       "      <th>10551623</th>\n",
       "      <td>1130922</td>\n",
       "      <td>107</td>\n",
       "      <td>0.261741</td>\n",
       "    </tr>\n",
       "  </tbody>\n",
       "</table>\n",
       "</div>"
      ],
      "text/plain": [
       "          document_id  topic_id  confidence_level\n",
       "10551623      1130922       107          0.261741"
      ]
     },
     "execution_count": 67,
     "metadata": {},
     "output_type": "execute_result"
    }
   ],
   "source": [
    "d_top[d_top['document_id'] == 1130922]"
   ]
  },
  {
   "cell_type": "code",
   "execution_count": null,
   "metadata": {
    "collapsed": true
   },
   "outputs": [],
   "source": []
  },
  {
   "cell_type": "code",
   "execution_count": 68,
   "metadata": {
    "collapsed": false
   },
   "outputs": [],
   "source": [
    "# function to find the max confidence level \n",
    "def doc_max (x,df,df_col):\n",
    "    try:\n",
    "        d_index = df[df['document_id'] == x][df_col].idxmax(axis=0, skipna=True)\n",
    "        return d_top.iloc[d_index][df_col]\n",
    "    except:\n",
    "        pass\n",
    "    else:\n",
    "        return np.nan\n"
   ]
  },
  {
   "cell_type": "code",
   "execution_count": null,
   "metadata": {
    "collapsed": false
   },
   "outputs": [],
   "source": []
  },
  {
   "cell_type": "code",
   "execution_count": 69,
   "metadata": {
    "collapsed": false
   },
   "outputs": [
    {
     "name": "stdout",
     "output_type": "stream",
     "text": [
      "Time to run: 0:15:45.449636\n"
     ]
    },
    {
     "data": {
      "text/plain": [
       "0"
      ]
     },
     "execution_count": 69,
     "metadata": {},
     "output_type": "execute_result"
    }
   ],
   "source": [
    "start = datetime.now()\n",
    "\n",
    "data['doc_id_topic'] = [doc_max(rows['document_id'],d_top,'topic_id') for index, \\\n",
    "                                rows in data.iterrows()]\n",
    "\n",
    "\n",
    "finish = datetime.now()\n",
    "print('Time to run: {0}'.format(finish - start))\n",
    "os.system('say \"I am finished!\"')"
   ]
  },
  {
   "cell_type": "code",
   "execution_count": 70,
   "metadata": {
    "collapsed": false
   },
   "outputs": [
    {
     "data": {
      "text/plain": [
       "7388"
      ]
     },
     "execution_count": 70,
     "metadata": {},
     "output_type": "execute_result"
    }
   ],
   "source": [
    "data['doc_id_topic'].isnull().sum()"
   ]
  },
  {
   "cell_type": "markdown",
   "metadata": {},
   "source": [
    "About 10% of sample set does not have doc_id, to critical to be imputed so will continue with reduced dataset and work on remediation on next round of analysis."
   ]
  },
  {
   "cell_type": "code",
   "execution_count": 71,
   "metadata": {
    "collapsed": false
   },
   "outputs": [
    {
     "name": "stdout",
     "output_type": "stream",
     "text": [
      "Time to run: 0:19:22.887628\n"
     ]
    },
    {
     "data": {
      "text/plain": [
       "0"
      ]
     },
     "execution_count": 71,
     "metadata": {},
     "output_type": "execute_result"
    }
   ],
   "source": [
    "start = datetime.now()\n",
    "\n",
    "data['ad_id_topic'] = [doc_max(rows['ad_document_id'],d_top,'topic_id') for index, \\\n",
    "                                rows in data.iterrows()]\n",
    "\n",
    "\n",
    "finish = datetime.now()\n",
    "print('Time to run: {0}'.format(finish - start))\n",
    "os.system('say \"I am finished!\"')"
   ]
  },
  {
   "cell_type": "markdown",
   "metadata": {
    "collapsed": false
   },
   "source": [
    "<font color='red'> **Not all documents are showing an topic, about half are missing. Will still include **"
   ]
  },
  {
   "cell_type": "code",
   "execution_count": 72,
   "metadata": {
    "collapsed": false
   },
   "outputs": [
    {
     "data": {
      "text/plain": [
       "15000"
      ]
     },
     "execution_count": 72,
     "metadata": {},
     "output_type": "execute_result"
    }
   ],
   "source": [
    "data['display_id'].nunique()"
   ]
  },
  {
   "cell_type": "code",
   "execution_count": 73,
   "metadata": {
    "collapsed": false
   },
   "outputs": [
    {
     "data": {
      "text/html": [
       "<div>\n",
       "<table border=\"1\" class=\"dataframe\">\n",
       "  <thead>\n",
       "    <tr style=\"text-align: right;\">\n",
       "      <th></th>\n",
       "      <th>display_id</th>\n",
       "      <th>ad_id</th>\n",
       "      <th>clicked</th>\n",
       "      <th>uuid</th>\n",
       "      <th>document_id</th>\n",
       "      <th>platform</th>\n",
       "      <th>geo_location</th>\n",
       "      <th>country</th>\n",
       "      <th>state</th>\n",
       "      <th>DMA</th>\n",
       "      <th>date_local</th>\n",
       "      <th>period</th>\n",
       "      <th>day_of_mnth</th>\n",
       "      <th>hour</th>\n",
       "      <th>ads_per_page</th>\n",
       "      <th>ad_document_id</th>\n",
       "      <th>campaign_id</th>\n",
       "      <th>advertiser_id</th>\n",
       "      <th>doc_id_topic</th>\n",
       "      <th>ad_id_topic</th>\n",
       "    </tr>\n",
       "  </thead>\n",
       "  <tbody>\n",
       "    <tr>\n",
       "      <th>0</th>\n",
       "      <td>1525</td>\n",
       "      <td>8846</td>\n",
       "      <td>0</td>\n",
       "      <td>443715a4da754f</td>\n",
       "      <td>1697627</td>\n",
       "      <td>1</td>\n",
       "      <td>US&gt;IL&gt;602</td>\n",
       "      <td>US</td>\n",
       "      <td>IL</td>\n",
       "      <td>602</td>\n",
       "      <td>2016-06-13 23:01:46.019</td>\n",
       "      <td>overnight</td>\n",
       "      <td>13</td>\n",
       "      <td>23</td>\n",
       "      <td>9</td>\n",
       "      <td>21135</td>\n",
       "      <td>1726</td>\n",
       "      <td>24</td>\n",
       "      <td>271.0</td>\n",
       "      <td>125.0</td>\n",
       "    </tr>\n",
       "    <tr>\n",
       "      <th>1</th>\n",
       "      <td>1525</td>\n",
       "      <td>45180</td>\n",
       "      <td>0</td>\n",
       "      <td>443715a4da754f</td>\n",
       "      <td>1697627</td>\n",
       "      <td>1</td>\n",
       "      <td>US&gt;IL&gt;602</td>\n",
       "      <td>US</td>\n",
       "      <td>IL</td>\n",
       "      <td>602</td>\n",
       "      <td>2016-06-13 23:01:46.019</td>\n",
       "      <td>overnight</td>\n",
       "      <td>13</td>\n",
       "      <td>23</td>\n",
       "      <td>9</td>\n",
       "      <td>953930</td>\n",
       "      <td>6296</td>\n",
       "      <td>1594</td>\n",
       "      <td>271.0</td>\n",
       "      <td>286.0</td>\n",
       "    </tr>\n",
       "    <tr>\n",
       "      <th>2</th>\n",
       "      <td>1525</td>\n",
       "      <td>46293</td>\n",
       "      <td>0</td>\n",
       "      <td>443715a4da754f</td>\n",
       "      <td>1697627</td>\n",
       "      <td>1</td>\n",
       "      <td>US&gt;IL&gt;602</td>\n",
       "      <td>US</td>\n",
       "      <td>IL</td>\n",
       "      <td>602</td>\n",
       "      <td>2016-06-13 23:01:46.019</td>\n",
       "      <td>overnight</td>\n",
       "      <td>13</td>\n",
       "      <td>23</td>\n",
       "      <td>9</td>\n",
       "      <td>959753</td>\n",
       "      <td>959</td>\n",
       "      <td>8</td>\n",
       "      <td>271.0</td>\n",
       "      <td>147.0</td>\n",
       "    </tr>\n",
       "  </tbody>\n",
       "</table>\n",
       "</div>"
      ],
      "text/plain": [
       "   display_id  ad_id  clicked            uuid  document_id platform  \\\n",
       "0        1525   8846        0  443715a4da754f      1697627        1   \n",
       "1        1525  45180        0  443715a4da754f      1697627        1   \n",
       "2        1525  46293        0  443715a4da754f      1697627        1   \n",
       "\n",
       "  geo_location country state  DMA              date_local     period  \\\n",
       "0    US>IL>602      US    IL  602 2016-06-13 23:01:46.019  overnight   \n",
       "1    US>IL>602      US    IL  602 2016-06-13 23:01:46.019  overnight   \n",
       "2    US>IL>602      US    IL  602 2016-06-13 23:01:46.019  overnight   \n",
       "\n",
       "   day_of_mnth  hour  ads_per_page  ad_document_id  campaign_id  \\\n",
       "0           13    23             9           21135         1726   \n",
       "1           13    23             9          953930         6296   \n",
       "2           13    23             9          959753          959   \n",
       "\n",
       "   advertiser_id  doc_id_topic  ad_id_topic  \n",
       "0             24         271.0        125.0  \n",
       "1           1594         271.0        286.0  \n",
       "2              8         271.0        147.0  "
      ]
     },
     "execution_count": 73,
     "metadata": {},
     "output_type": "execute_result"
    }
   ],
   "source": [
    "data.head(3)"
   ]
  },
  {
   "cell_type": "code",
   "execution_count": 74,
   "metadata": {
    "collapsed": false
   },
   "outputs": [],
   "source": [
    "id_list = []\n",
    "\n",
    "for i,r in data.iterrows():\n",
    "    if np.isnan(r['doc_id_topic']):\n",
    "        id_list.append(r['display_id'])\n",
    "#pd.isnull(data.doc_id_topic).sum()\n"
   ]
  },
  {
   "cell_type": "code",
   "execution_count": 75,
   "metadata": {
    "collapsed": false
   },
   "outputs": [],
   "source": [
    "missing_id = list(set(id_list))\n",
    "len(missing_id)\n",
    "good_id = [x for x in pages if x not in missing_id]"
   ]
  },
  {
   "cell_type": "code",
   "execution_count": 76,
   "metadata": {
    "collapsed": false
   },
   "outputs": [
    {
     "data": {
      "text/plain": [
       "13574"
      ]
     },
     "execution_count": 76,
     "metadata": {},
     "output_type": "execute_result"
    }
   ],
   "source": [
    "len(good_id)"
   ]
  },
  {
   "cell_type": "markdown",
   "metadata": {},
   "source": [
    "# Take out display_id's missing doc_id_topic\n",
    "\n",
    "This item is categorical and would be complicated to impute at this point."
   ]
  },
  {
   "cell_type": "code",
   "execution_count": 77,
   "metadata": {
    "collapsed": false
   },
   "outputs": [],
   "source": [
    "data2 = data[data['display_id'].isin(good_id)]"
   ]
  },
  {
   "cell_type": "code",
   "execution_count": 78,
   "metadata": {
    "collapsed": false
   },
   "outputs": [
    {
     "data": {
      "text/plain": [
       "69838"
      ]
     },
     "execution_count": 78,
     "metadata": {},
     "output_type": "execute_result"
    }
   ],
   "source": [
    "len(data2)"
   ]
  },
  {
   "cell_type": "code",
   "execution_count": 79,
   "metadata": {
    "collapsed": false
   },
   "outputs": [
    {
     "data": {
      "text/plain": [
       "13574"
      ]
     },
     "execution_count": 79,
     "metadata": {},
     "output_type": "execute_result"
    }
   ],
   "source": [
    "data2['display_id'].nunique()"
   ]
  },
  {
   "cell_type": "markdown",
   "metadata": {},
   "source": [
    "# Save tables to .csv"
   ]
  },
  {
   "cell_type": "code",
   "execution_count": 80,
   "metadata": {
    "collapsed": false
   },
   "outputs": [],
   "source": [
    "data2.to_csv('./data/data_bk1_complete.csv',index=False)\n"
   ]
  },
  {
   "cell_type": "code",
   "execution_count": 81,
   "metadata": {
    "collapsed": true
   },
   "outputs": [],
   "source": [
    "with open('./data/data_bk1_complete.pkl', 'w') as picklefile:\n",
    "    pickle.dump(data2, picklefile)"
   ]
  },
  {
   "cell_type": "code",
   "execution_count": null,
   "metadata": {
    "collapsed": true
   },
   "outputs": [],
   "source": []
  }
 ],
 "metadata": {
  "anaconda-cloud": {},
  "kernelspec": {
   "display_name": "Python [Root]",
   "language": "python",
   "name": "Python [Root]"
  },
  "language_info": {
   "codemirror_mode": {
    "name": "ipython",
    "version": 2
   },
   "file_extension": ".py",
   "mimetype": "text/x-python",
   "name": "python",
   "nbconvert_exporter": "python",
   "pygments_lexer": "ipython2",
   "version": "2.7.11"
  }
 },
 "nbformat": 4,
 "nbformat_minor": 0
}
