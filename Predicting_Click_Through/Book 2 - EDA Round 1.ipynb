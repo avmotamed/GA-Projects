{
 "cells": [
  {
   "cell_type": "markdown",
   "metadata": {},
   "source": [
    "# Outbrain Ad Click Through - Initial EDA\n",
    "This project is using the US subset of Outbrain's global data provided for a kaggle comptition. (https://www.kaggle.com/c/outbrain-click-prediction)\n",
    "\n",
    "This was the initial EDA runthrough, further refinements are made to the data (via randome sampling) to offset the missing data. The goal is to first do an analysis using as many categories as possible and then expand to information with missing data to see the impact.\n"
   ]
  },
  {
   "cell_type": "code",
   "execution_count": 1,
   "metadata": {
    "collapsed": false
   },
   "outputs": [],
   "source": [
    "import pandas as pd\n",
    "import numpy as np\n",
    "import seaborn as sns\n",
    "import matplotlib.pyplot as plt\n",
    "import pickle\n",
    "import random\n",
    "import matplotlib\n",
    "import matplotlib.cm as cm\n",
    "import seaborn as sns\n",
    "import datetime\n",
    "\n",
    "matplotlib.style.use('ggplot') \n",
    "%matplotlib inline"
   ]
  },
  {
   "cell_type": "markdown",
   "metadata": {},
   "source": [
    "# Train Data Set\n",
    "This table shows which ads were displayed on a given site (document id) and which ad was clicked. A click for an ad is considered an event, and is covered in the next table."
   ]
  },
  {
   "cell_type": "code",
   "execution_count": 2,
   "metadata": {
    "collapsed": false
   },
   "outputs": [],
   "source": [
    "# training set created from source daga in prior notebook\n",
    "train = pd.read_csv('./data/train.csv')"
   ]
  },
  {
   "cell_type": "code",
   "execution_count": 3,
   "metadata": {
    "collapsed": false
   },
   "outputs": [
    {
     "data": {
      "text/html": [
       "<div>\n",
       "<table border=\"1\" class=\"dataframe\">\n",
       "  <thead>\n",
       "    <tr style=\"text-align: right;\">\n",
       "      <th></th>\n",
       "      <th>display_id</th>\n",
       "      <th>ad_id</th>\n",
       "      <th>clicked</th>\n",
       "      <th>US</th>\n",
       "    </tr>\n",
       "  </thead>\n",
       "  <tbody>\n",
       "    <tr>\n",
       "      <th>0</th>\n",
       "      <td>1</td>\n",
       "      <td>42337</td>\n",
       "      <td>0</td>\n",
       "      <td>1</td>\n",
       "    </tr>\n",
       "    <tr>\n",
       "      <th>1</th>\n",
       "      <td>1</td>\n",
       "      <td>139684</td>\n",
       "      <td>0</td>\n",
       "      <td>1</td>\n",
       "    </tr>\n",
       "    <tr>\n",
       "      <th>2</th>\n",
       "      <td>1</td>\n",
       "      <td>144739</td>\n",
       "      <td>1</td>\n",
       "      <td>1</td>\n",
       "    </tr>\n",
       "    <tr>\n",
       "      <th>3</th>\n",
       "      <td>1</td>\n",
       "      <td>156824</td>\n",
       "      <td>0</td>\n",
       "      <td>1</td>\n",
       "    </tr>\n",
       "    <tr>\n",
       "      <th>4</th>\n",
       "      <td>1</td>\n",
       "      <td>279295</td>\n",
       "      <td>0</td>\n",
       "      <td>1</td>\n",
       "    </tr>\n",
       "    <tr>\n",
       "      <th>5</th>\n",
       "      <td>1</td>\n",
       "      <td>296965</td>\n",
       "      <td>0</td>\n",
       "      <td>1</td>\n",
       "    </tr>\n",
       "    <tr>\n",
       "      <th>6</th>\n",
       "      <td>2</td>\n",
       "      <td>125211</td>\n",
       "      <td>0</td>\n",
       "      <td>1</td>\n",
       "    </tr>\n",
       "    <tr>\n",
       "      <th>7</th>\n",
       "      <td>2</td>\n",
       "      <td>156535</td>\n",
       "      <td>0</td>\n",
       "      <td>1</td>\n",
       "    </tr>\n",
       "    <tr>\n",
       "      <th>8</th>\n",
       "      <td>2</td>\n",
       "      <td>169564</td>\n",
       "      <td>0</td>\n",
       "      <td>1</td>\n",
       "    </tr>\n",
       "    <tr>\n",
       "      <th>9</th>\n",
       "      <td>2</td>\n",
       "      <td>308455</td>\n",
       "      <td>1</td>\n",
       "      <td>1</td>\n",
       "    </tr>\n",
       "  </tbody>\n",
       "</table>\n",
       "</div>"
      ],
      "text/plain": [
       "   display_id   ad_id  clicked  US\n",
       "0           1   42337        0   1\n",
       "1           1  139684        0   1\n",
       "2           1  144739        1   1\n",
       "3           1  156824        0   1\n",
       "4           1  279295        0   1\n",
       "5           1  296965        0   1\n",
       "6           2  125211        0   1\n",
       "7           2  156535        0   1\n",
       "8           2  169564        0   1\n",
       "9           2  308455        1   1"
      ]
     },
     "execution_count": 3,
     "metadata": {},
     "output_type": "execute_result"
    }
   ],
   "source": [
    "train.head(10)"
   ]
  },
  {
   "cell_type": "raw",
   "metadata": {},
   "source": []
  },
  {
   "cell_type": "code",
   "execution_count": 4,
   "metadata": {
    "collapsed": false
   },
   "outputs": [
    {
     "name": "stdout",
     "output_type": "stream",
     "text": [
      "display_id    int64\n",
      "ad_id         int64\n",
      "clicked       int64\n",
      "US            int64\n",
      "dtype: object\n"
     ]
    },
    {
     "data": {
      "text/html": [
       "<div>\n",
       "<table border=\"1\" class=\"dataframe\">\n",
       "  <thead>\n",
       "    <tr style=\"text-align: right;\">\n",
       "      <th></th>\n",
       "      <th>display_id</th>\n",
       "      <th>ad_id</th>\n",
       "      <th>clicked</th>\n",
       "      <th>US</th>\n",
       "    </tr>\n",
       "  </thead>\n",
       "  <tbody>\n",
       "    <tr>\n",
       "      <th>count</th>\n",
       "      <td>6.728221e+07</td>\n",
       "      <td>6.728221e+07</td>\n",
       "      <td>6.728221e+07</td>\n",
       "      <td>67282211.0</td>\n",
       "    </tr>\n",
       "    <tr>\n",
       "      <th>mean</th>\n",
       "      <td>8.437118e+06</td>\n",
       "      <td>1.896809e+05</td>\n",
       "      <td>1.944860e-01</td>\n",
       "      <td>1.0</td>\n",
       "    </tr>\n",
       "    <tr>\n",
       "      <th>std</th>\n",
       "      <td>4.858572e+06</td>\n",
       "      <td>1.247405e+05</td>\n",
       "      <td>3.958045e-01</td>\n",
       "      <td>0.0</td>\n",
       "    </tr>\n",
       "    <tr>\n",
       "      <th>min</th>\n",
       "      <td>1.000000e+00</td>\n",
       "      <td>1.000000e+00</td>\n",
       "      <td>0.000000e+00</td>\n",
       "      <td>1.0</td>\n",
       "    </tr>\n",
       "    <tr>\n",
       "      <th>25%</th>\n",
       "      <td>4.195517e+06</td>\n",
       "      <td>9.637800e+04</td>\n",
       "      <td>0.000000e+00</td>\n",
       "      <td>1.0</td>\n",
       "    </tr>\n",
       "    <tr>\n",
       "      <th>50%</th>\n",
       "      <td>8.481444e+06</td>\n",
       "      <td>1.675010e+05</td>\n",
       "      <td>0.000000e+00</td>\n",
       "      <td>1.0</td>\n",
       "    </tr>\n",
       "    <tr>\n",
       "      <th>75%</th>\n",
       "      <td>1.261506e+07</td>\n",
       "      <td>2.523050e+05</td>\n",
       "      <td>0.000000e+00</td>\n",
       "      <td>1.0</td>\n",
       "    </tr>\n",
       "    <tr>\n",
       "      <th>max</th>\n",
       "      <td>1.687459e+07</td>\n",
       "      <td>5.480190e+05</td>\n",
       "      <td>1.000000e+00</td>\n",
       "      <td>1.0</td>\n",
       "    </tr>\n",
       "  </tbody>\n",
       "</table>\n",
       "</div>"
      ],
      "text/plain": [
       "         display_id         ad_id       clicked          US\n",
       "count  6.728221e+07  6.728221e+07  6.728221e+07  67282211.0\n",
       "mean   8.437118e+06  1.896809e+05  1.944860e-01         1.0\n",
       "std    4.858572e+06  1.247405e+05  3.958045e-01         0.0\n",
       "min    1.000000e+00  1.000000e+00  0.000000e+00         1.0\n",
       "25%    4.195517e+06  9.637800e+04  0.000000e+00         1.0\n",
       "50%    8.481444e+06  1.675010e+05  0.000000e+00         1.0\n",
       "75%    1.261506e+07  2.523050e+05  0.000000e+00         1.0\n",
       "max    1.687459e+07  5.480190e+05  1.000000e+00         1.0"
      ]
     },
     "execution_count": 4,
     "metadata": {},
     "output_type": "execute_result"
    }
   ],
   "source": [
    "print(train.dtypes)\n",
    "train.describe()"
   ]
  },
  {
   "cell_type": "code",
   "execution_count": 5,
   "metadata": {
    "collapsed": false
   },
   "outputs": [
    {
     "name": "stdout",
     "output_type": "stream",
     "text": [
      "Number of unique display_ID's (number of events): 13,085,451\n",
      "Number of clicks (# of events): 13,085,451\n",
      "Number of records: 67,282,211\n"
     ]
    }
   ],
   "source": [
    "print(\"Number of unique display_ID's (number of events): {0:,}\".format(train['display_id'].nunique()))\n",
    "print('Number of clicks (# of events): {0:,}'.format(np.sum(train['clicked'])))\n",
    "print('Number of records: {0:,}'.format(len(train)))"
   ]
  },
  {
   "cell_type": "code",
   "execution_count": 6,
   "metadata": {
    "collapsed": false
   },
   "outputs": [
    {
     "data": {
      "text/html": [
       "<div>\n",
       "<table border=\"1\" class=\"dataframe\">\n",
       "  <thead>\n",
       "    <tr style=\"text-align: right;\">\n",
       "      <th></th>\n",
       "      <th>ad_id_count</th>\n",
       "    </tr>\n",
       "  </thead>\n",
       "  <tbody>\n",
       "    <tr>\n",
       "      <th>count</th>\n",
       "      <td>449840.000000</td>\n",
       "    </tr>\n",
       "    <tr>\n",
       "      <th>mean</th>\n",
       "      <td>149.569205</td>\n",
       "    </tr>\n",
       "    <tr>\n",
       "      <th>std</th>\n",
       "      <td>1535.896224</td>\n",
       "    </tr>\n",
       "    <tr>\n",
       "      <th>min</th>\n",
       "      <td>1.000000</td>\n",
       "    </tr>\n",
       "    <tr>\n",
       "      <th>25%</th>\n",
       "      <td>2.000000</td>\n",
       "    </tr>\n",
       "    <tr>\n",
       "      <th>50%</th>\n",
       "      <td>5.000000</td>\n",
       "    </tr>\n",
       "    <tr>\n",
       "      <th>75%</th>\n",
       "      <td>16.000000</td>\n",
       "    </tr>\n",
       "    <tr>\n",
       "      <th>max</th>\n",
       "      <td>165522.000000</td>\n",
       "    </tr>\n",
       "  </tbody>\n",
       "</table>\n",
       "</div>"
      ],
      "text/plain": [
       "         ad_id_count\n",
       "count  449840.000000\n",
       "mean      149.569205\n",
       "std      1535.896224\n",
       "min         1.000000\n",
       "25%         2.000000\n",
       "50%         5.000000\n",
       "75%        16.000000\n",
       "max    165522.000000"
      ]
     },
     "execution_count": 6,
     "metadata": {},
     "output_type": "execute_result"
    }
   ],
   "source": [
    "peek = pd.pivot_table(train, index='ad_id', values=['display_id'], aggfunc='count').sort_values(by='display_id',\\\n",
    "                    ascending = False)\n",
    "peek.columns = ['ad_id_count']\n",
    "peek.describe()"
   ]
  },
  {
   "cell_type": "markdown",
   "metadata": {},
   "source": [
    "75% of the ads to US users were displayed 16 times or less, with the max # of displays for a single ad being over 165k."
   ]
  },
  {
   "cell_type": "code",
   "execution_count": 7,
   "metadata": {
    "collapsed": false
   },
   "outputs": [],
   "source": [
    "ad_count = train.groupby('display_id')['ad_id'].count().value_counts()/train['display_id'].nunique()"
   ]
  },
  {
   "cell_type": "code",
   "execution_count": 8,
   "metadata": {
    "collapsed": false
   },
   "outputs": [
    {
     "data": {
      "image/png": "[encoded data removed]",
      "text/plain": [
       "<matplotlib.figure.Figure at 0x151fcc350>"
      ]
     },
     "metadata": {},
     "output_type": "display_data"
    }
   ],
   "source": [
    "plt.figure(figsize=(15,4))\n",
    "sns.barplot(ad_count.index, ad_count.values, color='blue', alpha=0.5)\n",
    "plt.title('Ads per display event')\n",
    "plt.xlabel('Ads shown per display event', fontsize=12)\n",
    "plt.ylabel('Share of total US events', fontsize=12);"
   ]
  },
  {
   "cell_type": "markdown",
   "metadata": {},
   "source": [
    "The ad count per event is weighted heavily towards 4 and 6 ad displays per page (just over 60%), with almost another quarter from 2, 3, and 5 per event."
   ]
  },
  {
   "cell_type": "code",
   "execution_count": 9,
   "metadata": {
    "collapsed": false
   },
   "outputs": [],
   "source": [
    "ad_occ = train.groupby('ad_id')['ad_id'].count()"
   ]
  },
  {
   "cell_type": "code",
   "execution_count": 10,
   "metadata": {
    "collapsed": false
   },
   "outputs": [
    {
     "data": {
      "image/png": "[encoded data removed]",
      "text/plain": [
       "<matplotlib.figure.Figure at 0x11a27ac10>"
      ]
     },
     "metadata": {},
     "output_type": "display_data"
    }
   ],
   "source": [
    "plt.figure(figsize=(15,4))\n",
    "plt.hist(ad_occ.values, alpha = 0.5, color = 'blue', bins = 5000,range=(0,50000))\n",
    "plt.xlabel('Number of times ad appeared', fontsize=12)\n",
    "plt.ylabel('log(Count of events with ad)', fontsize=12)\n",
    "plt.yscale('log')\n",
    "#plt.ylim([0,2])\n",
    "plt.show();"
   ]
  },
  {
   "cell_type": "code",
   "execution_count": 11,
   "metadata": {
    "collapsed": false
   },
   "outputs": [
    {
     "name": "stdout",
     "output_type": "stream",
     "text": [
      "[  1.   1.   1.   2.   3.   5.   8.  12.  22.  70.]\n"
     ]
    }
   ],
   "source": [
    "print np.percentile(ad_occ, np.arange(0, 100, 10)) # gives the start of each decile\n"
   ]
  },
  {
   "cell_type": "markdown",
   "metadata": {},
   "source": [
    "The chart and decile count show that a large percentage of the adds appear very few times, **with over 50% appearing less than 5 times.** \n",
    "\n",
    "From this it appears that we will not be able to use the ad iteself as a predictor, but will need to build some other linkages. Possibly the docuemnt subject matter (based on confidence level), advertiser or campaign, etc.\n"
   ]
  },
  {
   "cell_type": "code",
   "execution_count": 12,
   "metadata": {
    "collapsed": false
   },
   "outputs": [
    {
     "data": {
      "text/html": [
       "<div>\n",
       "<table border=\"1\" class=\"dataframe\">\n",
       "  <thead>\n",
       "    <tr style=\"text-align: right;\">\n",
       "      <th></th>\n",
       "      <th>ad_id_count</th>\n",
       "    </tr>\n",
       "    <tr>\n",
       "      <th>ad_id</th>\n",
       "      <th></th>\n",
       "    </tr>\n",
       "  </thead>\n",
       "  <tbody>\n",
       "    <tr>\n",
       "      <th>427559</th>\n",
       "      <td>1</td>\n",
       "    </tr>\n",
       "    <tr>\n",
       "      <th>427555</th>\n",
       "      <td>1</td>\n",
       "    </tr>\n",
       "    <tr>\n",
       "      <th>236470</th>\n",
       "      <td>1</td>\n",
       "    </tr>\n",
       "    <tr>\n",
       "      <th>427552</th>\n",
       "      <td>1</td>\n",
       "    </tr>\n",
       "    <tr>\n",
       "      <th>548019</th>\n",
       "      <td>1</td>\n",
       "    </tr>\n",
       "  </tbody>\n",
       "</table>\n",
       "</div>"
      ],
      "text/plain": [
       "        ad_id_count\n",
       "ad_id              \n",
       "427559            1\n",
       "427555            1\n",
       "236470            1\n",
       "427552            1\n",
       "548019            1"
      ]
     },
     "execution_count": 12,
     "metadata": {},
     "output_type": "execute_result"
    }
   ],
   "source": [
    "peek.tail()"
   ]
  },
  {
   "cell_type": "code",
   "execution_count": 13,
   "metadata": {
    "collapsed": false
   },
   "outputs": [],
   "source": [
    "ad_joint = train.join(peek,on='ad_id',how='left')"
   ]
  },
  {
   "cell_type": "code",
   "execution_count": 14,
   "metadata": {
    "collapsed": false
   },
   "outputs": [
    {
     "data": {
      "text/html": [
       "<div>\n",
       "<table border=\"1\" class=\"dataframe\">\n",
       "  <thead>\n",
       "    <tr style=\"text-align: right;\">\n",
       "      <th></th>\n",
       "      <th>display_id</th>\n",
       "      <th>ad_id</th>\n",
       "      <th>clicked</th>\n",
       "      <th>US</th>\n",
       "      <th>ad_id_count</th>\n",
       "    </tr>\n",
       "  </thead>\n",
       "  <tbody>\n",
       "    <tr>\n",
       "      <th>0</th>\n",
       "      <td>1</td>\n",
       "      <td>42337</td>\n",
       "      <td>0</td>\n",
       "      <td>1</td>\n",
       "      <td>9470</td>\n",
       "    </tr>\n",
       "    <tr>\n",
       "      <th>1</th>\n",
       "      <td>1</td>\n",
       "      <td>139684</td>\n",
       "      <td>0</td>\n",
       "      <td>1</td>\n",
       "      <td>947</td>\n",
       "    </tr>\n",
       "    <tr>\n",
       "      <th>2</th>\n",
       "      <td>1</td>\n",
       "      <td>144739</td>\n",
       "      <td>1</td>\n",
       "      <td>1</td>\n",
       "      <td>45501</td>\n",
       "    </tr>\n",
       "    <tr>\n",
       "      <th>3</th>\n",
       "      <td>1</td>\n",
       "      <td>156824</td>\n",
       "      <td>0</td>\n",
       "      <td>1</td>\n",
       "      <td>45823</td>\n",
       "    </tr>\n",
       "    <tr>\n",
       "      <th>4</th>\n",
       "      <td>1</td>\n",
       "      <td>279295</td>\n",
       "      <td>0</td>\n",
       "      <td>1</td>\n",
       "      <td>271</td>\n",
       "    </tr>\n",
       "  </tbody>\n",
       "</table>\n",
       "</div>"
      ],
      "text/plain": [
       "   display_id   ad_id  clicked  US  ad_id_count\n",
       "0           1   42337        0   1         9470\n",
       "1           1  139684        0   1          947\n",
       "2           1  144739        1   1        45501\n",
       "3           1  156824        0   1        45823\n",
       "4           1  279295        0   1          271"
      ]
     },
     "execution_count": 14,
     "metadata": {},
     "output_type": "execute_result"
    }
   ],
   "source": [
    "ad_joint.head()"
   ]
  },
  {
   "cell_type": "code",
   "execution_count": 15,
   "metadata": {
    "collapsed": false,
    "scrolled": true
   },
   "outputs": [],
   "source": [
    "disp_id_counts = pd.DataFrame(ad_joint['display_id'].value_counts())"
   ]
  },
  {
   "cell_type": "code",
   "execution_count": 16,
   "metadata": {
    "collapsed": false
   },
   "outputs": [],
   "source": [
    "disp_id_counts.columns=['display_id_count']"
   ]
  },
  {
   "cell_type": "code",
   "execution_count": 17,
   "metadata": {
    "collapsed": false
   },
   "outputs": [],
   "source": [
    "disp_id_counts.index.name = 'display_id'"
   ]
  },
  {
   "cell_type": "code",
   "execution_count": 18,
   "metadata": {
    "collapsed": false
   },
   "outputs": [
    {
     "data": {
      "text/html": [
       "<div>\n",
       "<table border=\"1\" class=\"dataframe\">\n",
       "  <thead>\n",
       "    <tr style=\"text-align: right;\">\n",
       "      <th></th>\n",
       "      <th>display_id_count</th>\n",
       "    </tr>\n",
       "    <tr>\n",
       "      <th>display_id</th>\n",
       "      <th></th>\n",
       "    </tr>\n",
       "  </thead>\n",
       "  <tbody>\n",
       "    <tr>\n",
       "      <th>5962201</th>\n",
       "      <td>12</td>\n",
       "    </tr>\n",
       "    <tr>\n",
       "      <th>1340164</th>\n",
       "      <td>12</td>\n",
       "    </tr>\n",
       "    <tr>\n",
       "      <th>13241838</th>\n",
       "      <td>12</td>\n",
       "    </tr>\n",
       "    <tr>\n",
       "      <th>8748941</th>\n",
       "      <td>12</td>\n",
       "    </tr>\n",
       "    <tr>\n",
       "      <th>16477327</th>\n",
       "      <td>12</td>\n",
       "    </tr>\n",
       "  </tbody>\n",
       "</table>\n",
       "</div>"
      ],
      "text/plain": [
       "            display_id_count\n",
       "display_id                  \n",
       "5962201                   12\n",
       "1340164                   12\n",
       "13241838                  12\n",
       "8748941                   12\n",
       "16477327                  12"
      ]
     },
     "execution_count": 18,
     "metadata": {},
     "output_type": "execute_result"
    }
   ],
   "source": [
    "disp_id_counts.head()"
   ]
  },
  {
   "cell_type": "code",
   "execution_count": 19,
   "metadata": {
    "collapsed": true
   },
   "outputs": [],
   "source": [
    "ad_joint = ad_joint.join(disp_id_counts,on='display_id',how='left')"
   ]
  },
  {
   "cell_type": "code",
   "execution_count": 20,
   "metadata": {
    "collapsed": false
   },
   "outputs": [
    {
     "data": {
      "text/html": [
       "<div>\n",
       "<table border=\"1\" class=\"dataframe\">\n",
       "  <thead>\n",
       "    <tr style=\"text-align: right;\">\n",
       "      <th></th>\n",
       "      <th>display_id</th>\n",
       "      <th>ad_id</th>\n",
       "      <th>clicked</th>\n",
       "      <th>US</th>\n",
       "      <th>ad_id_count</th>\n",
       "      <th>display_id_count</th>\n",
       "    </tr>\n",
       "  </thead>\n",
       "  <tbody>\n",
       "    <tr>\n",
       "      <th>0</th>\n",
       "      <td>1</td>\n",
       "      <td>42337</td>\n",
       "      <td>0</td>\n",
       "      <td>1</td>\n",
       "      <td>9470</td>\n",
       "      <td>6</td>\n",
       "    </tr>\n",
       "    <tr>\n",
       "      <th>1</th>\n",
       "      <td>1</td>\n",
       "      <td>139684</td>\n",
       "      <td>0</td>\n",
       "      <td>1</td>\n",
       "      <td>947</td>\n",
       "      <td>6</td>\n",
       "    </tr>\n",
       "    <tr>\n",
       "      <th>2</th>\n",
       "      <td>1</td>\n",
       "      <td>144739</td>\n",
       "      <td>1</td>\n",
       "      <td>1</td>\n",
       "      <td>45501</td>\n",
       "      <td>6</td>\n",
       "    </tr>\n",
       "    <tr>\n",
       "      <th>3</th>\n",
       "      <td>1</td>\n",
       "      <td>156824</td>\n",
       "      <td>0</td>\n",
       "      <td>1</td>\n",
       "      <td>45823</td>\n",
       "      <td>6</td>\n",
       "    </tr>\n",
       "    <tr>\n",
       "      <th>4</th>\n",
       "      <td>1</td>\n",
       "      <td>279295</td>\n",
       "      <td>0</td>\n",
       "      <td>1</td>\n",
       "      <td>271</td>\n",
       "      <td>6</td>\n",
       "    </tr>\n",
       "    <tr>\n",
       "      <th>5</th>\n",
       "      <td>1</td>\n",
       "      <td>296965</td>\n",
       "      <td>0</td>\n",
       "      <td>1</td>\n",
       "      <td>27</td>\n",
       "      <td>6</td>\n",
       "    </tr>\n",
       "    <tr>\n",
       "      <th>6</th>\n",
       "      <td>2</td>\n",
       "      <td>125211</td>\n",
       "      <td>0</td>\n",
       "      <td>1</td>\n",
       "      <td>1036</td>\n",
       "      <td>4</td>\n",
       "    </tr>\n",
       "    <tr>\n",
       "      <th>7</th>\n",
       "      <td>2</td>\n",
       "      <td>156535</td>\n",
       "      <td>0</td>\n",
       "      <td>1</td>\n",
       "      <td>1</td>\n",
       "      <td>4</td>\n",
       "    </tr>\n",
       "    <tr>\n",
       "      <th>8</th>\n",
       "      <td>2</td>\n",
       "      <td>169564</td>\n",
       "      <td>0</td>\n",
       "      <td>1</td>\n",
       "      <td>465</td>\n",
       "      <td>4</td>\n",
       "    </tr>\n",
       "    <tr>\n",
       "      <th>9</th>\n",
       "      <td>2</td>\n",
       "      <td>308455</td>\n",
       "      <td>1</td>\n",
       "      <td>1</td>\n",
       "      <td>680</td>\n",
       "      <td>4</td>\n",
       "    </tr>\n",
       "    <tr>\n",
       "      <th>10</th>\n",
       "      <td>3</td>\n",
       "      <td>71547</td>\n",
       "      <td>0</td>\n",
       "      <td>1</td>\n",
       "      <td>11739</td>\n",
       "      <td>6</td>\n",
       "    </tr>\n",
       "    <tr>\n",
       "      <th>11</th>\n",
       "      <td>3</td>\n",
       "      <td>95814</td>\n",
       "      <td>0</td>\n",
       "      <td>1</td>\n",
       "      <td>3089</td>\n",
       "      <td>6</td>\n",
       "    </tr>\n",
       "  </tbody>\n",
       "</table>\n",
       "</div>"
      ],
      "text/plain": [
       "    display_id   ad_id  clicked  US  ad_id_count  display_id_count\n",
       "0            1   42337        0   1         9470                 6\n",
       "1            1  139684        0   1          947                 6\n",
       "2            1  144739        1   1        45501                 6\n",
       "3            1  156824        0   1        45823                 6\n",
       "4            1  279295        0   1          271                 6\n",
       "5            1  296965        0   1           27                 6\n",
       "6            2  125211        0   1         1036                 4\n",
       "7            2  156535        0   1            1                 4\n",
       "8            2  169564        0   1          465                 4\n",
       "9            2  308455        1   1          680                 4\n",
       "10           3   71547        0   1        11739                 6\n",
       "11           3   95814        0   1         3089                 6"
      ]
     },
     "execution_count": 20,
     "metadata": {},
     "output_type": "execute_result"
    }
   ],
   "source": [
    "ad_joint.head(12)"
   ]
  },
  {
   "cell_type": "code",
   "execution_count": 21,
   "metadata": {
    "collapsed": false
   },
   "outputs": [],
   "source": [
    "# show distribution of ad occurences by # per event\n",
    "singletons = ad_joint.loc[(ad_joint['ad_id_count'] >= 1)\\\n",
    "                          & (ad_joint['ad_id_count'] <=5),'display_id_count']\n",
    "thousands = ad_joint.loc[(ad_joint['ad_id_count'] >= 1000)\\\n",
    "                         & (ad_joint['ad_id_count'] <=5000),'display_id_count']\n",
    "tenk = ad_joint.loc[(ad_joint['ad_id_count'] >= 10000)\\\n",
    "                    & (ad_joint['ad_id_count'] <=15000),'display_id_count']\n",
    "hundredk = ad_joint.loc[(ad_joint['ad_id_count'] >= 100000) ,'display_id_count']"
   ]
  },
  {
   "cell_type": "code",
   "execution_count": 22,
   "metadata": {
    "collapsed": false
   },
   "outputs": [
    {
     "data": {
      "image/png": "[encoded data removed]",
      "text/plain": [
       "<matplotlib.figure.Figure at 0x11ee2b8d0>"
      ]
     },
     "metadata": {},
     "output_type": "display_data"
    }
   ],
   "source": [
    "wght0 = np.ones_like(singletons)/float(len(singletons))\n",
    "wght1 = np.ones_like(thousands)/float(len(thousands))\n",
    "wght2 = np.ones_like(tenk)/float(len(tenk))\n",
    "wght3 = np.ones_like(hundredk)/float(len(hundredk))\n",
    "\n",
    "fig, ax = plt.subplots(2,2, figsize=(16,8), sharey = True)\n",
    "\n",
    "category = 'Share of Ads Per Event Page'\n",
    "\n",
    "ax[0,0].hist(singletons, bins=11, alpha = 0.7, weights = wght0)\n",
    "ax[0,1].hist(thousands, bins=11,color = 'blue', alpha = 0.7, weights = wght1)\n",
    "ax[1,0].hist(tenk, bins=11, color = 'green', alpha = 0.7, weights = wght2)\n",
    "ax[1,1].hist(hundredk, bins=11, color = 'purple', alpha = 0.7, weights = wght3)\n",
    "\n",
    "\n",
    "# individual graph titles\n",
    "ax[0,0].set_title('Low Occurence Ads (1-5)')\n",
    "ax[0,1].set_title('Step Up Occurences (1,000 - 5,000)')\n",
    "ax[1,0].set_title('Step Up Occurences (10,000 - 15,000)')\n",
    "ax[1,1].set_title('Step Up Occurences (>100,000')\n",
    "\n",
    "\n",
    "\n",
    "# ax[1][0].set_ylim(0,5)\n",
    "# ax[1][1].set_ylim(0,2)\n",
    "\n",
    "fig.suptitle(category, fontsize=21);"
   ]
  },
  {
   "cell_type": "code",
   "execution_count": 23,
   "metadata": {
    "collapsed": false
   },
   "outputs": [],
   "source": [
    "clicked = ad_joint.loc[(ad_joint['clicked'] == 1),'ad_id_count']"
   ]
  },
  {
   "cell_type": "code",
   "execution_count": 24,
   "metadata": {
    "collapsed": false
   },
   "outputs": [
    {
     "data": {
      "image/png": "[encoded data removed]",
      "text/plain": [
       "<matplotlib.figure.Figure at 0x119edae50>"
      ]
     },
     "metadata": {},
     "output_type": "display_data"
    }
   ],
   "source": [
    "plt.figure(figsize=(15,4))\n",
    "plt.hist(clicked, alpha = 0.5, color = 'blue',bins = 100)\n",
    "plt.xlabel('Number of times ad appeared', fontsize=12)\n",
    "plt.ylabel('log(Count of events with ad)', fontsize=12)\n",
    "plt.yscale('log')\n",
    "plt.title('How many times clicked adds show up');"
   ]
  },
  {
   "cell_type": "code",
   "execution_count": 25,
   "metadata": {
    "collapsed": true
   },
   "outputs": [],
   "source": [
    "# show distribution of clicked ads by # per event\n",
    "single_click = ad_joint.loc[(ad_joint['ad_id_count'] >= 1) & (ad_joint['ad_id_count'] <=5)\\\n",
    "                          & (ad_joint['clicked'] == 1) ,'display_id_count']\n",
    "onek_click = ad_joint.loc[(ad_joint['ad_id_count'] >= 1000) & (ad_joint['ad_id_count'] <=5000)\\\n",
    "                          & (ad_joint['clicked'] == 1),'display_id_count']\n",
    "tenk_click = ad_joint.loc[(ad_joint['ad_id_count'] >= 10000) & (ad_joint['ad_id_count'] <=15000)\\\n",
    "                          & (ad_joint['clicked'] == 1),'display_id_count']\n",
    "hundredk_click = ad_joint.loc[(ad_joint['ad_id_count'] >= 100000)\\\n",
    "                          & (ad_joint['clicked'] == 1) ,'display_id_count']"
   ]
  },
  {
   "cell_type": "code",
   "execution_count": 26,
   "metadata": {
    "collapsed": false
   },
   "outputs": [
    {
     "data": {
      "image/png": "[encoded data removed]",
      "text/plain": [
       "<matplotlib.figure.Figure at 0x11e8a9790>"
      ]
     },
     "metadata": {},
     "output_type": "display_data"
    }
   ],
   "source": [
    "fig, ax = plt.subplots(2,2, figsize=(16,8), sharey = True)\n",
    "\n",
    "wght0 = np.ones_like(single_click)/float(len(single_click))\n",
    "wght1 = np.ones_like(onek_click)/float(len(onek_click))\n",
    "wght2 = np.ones_like(tenk_click)/float(len(tenk_click))\n",
    "wght3 = np.ones_like(hundredk_click)/float(len(hundredk_click))\n",
    "\n",
    "\n",
    "\n",
    "\n",
    "category = 'Share of Clicked Ads Per Event Page'\n",
    "\n",
    "ax[0,0].hist(single_click, bins=11, alpha = 0.7, weights = wght0)\n",
    "ax[0,1].hist(onek_click, bins=11,color = 'blue', alpha = 0.7, weights = wght1)\n",
    "ax[1,0].hist(tenk_click, bins=11, color = 'green', alpha = 0.7, weights = wght2)\n",
    "ax[1,1].hist(hundredk_click, bins=11, color = 'purple', alpha = 0.7, weights = wght3)\n",
    "\n",
    "\n",
    "# individual graph titles\n",
    "ax[0,0].set_title('When Ad Clicked (1-5 occurruences)')\n",
    "ax[0,1].set_title('Step Up Occurences (1,000 - 5,000 occurrences)')\n",
    "ax[1,0].set_title('Step Up Occurences (10,000 - 15,000 occurrences)')\n",
    "ax[1,1].set_title('Step Up Occurences (>100,000 occurrences')\n",
    "\n",
    "\n",
    "\n",
    "# ax[1][0].set_ylim(0,5)\n",
    "# ax[1][1].set_ylim(0,2)\n",
    "\n",
    "fig.suptitle(category, fontsize=21);"
   ]
  },
  {
   "cell_type": "code",
   "execution_count": null,
   "metadata": {
    "collapsed": true
   },
   "outputs": [],
   "source": []
  },
  {
   "cell_type": "markdown",
   "metadata": {},
   "source": [
    "# Event Data Set\n",
    "For each click on an ad, this table ties together:\n",
    "* the event # (display_id) \n",
    "* unique user (uuid),\n",
    "* source document (also in train data set)\n",
    "* time it was clicked (timestamp)\n",
    "* the user platform (desktop = 1, mobile = 2, tablet =3)\n",
    "* the users geo location.\n"
   ]
  },
  {
   "cell_type": "code",
   "execution_count": 27,
   "metadata": {
    "collapsed": false
   },
   "outputs": [
    {
     "name": "stderr",
     "output_type": "stream",
     "text": [
      "/Users/alex/anaconda/lib/python2.7/site-packages/IPython/core/interactiveshell.py:2723: DtypeWarning: Columns (4) have mixed types. Specify dtype option on import or set low_memory=False.\n",
      "  interactivity=interactivity, compiler=compiler, result=result)\n"
     ]
    }
   ],
   "source": [
    "events = pd.read_csv('./data/events.csv')"
   ]
  },
  {
   "cell_type": "code",
   "execution_count": 28,
   "metadata": {
    "collapsed": false
   },
   "outputs": [
    {
     "name": "stdout",
     "output_type": "stream",
     "text": [
      "<class 'pandas.core.frame.DataFrame'>\n",
      "RangeIndex: 23120126 entries, 0 to 23120125\n",
      "Data columns (total 6 columns):\n",
      "display_id      int64\n",
      "uuid            object\n",
      "document_id     int64\n",
      "timestamp       int64\n",
      "platform        object\n",
      "geo_location    object\n",
      "dtypes: int64(3), object(3)\n",
      "memory usage: 1.0+ GB\n"
     ]
    }
   ],
   "source": [
    "events.info()"
   ]
  },
  {
   "cell_type": "code",
   "execution_count": 29,
   "metadata": {
    "collapsed": false
   },
   "outputs": [
    {
     "data": {
      "text/html": [
       "<div>\n",
       "<table border=\"1\" class=\"dataframe\">\n",
       "  <thead>\n",
       "    <tr style=\"text-align: right;\">\n",
       "      <th></th>\n",
       "      <th>display_id</th>\n",
       "      <th>uuid</th>\n",
       "      <th>document_id</th>\n",
       "      <th>timestamp</th>\n",
       "      <th>platform</th>\n",
       "      <th>geo_location</th>\n",
       "    </tr>\n",
       "  </thead>\n",
       "  <tbody>\n",
       "    <tr>\n",
       "      <th>0</th>\n",
       "      <td>1</td>\n",
       "      <td>cb8c55702adb93</td>\n",
       "      <td>379743</td>\n",
       "      <td>61</td>\n",
       "      <td>3</td>\n",
       "      <td>US&gt;SC&gt;519</td>\n",
       "    </tr>\n",
       "    <tr>\n",
       "      <th>1</th>\n",
       "      <td>2</td>\n",
       "      <td>79a85fa78311b9</td>\n",
       "      <td>1794259</td>\n",
       "      <td>81</td>\n",
       "      <td>2</td>\n",
       "      <td>US&gt;CA&gt;807</td>\n",
       "    </tr>\n",
       "    <tr>\n",
       "      <th>2</th>\n",
       "      <td>3</td>\n",
       "      <td>822932ce3d8757</td>\n",
       "      <td>1179111</td>\n",
       "      <td>182</td>\n",
       "      <td>2</td>\n",
       "      <td>US&gt;MI&gt;505</td>\n",
       "    </tr>\n",
       "    <tr>\n",
       "      <th>3</th>\n",
       "      <td>4</td>\n",
       "      <td>85281d0a49f7ac</td>\n",
       "      <td>1777797</td>\n",
       "      <td>234</td>\n",
       "      <td>2</td>\n",
       "      <td>US&gt;WV&gt;564</td>\n",
       "    </tr>\n",
       "    <tr>\n",
       "      <th>4</th>\n",
       "      <td>5</td>\n",
       "      <td>8d0daef4bf5b56</td>\n",
       "      <td>252458</td>\n",
       "      <td>338</td>\n",
       "      <td>2</td>\n",
       "      <td>SG&gt;00</td>\n",
       "    </tr>\n",
       "  </tbody>\n",
       "</table>\n",
       "</div>"
      ],
      "text/plain": [
       "   display_id            uuid  document_id  timestamp platform geo_location\n",
       "0           1  cb8c55702adb93       379743         61        3    US>SC>519\n",
       "1           2  79a85fa78311b9      1794259         81        2    US>CA>807\n",
       "2           3  822932ce3d8757      1179111        182        2    US>MI>505\n",
       "3           4  85281d0a49f7ac      1777797        234        2    US>WV>564\n",
       "4           5  8d0daef4bf5b56       252458        338        2        SG>00"
      ]
     },
     "execution_count": 29,
     "metadata": {},
     "output_type": "execute_result"
    }
   ],
   "source": [
    "events.head()"
   ]
  },
  {
   "cell_type": "code",
   "execution_count": 30,
   "metadata": {
    "collapsed": false
   },
   "outputs": [
    {
     "name": "stdout",
     "output_type": "stream",
     "text": [
      "[3 2 1 '2' '1' '3' '\\\\N']\n"
     ]
    },
    {
     "data": {
      "text/plain": [
       "2     10684579\n",
       "1      8747280\n",
       "3      3032907\n",
       "2       291699\n",
       "1       279988\n",
       "3        83668\n",
       "\\N           5\n",
       "Name: platform, dtype: int64"
      ]
     },
     "execution_count": 30,
     "metadata": {},
     "output_type": "execute_result"
    }
   ],
   "source": [
    "print(events['platform'].unique())\n",
    "events['platform'].value_counts()\n"
   ]
  },
  {
   "cell_type": "markdown",
   "metadata": {},
   "source": [
    "* Clean the '\\\\N'- make np.NaN\n",
    "* Convert string to integers\n",
    "* decide what to do with NaN's"
   ]
  },
  {
   "cell_type": "code",
   "execution_count": 31,
   "metadata": {
    "collapsed": false
   },
   "outputs": [
    {
     "data": {
      "text/plain": [
       "array([  3.,   2.,   1.,  nan])"
      ]
     },
     "execution_count": 31,
     "metadata": {},
     "output_type": "execute_result"
    }
   ],
   "source": [
    "def platform_filter(x):\n",
    "    if x == '\\\\N':\n",
    "        return np.nan\n",
    "    elif type(x) is str:\n",
    "        return int(x)\n",
    "    else:\n",
    "        return x\n",
    "\n",
    "# new column\n",
    "events['platform'] = [platform_filter(x) for x in events['platform']]\n",
    "events['platform'].unique()"
   ]
  },
  {
   "cell_type": "code",
   "execution_count": 32,
   "metadata": {
    "collapsed": false
   },
   "outputs": [],
   "source": [
    "e_count = events['platform'].value_counts()"
   ]
  },
  {
   "cell_type": "code",
   "execution_count": 100,
   "metadata": {
    "collapsed": false
   },
   "outputs": [
    {
     "data": {
      "image/png": "[encoded data removed]",
      "text/plain": [
       "<matplotlib.figure.Figure at 0x1356ab590>"
      ]
     },
     "metadata": {},
     "output_type": "display_data"
    }
   ],
   "source": [
    "measure = e_count.values\n",
    "\n",
    "fig, ax1 = plt.subplots(figsize=(15,4))\n",
    "labels = ['Mobile', 'Desktop', 'Tablet']\n",
    "ax1.bar(e_count.index, measure/float(sum(measure)), color='blue',\n",
    "        alpha=0.7,tick_label=labels,align='center')\n",
    "ax1.set_title('Events by Platform')\n",
    "ax1.set_xlabel('Platform', fontsize=12)\n",
    "ax1.set_ylabel('Number of Events', fontsize=12);"
   ]
  },
  {
   "cell_type": "code",
   "execution_count": 34,
   "metadata": {
    "collapsed": true
   },
   "outputs": [],
   "source": [
    "user_count = events.groupby('uuid')['uuid'].count().sort_values()\n"
   ]
  },
  {
   "cell_type": "code",
   "execution_count": 35,
   "metadata": {
    "collapsed": false
   },
   "outputs": [
    {
     "data": {
      "image/png": "[encoded data removed]",
      "text/plain": [
       "<matplotlib.figure.Figure at 0x11f0769d0>"
      ]
     },
     "metadata": {},
     "output_type": "display_data"
    }
   ],
   "source": [
    "plt.figure(figsize=(15,4))\n",
    "plt.hist(user_count.values, alpha = 0.5, color = 'grey',bins = 100)\n",
    "plt.xlabel('Number of times particular user clicked on ad', fontsize=12)\n",
    "plt.ylabel('log(Count of users)', fontsize=12)\n",
    "plt.yscale('log')\n",
    "plt.title('Clicks by User ID')\n",
    "plt.show();\n"
   ]
  },
  {
   "cell_type": "code",
   "execution_count": 36,
   "metadata": {
    "collapsed": false
   },
   "outputs": [
    {
     "data": {
      "text/plain": [
       "88.42"
      ]
     },
     "execution_count": 36,
     "metadata": {},
     "output_type": "execute_result"
    }
   ],
   "source": [
    "round((user_count < 2).mean() * 100, 2)"
   ]
  },
  {
   "cell_type": "markdown",
   "metadata": {},
   "source": [
    "Most users click on very few ads, with **88% of ad clicks done by unique users**. Will not be able to develop any direct kind of user profiles for predicitons, may try by association (geo, time of day, type of platform)."
   ]
  },
  {
   "cell_type": "code",
   "execution_count": 37,
   "metadata": {
    "collapsed": false
   },
   "outputs": [],
   "source": [
    "events['country'] = events['geo_location'].str[0:2]"
   ]
  },
  {
   "cell_type": "code",
   "execution_count": 38,
   "metadata": {
    "collapsed": false
   },
   "outputs": [
    {
     "data": {
      "text/plain": [
       "country\n",
       "US    18595452\n",
       "CA     1215350\n",
       "GB     1117544\n",
       "AU      483021\n",
       "IN      228461\n",
       "ZA      111523\n",
       "NZ      109802\n",
       "PH       85338\n",
       "DE       82384\n",
       "SG       81975\n",
       "Name: country, dtype: int64"
      ]
     },
     "execution_count": 38,
     "metadata": {},
     "output_type": "execute_result"
    }
   ],
   "source": [
    "country_count = events.groupby('country')['country'].count().sort_values(ascending = False)\n",
    "country_count.head(10)"
   ]
  },
  {
   "cell_type": "code",
   "execution_count": 39,
   "metadata": {
    "collapsed": false
   },
   "outputs": [
    {
     "data": {
      "text/plain": [
       "23119786"
      ]
     },
     "execution_count": 39,
     "metadata": {},
     "output_type": "execute_result"
    }
   ],
   "source": [
    "country_count.sum()"
   ]
  },
  {
   "cell_type": "code",
   "execution_count": 40,
   "metadata": {
    "collapsed": false
   },
   "outputs": [
    {
     "name": "stdout",
     "output_type": "stream",
     "text": [
      "The US constitutes 80.43% of the data\n"
     ]
    }
   ],
   "source": [
    "print('The US constitutes {0:.2f}% of the data'.\\\n",
    "      format(100*country_count[0]/float(country_count.sum())))"
   ]
  },
  {
   "cell_type": "code",
   "execution_count": 41,
   "metadata": {
    "collapsed": false
   },
   "outputs": [
    {
     "data": {
      "image/png": "[encoded data removed]",
      "text/plain": [
       "<matplotlib.figure.Figure at 0x13378d450>"
      ]
     },
     "metadata": {},
     "output_type": "display_data"
    }
   ],
   "source": [
    "fig, ax1 = plt.subplots(figsize=(15,4))\n",
    "X = np.arange(len(country_count.index))\n",
    "ax1.bar(X, country_count.values, color='blue',\\\n",
    "        alpha=0.8,tick_label=country_count.index,align='center')\n",
    "ax1.set_title('Events by Country')\n",
    "ax1.set_xlabel('Country', fontsize=12)\n",
    "ax1.set_yscale('log')\n",
    "ax1.set_ylabel('log(Number of Events)', fontsize=12);"
   ]
  },
  {
   "cell_type": "code",
   "execution_count": 42,
   "metadata": {
    "collapsed": false
   },
   "outputs": [
    {
     "name": "stdout",
     "output_type": "stream",
     "text": [
      "The US accounts for 80.43% of the event clicks\n"
     ]
    }
   ],
   "source": [
    "print('The US accounts for {0:.2f}% of the event clicks'.\n",
    "      format(100*country_count[0]/float(len(events))))"
   ]
  },
  {
   "cell_type": "code",
   "execution_count": 43,
   "metadata": {
    "collapsed": false
   },
   "outputs": [],
   "source": [
    "# take only US data from events\n",
    "# and break out other geographic data\n",
    "events = events[events['country'] == 'US']\n",
    "events['state'] = events['geo_location'].str[3:5]\n",
    "events['DMA'] = events['geo_location'].str[6:]"
   ]
  },
  {
   "cell_type": "code",
   "execution_count": 44,
   "metadata": {
    "collapsed": false
   },
   "outputs": [
    {
     "data": {
      "text/html": [
       "<div>\n",
       "<table border=\"1\" class=\"dataframe\">\n",
       "  <thead>\n",
       "    <tr style=\"text-align: right;\">\n",
       "      <th></th>\n",
       "      <th>display_id</th>\n",
       "      <th>uuid</th>\n",
       "      <th>document_id</th>\n",
       "      <th>timestamp</th>\n",
       "      <th>platform</th>\n",
       "      <th>geo_location</th>\n",
       "      <th>country</th>\n",
       "      <th>state</th>\n",
       "      <th>DMA</th>\n",
       "    </tr>\n",
       "  </thead>\n",
       "  <tbody>\n",
       "    <tr>\n",
       "      <th>0</th>\n",
       "      <td>1</td>\n",
       "      <td>cb8c55702adb93</td>\n",
       "      <td>379743</td>\n",
       "      <td>61</td>\n",
       "      <td>3.0</td>\n",
       "      <td>US&gt;SC&gt;519</td>\n",
       "      <td>US</td>\n",
       "      <td>SC</td>\n",
       "      <td>519</td>\n",
       "    </tr>\n",
       "    <tr>\n",
       "      <th>1</th>\n",
       "      <td>2</td>\n",
       "      <td>79a85fa78311b9</td>\n",
       "      <td>1794259</td>\n",
       "      <td>81</td>\n",
       "      <td>2.0</td>\n",
       "      <td>US&gt;CA&gt;807</td>\n",
       "      <td>US</td>\n",
       "      <td>CA</td>\n",
       "      <td>807</td>\n",
       "    </tr>\n",
       "    <tr>\n",
       "      <th>2</th>\n",
       "      <td>3</td>\n",
       "      <td>822932ce3d8757</td>\n",
       "      <td>1179111</td>\n",
       "      <td>182</td>\n",
       "      <td>2.0</td>\n",
       "      <td>US&gt;MI&gt;505</td>\n",
       "      <td>US</td>\n",
       "      <td>MI</td>\n",
       "      <td>505</td>\n",
       "    </tr>\n",
       "    <tr>\n",
       "      <th>3</th>\n",
       "      <td>4</td>\n",
       "      <td>85281d0a49f7ac</td>\n",
       "      <td>1777797</td>\n",
       "      <td>234</td>\n",
       "      <td>2.0</td>\n",
       "      <td>US&gt;WV&gt;564</td>\n",
       "      <td>US</td>\n",
       "      <td>WV</td>\n",
       "      <td>564</td>\n",
       "    </tr>\n",
       "    <tr>\n",
       "      <th>5</th>\n",
       "      <td>6</td>\n",
       "      <td>7765b4faae4ad4</td>\n",
       "      <td>1773517</td>\n",
       "      <td>395</td>\n",
       "      <td>3.0</td>\n",
       "      <td>US&gt;OH&gt;510</td>\n",
       "      <td>US</td>\n",
       "      <td>OH</td>\n",
       "      <td>510</td>\n",
       "    </tr>\n",
       "  </tbody>\n",
       "</table>\n",
       "</div>"
      ],
      "text/plain": [
       "   display_id            uuid  document_id  timestamp  platform geo_location  \\\n",
       "0           1  cb8c55702adb93       379743         61       3.0    US>SC>519   \n",
       "1           2  79a85fa78311b9      1794259         81       2.0    US>CA>807   \n",
       "2           3  822932ce3d8757      1179111        182       2.0    US>MI>505   \n",
       "3           4  85281d0a49f7ac      1777797        234       2.0    US>WV>564   \n",
       "5           6  7765b4faae4ad4      1773517        395       3.0    US>OH>510   \n",
       "\n",
       "  country state  DMA  \n",
       "0      US    SC  519  \n",
       "1      US    CA  807  \n",
       "2      US    MI  505  \n",
       "3      US    WV  564  \n",
       "5      US    OH  510  "
      ]
     },
     "execution_count": 44,
     "metadata": {},
     "output_type": "execute_result"
    }
   ],
   "source": [
    "events.head()"
   ]
  },
  {
   "cell_type": "code",
   "execution_count": 45,
   "metadata": {
    "collapsed": false
   },
   "outputs": [],
   "source": [
    "def filter_DMA(x):\n",
    "    try:\n",
    "        return str(int(x))\n",
    "    except:\n",
    "        return np.nan\n",
    "    "
   ]
  },
  {
   "cell_type": "code",
   "execution_count": 46,
   "metadata": {
    "collapsed": true
   },
   "outputs": [],
   "source": [
    "events['DMA'] = [filter_DMA(x) for x in events['DMA']]\n"
   ]
  },
  {
   "cell_type": "code",
   "execution_count": 47,
   "metadata": {
    "collapsed": false
   },
   "outputs": [],
   "source": [
    "def filter_state(x):\n",
    "    if x == '':\n",
    "        return np.nan\n",
    "    else:\n",
    "        return x\n",
    "    \n",
    "events['state'] = [filter_state(x) for x in events['state']]\n"
   ]
  },
  {
   "cell_type": "code",
   "execution_count": 48,
   "metadata": {
    "collapsed": false
   },
   "outputs": [
    {
     "name": "stdout",
     "output_type": "stream",
     "text": [
      "# rows mising state data: 758487\n",
      "# rows mising platform data: 5\n",
      "# rows mising DMA data: 1264852\n"
     ]
    }
   ],
   "source": [
    "print('# rows mising state data: {0}'.format(len(events[events['state'].isnull()])))\n",
    "print('# rows mising platform data: {0}'.format( len(events[events['platform'].isnull()])))\n",
    "print('# rows mising DMA data: {0}'.format( len(events[events['DMA'].isnull()])))"
   ]
  },
  {
   "cell_type": "markdown",
   "metadata": {},
   "source": [
    "Almost 1.3m rows do not have a DMA code or platform data."
   ]
  },
  {
   "cell_type": "code",
   "execution_count": 49,
   "metadata": {
    "collapsed": false
   },
   "outputs": [
    {
     "data": {
      "text/plain": [
       "array([  3.,   2.,   1.,  nan])"
      ]
     },
     "execution_count": 49,
     "metadata": {},
     "output_type": "execute_result"
    }
   ],
   "source": [
    "events['platform'].unique()"
   ]
  },
  {
   "cell_type": "code",
   "execution_count": null,
   "metadata": {
    "collapsed": true
   },
   "outputs": [],
   "source": []
  },
  {
   "cell_type": "code",
   "execution_count": 50,
   "metadata": {
    "collapsed": false
   },
   "outputs": [],
   "source": [
    "# pd.pivot_table(events, index=['state','DMA'], values=['uuid'], aggfunc='count').\\\n",
    "#                sort_values(by='uuid', ascending = False)"
   ]
  },
  {
   "cell_type": "code",
   "execution_count": 51,
   "metadata": {
    "collapsed": false
   },
   "outputs": [
    {
     "data": {
      "text/plain": [
       "datetime.datetime(2016, 6, 14, 0, 0)"
      ]
     },
     "execution_count": 51,
     "metadata": {},
     "output_type": "execute_result"
    }
   ],
   "source": [
    "from datetime import datetime\n",
    "datetime.fromtimestamp(1465876800)\n",
    "# the timestamp is adjusted to time zero for data colleciton, whcih is 6/14/2016"
   ]
  },
  {
   "cell_type": "code",
   "execution_count": 52,
   "metadata": {
    "collapsed": false
   },
   "outputs": [],
   "source": [
    "events['UTC_tstamp'] = [t + 1465876800 for t in events['timestamp']]\n",
    "# events['UTC_date'] = [datetime.fromtimestamp(events['timestamp'] + 1465876800 )\n",
    "# .strftime('%Y-%m-%d %H:%M:%S')]\n",
    "# time zero is midnight June 4 UTC\n"
   ]
  },
  {
   "cell_type": "code",
   "execution_count": 53,
   "metadata": {
    "collapsed": false
   },
   "outputs": [
    {
     "data": {
      "text/html": [
       "<div>\n",
       "<table border=\"1\" class=\"dataframe\">\n",
       "  <thead>\n",
       "    <tr style=\"text-align: right;\">\n",
       "      <th></th>\n",
       "      <th>display_id</th>\n",
       "      <th>uuid</th>\n",
       "      <th>document_id</th>\n",
       "      <th>timestamp</th>\n",
       "      <th>platform</th>\n",
       "      <th>geo_location</th>\n",
       "      <th>country</th>\n",
       "      <th>state</th>\n",
       "      <th>DMA</th>\n",
       "      <th>UTC_tstamp</th>\n",
       "    </tr>\n",
       "  </thead>\n",
       "  <tbody>\n",
       "    <tr>\n",
       "      <th>0</th>\n",
       "      <td>1</td>\n",
       "      <td>cb8c55702adb93</td>\n",
       "      <td>379743</td>\n",
       "      <td>61</td>\n",
       "      <td>3.0</td>\n",
       "      <td>US&gt;SC&gt;519</td>\n",
       "      <td>US</td>\n",
       "      <td>SC</td>\n",
       "      <td>519</td>\n",
       "      <td>1465876861</td>\n",
       "    </tr>\n",
       "    <tr>\n",
       "      <th>1</th>\n",
       "      <td>2</td>\n",
       "      <td>79a85fa78311b9</td>\n",
       "      <td>1794259</td>\n",
       "      <td>81</td>\n",
       "      <td>2.0</td>\n",
       "      <td>US&gt;CA&gt;807</td>\n",
       "      <td>US</td>\n",
       "      <td>CA</td>\n",
       "      <td>807</td>\n",
       "      <td>1465876881</td>\n",
       "    </tr>\n",
       "    <tr>\n",
       "      <th>2</th>\n",
       "      <td>3</td>\n",
       "      <td>822932ce3d8757</td>\n",
       "      <td>1179111</td>\n",
       "      <td>182</td>\n",
       "      <td>2.0</td>\n",
       "      <td>US&gt;MI&gt;505</td>\n",
       "      <td>US</td>\n",
       "      <td>MI</td>\n",
       "      <td>505</td>\n",
       "      <td>1465876982</td>\n",
       "    </tr>\n",
       "    <tr>\n",
       "      <th>3</th>\n",
       "      <td>4</td>\n",
       "      <td>85281d0a49f7ac</td>\n",
       "      <td>1777797</td>\n",
       "      <td>234</td>\n",
       "      <td>2.0</td>\n",
       "      <td>US&gt;WV&gt;564</td>\n",
       "      <td>US</td>\n",
       "      <td>WV</td>\n",
       "      <td>564</td>\n",
       "      <td>1465877034</td>\n",
       "    </tr>\n",
       "    <tr>\n",
       "      <th>5</th>\n",
       "      <td>6</td>\n",
       "      <td>7765b4faae4ad4</td>\n",
       "      <td>1773517</td>\n",
       "      <td>395</td>\n",
       "      <td>3.0</td>\n",
       "      <td>US&gt;OH&gt;510</td>\n",
       "      <td>US</td>\n",
       "      <td>OH</td>\n",
       "      <td>510</td>\n",
       "      <td>1465877195</td>\n",
       "    </tr>\n",
       "  </tbody>\n",
       "</table>\n",
       "</div>"
      ],
      "text/plain": [
       "   display_id            uuid  document_id  timestamp  platform geo_location  \\\n",
       "0           1  cb8c55702adb93       379743         61       3.0    US>SC>519   \n",
       "1           2  79a85fa78311b9      1794259         81       2.0    US>CA>807   \n",
       "2           3  822932ce3d8757      1179111        182       2.0    US>MI>505   \n",
       "3           4  85281d0a49f7ac      1777797        234       2.0    US>WV>564   \n",
       "5           6  7765b4faae4ad4      1773517        395       3.0    US>OH>510   \n",
       "\n",
       "  country state  DMA  UTC_tstamp  \n",
       "0      US    SC  519  1465876861  \n",
       "1      US    CA  807  1465876881  \n",
       "2      US    MI  505  1465876982  \n",
       "3      US    WV  564  1465877034  \n",
       "5      US    OH  510  1465877195  "
      ]
     },
     "execution_count": 53,
     "metadata": {},
     "output_type": "execute_result"
    }
   ],
   "source": [
    "events.head()"
   ]
  },
  {
   "cell_type": "code",
   "execution_count": 54,
   "metadata": {
    "collapsed": false
   },
   "outputs": [
    {
     "data": {
      "text/plain": [
       "array(['SC', 'CA', 'MI', 'WV', 'OH', 'MT', 'PA', 'FL', nan, 'IL', 'TX',\n",
       "       'AZ', 'NC', 'OR', 'HI', 'NY', 'NJ', 'KY', 'WA', 'MD', 'MS', 'GA',\n",
       "       'MO', 'MN', 'UT', 'LA', 'CO', 'IN', 'WI', 'KS', 'NM', 'TN', 'MA',\n",
       "       'NV', 'AL', 'ME', 'IA', 'SD', 'OK', 'CT', 'ID', 'VA', 'AR', 'DE',\n",
       "       'AK', 'NH', 'NE', 'ND', 'DC', 'RI', 'AE', 'VT', 'WY', 'AP', 'AA'], dtype=object)"
      ]
     },
     "execution_count": 54,
     "metadata": {},
     "output_type": "execute_result"
    }
   ],
   "source": [
    "events['state'].unique()"
   ]
  },
  {
   "cell_type": "markdown",
   "metadata": {},
   "source": [
    "AP and AA are for military mail code designations. AA Americas; AP Pacific "
   ]
  },
  {
   "cell_type": "code",
   "execution_count": 123,
   "metadata": {
    "collapsed": false
   },
   "outputs": [
    {
     "data": {
      "text/plain": [
       "array(<bound method Series.head of 0                  1\n",
       "1                  2\n",
       "2                  3\n",
       "3                  4\n",
       "5                  6\n",
       "6                  7\n",
       "7                  8\n",
       "8                  9\n",
       "10                11\n",
       "11                12\n",
       "12                13\n",
       "13                14\n",
       "15                16\n",
       "16                17\n",
       "17                18\n",
       "18                19\n",
       "19                20\n",
       "20                21\n",
       "21                22\n",
       "26                27\n",
       "27                28\n",
       "28                29\n",
       "29                30\n",
       "30                31\n",
       "34                35\n",
       "35                36\n",
       "36                37\n",
       "37                38\n",
       "38                39\n",
       "39                40\n",
       "              ...   \n",
       "23120091    23120092\n",
       "23120092    23120093\n",
       "23120093    23120094\n",
       "23120094    23120095\n",
       "23120095    23120096\n",
       "23120096    23120097\n",
       "23120098    23120099\n",
       "23120099    23120100\n",
       "23120100    23120101\n",
       "23120101    23120102\n",
       "23120102    23120103\n",
       "23120103    23120104\n",
       "23120104    23120105\n",
       "23120105    23120106\n",
       "23120106    23120107\n",
       "23120107    23120108\n",
       "23120108    23120109\n",
       "23120109    23120110\n",
       "23120110    23120111\n",
       "23120111    23120112\n",
       "23120114    23120115\n",
       "23120116    23120117\n",
       "23120117    23120118\n",
       "23120118    23120119\n",
       "23120119    23120120\n",
       "23120121    23120122\n",
       "23120122    23120123\n",
       "23120123    23120124\n",
       "23120124    23120125\n",
       "23120125    23120126\n",
       "Name: display_id, dtype: int64>, dtype=object)"
      ]
     },
     "execution_count": 123,
     "metadata": {},
     "output_type": "execute_result"
    }
   ],
   "source": [
    "disp_clean = events[(events['state'].notnull()) & (events['DMA'].notnull()) & (events['state'] != \"AA\") & \\\n",
    "                 (events['state'] != 'AP')]['display_id']\n",
    "\n",
    "np.array(disp_clean.head)"
   ]
  },
  {
   "cell_type": "code",
   "execution_count": 121,
   "metadata": {
    "collapsed": true
   },
   "outputs": [],
   "source": [
    "# this saves the list of US display_id's with good location data (new mix shown below)\n",
    "# will be used to refilter events (pickle for notebook and csv for sql)\n",
    "\n",
    "disp_clean.to_csv('./data/disp_filter.csv')\n",
    "\n",
    "with open('disp_filter.pkl', 'w') as picklefile:\n",
    "    pickle.dump(disp_clean, picklefile)"
   ]
  },
  {
   "cell_type": "code",
   "execution_count": 109,
   "metadata": {
    "collapsed": false
   },
   "outputs": [],
   "source": [
    "\n",
    "e_count2 = events[(events['state'].notnull()) & (events['DMA'].notnull()) & (events['state'] != \"AA\") & \\\n",
    "                 (events['state'] != 'AP')]['platform'].value_counts()"
   ]
  },
  {
   "cell_type": "code",
   "execution_count": 110,
   "metadata": {
    "collapsed": false
   },
   "outputs": [
    {
     "data": {
      "image/png": "[encoded data removed]",
      "text/plain": [
       "<matplotlib.figure.Figure at 0x34d41c1d0>"
      ]
     },
     "metadata": {},
     "output_type": "display_data"
    }
   ],
   "source": [
    "measure2 = e_count2.values\n",
    "\n",
    "fig, ax = plt.subplots(1,2, figsize=(15,4),sharey = True)\n",
    "labels = ['Mobile', 'Desktop', 'Tablet']\n",
    "ax[0].bar(e_count2.index, measure2/float(sum(measure2)), color='blue',\n",
    "        alpha=0.7,tick_label=labels,align='center')\n",
    "ax[1].bar(e_count.index, measure/float(sum(measure)), color='red',\n",
    "        alpha=0.7,tick_label=labels,align='center')\n",
    "ax[0].set_title('Events by Platform')\n",
    "ax[1].set_title('Events by Platform (No Missing State Data)')\n",
    "ax[0].set_xlabel('Platform', fontsize=12)\n",
    "ax[1].set_xlabel('Platform', fontsize=12)\n",
    "ax[0].set_ylabel('Number of Events', fontsize=12);"
   ]
  },
  {
   "cell_type": "markdown",
   "metadata": {},
   "source": [
    "### Clearning Data with Missing US Location Data\n",
    "This slightly increases the mix of mobile vs desktop users, and after an initial model is established this can be revisted to see if imputing the data helps with model predictions.\n",
    "\n",
    "Reasons for the gaps in data can not be directly deduced from the data avaialbe. It could be that more land based connections have gaps in geo location data, as mobile operators by their nature of passsing the device off from cell to cell, are likely to have better information on a users location."
   ]
  },
  {
   "cell_type": "code",
   "execution_count": null,
   "metadata": {
    "collapsed": true
   },
   "outputs": [],
   "source": []
  },
  {
   "cell_type": "code",
   "execution_count": null,
   "metadata": {
    "collapsed": true
   },
   "outputs": [],
   "source": []
  },
  {
   "cell_type": "markdown",
   "metadata": {},
   "source": [
    "## Promoted data\n",
    "The document_id associated with each ad_id in the promoted content is the document to which the ad refers (i.e. you would use this table in order to find the topics, categories, or entities referred to in an ad). One or more ads may point to the same document."
   ]
  },
  {
   "cell_type": "code",
   "execution_count": 58,
   "metadata": {
    "collapsed": false
   },
   "outputs": [
    {
     "data": {
      "text/html": [
       "<div>\n",
       "<table border=\"1\" class=\"dataframe\">\n",
       "  <thead>\n",
       "    <tr style=\"text-align: right;\">\n",
       "      <th></th>\n",
       "      <th>ad_id</th>\n",
       "      <th>document_id</th>\n",
       "      <th>campaign_id</th>\n",
       "      <th>advertiser_id</th>\n",
       "    </tr>\n",
       "  </thead>\n",
       "  <tbody>\n",
       "    <tr>\n",
       "      <th>0</th>\n",
       "      <td>1</td>\n",
       "      <td>6614</td>\n",
       "      <td>1</td>\n",
       "      <td>7</td>\n",
       "    </tr>\n",
       "    <tr>\n",
       "      <th>1</th>\n",
       "      <td>2</td>\n",
       "      <td>471467</td>\n",
       "      <td>2</td>\n",
       "      <td>7</td>\n",
       "    </tr>\n",
       "    <tr>\n",
       "      <th>2</th>\n",
       "      <td>3</td>\n",
       "      <td>7692</td>\n",
       "      <td>3</td>\n",
       "      <td>7</td>\n",
       "    </tr>\n",
       "    <tr>\n",
       "      <th>3</th>\n",
       "      <td>4</td>\n",
       "      <td>471471</td>\n",
       "      <td>2</td>\n",
       "      <td>7</td>\n",
       "    </tr>\n",
       "    <tr>\n",
       "      <th>4</th>\n",
       "      <td>5</td>\n",
       "      <td>471472</td>\n",
       "      <td>2</td>\n",
       "      <td>7</td>\n",
       "    </tr>\n",
       "  </tbody>\n",
       "</table>\n",
       "</div>"
      ],
      "text/plain": [
       "   ad_id  document_id  campaign_id  advertiser_id\n",
       "0      1         6614            1              7\n",
       "1      2       471467            2              7\n",
       "2      3         7692            3              7\n",
       "3      4       471471            2              7\n",
       "4      5       471472            2              7"
      ]
     },
     "execution_count": 58,
     "metadata": {},
     "output_type": "execute_result"
    }
   ],
   "source": [
    "promoted = pd.read_csv('./data/promoted_content.csv')\n",
    "promoted.head()"
   ]
  },
  {
   "cell_type": "code",
   "execution_count": 59,
   "metadata": {
    "collapsed": false
   },
   "outputs": [
    {
     "name": "stdout",
     "output_type": "stream",
     "text": [
      "<class 'pandas.core.frame.DataFrame'>\n",
      "RangeIndex: 559583 entries, 0 to 559582\n",
      "Data columns (total 4 columns):\n",
      "ad_id            559583 non-null int64\n",
      "document_id      559583 non-null int64\n",
      "campaign_id      559583 non-null int64\n",
      "advertiser_id    559583 non-null int64\n",
      "dtypes: int64(4)\n",
      "memory usage: 17.1 MB\n"
     ]
    }
   ],
   "source": [
    "promoted.info()"
   ]
  },
  {
   "cell_type": "code",
   "execution_count": 60,
   "metadata": {
    "collapsed": false
   },
   "outputs": [
    {
     "data": {
      "text/html": [
       "<div>\n",
       "<table border=\"1\" class=\"dataframe\">\n",
       "  <thead>\n",
       "    <tr style=\"text-align: right;\">\n",
       "      <th></th>\n",
       "      <th></th>\n",
       "      <th>ad_id</th>\n",
       "    </tr>\n",
       "    <tr>\n",
       "      <th>advertiser_id</th>\n",
       "      <th>campaign_id</th>\n",
       "      <th></th>\n",
       "    </tr>\n",
       "  </thead>\n",
       "  <tbody>\n",
       "    <tr>\n",
       "      <th>2</th>\n",
       "      <th>21016</th>\n",
       "      <td>2</td>\n",
       "    </tr>\n",
       "    <tr>\n",
       "      <th>3</th>\n",
       "      <th>26266</th>\n",
       "      <td>12</td>\n",
       "    </tr>\n",
       "    <tr>\n",
       "      <th rowspan=\"3\" valign=\"top\">4</th>\n",
       "      <th>3837</th>\n",
       "      <td>3</td>\n",
       "    </tr>\n",
       "    <tr>\n",
       "      <th>3838</th>\n",
       "      <td>15</td>\n",
       "    </tr>\n",
       "    <tr>\n",
       "      <th>4018</th>\n",
       "      <td>17</td>\n",
       "    </tr>\n",
       "  </tbody>\n",
       "</table>\n",
       "</div>"
      ],
      "text/plain": [
       "                           ad_id\n",
       "advertiser_id campaign_id       \n",
       "2             21016            2\n",
       "3             26266           12\n",
       "4             3837             3\n",
       "              3838            15\n",
       "              4018            17"
      ]
     },
     "execution_count": 60,
     "metadata": {},
     "output_type": "execute_result"
    }
   ],
   "source": [
    "pd.pivot_table(promoted, index=['advertiser_id','campaign_id'], values=['ad_id'],\\\n",
    "               aggfunc = 'count').head()"
   ]
  },
  {
   "cell_type": "code",
   "execution_count": 61,
   "metadata": {
    "collapsed": false
   },
   "outputs": [
    {
     "data": {
      "text/html": [
       "<div>\n",
       "<table border=\"1\" class=\"dataframe\">\n",
       "  <thead>\n",
       "    <tr style=\"text-align: right;\">\n",
       "      <th></th>\n",
       "      <th>ad_id</th>\n",
       "    </tr>\n",
       "    <tr>\n",
       "      <th>advertiser_id</th>\n",
       "      <th></th>\n",
       "    </tr>\n",
       "  </thead>\n",
       "  <tbody>\n",
       "    <tr>\n",
       "      <th>266</th>\n",
       "      <td>16529</td>\n",
       "    </tr>\n",
       "    <tr>\n",
       "      <th>1635</th>\n",
       "      <td>15450</td>\n",
       "    </tr>\n",
       "    <tr>\n",
       "      <th>3829</th>\n",
       "      <td>14844</td>\n",
       "    </tr>\n",
       "    <tr>\n",
       "      <th>1634</th>\n",
       "      <td>10552</td>\n",
       "    </tr>\n",
       "    <tr>\n",
       "      <th>3922</th>\n",
       "      <td>10046</td>\n",
       "    </tr>\n",
       "  </tbody>\n",
       "</table>\n",
       "</div>"
      ],
      "text/plain": [
       "               ad_id\n",
       "advertiser_id       \n",
       "266            16529\n",
       "1635           15450\n",
       "3829           14844\n",
       "1634           10552\n",
       "3922           10046"
      ]
     },
     "execution_count": 61,
     "metadata": {},
     "output_type": "execute_result"
    }
   ],
   "source": [
    "pd.pivot_table(promoted, index=['advertiser_id'], values=['ad_id'],aggfunc = 'count').\\\n",
    "                 sort_values(by='ad_id', ascending = False).head()"
   ]
  },
  {
   "cell_type": "markdown",
   "metadata": {
    "collapsed": true
   },
   "source": [
    "No particular ad appeared more than 3,806 times, and no particular advertiser had more than 16,529 ads."
   ]
  },
  {
   "cell_type": "code",
   "execution_count": null,
   "metadata": {
    "collapsed": true
   },
   "outputs": [],
   "source": []
  },
  {
   "cell_type": "code",
   "execution_count": null,
   "metadata": {
    "collapsed": true
   },
   "outputs": [],
   "source": []
  },
  {
   "cell_type": "markdown",
   "metadata": {
    "collapsed": true
   },
   "source": [
    "## Document Data\n",
    "\n",
    "* meta data\n",
    "    * source_id (the part of the site on which the document is displayed, e.g. edition.cnn.com)\n",
    "    * publisher_id (e.g. cnn.com)\n",
    "    * publish_time\n",
    "* document description - provide information about the content in a document, as well as Outbrain's confidence in each respective relationship. Their can be more than one per docuemnt/ad.\n",
    "    * topic data\n",
    "    * entity data\n",
    "    * category data"
   ]
  },
  {
   "cell_type": "code",
   "execution_count": 62,
   "metadata": {
    "collapsed": false
   },
   "outputs": [
    {
     "data": {
      "text/html": [
       "<div>\n",
       "<table border=\"1\" class=\"dataframe\">\n",
       "  <thead>\n",
       "    <tr style=\"text-align: right;\">\n",
       "      <th></th>\n",
       "      <th>document_id</th>\n",
       "      <th>source_id</th>\n",
       "      <th>publisher_id</th>\n",
       "      <th>publish_time</th>\n",
       "    </tr>\n",
       "  </thead>\n",
       "  <tbody>\n",
       "    <tr>\n",
       "      <th>0</th>\n",
       "      <td>1595802</td>\n",
       "      <td>1.0</td>\n",
       "      <td>603.0</td>\n",
       "      <td>2016-06-05 00:00:00</td>\n",
       "    </tr>\n",
       "    <tr>\n",
       "      <th>1</th>\n",
       "      <td>1524246</td>\n",
       "      <td>1.0</td>\n",
       "      <td>603.0</td>\n",
       "      <td>2016-05-26 11:00:00</td>\n",
       "    </tr>\n",
       "    <tr>\n",
       "      <th>2</th>\n",
       "      <td>1617787</td>\n",
       "      <td>1.0</td>\n",
       "      <td>603.0</td>\n",
       "      <td>2016-05-27 00:00:00</td>\n",
       "    </tr>\n",
       "    <tr>\n",
       "      <th>3</th>\n",
       "      <td>1615583</td>\n",
       "      <td>1.0</td>\n",
       "      <td>603.0</td>\n",
       "      <td>2016-06-07 00:00:00</td>\n",
       "    </tr>\n",
       "    <tr>\n",
       "      <th>4</th>\n",
       "      <td>1615460</td>\n",
       "      <td>1.0</td>\n",
       "      <td>603.0</td>\n",
       "      <td>2016-06-20 00:00:00</td>\n",
       "    </tr>\n",
       "  </tbody>\n",
       "</table>\n",
       "</div>"
      ],
      "text/plain": [
       "   document_id  source_id  publisher_id         publish_time\n",
       "0      1595802        1.0         603.0  2016-06-05 00:00:00\n",
       "1      1524246        1.0         603.0  2016-05-26 11:00:00\n",
       "2      1617787        1.0         603.0  2016-05-27 00:00:00\n",
       "3      1615583        1.0         603.0  2016-06-07 00:00:00\n",
       "4      1615460        1.0         603.0  2016-06-20 00:00:00"
      ]
     },
     "execution_count": 62,
     "metadata": {},
     "output_type": "execute_result"
    }
   ],
   "source": [
    "d_meta = pd.read_csv('./data/documents_meta.csv')\n",
    "d_meta.head()"
   ]
  },
  {
   "cell_type": "code",
   "execution_count": 63,
   "metadata": {
    "collapsed": false
   },
   "outputs": [
    {
     "name": "stdout",
     "output_type": "stream",
     "text": [
      "<class 'pandas.core.frame.DataFrame'>\n",
      "RangeIndex: 2999334 entries, 0 to 2999333\n",
      "Data columns (total 4 columns):\n",
      "document_id     int64\n",
      "source_id       float64\n",
      "publisher_id    float64\n",
      "publish_time    object\n",
      "dtypes: float64(2), int64(1), object(1)\n",
      "memory usage: 91.5+ MB\n"
     ]
    }
   ],
   "source": [
    "d_meta.info()"
   ]
  },
  {
   "cell_type": "code",
   "execution_count": 64,
   "metadata": {
    "collapsed": false
   },
   "outputs": [
    {
     "data": {
      "text/plain": [
       "array([nan, '0002-11-27 19:00:00', '0002-11-29 19:00:00', ...,\n",
       "       '3011-03-30 00:00:00', '3012-05-03 00:00:00', '9953-03-01 00:00:00'], dtype=object)"
      ]
     },
     "execution_count": 64,
     "metadata": {},
     "output_type": "execute_result"
    }
   ],
   "source": [
    "np.sort(d_meta.publish_time.unique())"
   ]
  },
  {
   "cell_type": "code",
   "execution_count": 65,
   "metadata": {
    "collapsed": false
   },
   "outputs": [
    {
     "data": {
      "text/plain": [
       "1011118"
      ]
     },
     "execution_count": 65,
     "metadata": {},
     "output_type": "execute_result"
    }
   ],
   "source": [
    "d_meta.publish_time.isnull().sum()"
   ]
  },
  {
   "cell_type": "markdown",
   "metadata": {},
   "source": [
    "<font color='red'>**About 25% of publish times are nan, and some are future time (ahead of time range sampled)**</font> \n",
    "Not sure how to use this data"
   ]
  },
  {
   "cell_type": "code",
   "execution_count": 66,
   "metadata": {
    "collapsed": false
   },
   "outputs": [
    {
     "name": "stdout",
     "output_type": "stream",
     "text": [
      "<class 'pandas.core.frame.DataFrame'>\n",
      "RangeIndex: 2999334 entries, 0 to 2999333\n",
      "Data columns (total 4 columns):\n",
      "document_id     int64\n",
      "source_id       float64\n",
      "publisher_id    float64\n",
      "publish_time    object\n",
      "dtypes: float64(2), int64(1), object(1)\n",
      "memory usage: 91.5+ MB\n"
     ]
    }
   ],
   "source": [
    "d_meta.info()"
   ]
  },
  {
   "cell_type": "code",
   "execution_count": 67,
   "metadata": {
    "collapsed": false
   },
   "outputs": [
    {
     "name": "stdout",
     "output_type": "stream",
     "text": [
      "Unique Publishers (cnn.com): 14,395\n",
      "Unique Sources (edition.cnn.com): 1,260\n"
     ]
    }
   ],
   "source": [
    "print('Unique Publishers (cnn.com): {0:,}'.format(len(d_meta.source_id.unique())))\n",
    "print('Unique Sources (edition.cnn.com): {0:,}'.format(len(d_meta.publisher_id.unique())))"
   ]
  },
  {
   "cell_type": "markdown",
   "metadata": {},
   "source": [
    "place holder"
   ]
  },
  {
   "cell_type": "code",
   "execution_count": 68,
   "metadata": {
    "collapsed": true
   },
   "outputs": [],
   "source": [
    "d_top = pd.read_csv('./data/documents_topics.csv')\n",
    "d_ent = pd.read_csv('./data/documents_entities.csv')\n",
    "d_cat = pd.read_csv('./data/documents_categories.csv')"
   ]
  },
  {
   "cell_type": "code",
   "execution_count": 115,
   "metadata": {
    "collapsed": false
   },
   "outputs": [
    {
     "name": "stdout",
     "output_type": "stream",
     "text": [
      "[140  16 143 170 113 260  92 168  54 207 258  10 148  89 198  26  84 262\n",
      " 108 202  72 242 221 192 279   2 274  32 100  65  86 249  66 193 285 298\n",
      "  67 107 196 281  74  64  20  55 109  50  62 142  75 297 296 110  68 160\n",
      " 181 153  85 176 155  52 171  69 131 136 165 219  24 228 141   8 128 149\n",
      " 105  71 173  90 162  46 213  81  43 276  19  29 177 204  95 144 290 287\n",
      "  25 121 254  42   1  94 265 271 102 223 130 295  35 175 231 179 268 145\n",
      " 184 163 244  61 112  56 154 138 190  57 232 239 235 250 104   5 291 180\n",
      " 174  23  17   9 226 132 247 167 266 201 277 156 252 292 123  13 200 208\n",
      " 272 191  78 259 286  97 125  80 218  37  73  22 243 246 294 283 289  31\n",
      " 217 248  27 183 150  60  48 257 159 241   0 288 264  93  15 199 256  44\n",
      " 103  21 238 194 269 282 135 206 119 230 118 209 270  82 172 147 134 237\n",
      "  36  79 225  76 275  38  14 106  58  30 129 229 124  41  49  39 233  11\n",
      " 117 211 227  87 216   4   3   7 188  53 186 120 224 299  33  91 157 251\n",
      " 137 220  77 158  47 139 111  63 178 146 280 253 234 166  12 152 214 203\n",
      " 133 255  96 187 161 197 101  98  45  51 189 205  40 185 236  83 215 182\n",
      " 127  70 169 210 263 278 261  59  18  88 222 151 284 164   6 245 195 116\n",
      " 240 273 267 126 115  34 114 212  28 122  99 293]\n",
      "['f9eec25663db4cd83183f5c805186f16' '55ebcfbdaff1d6f60b3907151f38527a'\n",
      " '839907a972930b17b125eb0247898412' ..., '8ccd6fd7f765065b64635b4c4117e2d9'\n",
      " '629184d33de868a075d8568dee76da7a' 'ea1da4c578e07a535e410a30eb1cc44a']\n",
      "[1611 1610 1807 1608 1305 1806 1613 1603 1606 1602 1809 1303 1408 1403 1207\n",
      " 1402 1405 1802 1100 1702 2100 2006 1808 1510 1513 1505 1302 1908 1503 1209\n",
      " 1604 1609 1206 1703 1805 2004 1407 1614 1514 1210 1203 1605 1504 2003 1607\n",
      " 1903 1205 1511 1306 1307 2002 1710 1515 1904 1512 1706 1000 1902 2005 1406\n",
      " 1612 1913 1709 1304 1911 1204 1711 1509 1208 1804 1907 1914 1211 1502 1909\n",
      " 1707 1404 1506 1516 1507 1912 1708 1202 1915 1705 1905 1308 1704 1910 2000\n",
      " 1900 1600 1400 1200 1700 1500 1800]\n"
     ]
    }
   ],
   "source": [
    "print(d_top.topic_id.unique())\n",
    "print(d_ent.entity_id.unique())\n",
    "print(d_cat.category_id.unique())\n",
    "\n",
    "# no missing descriptive ID's as seen below (no nan's or empty positions.)"
   ]
  },
  {
   "cell_type": "code",
   "execution_count": 69,
   "metadata": {
    "collapsed": false
   },
   "outputs": [
    {
     "name": "stdout",
     "output_type": "stream",
     "text": [
      "Unique Topics: 300\n"
     ]
    },
    {
     "data": {
      "text/html": [
       "<div>\n",
       "<table border=\"1\" class=\"dataframe\">\n",
       "  <thead>\n",
       "    <tr style=\"text-align: right;\">\n",
       "      <th></th>\n",
       "      <th>document_id</th>\n",
       "      <th>topic_id</th>\n",
       "      <th>confidence_level</th>\n",
       "    </tr>\n",
       "  </thead>\n",
       "  <tbody>\n",
       "    <tr>\n",
       "      <th>0</th>\n",
       "      <td>1595802</td>\n",
       "      <td>140</td>\n",
       "      <td>0.073113</td>\n",
       "    </tr>\n",
       "    <tr>\n",
       "      <th>1</th>\n",
       "      <td>1595802</td>\n",
       "      <td>16</td>\n",
       "      <td>0.059416</td>\n",
       "    </tr>\n",
       "    <tr>\n",
       "      <th>2</th>\n",
       "      <td>1595802</td>\n",
       "      <td>143</td>\n",
       "      <td>0.045421</td>\n",
       "    </tr>\n",
       "    <tr>\n",
       "      <th>3</th>\n",
       "      <td>1595802</td>\n",
       "      <td>170</td>\n",
       "      <td>0.038867</td>\n",
       "    </tr>\n",
       "    <tr>\n",
       "      <th>4</th>\n",
       "      <td>1524246</td>\n",
       "      <td>113</td>\n",
       "      <td>0.196450</td>\n",
       "    </tr>\n",
       "  </tbody>\n",
       "</table>\n",
       "</div>"
      ],
      "text/plain": [
       "   document_id  topic_id  confidence_level\n",
       "0      1595802       140          0.073113\n",
       "1      1595802        16          0.059416\n",
       "2      1595802       143          0.045421\n",
       "3      1595802       170          0.038867\n",
       "4      1524246       113          0.196450"
      ]
     },
     "execution_count": 69,
     "metadata": {},
     "output_type": "execute_result"
    }
   ],
   "source": [
    "print('Unique Topics: {0:,}'.format(len(d_top.topic_id.unique())))\n",
    "d_top.head()"
   ]
  },
  {
   "cell_type": "code",
   "execution_count": 70,
   "metadata": {
    "collapsed": false
   },
   "outputs": [
    {
     "data": {
      "image/png": "[encoded data removed]",
      "text/plain": [
       "<matplotlib.figure.Figure at 0x11e3b27d0>"
      ]
     },
     "metadata": {},
     "output_type": "display_data"
    }
   ],
   "source": [
    "measure = d_cat.confidence_level\n",
    "\n",
    "# to normalize a histogram\n",
    "wght = np.ones_like(measure)/float(len(measure))\n",
    "\n",
    "fig, ax1 = plt.subplots(figsize=(15,4))\n",
    "ax1.hist(measure, weights = wght, alpha=0.7, color = 'blue')\n",
    "ax1.set_title('Document Topic Confidence Levels')\n",
    "ax1.set_ylabel('Number of Documents', fontsize=12);\n",
    "# d_top.confidence_level[d_top.confidence_level > 0.2]\n"
   ]
  },
  {
   "cell_type": "code",
   "execution_count": 71,
   "metadata": {
    "collapsed": false
   },
   "outputs": [
    {
     "name": "stdout",
     "output_type": "stream",
     "text": [
      "Unique Topics: 1,326,009\n"
     ]
    },
    {
     "data": {
      "text/html": [
       "<div>\n",
       "<table border=\"1\" class=\"dataframe\">\n",
       "  <thead>\n",
       "    <tr style=\"text-align: right;\">\n",
       "      <th></th>\n",
       "      <th>document_id</th>\n",
       "      <th>entity_id</th>\n",
       "      <th>confidence_level</th>\n",
       "    </tr>\n",
       "  </thead>\n",
       "  <tbody>\n",
       "    <tr>\n",
       "      <th>0</th>\n",
       "      <td>1524246</td>\n",
       "      <td>f9eec25663db4cd83183f5c805186f16</td>\n",
       "      <td>0.672865</td>\n",
       "    </tr>\n",
       "    <tr>\n",
       "      <th>1</th>\n",
       "      <td>1524246</td>\n",
       "      <td>55ebcfbdaff1d6f60b3907151f38527a</td>\n",
       "      <td>0.399114</td>\n",
       "    </tr>\n",
       "    <tr>\n",
       "      <th>2</th>\n",
       "      <td>1524246</td>\n",
       "      <td>839907a972930b17b125eb0247898412</td>\n",
       "      <td>0.392096</td>\n",
       "    </tr>\n",
       "    <tr>\n",
       "      <th>3</th>\n",
       "      <td>1524246</td>\n",
       "      <td>04d8f9a1ad48f126d5806a9236872604</td>\n",
       "      <td>0.213996</td>\n",
       "    </tr>\n",
       "    <tr>\n",
       "      <th>4</th>\n",
       "      <td>1617787</td>\n",
       "      <td>612a1d17685a498aff4f036c1ee02c16</td>\n",
       "      <td>0.386193</td>\n",
       "    </tr>\n",
       "  </tbody>\n",
       "</table>\n",
       "</div>"
      ],
      "text/plain": [
       "   document_id                         entity_id  confidence_level\n",
       "0      1524246  f9eec25663db4cd83183f5c805186f16          0.672865\n",
       "1      1524246  55ebcfbdaff1d6f60b3907151f38527a          0.399114\n",
       "2      1524246  839907a972930b17b125eb0247898412          0.392096\n",
       "3      1524246  04d8f9a1ad48f126d5806a9236872604          0.213996\n",
       "4      1617787  612a1d17685a498aff4f036c1ee02c16          0.386193"
      ]
     },
     "execution_count": 71,
     "metadata": {},
     "output_type": "execute_result"
    }
   ],
   "source": [
    "print('Unique Topics: {0:,}'.format(len(d_ent.entity_id.unique())))\n",
    "d_ent.head()"
   ]
  },
  {
   "cell_type": "code",
   "execution_count": 72,
   "metadata": {
    "collapsed": false
   },
   "outputs": [
    {
     "data": {
      "image/png": "[encoded data removed]",
      "text/plain": [
       "<matplotlib.figure.Figure at 0x11ef513d0>"
      ]
     },
     "metadata": {},
     "output_type": "display_data"
    }
   ],
   "source": [
    "measure = d_ent.confidence_level\n",
    "\n",
    "# to normalize a histogram\n",
    "wght = np.ones_like(measure)/float(len(measure))\n",
    "\n",
    "fig, ax1 = plt.subplots(figsize=(15,4))\n",
    "ax1.hist(measure, weights = wght, alpha=0.7, color = 'blue')\n",
    "ax1.set_title('Document Entity Confidence Levels')\n",
    "ax1.set_ylabel('Number of Documents', fontsize=12);\n"
   ]
  },
  {
   "cell_type": "code",
   "execution_count": 73,
   "metadata": {
    "collapsed": false
   },
   "outputs": [
    {
     "name": "stdout",
     "output_type": "stream",
     "text": [
      "Unique Categories: 97\n"
     ]
    },
    {
     "data": {
      "text/html": [
       "<div>\n",
       "<table border=\"1\" class=\"dataframe\">\n",
       "  <thead>\n",
       "    <tr style=\"text-align: right;\">\n",
       "      <th></th>\n",
       "      <th>document_id</th>\n",
       "      <th>category_id</th>\n",
       "      <th>confidence_level</th>\n",
       "    </tr>\n",
       "  </thead>\n",
       "  <tbody>\n",
       "    <tr>\n",
       "      <th>0</th>\n",
       "      <td>1595802</td>\n",
       "      <td>1611</td>\n",
       "      <td>0.92</td>\n",
       "    </tr>\n",
       "    <tr>\n",
       "      <th>1</th>\n",
       "      <td>1595802</td>\n",
       "      <td>1610</td>\n",
       "      <td>0.07</td>\n",
       "    </tr>\n",
       "    <tr>\n",
       "      <th>2</th>\n",
       "      <td>1524246</td>\n",
       "      <td>1807</td>\n",
       "      <td>0.92</td>\n",
       "    </tr>\n",
       "    <tr>\n",
       "      <th>3</th>\n",
       "      <td>1524246</td>\n",
       "      <td>1608</td>\n",
       "      <td>0.07</td>\n",
       "    </tr>\n",
       "    <tr>\n",
       "      <th>4</th>\n",
       "      <td>1617787</td>\n",
       "      <td>1807</td>\n",
       "      <td>0.92</td>\n",
       "    </tr>\n",
       "  </tbody>\n",
       "</table>\n",
       "</div>"
      ],
      "text/plain": [
       "   document_id  category_id  confidence_level\n",
       "0      1595802         1611              0.92\n",
       "1      1595802         1610              0.07\n",
       "2      1524246         1807              0.92\n",
       "3      1524246         1608              0.07\n",
       "4      1617787         1807              0.92"
      ]
     },
     "execution_count": 73,
     "metadata": {},
     "output_type": "execute_result"
    }
   ],
   "source": [
    "print('Unique Categories: {0:,}'.format(len(d_cat.category_id.unique())))\n",
    "d_cat.head()"
   ]
  },
  {
   "cell_type": "code",
   "execution_count": 74,
   "metadata": {
    "collapsed": false
   },
   "outputs": [
    {
     "data": {
      "image/png": "[encoded data removed]",
      "text/plain": [
       "<matplotlib.figure.Figure at 0x1f1e80fd0>"
      ]
     },
     "metadata": {},
     "output_type": "display_data"
    }
   ],
   "source": [
    "measure = d_cat.confidence_level\n",
    "\n",
    "# to normalize a histogram\n",
    "wght = np.ones_like(measure)/float(len(measure))\n",
    "\n",
    "fig, ax1 = plt.subplots(figsize=(15,4))\n",
    "ax1.hist(measure, weights = wght, alpha=0.7, color = 'blue')\n",
    "ax1.set_title('Document Category Confidence Levels')\n",
    "ax1.set_ylabel('Number of Documents', fontsize=12);\n",
    "\n"
   ]
  },
  {
   "cell_type": "code",
   "execution_count": null,
   "metadata": {
    "collapsed": true
   },
   "outputs": [],
   "source": []
  },
  {
   "cell_type": "markdown",
   "metadata": {},
   "source": [
    "# <font color='red'>Pick up here:</font> \n",
    "\n",
    "- To do in SQL\n",
    "   * Time Zone correction\n",
    "   * Reduce original train data first to new train/test in pandas, the use sql to add on other data\n",
    "   * merge data into train_us set \n",
    "       - Timestamp (corrected time zone)\n",
    "       - userid\n",
    "       - platform type\n",
    "       - promoted and doc data as well (not sure how to do multiple topics yet)\n",
    "       - Since documents can have multiple topics, how to do the matching?\n",
    "       \n",
    "       \n",
    "- Promoted Data\n",
    "   - advertiser_id can have multiple campaign_id's\n",
    "   - but each campaing id is tied to a single advertiser_ID\n",
    "   - so, do i need to use both as classifier's?\n",
    "   \n",
    "   \n",
    "- Publish time on the ads seems odd \n",
    "   * 25% nan, some after end of data collection period\n",
    "   * not sure if i shoudl use, can check actual adds and publish times\n",
    "       \n",
    "# <font color= 'blue'>For cleaning train/test:</font> \n",
    "\n",
    "1. Take states \"AA\" and \"AP\" out of states (tied to military, coudl be any timezone)"
   ]
  },
  {
   "cell_type": "code",
   "execution_count": null,
   "metadata": {
    "collapsed": true
   },
   "outputs": [],
   "source": []
  }
 ],
 "metadata": {
  "anaconda-cloud": {},
  "kernelspec": {
   "display_name": "Python [Root]",
   "language": "python",
   "name": "Python [Root]"
  },
  "language_info": {
   "codemirror_mode": {
    "name": "ipython",
    "version": 2
   },
   "file_extension": ".py",
   "mimetype": "text/x-python",
   "name": "python",
   "nbconvert_exporter": "python",
   "pygments_lexer": "ipython2",
   "version": "2.7.11"
  }
 },
 "nbformat": 4,
 "nbformat_minor": 0
}
