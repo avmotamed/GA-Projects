{
 "cells": [
  {
   "cell_type": "markdown",
   "metadata": {},
   "source": [
    "# Prepping for Modeling\n",
    "\n",
    "Add final columns (document meta) and convert categorical items to text/dummy variables."
   ]
  },
  {
   "cell_type": "code",
   "execution_count": 1,
   "metadata": {
    "collapsed": false
   },
   "outputs": [
    {
     "name": "stderr",
     "output_type": "stream",
     "text": [
      "/Users/alex/anaconda/lib/python2.7/site-packages/sklearn/cross_validation.py:44: DeprecationWarning: This module was deprecated in version 0.18 in favor of the model_selection module into which all the refactored classes and functions are moved. Also note that the interface of the new CV iterators are different from that of this module. This module will be removed in 0.20.\n",
      "  \"This module will be removed in 0.20.\", DeprecationWarning)\n"
     ]
    }
   ],
   "source": [
    "import pandas as pd\n",
    "import numpy as np\n",
    "import seaborn as sns\n",
    "import matplotlib.pyplot as plt\n",
    "import pickle\n",
    "import random\n",
    "import matplotlib\n",
    "import matplotlib.cm as cm\n",
    "import seaborn as sns\n",
    "import datetime\n",
    "from sklearn import datasets\n",
    "from sklearn.tree import DecisionTreeClassifier, DecisionTreeRegressor\n",
    "from sklearn.ensemble import RandomForestClassifier, AdaBoostClassifier, \\\n",
    "    GradientBoostingClassifier, ExtraTreesClassifier, BaggingRegressor, \\\n",
    "    ExtraTreesRegressor, AdaBoostRegressor, GradientBoostingRegressor, RandomForestRegressor\n",
    "from sklearn.metrics import confusion_matrix\n",
    "import matplotlib.patheffects as path_effects\n",
    "from matplotlib import cm as cm2\n",
    "from sklearn.preprocessing import LabelEncoder, MinMaxScaler\n",
    "from sklearn.metrics import accuracy_score \\\n",
    "#     confusion_matrix, roc_curve, roc_auc_score, precision_score, recall_score\n",
    "from sklearn.cross_validation import train_test_split, KFold, cross_val_score\n",
    "\n",
    "\n",
    "\n",
    "matplotlib.style.use('ggplot') \n",
    "%matplotlib inline"
   ]
  },
  {
   "cell_type": "code",
   "execution_count": 2,
   "metadata": {
    "collapsed": false
   },
   "outputs": [],
   "source": [
    "d_meta = pd.read_csv('./data/documents_meta.csv')\n"
   ]
  },
  {
   "cell_type": "code",
   "execution_count": 3,
   "metadata": {
    "collapsed": false
   },
   "outputs": [
    {
     "data": {
      "text/plain": [
       "document_id           0\n",
       "source_id          2518\n",
       "publisher_id      64024\n",
       "publish_time    1011118\n",
       "dtype: int64"
      ]
     },
     "execution_count": 3,
     "metadata": {},
     "output_type": "execute_result"
    }
   ],
   "source": [
    "d_meta.isnull().sum()"
   ]
  },
  {
   "cell_type": "code",
   "execution_count": 4,
   "metadata": {
    "collapsed": false
   },
   "outputs": [
    {
     "data": {
      "text/plain": [
       "2999334"
      ]
     },
     "execution_count": 4,
     "metadata": {},
     "output_type": "execute_result"
    }
   ],
   "source": [
    "len(d_meta)"
   ]
  },
  {
   "cell_type": "markdown",
   "metadata": {},
   "source": [
    "Will not use publish_time, too much data missing. Will remove nan for other two columns."
   ]
  },
  {
   "cell_type": "code",
   "execution_count": null,
   "metadata": {
    "collapsed": false
   },
   "outputs": [],
   "source": [
    "d_meta.dropna(axis = 0,inplace = True,subset=['publisher_id'])"
   ]
  },
  {
   "cell_type": "code",
   "execution_count": null,
   "metadata": {
    "collapsed": false
   },
   "outputs": [],
   "source": [
    "len(d_meta)"
   ]
  },
  {
   "cell_type": "code",
   "execution_count": null,
   "metadata": {
    "collapsed": false
   },
   "outputs": [],
   "source": [
    "d_meta.isnull().sum()"
   ]
  },
  {
   "cell_type": "markdown",
   "metadata": {},
   "source": [
    "once data is loaded, use labelencoder to classify what is needed\n",
    "\n",
    "\n",
    "how to determine favorite choice in a set???\n",
    "\n",
    "\n",
    "\n",
    "#great stuff here: \n",
    "http://localhost:8888/notebooks/TA_reviews/Week_12/tree-based_methods/sklearn_tree-based_methods.ipynb"
   ]
  },
  {
   "cell_type": "code",
   "execution_count": null,
   "metadata": {
    "collapsed": true
   },
   "outputs": [],
   "source": [
    "events_train = pd.read_csv('./data/events_train.csv')\n",
    "events_test = pd.read_csv('./data/events_test.csv')\n"
   ]
  },
  {
   "cell_type": "code",
   "execution_count": null,
   "metadata": {
    "collapsed": false
   },
   "outputs": [],
   "source": [
    "events_train.info()"
   ]
  },
  {
   "cell_type": "code",
   "execution_count": null,
   "metadata": {
    "collapsed": false
   },
   "outputs": [],
   "source": [
    "events_train.head(2)"
   ]
  },
  {
   "cell_type": "code",
   "execution_count": null,
   "metadata": {
    "collapsed": false
   },
   "outputs": [],
   "source": [
    "events_train.date_local[3]"
   ]
  },
  {
   "cell_type": "code",
   "execution_count": null,
   "metadata": {
    "collapsed": true
   },
   "outputs": [],
   "source": [
    "def time_bucket(x):\n",
    "    hour = int(str(x))[11:13]\n",
    "    if hour >6 and hour <12:\n",
    "        s = 'morning'\n",
    "    elif hour > 11 and hour <18:\n",
    "        s = 'afternoon'\n",
    "    elif hour > 17 and hour < 23:\n",
    "        s = 'evening'\n",
    "    else:\n",
    "        s = 'overnight'\n",
    "    return s\n",
    "\n",
    "def date_bucket(x):\n",
    "    return int(str(x))[9:11] # this is the date space in datetime\n"
   ]
  },
  {
   "cell_type": "code",
   "execution_count": null,
   "metadata": {
    "collapsed": false,
    "scrolled": true
   },
   "outputs": [],
   "source": [
    "# Set the period of time (morning,afternoon, etc...)\n",
    "events_train['period'] = [time_bucket(rows['date_local']) for index,\\\n",
    "                        rows in events_train.iterrows()]\n",
    "events_test['period'] = [time_bucket(rows['date_local']) for index,\\\n",
    "                       rows in events_test.iterrows()]"
   ]
  },
  {
   "cell_type": "code",
   "execution_count": null,
   "metadata": {
    "collapsed": false
   },
   "outputs": [],
   "source": [
    "# Set the day of month (all occur in June 2016)\n",
    "events_train['d_month'] = [date_bucket(rows['date_local']) for index,\\\n",
    "                        rows in events_train.iterrows()]\n",
    "events_test['d_month'] = [date_bucket(rows['date_local']) for index,\\\n",
    "                       rows in events_test.iterrows()]"
   ]
  },
  {
   "cell_type": "code",
   "execution_count": null,
   "metadata": {
    "collapsed": false
   },
   "outputs": [],
   "source": [
    "events_train = events_train.merge(d_meta,on='document_id',how='left', suffixes=('_l','_r'))\n",
    "events_test = events_test.merge(d_meta,on='document_id',how='left', suffixes=('_l','_r'))"
   ]
  },
  {
   "cell_type": "code",
   "execution_count": null,
   "metadata": {
    "collapsed": false
   },
   "outputs": [],
   "source": [
    "events_test.columns"
   ]
  },
  {
   "cell_type": "code",
   "execution_count": null,
   "metadata": {
    "collapsed": true
   },
   "outputs": [],
   "source": [
    "rename = ['display_id', 'ad_id', 'clicked', 'uuid', 'docment_id',\n",
    "       'platform', 'geo_location', 'contry', 'state', 'DMA',\n",
    "       'date_local', 'ad_docment_id', 'campaign_id', 'advertiser_id',\n",
    "       'Dt', 'Dc', 'De', 'D_tot', 'period', 'd_month', 'sorce_id_doc', 'pblisher_id_doc',\n",
    "       'pblish_time_doc']"
   ]
  },
  {
   "cell_type": "code",
   "execution_count": null,
   "metadata": {
    "collapsed": false
   },
   "outputs": [],
   "source": [
    "events_train.columns = rename\n",
    "events_test.columns = rename"
   ]
  },
  {
   "cell_type": "code",
   "execution_count": null,
   "metadata": {
    "collapsed": false
   },
   "outputs": [],
   "source": [
    "events_test.head(2)"
   ]
  },
  {
   "cell_type": "code",
   "execution_count": null,
   "metadata": {
    "collapsed": false
   },
   "outputs": [],
   "source": [
    "events_train = pd.merge(events_train, d_meta, how='left',\\\n",
    "                       left_on=['ad_docment_id'], right_on=['document_id'])\n",
    "events_test = pd.merge(events_test, d_meta, how='left',\\\n",
    "                       left_on=['ad_docment_id'], right_on=['document_id'])\n"
   ]
  },
  {
   "cell_type": "code",
   "execution_count": null,
   "metadata": {
    "collapsed": true
   },
   "outputs": [],
   "source": [
    "# save this initial version of consolidated table\n",
    "\n",
    "events_train.to_csv('./data/events_train1.csv',index=False)\n",
    "events_test.to_csv('./data/events_test1.csv',index=False)"
   ]
  },
  {
   "cell_type": "code",
   "execution_count": 5,
   "metadata": {
    "collapsed": true
   },
   "outputs": [],
   "source": [
    "# to reload csv files when redoing this notebook:\n",
    "\n",
    "events_train = pd.read_csv('./data/events_train1.csv')\n",
    "events_test = pd.read_csv('./data/events_test1.csv')\n"
   ]
  },
  {
   "cell_type": "code",
   "execution_count": 6,
   "metadata": {
    "collapsed": false
   },
   "outputs": [
    {
     "name": "stdout",
     "output_type": "stream",
     "text": [
      "display_id : 50000\n",
      "ad_id : 36529\n",
      "clicked : 2\n",
      "uuid : 49972\n",
      "docment_id : 26728\n",
      "platform : 3\n",
      "geo_location : 337\n",
      "contry : 1\n",
      "state : 51\n",
      "DMA : 210\n",
      "date_local : 50000\n",
      "ad_docment_id : 17842\n",
      "campaign_id : 12660\n",
      "advertiser_id : 2183\n",
      "Dt : 26521\n",
      "Dc : 19995\n",
      "De : 1751\n",
      "D_tot : 45651\n",
      "period : 1\n",
      "d_month : 10\n",
      "sorce_id_doc : 1917\n",
      "pblisher_id_doc : 426\n",
      "pblish_time_doc : 3735\n",
      "document_id : 8313\n",
      "source_id : 902\n",
      "publisher_id : 458\n",
      "publish_time : 2539\n"
     ]
    }
   ],
   "source": [
    "for i in events_train.columns:\n",
    "    print('{0} : {1}'.format(i,events_train[i].nunique()))"
   ]
  },
  {
   "cell_type": "markdown",
   "metadata": {},
   "source": [
    "ad's don't seem to have source/publisher info\n",
    "\n",
    "**solution set (Y)** <br>\n",
    "* clicked\n",
    "\n",
    "** Columns for X: **<br>\n",
    "* platform\n",
    "* state\n",
    "* DMA\n",
    "* campaign_id\n",
    "* advertiser_id\n",
    "* D_tot: docuemnt score/vector on topic/subject correlation ***[only non-classifier]***\n",
    "* period: morning, afternoon, etc...\n",
    "* sorce_id_doc: site sub page, eg. edition.cnn.com\n",
    "* pblisher_id_doc: site host, eg. cnn.com\n"
   ]
  },
  {
   "cell_type": "code",
   "execution_count": 7,
   "metadata": {
    "collapsed": true
   },
   "outputs": [],
   "source": [
    "# Break out X_train and X_test from main events dataframe\n",
    "\n",
    "X_train = events_train[['platform', 'state', 'DMA', 'campaign_id', 'advertiser_id',\\\n",
    "                        'D_tot', 'period', 'sorce_id_doc', 'pblisher_id_doc']]\n",
    "X_test = events_test[['platform', 'state', 'DMA', 'campaign_id', 'advertiser_id',\\\n",
    "                        'D_tot', 'period', 'sorce_id_doc', 'pblisher_id_doc']]\n",
    "\n",
    "Y_train = events_train[['clicked']]\n",
    "Y_test = events_test[['clicked']]"
   ]
  },
  {
   "cell_type": "code",
   "execution_count": 8,
   "metadata": {
    "collapsed": false
   },
   "outputs": [
    {
     "data": {
      "text/html": [
       "<div>\n",
       "<table border=\"1\" class=\"dataframe\">\n",
       "  <thead>\n",
       "    <tr style=\"text-align: right;\">\n",
       "      <th></th>\n",
       "      <th>platform</th>\n",
       "      <th>state</th>\n",
       "      <th>DMA</th>\n",
       "      <th>campaign_id</th>\n",
       "      <th>advertiser_id</th>\n",
       "      <th>D_tot</th>\n",
       "      <th>period</th>\n",
       "      <th>sorce_id_doc</th>\n",
       "      <th>pblisher_id_doc</th>\n",
       "    </tr>\n",
       "  </thead>\n",
       "  <tbody>\n",
       "    <tr>\n",
       "      <th>257018</th>\n",
       "      <td>2</td>\n",
       "      <td>NJ</td>\n",
       "      <td>501</td>\n",
       "      <td>21573</td>\n",
       "      <td>210</td>\n",
       "      <td>0.068102</td>\n",
       "      <td>overnight</td>\n",
       "      <td>483.0</td>\n",
       "      <td>1199.0</td>\n",
       "    </tr>\n",
       "    <tr>\n",
       "      <th>257019</th>\n",
       "      <td>2</td>\n",
       "      <td>NJ</td>\n",
       "      <td>501</td>\n",
       "      <td>26260</td>\n",
       "      <td>2151</td>\n",
       "      <td>0.109092</td>\n",
       "      <td>overnight</td>\n",
       "      <td>483.0</td>\n",
       "      <td>1199.0</td>\n",
       "    </tr>\n",
       "    <tr>\n",
       "      <th>257020</th>\n",
       "      <td>2</td>\n",
       "      <td>TX</td>\n",
       "      <td>635</td>\n",
       "      <td>9765</td>\n",
       "      <td>372</td>\n",
       "      <td>0.000000</td>\n",
       "      <td>overnight</td>\n",
       "      <td>7270.0</td>\n",
       "      <td>58.0</td>\n",
       "    </tr>\n",
       "    <tr>\n",
       "      <th>257021</th>\n",
       "      <td>2</td>\n",
       "      <td>TX</td>\n",
       "      <td>635</td>\n",
       "      <td>17012</td>\n",
       "      <td>1627</td>\n",
       "      <td>1.804419</td>\n",
       "      <td>overnight</td>\n",
       "      <td>7270.0</td>\n",
       "      <td>58.0</td>\n",
       "    </tr>\n",
       "    <tr>\n",
       "      <th>257022</th>\n",
       "      <td>2</td>\n",
       "      <td>TX</td>\n",
       "      <td>635</td>\n",
       "      <td>22125</td>\n",
       "      <td>1685</td>\n",
       "      <td>1.312135</td>\n",
       "      <td>overnight</td>\n",
       "      <td>7270.0</td>\n",
       "      <td>58.0</td>\n",
       "    </tr>\n",
       "    <tr>\n",
       "      <th>257023</th>\n",
       "      <td>2</td>\n",
       "      <td>TX</td>\n",
       "      <td>635</td>\n",
       "      <td>19233</td>\n",
       "      <td>1992</td>\n",
       "      <td>0.000000</td>\n",
       "      <td>overnight</td>\n",
       "      <td>7270.0</td>\n",
       "      <td>58.0</td>\n",
       "    </tr>\n",
       "  </tbody>\n",
       "</table>\n",
       "</div>"
      ],
      "text/plain": [
       "        platform state  DMA  campaign_id  advertiser_id     D_tot     period  \\\n",
       "257018         2    NJ  501        21573            210  0.068102  overnight   \n",
       "257019         2    NJ  501        26260           2151  0.109092  overnight   \n",
       "257020         2    TX  635         9765            372  0.000000  overnight   \n",
       "257021         2    TX  635        17012           1627  1.804419  overnight   \n",
       "257022         2    TX  635        22125           1685  1.312135  overnight   \n",
       "257023         2    TX  635        19233           1992  0.000000  overnight   \n",
       "\n",
       "        sorce_id_doc  pblisher_id_doc  \n",
       "257018         483.0           1199.0  \n",
       "257019         483.0           1199.0  \n",
       "257020        7270.0             58.0  \n",
       "257021        7270.0             58.0  \n",
       "257022        7270.0             58.0  \n",
       "257023        7270.0             58.0  "
      ]
     },
     "execution_count": 8,
     "metadata": {},
     "output_type": "execute_result"
    }
   ],
   "source": [
    "X_train.tail(6)"
   ]
  },
  {
   "cell_type": "code",
   "execution_count": 9,
   "metadata": {
    "collapsed": true
   },
   "outputs": [],
   "source": [
    "# with open('X_train.pkl', 'w') as picklefile:\n",
    "#    pickle.dump(X_train, picklefile)"
   ]
  },
  {
   "cell_type": "code",
   "execution_count": 10,
   "metadata": {
    "collapsed": false
   },
   "outputs": [
    {
     "data": {
      "text/plain": [
       "Index([u'platform', u'state', u'DMA', u'campaign_id', u'advertiser_id',\n",
       "       u'D_tot', u'period', u'sorce_id_doc', u'pblisher_id_doc'],\n",
       "      dtype='object')"
      ]
     },
     "execution_count": 10,
     "metadata": {},
     "output_type": "execute_result"
    }
   ],
   "source": [
    "# Shorten column names prior to making dummy variables\n",
    "\n",
    "X_train.columns"
   ]
  },
  {
   "cell_type": "code",
   "execution_count": 11,
   "metadata": {
    "collapsed": true
   },
   "outputs": [],
   "source": [
    "new_names = ['pltfrm', 'state', 'DMA', 'camp_id', 'advert_id', 'D_tot',\\\n",
    "             'prd', 'src_id', 'pbl_id']"
   ]
  },
  {
   "cell_type": "code",
   "execution_count": 12,
   "metadata": {
    "collapsed": true
   },
   "outputs": [],
   "source": [
    "X_train.columns = new_names\n",
    "X_test.columns = new_names"
   ]
  },
  {
   "cell_type": "code",
   "execution_count": 13,
   "metadata": {
    "collapsed": false
   },
   "outputs": [
    {
     "data": {
      "text/html": [
       "<div>\n",
       "<table border=\"1\" class=\"dataframe\">\n",
       "  <thead>\n",
       "    <tr style=\"text-align: right;\">\n",
       "      <th></th>\n",
       "      <th>pltfrm</th>\n",
       "      <th>state</th>\n",
       "      <th>DMA</th>\n",
       "      <th>camp_id</th>\n",
       "      <th>advert_id</th>\n",
       "      <th>D_tot</th>\n",
       "      <th>prd</th>\n",
       "      <th>src_id</th>\n",
       "      <th>pbl_id</th>\n",
       "    </tr>\n",
       "  </thead>\n",
       "  <tbody>\n",
       "    <tr>\n",
       "      <th>0</th>\n",
       "      <td>2</td>\n",
       "      <td>CA</td>\n",
       "      <td>803</td>\n",
       "      <td>10321</td>\n",
       "      <td>555</td>\n",
       "      <td>0.000000</td>\n",
       "      <td>overnight</td>\n",
       "      <td>6509.0</td>\n",
       "      <td>206.0</td>\n",
       "    </tr>\n",
       "    <tr>\n",
       "      <th>1</th>\n",
       "      <td>2</td>\n",
       "      <td>CA</td>\n",
       "      <td>803</td>\n",
       "      <td>14312</td>\n",
       "      <td>1890</td>\n",
       "      <td>0.000000</td>\n",
       "      <td>overnight</td>\n",
       "      <td>6509.0</td>\n",
       "      <td>206.0</td>\n",
       "    </tr>\n",
       "    <tr>\n",
       "      <th>2</th>\n",
       "      <td>2</td>\n",
       "      <td>CA</td>\n",
       "      <td>803</td>\n",
       "      <td>19194</td>\n",
       "      <td>1458</td>\n",
       "      <td>0.000000</td>\n",
       "      <td>overnight</td>\n",
       "      <td>6509.0</td>\n",
       "      <td>206.0</td>\n",
       "    </tr>\n",
       "    <tr>\n",
       "      <th>3</th>\n",
       "      <td>2</td>\n",
       "      <td>CA</td>\n",
       "      <td>803</td>\n",
       "      <td>17146</td>\n",
       "      <td>1929</td>\n",
       "      <td>0.000000</td>\n",
       "      <td>overnight</td>\n",
       "      <td>6509.0</td>\n",
       "      <td>206.0</td>\n",
       "    </tr>\n",
       "    <tr>\n",
       "      <th>4</th>\n",
       "      <td>2</td>\n",
       "      <td>PA</td>\n",
       "      <td>504</td>\n",
       "      <td>12404</td>\n",
       "      <td>2151</td>\n",
       "      <td>1.758876</td>\n",
       "      <td>overnight</td>\n",
       "      <td>1032.0</td>\n",
       "      <td>1025.0</td>\n",
       "    </tr>\n",
       "  </tbody>\n",
       "</table>\n",
       "</div>"
      ],
      "text/plain": [
       "   pltfrm state  DMA  camp_id  advert_id     D_tot        prd  src_id  pbl_id\n",
       "0       2    CA  803    10321        555  0.000000  overnight  6509.0   206.0\n",
       "1       2    CA  803    14312       1890  0.000000  overnight  6509.0   206.0\n",
       "2       2    CA  803    19194       1458  0.000000  overnight  6509.0   206.0\n",
       "3       2    CA  803    17146       1929  0.000000  overnight  6509.0   206.0\n",
       "4       2    PA  504    12404       2151  1.758876  overnight  1032.0  1025.0"
      ]
     },
     "execution_count": 13,
     "metadata": {},
     "output_type": "execute_result"
    }
   ],
   "source": [
    "X_train.head()"
   ]
  },
  {
   "cell_type": "code",
   "execution_count": 14,
   "metadata": {
    "collapsed": false
   },
   "outputs": [
    {
     "name": "stdout",
     "output_type": "stream",
     "text": [
      "pltfrm\n",
      "DMA\n",
      "camp_id\n"
     ]
    },
    {
     "name": "stderr",
     "output_type": "stream",
     "text": [
      "/Users/alex/anaconda/lib/python2.7/site-packages/ipykernel/__main__.py:7: SettingWithCopyWarning: \n",
      "A value is trying to be set on a copy of a slice from a DataFrame.\n",
      "Try using .loc[row_indexer,col_indexer] = value instead\n",
      "\n",
      "See the caveats in the documentation: http://pandas.pydata.org/pandas-docs/stable/indexing.html#indexing-view-versus-copy\n",
      "/Users/alex/anaconda/lib/python2.7/site-packages/ipykernel/__main__.py:8: SettingWithCopyWarning: \n",
      "A value is trying to be set on a copy of a slice from a DataFrame.\n",
      "Try using .loc[row_indexer,col_indexer] = value instead\n",
      "\n",
      "See the caveats in the documentation: http://pandas.pydata.org/pandas-docs/stable/indexing.html#indexing-view-versus-copy\n"
     ]
    },
    {
     "name": "stdout",
     "output_type": "stream",
     "text": [
      "advert_id\n",
      "src_id\n",
      "pbl_id\n"
     ]
    }
   ],
   "source": [
    "# change numbers to strings before get_dummies\n",
    "\n",
    "num_str = ['pltfrm', 'DMA', 'camp_id', 'advert_id', 'src_id', 'pbl_id']\n",
    "\n",
    "for s in num_str:\n",
    "    print(s)\n",
    "    X_train[s] = X_train[s].apply(str)\n",
    "    X_test[s] = X_test[s].apply(str)"
   ]
  },
  {
   "cell_type": "code",
   "execution_count": 15,
   "metadata": {
    "collapsed": false
   },
   "outputs": [
    {
     "data": {
      "text/plain": [
       "'PA'"
      ]
     },
     "execution_count": 15,
     "metadata": {},
     "output_type": "execute_result"
    }
   ],
   "source": [
    "X_train.state[5]"
   ]
  },
  {
   "cell_type": "code",
   "execution_count": 16,
   "metadata": {
    "collapsed": false
   },
   "outputs": [],
   "source": [
    "X_train = pd.get_dummies(X_train, prefix=['pltfrm', 'state', 'DMA', 'camp_id', 'advert_id',\\\n",
    "                                          'prd','src_id', 'pbl_id'])\n",
    "X_test = pd.get_dummies(X_test, prefix=['pltfrm', 'state', 'DMA', 'camp_id', 'advert_id',\\\n",
    "                                        'prd','src_id', 'pbl_id'])\n"
   ]
  },
  {
   "cell_type": "code",
   "execution_count": null,
   "metadata": {
    "collapsed": true
   },
   "outputs": [],
   "source": [
    "X_train.to_csv('./data/X_train.csv',index=False)\n",
    "X_test.to_csv('./data/X_test.csv',index=False)"
   ]
  },
  {
   "cell_type": "code",
   "execution_count": null,
   "metadata": {
    "collapsed": false
   },
   "outputs": [],
   "source": [
    "X_train.head()"
   ]
  },
  {
   "cell_type": "code",
   "execution_count": null,
   "metadata": {
    "collapsed": true
   },
   "outputs": [],
   "source": []
  }
 ],
 "metadata": {
  "anaconda-cloud": {},
  "kernelspec": {
   "display_name": "Python [Root]",
   "language": "python",
   "name": "Python [Root]"
  },
  "language_info": {
   "codemirror_mode": {
    "name": "ipython",
    "version": 2
   },
   "file_extension": ".py",
   "mimetype": "text/x-python",
   "name": "python",
   "nbconvert_exporter": "python",
   "pygments_lexer": "ipython2",
   "version": "2.7.11"
  }
 },
 "nbformat": 4,
 "nbformat_minor": 0
}
