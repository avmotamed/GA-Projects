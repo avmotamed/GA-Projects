{
 "cells": [
  {
   "cell_type": "markdown",
   "metadata": {},
   "source": [
    "# Outbrain Clickthrough\n",
    "\n",
    "## Sampling for Train and Test data & merging tables\n",
    "Given the size and scope of the data, and having done the initial EDA, the preliminary model is to be developed using a random subset of the data.\n",
    "\n",
    "#### The following factors are being applied to pair down the data\n",
    "* Only using US data\n",
    "* This is a predominant part of the data, and EDA shows not much variation in behaviour in regards to display count and other factors.\n",
    "* Of this data, only those with full geo_location data will be used. This is to ensure proper correction for time zones (base times are in UTC counts).\n",
    "* From this a random slice of events will be chosen.\n",
    "\n",
    "The initial training data will be 5,000 events and the test set will be 500 events. Since each event has on average around five ad choices, this will tranlate in 25,000 rows of data for developing the training set.\n",
    "\n",
    "#### Further refinements to the process will include what selection of document data to use\n",
    "* Much of the data has low confidence levels\n",
    "* Will need to develop a threshold for when to use and when to ignore confidence level\n",
    "* Many documents also have multiple categories, so will need to determine how to pick the main one to use, or as the model develops, how to incorporate multiple categories."
   ]
  },
  {
   "cell_type": "markdown",
   "metadata": {},
   "source": [
    "## Slicing and prepping the data\n",
    "\n",
    "Note: CAPITAL LETTER items reference tables provided by Outbrains.\n",
    "\n",
    "Process:\n",
    "* Read in Outbrain CLICK data in parts, too big to read in as one dataframe\n",
    "* Compare to EVENTS data supplied by outbrain (Events is larger set the Click data)\n",
    "* EVENTS - make 2nd version that:\n",
    "    * Slice EVENTS down so that it only has items that are in CLICK\n",
    "    * Split up geo_location column into 'states' and 'DMA'\n",
    "    * Filter out empties and non US data, as well as data missing state and DMA info\n"
   ]
  },
  {
   "cell_type": "code",
   "execution_count": 74,
   "metadata": {
    "collapsed": true
   },
   "outputs": [],
   "source": [
    "import pandas as pd\n",
    "import numpy as np\n",
    "import seaborn as sns\n",
    "import matplotlib.pyplot as plt\n",
    "import pickle\n",
    "import random\n",
    "import matplotlib\n",
    "import matplotlib.cm as cm\n",
    "import seaborn as sns\n",
    "import datetime\n",
    "import time\n",
    "\n",
    "matplotlib.style.use('ggplot') \n",
    "%matplotlib inline"
   ]
  },
  {
   "cell_type": "markdown",
   "metadata": {},
   "source": [
    "## Read in Event Data\n",
    "\n",
    "The event file contains the item clicked (not the other ads displayed) and some basic user information.\n"
   ]
  },
  {
   "cell_type": "code",
   "execution_count": 2,
   "metadata": {
    "collapsed": false
   },
   "outputs": [],
   "source": [
    "# !ls ./data/ "
   ]
  },
  {
   "cell_type": "code",
   "execution_count": 3,
   "metadata": {
    "collapsed": false
   },
   "outputs": [
    {
     "name": "stderr",
     "output_type": "stream",
     "text": [
      "/Users/alex/anaconda/lib/python2.7/site-packages/IPython/core/interactiveshell.py:2723: DtypeWarning: Columns (4) have mixed types. Specify dtype option on import or set low_memory=False.\n",
      "  interactivity=interactivity, compiler=compiler, result=result)\n"
     ]
    }
   ],
   "source": [
    "events = pd.read_csv('./data/events.csv')"
   ]
  },
  {
   "cell_type": "code",
   "execution_count": 4,
   "metadata": {
    "collapsed": false
   },
   "outputs": [
    {
     "name": "stdout",
     "output_type": "stream",
     "text": [
      "Total number of events in full data: 23,120,126\n"
     ]
    }
   ],
   "source": [
    "print('Total number of events in full data: {0:,}'.\\\n",
    "      format(events['display_id'].nunique()))"
   ]
  },
  {
   "cell_type": "markdown",
   "metadata": {},
   "source": [
    "## Read the Click Data into 2 data frames\n",
    "File is too large to read into one dataframe. This file contains all the ads displayed at each click event. Each selection of ads is denoted by 'display_id'."
   ]
  },
  {
   "cell_type": "code",
   "execution_count": 5,
   "metadata": {
    "collapsed": true
   },
   "outputs": [],
   "source": [
    "df1 = pd.read_csv('./data/clicks_train.csv', nrows = 40000000)\n",
    "df2 = pd.read_csv('./data/clicks_train.csv', skiprows = 40000000)"
   ]
  },
  {
   "cell_type": "code",
   "execution_count": 6,
   "metadata": {
    "collapsed": false
   },
   "outputs": [],
   "source": [
    "titles = df1.columns\n",
    "df2.columns = titles"
   ]
  },
  {
   "cell_type": "code",
   "execution_count": 7,
   "metadata": {
    "collapsed": false
   },
   "outputs": [
    {
     "data": {
      "text/html": [
       "<div>\n",
       "<table border=\"1\" class=\"dataframe\">\n",
       "  <thead>\n",
       "    <tr style=\"text-align: right;\">\n",
       "      <th></th>\n",
       "      <th>display_id</th>\n",
       "      <th>uuid</th>\n",
       "      <th>document_id</th>\n",
       "      <th>timestamp</th>\n",
       "      <th>platform</th>\n",
       "      <th>geo_location</th>\n",
       "    </tr>\n",
       "  </thead>\n",
       "  <tbody>\n",
       "    <tr>\n",
       "      <th>0</th>\n",
       "      <td>1</td>\n",
       "      <td>cb8c55702adb93</td>\n",
       "      <td>379743</td>\n",
       "      <td>61</td>\n",
       "      <td>3</td>\n",
       "      <td>US&gt;SC&gt;519</td>\n",
       "    </tr>\n",
       "    <tr>\n",
       "      <th>1</th>\n",
       "      <td>2</td>\n",
       "      <td>79a85fa78311b9</td>\n",
       "      <td>1794259</td>\n",
       "      <td>81</td>\n",
       "      <td>2</td>\n",
       "      <td>US&gt;CA&gt;807</td>\n",
       "    </tr>\n",
       "  </tbody>\n",
       "</table>\n",
       "</div>"
      ],
      "text/plain": [
       "   display_id            uuid  document_id  timestamp platform geo_location\n",
       "0           1  cb8c55702adb93       379743         61        3    US>SC>519\n",
       "1           2  79a85fa78311b9      1794259         81        2    US>CA>807"
      ]
     },
     "execution_count": 7,
     "metadata": {},
     "output_type": "execute_result"
    }
   ],
   "source": [
    "events.head(2)"
   ]
  },
  {
   "cell_type": "code",
   "execution_count": 9,
   "metadata": {
    "collapsed": false
   },
   "outputs": [
    {
     "data": {
      "text/html": [
       "<div>\n",
       "<table border=\"1\" class=\"dataframe\">\n",
       "  <thead>\n",
       "    <tr style=\"text-align: right;\">\n",
       "      <th></th>\n",
       "      <th>display_id</th>\n",
       "      <th>ad_id</th>\n",
       "      <th>clicked</th>\n",
       "    </tr>\n",
       "  </thead>\n",
       "  <tbody>\n",
       "    <tr>\n",
       "      <th>0</th>\n",
       "      <td>1</td>\n",
       "      <td>42337</td>\n",
       "      <td>0</td>\n",
       "    </tr>\n",
       "    <tr>\n",
       "      <th>1</th>\n",
       "      <td>1</td>\n",
       "      <td>139684</td>\n",
       "      <td>0</td>\n",
       "    </tr>\n",
       "    <tr>\n",
       "      <th>2</th>\n",
       "      <td>1</td>\n",
       "      <td>144739</td>\n",
       "      <td>1</td>\n",
       "    </tr>\n",
       "    <tr>\n",
       "      <th>3</th>\n",
       "      <td>1</td>\n",
       "      <td>156824</td>\n",
       "      <td>0</td>\n",
       "    </tr>\n",
       "    <tr>\n",
       "      <th>4</th>\n",
       "      <td>1</td>\n",
       "      <td>279295</td>\n",
       "      <td>0</td>\n",
       "    </tr>\n",
       "    <tr>\n",
       "      <th>5</th>\n",
       "      <td>1</td>\n",
       "      <td>296965</td>\n",
       "      <td>0</td>\n",
       "    </tr>\n",
       "    <tr>\n",
       "      <th>6</th>\n",
       "      <td>2</td>\n",
       "      <td>125211</td>\n",
       "      <td>0</td>\n",
       "    </tr>\n",
       "  </tbody>\n",
       "</table>\n",
       "</div>"
      ],
      "text/plain": [
       "   display_id   ad_id  clicked\n",
       "0           1   42337        0\n",
       "1           1  139684        0\n",
       "2           1  144739        1\n",
       "3           1  156824        0\n",
       "4           1  279295        0\n",
       "5           1  296965        0\n",
       "6           2  125211        0"
      ]
     },
     "execution_count": 9,
     "metadata": {},
     "output_type": "execute_result"
    }
   ],
   "source": [
    "df1.head(7)"
   ]
  },
  {
   "cell_type": "markdown",
   "metadata": {},
   "source": [
    "As seen above the 'display_id' = 1 has 6 ads displayed and the one with 'ad_id' = 144739 was clicked."
   ]
  },
  {
   "cell_type": "markdown",
   "metadata": {},
   "source": [
    "## Do some data cleaning"
   ]
  },
  {
   "cell_type": "code",
   "execution_count": 10,
   "metadata": {
    "collapsed": false,
    "scrolled": true
   },
   "outputs": [
    {
     "name": "stdout",
     "output_type": "stream",
     "text": [
      "[3 2 1 '2' '1' '3' '\\\\N']\n"
     ]
    },
    {
     "data": {
      "text/plain": [
       "2     10684579\n",
       "1      8747280\n",
       "3      3032907\n",
       "2       291699\n",
       "1       279988\n",
       "3        83668\n",
       "\\N           5\n",
       "Name: platform, dtype: int64"
      ]
     },
     "execution_count": 10,
     "metadata": {},
     "output_type": "execute_result"
    }
   ],
   "source": [
    "print(events['platform'].unique())\n",
    "events['platform'].value_counts()"
   ]
  },
  {
   "cell_type": "code",
   "execution_count": 11,
   "metadata": {
    "collapsed": false
   },
   "outputs": [
    {
     "data": {
      "text/plain": [
       "array(['3', '2', '1', nan], dtype=object)"
      ]
     },
     "execution_count": 11,
     "metadata": {},
     "output_type": "execute_result"
    }
   ],
   "source": [
    "# function to convert all data to strings (will be used for classification)\n",
    "\n",
    "def platform_filter(x):\n",
    "    if x == '\\\\N':\n",
    "        return np.nan\n",
    "    elif type(x) is int:\n",
    "        return str(x)  # make into string since this is a category\n",
    "    else:\n",
    "        return x\n",
    "\n",
    "# updated platform column\n",
    "events['platform'] = [platform_filter(x) for x in events['platform']]\n",
    "events['platform'].unique()"
   ]
  },
  {
   "cell_type": "markdown",
   "metadata": {},
   "source": [
    "## Break out Geo_Location data and use only US data"
   ]
  },
  {
   "cell_type": "code",
   "execution_count": 12,
   "metadata": {
    "collapsed": true
   },
   "outputs": [],
   "source": [
    "events['country'] = events['geo_location'].str[0:2]\n",
    "# take only US data from events\n",
    "# and break out other geographic data\n",
    "events = events[events['country'] == 'US']\n",
    "events['state'] = events['geo_location'].str[3:5]\n",
    "events['DMA'] = events['geo_location'].str[6:]"
   ]
  },
  {
   "cell_type": "code",
   "execution_count": 13,
   "metadata": {
    "collapsed": false
   },
   "outputs": [
    {
     "data": {
      "text/html": [
       "<div>\n",
       "<table border=\"1\" class=\"dataframe\">\n",
       "  <thead>\n",
       "    <tr style=\"text-align: right;\">\n",
       "      <th></th>\n",
       "      <th>display_id</th>\n",
       "      <th>uuid</th>\n",
       "      <th>document_id</th>\n",
       "      <th>timestamp</th>\n",
       "      <th>platform</th>\n",
       "      <th>geo_location</th>\n",
       "      <th>country</th>\n",
       "      <th>state</th>\n",
       "      <th>DMA</th>\n",
       "    </tr>\n",
       "  </thead>\n",
       "  <tbody>\n",
       "    <tr>\n",
       "      <th>0</th>\n",
       "      <td>1</td>\n",
       "      <td>cb8c55702adb93</td>\n",
       "      <td>379743</td>\n",
       "      <td>61</td>\n",
       "      <td>3</td>\n",
       "      <td>US&gt;SC&gt;519</td>\n",
       "      <td>US</td>\n",
       "      <td>SC</td>\n",
       "      <td>519</td>\n",
       "    </tr>\n",
       "    <tr>\n",
       "      <th>1</th>\n",
       "      <td>2</td>\n",
       "      <td>79a85fa78311b9</td>\n",
       "      <td>1794259</td>\n",
       "      <td>81</td>\n",
       "      <td>2</td>\n",
       "      <td>US&gt;CA&gt;807</td>\n",
       "      <td>US</td>\n",
       "      <td>CA</td>\n",
       "      <td>807</td>\n",
       "    </tr>\n",
       "    <tr>\n",
       "      <th>2</th>\n",
       "      <td>3</td>\n",
       "      <td>822932ce3d8757</td>\n",
       "      <td>1179111</td>\n",
       "      <td>182</td>\n",
       "      <td>2</td>\n",
       "      <td>US&gt;MI&gt;505</td>\n",
       "      <td>US</td>\n",
       "      <td>MI</td>\n",
       "      <td>505</td>\n",
       "    </tr>\n",
       "  </tbody>\n",
       "</table>\n",
       "</div>"
      ],
      "text/plain": [
       "   display_id            uuid  document_id  timestamp platform geo_location  \\\n",
       "0           1  cb8c55702adb93       379743         61        3    US>SC>519   \n",
       "1           2  79a85fa78311b9      1794259         81        2    US>CA>807   \n",
       "2           3  822932ce3d8757      1179111        182        2    US>MI>505   \n",
       "\n",
       "  country state  DMA  \n",
       "0      US    SC  519  \n",
       "1      US    CA  807  \n",
       "2      US    MI  505  "
      ]
     },
     "execution_count": 13,
     "metadata": {},
     "output_type": "execute_result"
    }
   ],
   "source": [
    "events.head(3)"
   ]
  },
  {
   "cell_type": "code",
   "execution_count": 14,
   "metadata": {
    "collapsed": true
   },
   "outputs": [],
   "source": [
    "# Clean DMA and state columns\n",
    "def filter_DMA(x):\n",
    "    try:\n",
    "        return str(int(x))\n",
    "    except:\n",
    "        return np.nan\n",
    "\n",
    "def filter_state(x):\n",
    "    if x == '':\n",
    "        return np.nan\n",
    "    else:\n",
    "        return x\n",
    "    \n",
    "events['state'] = [filter_state(x) for x in events['state']]\n",
    "events['DMA'] = [filter_DMA(x) for x in events['DMA']]"
   ]
  },
  {
   "cell_type": "code",
   "execution_count": 15,
   "metadata": {
    "collapsed": false
   },
   "outputs": [
    {
     "name": "stdout",
     "output_type": "stream",
     "text": [
      "# rows mising state data: 758,487\n",
      "# rows mising platform data: 5\n",
      "# rows mising DMA data: 1,264,852\n"
     ]
    }
   ],
   "source": [
    "print('# rows mising state data: {0:,}'.format(len(events[events['state'].isnull()])))\n",
    "print('# rows mising platform data: {0:,}'.format( len(events[events['platform'].isnull()])))\n",
    "print('# rows mising DMA data: {0:,}'.format( len(events[events['DMA'].isnull()])))"
   ]
  },
  {
   "cell_type": "code",
   "execution_count": 16,
   "metadata": {
    "collapsed": false
   },
   "outputs": [
    {
     "name": "stdout",
     "output_type": "stream",
     "text": [
      "# of total US events: 18,595,452\n"
     ]
    }
   ],
   "source": [
    "print('# of total US events: {0:,}'.format(len(events)))"
   ]
  },
  {
   "cell_type": "code",
   "execution_count": 17,
   "metadata": {
    "collapsed": true
   },
   "outputs": [],
   "source": [
    "US_orig_length = len(events)"
   ]
  },
  {
   "cell_type": "markdown",
   "metadata": {},
   "source": [
    "### Take out events missing geo data & military location designators\n",
    "AA and AP are military postal designations for overseas."
   ]
  },
  {
   "cell_type": "code",
   "execution_count": 18,
   "metadata": {
    "collapsed": true
   },
   "outputs": [],
   "source": [
    "events = events[(events['state'].notnull()) & (events['DMA'].notnull()) \\\n",
    "                & (events['state'] != \"AA\") & (events['state'] != 'AP') \\\n",
    "                & (events['platform'].notnull())]\n"
   ]
  },
  {
   "cell_type": "code",
   "execution_count": 19,
   "metadata": {
    "collapsed": false
   },
   "outputs": [
    {
     "name": "stdout",
     "output_type": "stream",
     "text": [
      "# rows mising state data: 0\n",
      "# rows mising platform data: 0\n",
      "# rows mising DMA data: 0\n"
     ]
    }
   ],
   "source": [
    "print('# rows mising state data: {0:,}'.format(len(events[events['state'].isnull()])))\n",
    "print('# rows mising platform data: {0:,}'.format( len(events[events['platform'].isnull()])))\n",
    "print('# rows mising DMA data: {0:,}'.format( len(events[events['DMA'].isnull()])))"
   ]
  },
  {
   "cell_type": "code",
   "execution_count": 20,
   "metadata": {
    "collapsed": false
   },
   "outputs": [
    {
     "name": "stdout",
     "output_type": "stream",
     "text": [
      "# of rows reduced: 1,264,857\n"
     ]
    }
   ],
   "source": [
    "print('# of rows reduced: {0:,}'.format(US_orig_length - len(events)))"
   ]
  },
  {
   "cell_type": "markdown",
   "metadata": {},
   "source": [
    "All the missing state data came from rows missing the DMA data (the 5 stragglers may be from misssing platform data or DMA or both)"
   ]
  },
  {
   "cell_type": "markdown",
   "metadata": {},
   "source": [
    "### Sync Data Between Main Click Data and EVENT table\n",
    "EVENT has more click's than in the main data set, so we want to reduce EVENT table to only have correpsonding click events."
   ]
  },
  {
   "cell_type": "code",
   "execution_count": 21,
   "metadata": {
    "collapsed": false
   },
   "outputs": [],
   "source": [
    "# identify events that are in main click data set \n",
    "event_id = list(df1['display_id'].unique()) + list(df2['display_id'].unique())"
   ]
  },
  {
   "cell_type": "code",
   "execution_count": 22,
   "metadata": {
    "collapsed": true
   },
   "outputs": [],
   "source": [
    "# filter main events dataframe to only include event_id's in main click data set\n",
    "events = events[events['display_id'].isin(event_id)]"
   ]
  },
  {
   "cell_type": "code",
   "execution_count": 23,
   "metadata": {
    "collapsed": false
   },
   "outputs": [
    {
     "name": "stdout",
     "output_type": "stream",
     "text": [
      "Further adjustment to number of events: 4,652,848\n"
     ]
    }
   ],
   "source": [
    "print('Further adjustment to number of events: {0:,}'.\\\n",
    "      format(US_orig_length - 1264857 - len(events)))"
   ]
  },
  {
   "cell_type": "markdown",
   "metadata": {},
   "source": [
    "Check events dataframe for stray nan or other odd values (ok since nothing odd at begining or end)"
   ]
  },
  {
   "cell_type": "code",
   "execution_count": 24,
   "metadata": {
    "collapsed": false
   },
   "outputs": [
    {
     "data": {
      "text/plain": [
       "array(['cb8c55702adb93', '79a85fa78311b9', '822932ce3d8757', ...,\n",
       "       '4032cf074d74a3', '49396799cb3a40', '21f03d8a66e702'], dtype=object)"
      ]
     },
     "execution_count": 24,
     "metadata": {},
     "output_type": "execute_result"
    }
   ],
   "source": [
    "events['uuid'].unique()"
   ]
  },
  {
   "cell_type": "code",
   "execution_count": 25,
   "metadata": {
    "collapsed": false
   },
   "outputs": [
    {
     "data": {
      "text/plain": [
       "array([ 379743, 1794259, 1179111, ..., 2681997, 2788096,  682611])"
      ]
     },
     "execution_count": 25,
     "metadata": {},
     "output_type": "execute_result"
    }
   ],
   "source": [
    "events['document_id'].unique()"
   ]
  },
  {
   "cell_type": "code",
   "execution_count": 26,
   "metadata": {
    "collapsed": false
   },
   "outputs": [
    {
     "data": {
      "text/plain": [
       "array([        61,         81,        182, ..., 1123199470, 1123199601,\n",
       "       1123199936])"
      ]
     },
     "execution_count": 26,
     "metadata": {},
     "output_type": "execute_result"
    }
   ],
   "source": [
    "events['timestamp'].unique()"
   ]
  },
  {
   "cell_type": "markdown",
   "metadata": {},
   "source": [
    "### Take list from events['display_id'] to generate random sample list\n",
    "This will be used later to draw random samples from the assembled dataset."
   ]
  },
  {
   "cell_type": "code",
   "execution_count": 27,
   "metadata": {
    "collapsed": true
   },
   "outputs": [],
   "source": [
    "event_US_id = list(events['display_id'].unique())"
   ]
  },
  {
   "cell_type": "code",
   "execution_count": null,
   "metadata": {
    "collapsed": true
   },
   "outputs": [],
   "source": []
  },
  {
   "cell_type": "markdown",
   "metadata": {},
   "source": [
    "## Date - put timstamp in terms of dates and local times"
   ]
  },
  {
   "cell_type": "code",
   "execution_count": 28,
   "metadata": {
    "collapsed": false
   },
   "outputs": [
    {
     "data": {
      "text/plain": [
       "datetime.datetime(2016, 6, 14, 0, 0)"
      ]
     },
     "execution_count": 28,
     "metadata": {},
     "output_type": "execute_result"
    }
   ],
   "source": [
    "# to adjsut timestamp later\n",
    "from datetime import datetime\n",
    "datetime.fromtimestamp(1465876800)\n",
    "# the timestamp is adjusted to time zero for data colleciton, whcih is 6/14/2016\n",
    "# adj in milliseconds: 1465876799998ms"
   ]
  },
  {
   "cell_type": "code",
   "execution_count": 29,
   "metadata": {
    "collapsed": false
   },
   "outputs": [
    {
     "data": {
      "text/html": [
       "<div>\n",
       "<table border=\"1\" class=\"dataframe\">\n",
       "  <thead>\n",
       "    <tr style=\"text-align: right;\">\n",
       "      <th></th>\n",
       "      <th>state</th>\n",
       "      <th>tz</th>\n",
       "      <th>utc_summer</th>\n",
       "      <th>tz_adj_sec</th>\n",
       "    </tr>\n",
       "  </thead>\n",
       "  <tbody>\n",
       "    <tr>\n",
       "      <th>0</th>\n",
       "      <td>AK</td>\n",
       "      <td>AKST</td>\n",
       "      <td>-8</td>\n",
       "      <td>-28800</td>\n",
       "    </tr>\n",
       "    <tr>\n",
       "      <th>1</th>\n",
       "      <td>AL</td>\n",
       "      <td>CST</td>\n",
       "      <td>-5</td>\n",
       "      <td>-18000</td>\n",
       "    </tr>\n",
       "    <tr>\n",
       "      <th>2</th>\n",
       "      <td>AR</td>\n",
       "      <td>CST</td>\n",
       "      <td>-5</td>\n",
       "      <td>-18000</td>\n",
       "    </tr>\n",
       "    <tr>\n",
       "      <th>3</th>\n",
       "      <td>IL</td>\n",
       "      <td>CST</td>\n",
       "      <td>-5</td>\n",
       "      <td>-18000</td>\n",
       "    </tr>\n",
       "    <tr>\n",
       "      <th>4</th>\n",
       "      <td>IA</td>\n",
       "      <td>CST</td>\n",
       "      <td>-5</td>\n",
       "      <td>-18000</td>\n",
       "    </tr>\n",
       "  </tbody>\n",
       "</table>\n",
       "</div>"
      ],
      "text/plain": [
       "  state    tz  utc_summer  tz_adj_sec\n",
       "0    AK  AKST          -8      -28800\n",
       "1    AL   CST          -5      -18000\n",
       "2    AR   CST          -5      -18000\n",
       "3    IL   CST          -5      -18000\n",
       "4    IA   CST          -5      -18000"
      ]
     },
     "execution_count": 29,
     "metadata": {},
     "output_type": "execute_result"
    }
   ],
   "source": [
    "tz= pd.read_csv('./data/tz.csv')\n",
    "tz.head()"
   ]
  },
  {
   "cell_type": "code",
   "execution_count": 30,
   "metadata": {
    "collapsed": true
   },
   "outputs": [],
   "source": [
    "events = events.merge(tz,on='state',how='left', suffixes=('_l','_r'))"
   ]
  },
  {
   "cell_type": "code",
   "execution_count": 31,
   "metadata": {
    "collapsed": false
   },
   "outputs": [],
   "source": [
    "events['ts_UTC'] = [t + 1465876799998 for t in events['timestamp']]\n",
    "events['date_UTC'] = pd.to_datetime(events['ts_UTC'],unit='ms')"
   ]
  },
  {
   "cell_type": "code",
   "execution_count": 32,
   "metadata": {
    "collapsed": false
   },
   "outputs": [
    {
     "data": {
      "text/html": [
       "<div>\n",
       "<table border=\"1\" class=\"dataframe\">\n",
       "  <thead>\n",
       "    <tr style=\"text-align: right;\">\n",
       "      <th></th>\n",
       "      <th>display_id</th>\n",
       "      <th>uuid</th>\n",
       "      <th>document_id</th>\n",
       "      <th>timestamp</th>\n",
       "      <th>platform</th>\n",
       "      <th>geo_location</th>\n",
       "      <th>country</th>\n",
       "      <th>state</th>\n",
       "      <th>DMA</th>\n",
       "      <th>tz</th>\n",
       "      <th>utc_summer</th>\n",
       "      <th>tz_adj_sec</th>\n",
       "      <th>ts_UTC</th>\n",
       "      <th>date_UTC</th>\n",
       "      <th>ts_local</th>\n",
       "      <th>date_local</th>\n",
       "    </tr>\n",
       "  </thead>\n",
       "  <tbody>\n",
       "    <tr>\n",
       "      <th>12677742</th>\n",
       "      <td>16874588</td>\n",
       "      <td>1bf30bbd832319</td>\n",
       "      <td>2822648</td>\n",
       "      <td>1123199298</td>\n",
       "      <td>2</td>\n",
       "      <td>US&gt;VA&gt;511</td>\n",
       "      <td>US</td>\n",
       "      <td>VA</td>\n",
       "      <td>511</td>\n",
       "      <td>EST</td>\n",
       "      <td>-4</td>\n",
       "      <td>-14400</td>\n",
       "      <td>1466999999296</td>\n",
       "      <td>2016-06-27 03:59:59.296</td>\n",
       "      <td>1466985599296</td>\n",
       "      <td>2016-06-26 23:59:59.296</td>\n",
       "    </tr>\n",
       "    <tr>\n",
       "      <th>12677743</th>\n",
       "      <td>16874589</td>\n",
       "      <td>d2c47d8183e37b</td>\n",
       "      <td>876520</td>\n",
       "      <td>1123199313</td>\n",
       "      <td>3</td>\n",
       "      <td>US&gt;TN&gt;557</td>\n",
       "      <td>US</td>\n",
       "      <td>TN</td>\n",
       "      <td>557</td>\n",
       "      <td>CST</td>\n",
       "      <td>-5</td>\n",
       "      <td>-18000</td>\n",
       "      <td>1466999999311</td>\n",
       "      <td>2016-06-27 03:59:59.311</td>\n",
       "      <td>1466981999311</td>\n",
       "      <td>2016-06-26 22:59:59.311</td>\n",
       "    </tr>\n",
       "    <tr>\n",
       "      <th>12677744</th>\n",
       "      <td>16874590</td>\n",
       "      <td>4032cf074d74a3</td>\n",
       "      <td>2819923</td>\n",
       "      <td>1123199470</td>\n",
       "      <td>3</td>\n",
       "      <td>US&gt;NM&gt;790</td>\n",
       "      <td>US</td>\n",
       "      <td>NM</td>\n",
       "      <td>790</td>\n",
       "      <td>MST</td>\n",
       "      <td>-6</td>\n",
       "      <td>-21600</td>\n",
       "      <td>1466999999468</td>\n",
       "      <td>2016-06-27 03:59:59.468</td>\n",
       "      <td>1466978399468</td>\n",
       "      <td>2016-06-26 21:59:59.468</td>\n",
       "    </tr>\n",
       "    <tr>\n",
       "      <th>12677745</th>\n",
       "      <td>16874591</td>\n",
       "      <td>49396799cb3a40</td>\n",
       "      <td>2816969</td>\n",
       "      <td>1123199601</td>\n",
       "      <td>1</td>\n",
       "      <td>US&gt;IN&gt;582</td>\n",
       "      <td>US</td>\n",
       "      <td>IN</td>\n",
       "      <td>582</td>\n",
       "      <td>EST</td>\n",
       "      <td>-4</td>\n",
       "      <td>-14400</td>\n",
       "      <td>1466999999599</td>\n",
       "      <td>2016-06-27 03:59:59.599</td>\n",
       "      <td>1466985599599</td>\n",
       "      <td>2016-06-26 23:59:59.599</td>\n",
       "    </tr>\n",
       "    <tr>\n",
       "      <th>12677746</th>\n",
       "      <td>16874593</td>\n",
       "      <td>21f03d8a66e702</td>\n",
       "      <td>2777166</td>\n",
       "      <td>1123199936</td>\n",
       "      <td>2</td>\n",
       "      <td>US&gt;NJ&gt;501</td>\n",
       "      <td>US</td>\n",
       "      <td>NJ</td>\n",
       "      <td>501</td>\n",
       "      <td>EST</td>\n",
       "      <td>-4</td>\n",
       "      <td>-14400</td>\n",
       "      <td>1466999999934</td>\n",
       "      <td>2016-06-27 03:59:59.934</td>\n",
       "      <td>1466985599934</td>\n",
       "      <td>2016-06-26 23:59:59.934</td>\n",
       "    </tr>\n",
       "  </tbody>\n",
       "</table>\n",
       "</div>"
      ],
      "text/plain": [
       "          display_id            uuid  document_id   timestamp platform  \\\n",
       "12677742    16874588  1bf30bbd832319      2822648  1123199298        2   \n",
       "12677743    16874589  d2c47d8183e37b       876520  1123199313        3   \n",
       "12677744    16874590  4032cf074d74a3      2819923  1123199470        3   \n",
       "12677745    16874591  49396799cb3a40      2816969  1123199601        1   \n",
       "12677746    16874593  21f03d8a66e702      2777166  1123199936        2   \n",
       "\n",
       "         geo_location country state  DMA   tz  utc_summer  tz_adj_sec  \\\n",
       "12677742    US>VA>511      US    VA  511  EST          -4      -14400   \n",
       "12677743    US>TN>557      US    TN  557  CST          -5      -18000   \n",
       "12677744    US>NM>790      US    NM  790  MST          -6      -21600   \n",
       "12677745    US>IN>582      US    IN  582  EST          -4      -14400   \n",
       "12677746    US>NJ>501      US    NJ  501  EST          -4      -14400   \n",
       "\n",
       "                 ts_UTC                date_UTC       ts_local  \\\n",
       "12677742  1466999999296 2016-06-27 03:59:59.296  1466985599296   \n",
       "12677743  1466999999311 2016-06-27 03:59:59.311  1466981999311   \n",
       "12677744  1466999999468 2016-06-27 03:59:59.468  1466978399468   \n",
       "12677745  1466999999599 2016-06-27 03:59:59.599  1466985599599   \n",
       "12677746  1466999999934 2016-06-27 03:59:59.934  1466985599934   \n",
       "\n",
       "                      date_local  \n",
       "12677742 2016-06-26 23:59:59.296  \n",
       "12677743 2016-06-26 22:59:59.311  \n",
       "12677744 2016-06-26 21:59:59.468  \n",
       "12677745 2016-06-26 23:59:59.599  \n",
       "12677746 2016-06-26 23:59:59.934  "
      ]
     },
     "execution_count": 32,
     "metadata": {},
     "output_type": "execute_result"
    }
   ],
   "source": [
    "events['ts_local'] = events['ts_UTC'] + 1000*events['tz_adj_sec']  # assigned to a column\n",
    "events['date_local'] = pd.to_datetime(events['ts_local'],unit='ms')\n",
    "events.tail()"
   ]
  },
  {
   "cell_type": "code",
   "execution_count": 33,
   "metadata": {
    "collapsed": false
   },
   "outputs": [],
   "source": [
    "events.drop(['utc_summer','timestamp','tz','utc_summer','tz_adj_sec','ts_UTC'],\\\n",
    "            axis=1, inplace=True)"
   ]
  },
  {
   "cell_type": "code",
   "execution_count": 34,
   "metadata": {
    "collapsed": false
   },
   "outputs": [],
   "source": [
    "events.drop(['date_UTC','ts_local'], axis=1, inplace=True)"
   ]
  },
  {
   "cell_type": "code",
   "execution_count": 35,
   "metadata": {
    "collapsed": false
   },
   "outputs": [
    {
     "data": {
      "text/html": [
       "<div>\n",
       "<table border=\"1\" class=\"dataframe\">\n",
       "  <thead>\n",
       "    <tr style=\"text-align: right;\">\n",
       "      <th></th>\n",
       "      <th>display_id</th>\n",
       "      <th>uuid</th>\n",
       "      <th>document_id</th>\n",
       "      <th>platform</th>\n",
       "      <th>geo_location</th>\n",
       "      <th>country</th>\n",
       "      <th>state</th>\n",
       "      <th>DMA</th>\n",
       "      <th>date_local</th>\n",
       "    </tr>\n",
       "  </thead>\n",
       "  <tbody>\n",
       "    <tr>\n",
       "      <th>0</th>\n",
       "      <td>1</td>\n",
       "      <td>cb8c55702adb93</td>\n",
       "      <td>379743</td>\n",
       "      <td>3</td>\n",
       "      <td>US&gt;SC&gt;519</td>\n",
       "      <td>US</td>\n",
       "      <td>SC</td>\n",
       "      <td>519</td>\n",
       "      <td>2016-06-14 00:00:00.059</td>\n",
       "    </tr>\n",
       "    <tr>\n",
       "      <th>1</th>\n",
       "      <td>2</td>\n",
       "      <td>79a85fa78311b9</td>\n",
       "      <td>1794259</td>\n",
       "      <td>2</td>\n",
       "      <td>US&gt;CA&gt;807</td>\n",
       "      <td>US</td>\n",
       "      <td>CA</td>\n",
       "      <td>807</td>\n",
       "      <td>2016-06-13 21:00:00.079</td>\n",
       "    </tr>\n",
       "    <tr>\n",
       "      <th>2</th>\n",
       "      <td>3</td>\n",
       "      <td>822932ce3d8757</td>\n",
       "      <td>1179111</td>\n",
       "      <td>2</td>\n",
       "      <td>US&gt;MI&gt;505</td>\n",
       "      <td>US</td>\n",
       "      <td>MI</td>\n",
       "      <td>505</td>\n",
       "      <td>2016-06-14 00:00:00.180</td>\n",
       "    </tr>\n",
       "    <tr>\n",
       "      <th>3</th>\n",
       "      <td>4</td>\n",
       "      <td>85281d0a49f7ac</td>\n",
       "      <td>1777797</td>\n",
       "      <td>2</td>\n",
       "      <td>US&gt;WV&gt;564</td>\n",
       "      <td>US</td>\n",
       "      <td>WV</td>\n",
       "      <td>564</td>\n",
       "      <td>2016-06-14 00:00:00.232</td>\n",
       "    </tr>\n",
       "    <tr>\n",
       "      <th>4</th>\n",
       "      <td>6</td>\n",
       "      <td>7765b4faae4ad4</td>\n",
       "      <td>1773517</td>\n",
       "      <td>3</td>\n",
       "      <td>US&gt;OH&gt;510</td>\n",
       "      <td>US</td>\n",
       "      <td>OH</td>\n",
       "      <td>510</td>\n",
       "      <td>2016-06-14 00:00:00.393</td>\n",
       "    </tr>\n",
       "  </tbody>\n",
       "</table>\n",
       "</div>"
      ],
      "text/plain": [
       "   display_id            uuid  document_id platform geo_location country  \\\n",
       "0           1  cb8c55702adb93       379743        3    US>SC>519      US   \n",
       "1           2  79a85fa78311b9      1794259        2    US>CA>807      US   \n",
       "2           3  822932ce3d8757      1179111        2    US>MI>505      US   \n",
       "3           4  85281d0a49f7ac      1777797        2    US>WV>564      US   \n",
       "4           6  7765b4faae4ad4      1773517        3    US>OH>510      US   \n",
       "\n",
       "  state  DMA              date_local  \n",
       "0    SC  519 2016-06-14 00:00:00.059  \n",
       "1    CA  807 2016-06-13 21:00:00.079  \n",
       "2    MI  505 2016-06-14 00:00:00.180  \n",
       "3    WV  564 2016-06-14 00:00:00.232  \n",
       "4    OH  510 2016-06-14 00:00:00.393  "
      ]
     },
     "execution_count": 35,
     "metadata": {},
     "output_type": "execute_result"
    }
   ],
   "source": [
    "events.head()"
   ]
  },
  {
   "cell_type": "code",
   "execution_count": null,
   "metadata": {
    "collapsed": true
   },
   "outputs": [],
   "source": []
  },
  {
   "cell_type": "markdown",
   "metadata": {},
   "source": [
    "## Now slice and dice main data and events data to what is needed to run models\n",
    "\n",
    "This will be 5,000 for training data and 500 for test data\n",
    "\n",
    "* Random list of 5,500\n",
    "* Filter EVENTS\n",
    "    * Done a few steps above\n",
    "* Filter df1 and df2 for 5.5k id's in sample list\n",
    "    * Merge now that down to manageable size\n",
    "    * Split into train and test\n",
    "    * Save to MySQL"
   ]
  },
  {
   "cell_type": "code",
   "execution_count": 36,
   "metadata": {
    "collapsed": false
   },
   "outputs": [],
   "source": [
    "import random\n",
    "\n",
    "# Random list from event_id list of df1 & df2\n",
    "random.seed(a=47)\n",
    "rand_list = random.sample(event_US_id,5500)\n",
    "\n",
    "train_list = rand_list[:5000]\n",
    "test_list = rand_list[5000:]\n"
   ]
  },
  {
   "cell_type": "code",
   "execution_count": 37,
   "metadata": {
    "collapsed": false
   },
   "outputs": [],
   "source": [
    "train1 = df1[df1['display_id'].isin(train_list)]\n",
    "train2 = df2[df2['display_id'].isin(train_list)]\n",
    "test1 = df1[df1['display_id'].isin(test_list)]\n",
    "test2 = df2[df2['display_id'].isin(test_list)]\n"
   ]
  },
  {
   "cell_type": "code",
   "execution_count": 38,
   "metadata": {
    "collapsed": false
   },
   "outputs": [],
   "source": [
    "train_US = pd.concat([train1,train2], axis=0)\n",
    "test_US = pd.concat([test1,test2], axis=0)"
   ]
  },
  {
   "cell_type": "code",
   "execution_count": 39,
   "metadata": {
    "collapsed": false
   },
   "outputs": [
    {
     "data": {
      "text/html": [
       "<div>\n",
       "<table border=\"1\" class=\"dataframe\">\n",
       "  <thead>\n",
       "    <tr style=\"text-align: right;\">\n",
       "      <th></th>\n",
       "      <th>display_id</th>\n",
       "      <th>ad_id</th>\n",
       "      <th>clicked</th>\n",
       "    </tr>\n",
       "  </thead>\n",
       "  <tbody>\n",
       "    <tr>\n",
       "      <th>9140</th>\n",
       "      <td>1796</td>\n",
       "      <td>9638</td>\n",
       "      <td>1</td>\n",
       "    </tr>\n",
       "    <tr>\n",
       "      <th>9141</th>\n",
       "      <td>1796</td>\n",
       "      <td>14120</td>\n",
       "      <td>0</td>\n",
       "    </tr>\n",
       "    <tr>\n",
       "      <th>9142</th>\n",
       "      <td>1796</td>\n",
       "      <td>134057</td>\n",
       "      <td>0</td>\n",
       "    </tr>\n",
       "  </tbody>\n",
       "</table>\n",
       "</div>"
      ],
      "text/plain": [
       "      display_id   ad_id  clicked\n",
       "9140        1796    9638        1\n",
       "9141        1796   14120        0\n",
       "9142        1796  134057        0"
      ]
     },
     "execution_count": 39,
     "metadata": {},
     "output_type": "execute_result"
    }
   ],
   "source": [
    "train_US.head(3)"
   ]
  },
  {
   "cell_type": "code",
   "execution_count": 40,
   "metadata": {
    "collapsed": false
   },
   "outputs": [
    {
     "name": "stdout",
     "output_type": "stream",
     "text": [
      "Number of events in train data: 5,000\n",
      "Number of rows (total ads shown) in train data: 25,744\n"
     ]
    }
   ],
   "source": [
    "print('Number of events in train data: {0:,}'.format(train_US['display_id'].nunique()))\n",
    "print('Number of rows (total ads shown) in train data: {0:,}'.\\\n",
    "      format(len(train_US['display_id'])))"
   ]
  },
  {
   "cell_type": "code",
   "execution_count": 41,
   "metadata": {
    "collapsed": false
   },
   "outputs": [
    {
     "name": "stdout",
     "output_type": "stream",
     "text": [
      "Number of events in test data: 500\n",
      "Number of rows (total ads shown) in test data: 2,649\n"
     ]
    }
   ],
   "source": [
    "print('Number of events in test data: {0:,}'.format(test_US['display_id'].nunique()))\n",
    "print('Number of rows (total ads shown) in test data: {0:,}'.\\\n",
    "      format(len(test_US['display_id'])))\n"
   ]
  },
  {
   "cell_type": "code",
   "execution_count": 42,
   "metadata": {
    "collapsed": true
   },
   "outputs": [],
   "source": [
    "# clean up dataframes no longer being used:\n",
    "del df1, df2, train1, train2, test1, test2"
   ]
  },
  {
   "cell_type": "markdown",
   "metadata": {},
   "source": [
    "## Merge click and event data into main dataframe"
   ]
  },
  {
   "cell_type": "code",
   "execution_count": 43,
   "metadata": {
    "collapsed": true
   },
   "outputs": [],
   "source": [
    "data_test = test_US.merge(events,on='display_id',how='left', suffixes=('_l','_r'))\n",
    "data_train = train_US.merge(events,on='display_id',how='left', suffixes=('_l','_r'))"
   ]
  },
  {
   "cell_type": "code",
   "execution_count": 44,
   "metadata": {
    "collapsed": false
   },
   "outputs": [
    {
     "data": {
      "text/html": [
       "<div>\n",
       "<table border=\"1\" class=\"dataframe\">\n",
       "  <thead>\n",
       "    <tr style=\"text-align: right;\">\n",
       "      <th></th>\n",
       "      <th>display_id</th>\n",
       "      <th>ad_id</th>\n",
       "      <th>clicked</th>\n",
       "      <th>uuid</th>\n",
       "      <th>document_id</th>\n",
       "      <th>platform</th>\n",
       "      <th>geo_location</th>\n",
       "      <th>country</th>\n",
       "      <th>state</th>\n",
       "      <th>DMA</th>\n",
       "      <th>date_local</th>\n",
       "    </tr>\n",
       "  </thead>\n",
       "  <tbody>\n",
       "    <tr>\n",
       "      <th>2643</th>\n",
       "      <td>16838190</td>\n",
       "      <td>8561</td>\n",
       "      <td>0</td>\n",
       "      <td>a92dc3af90157a</td>\n",
       "      <td>1655195</td>\n",
       "      <td>1</td>\n",
       "      <td>US&gt;VA&gt;511</td>\n",
       "      <td>US</td>\n",
       "      <td>VA</td>\n",
       "      <td>511</td>\n",
       "      <td>2016-06-26 23:21:57.782</td>\n",
       "    </tr>\n",
       "    <tr>\n",
       "      <th>2644</th>\n",
       "      <td>16838190</td>\n",
       "      <td>76898</td>\n",
       "      <td>0</td>\n",
       "      <td>a92dc3af90157a</td>\n",
       "      <td>1655195</td>\n",
       "      <td>1</td>\n",
       "      <td>US&gt;VA&gt;511</td>\n",
       "      <td>US</td>\n",
       "      <td>VA</td>\n",
       "      <td>511</td>\n",
       "      <td>2016-06-26 23:21:57.782</td>\n",
       "    </tr>\n",
       "    <tr>\n",
       "      <th>2645</th>\n",
       "      <td>16838190</td>\n",
       "      <td>99081</td>\n",
       "      <td>0</td>\n",
       "      <td>a92dc3af90157a</td>\n",
       "      <td>1655195</td>\n",
       "      <td>1</td>\n",
       "      <td>US&gt;VA&gt;511</td>\n",
       "      <td>US</td>\n",
       "      <td>VA</td>\n",
       "      <td>511</td>\n",
       "      <td>2016-06-26 23:21:57.782</td>\n",
       "    </tr>\n",
       "    <tr>\n",
       "      <th>2646</th>\n",
       "      <td>16838190</td>\n",
       "      <td>105336</td>\n",
       "      <td>0</td>\n",
       "      <td>a92dc3af90157a</td>\n",
       "      <td>1655195</td>\n",
       "      <td>1</td>\n",
       "      <td>US&gt;VA&gt;511</td>\n",
       "      <td>US</td>\n",
       "      <td>VA</td>\n",
       "      <td>511</td>\n",
       "      <td>2016-06-26 23:21:57.782</td>\n",
       "    </tr>\n",
       "    <tr>\n",
       "      <th>2647</th>\n",
       "      <td>16838190</td>\n",
       "      <td>150808</td>\n",
       "      <td>1</td>\n",
       "      <td>a92dc3af90157a</td>\n",
       "      <td>1655195</td>\n",
       "      <td>1</td>\n",
       "      <td>US&gt;VA&gt;511</td>\n",
       "      <td>US</td>\n",
       "      <td>VA</td>\n",
       "      <td>511</td>\n",
       "      <td>2016-06-26 23:21:57.782</td>\n",
       "    </tr>\n",
       "    <tr>\n",
       "      <th>2648</th>\n",
       "      <td>16838190</td>\n",
       "      <td>197526</td>\n",
       "      <td>0</td>\n",
       "      <td>a92dc3af90157a</td>\n",
       "      <td>1655195</td>\n",
       "      <td>1</td>\n",
       "      <td>US&gt;VA&gt;511</td>\n",
       "      <td>US</td>\n",
       "      <td>VA</td>\n",
       "      <td>511</td>\n",
       "      <td>2016-06-26 23:21:57.782</td>\n",
       "    </tr>\n",
       "  </tbody>\n",
       "</table>\n",
       "</div>"
      ],
      "text/plain": [
       "      display_id   ad_id  clicked            uuid  document_id platform  \\\n",
       "2643    16838190    8561        0  a92dc3af90157a      1655195        1   \n",
       "2644    16838190   76898        0  a92dc3af90157a      1655195        1   \n",
       "2645    16838190   99081        0  a92dc3af90157a      1655195        1   \n",
       "2646    16838190  105336        0  a92dc3af90157a      1655195        1   \n",
       "2647    16838190  150808        1  a92dc3af90157a      1655195        1   \n",
       "2648    16838190  197526        0  a92dc3af90157a      1655195        1   \n",
       "\n",
       "     geo_location country state  DMA              date_local  \n",
       "2643    US>VA>511      US    VA  511 2016-06-26 23:21:57.782  \n",
       "2644    US>VA>511      US    VA  511 2016-06-26 23:21:57.782  \n",
       "2645    US>VA>511      US    VA  511 2016-06-26 23:21:57.782  \n",
       "2646    US>VA>511      US    VA  511 2016-06-26 23:21:57.782  \n",
       "2647    US>VA>511      US    VA  511 2016-06-26 23:21:57.782  \n",
       "2648    US>VA>511      US    VA  511 2016-06-26 23:21:57.782  "
      ]
     },
     "execution_count": 44,
     "metadata": {},
     "output_type": "execute_result"
    }
   ],
   "source": [
    "data_test.tail(6)"
   ]
  },
  {
   "cell_type": "code",
   "execution_count": 45,
   "metadata": {
    "collapsed": false
   },
   "outputs": [
    {
     "name": "stdout",
     "output_type": "stream",
     "text": [
      "<class 'pandas.core.frame.DataFrame'>\n",
      "Int64Index: 2649 entries, 0 to 2648\n",
      "Data columns (total 11 columns):\n",
      "display_id      2649 non-null int64\n",
      "ad_id           2649 non-null int64\n",
      "clicked         2649 non-null int64\n",
      "uuid            2649 non-null object\n",
      "document_id     2649 non-null int64\n",
      "platform        2649 non-null object\n",
      "geo_location    2649 non-null object\n",
      "country         2649 non-null object\n",
      "state           2649 non-null object\n",
      "DMA             2649 non-null object\n",
      "date_local      2649 non-null datetime64[ns]\n",
      "dtypes: datetime64[ns](1), int64(4), object(6)\n",
      "memory usage: 248.3+ KB\n"
     ]
    }
   ],
   "source": [
    "data_test.info()"
   ]
  },
  {
   "cell_type": "code",
   "execution_count": 46,
   "metadata": {
    "collapsed": false
   },
   "outputs": [
    {
     "name": "stdout",
     "output_type": "stream",
     "text": [
      "<class 'pandas.core.frame.DataFrame'>\n",
      "Int64Index: 25744 entries, 0 to 25743\n",
      "Data columns (total 11 columns):\n",
      "display_id      25744 non-null int64\n",
      "ad_id           25744 non-null int64\n",
      "clicked         25744 non-null int64\n",
      "uuid            25744 non-null object\n",
      "document_id     25744 non-null int64\n",
      "platform        25744 non-null object\n",
      "geo_location    25744 non-null object\n",
      "country         25744 non-null object\n",
      "state           25744 non-null object\n",
      "DMA             25744 non-null object\n",
      "date_local      25744 non-null datetime64[ns]\n",
      "dtypes: datetime64[ns](1), int64(4), object(6)\n",
      "memory usage: 2.4+ MB\n"
     ]
    }
   ],
   "source": [
    "data_train.info()"
   ]
  },
  {
   "cell_type": "markdown",
   "metadata": {},
   "source": [
    "## Bring in promoted content info\n",
    "This table ties the ad_id from the click data to the ad's document_id, the advertiser and the campaign. The document_id is key to pulling topical/categorical data later."
   ]
  },
  {
   "cell_type": "code",
   "execution_count": 47,
   "metadata": {
    "collapsed": false
   },
   "outputs": [
    {
     "data": {
      "text/html": [
       "<div>\n",
       "<table border=\"1\" class=\"dataframe\">\n",
       "  <thead>\n",
       "    <tr style=\"text-align: right;\">\n",
       "      <th></th>\n",
       "      <th>ad_id</th>\n",
       "      <th>document_id</th>\n",
       "      <th>campaign_id</th>\n",
       "      <th>advertiser_id</th>\n",
       "    </tr>\n",
       "  </thead>\n",
       "  <tbody>\n",
       "    <tr>\n",
       "      <th>0</th>\n",
       "      <td>1</td>\n",
       "      <td>6614</td>\n",
       "      <td>1</td>\n",
       "      <td>7</td>\n",
       "    </tr>\n",
       "    <tr>\n",
       "      <th>1</th>\n",
       "      <td>2</td>\n",
       "      <td>471467</td>\n",
       "      <td>2</td>\n",
       "      <td>7</td>\n",
       "    </tr>\n",
       "    <tr>\n",
       "      <th>2</th>\n",
       "      <td>3</td>\n",
       "      <td>7692</td>\n",
       "      <td>3</td>\n",
       "      <td>7</td>\n",
       "    </tr>\n",
       "    <tr>\n",
       "      <th>3</th>\n",
       "      <td>4</td>\n",
       "      <td>471471</td>\n",
       "      <td>2</td>\n",
       "      <td>7</td>\n",
       "    </tr>\n",
       "    <tr>\n",
       "      <th>4</th>\n",
       "      <td>5</td>\n",
       "      <td>471472</td>\n",
       "      <td>2</td>\n",
       "      <td>7</td>\n",
       "    </tr>\n",
       "  </tbody>\n",
       "</table>\n",
       "</div>"
      ],
      "text/plain": [
       "   ad_id  document_id  campaign_id  advertiser_id\n",
       "0      1         6614            1              7\n",
       "1      2       471467            2              7\n",
       "2      3         7692            3              7\n",
       "3      4       471471            2              7\n",
       "4      5       471472            2              7"
      ]
     },
     "execution_count": 47,
     "metadata": {},
     "output_type": "execute_result"
    }
   ],
   "source": [
    "pc = pd.read_csv('./data/promoted_content.csv')\n",
    "pc.head()"
   ]
  },
  {
   "cell_type": "code",
   "execution_count": 48,
   "metadata": {
    "collapsed": false
   },
   "outputs": [],
   "source": [
    "data_train = data_train.merge(pc,on='ad_id',how='left', suffixes=('_l','_r'))\n",
    "data_test = data_test.merge(pc,on='ad_id',how='left', suffixes=('_l','_r'))"
   ]
  },
  {
   "cell_type": "code",
   "execution_count": 49,
   "metadata": {
    "collapsed": false
   },
   "outputs": [
    {
     "data": {
      "text/html": [
       "<div>\n",
       "<table border=\"1\" class=\"dataframe\">\n",
       "  <thead>\n",
       "    <tr style=\"text-align: right;\">\n",
       "      <th></th>\n",
       "      <th>display_id</th>\n",
       "      <th>ad_id</th>\n",
       "      <th>clicked</th>\n",
       "      <th>uuid</th>\n",
       "      <th>document_id_l</th>\n",
       "      <th>platform</th>\n",
       "      <th>geo_location</th>\n",
       "      <th>country</th>\n",
       "      <th>state</th>\n",
       "      <th>DMA</th>\n",
       "      <th>date_local</th>\n",
       "      <th>document_id_r</th>\n",
       "      <th>campaign_id</th>\n",
       "      <th>advertiser_id</th>\n",
       "    </tr>\n",
       "  </thead>\n",
       "  <tbody>\n",
       "    <tr>\n",
       "      <th>0</th>\n",
       "      <td>1796</td>\n",
       "      <td>9638</td>\n",
       "      <td>1</td>\n",
       "      <td>6ebcd6c9c6bc96</td>\n",
       "      <td>1047732</td>\n",
       "      <td>2</td>\n",
       "      <td>US&gt;CA&gt;807</td>\n",
       "      <td>US</td>\n",
       "      <td>CA</td>\n",
       "      <td>807</td>\n",
       "      <td>2016-06-13 21:02:05.717</td>\n",
       "      <td>844724</td>\n",
       "      <td>1855</td>\n",
       "      <td>1197</td>\n",
       "    </tr>\n",
       "    <tr>\n",
       "      <th>1</th>\n",
       "      <td>1796</td>\n",
       "      <td>14120</td>\n",
       "      <td>0</td>\n",
       "      <td>6ebcd6c9c6bc96</td>\n",
       "      <td>1047732</td>\n",
       "      <td>2</td>\n",
       "      <td>US&gt;CA&gt;807</td>\n",
       "      <td>US</td>\n",
       "      <td>CA</td>\n",
       "      <td>807</td>\n",
       "      <td>2016-06-13 21:02:05.717</td>\n",
       "      <td>700394</td>\n",
       "      <td>2496</td>\n",
       "      <td>1222</td>\n",
       "    </tr>\n",
       "    <tr>\n",
       "      <th>2</th>\n",
       "      <td>1796</td>\n",
       "      <td>134057</td>\n",
       "      <td>0</td>\n",
       "      <td>6ebcd6c9c6bc96</td>\n",
       "      <td>1047732</td>\n",
       "      <td>2</td>\n",
       "      <td>US&gt;CA&gt;807</td>\n",
       "      <td>US</td>\n",
       "      <td>CA</td>\n",
       "      <td>807</td>\n",
       "      <td>2016-06-13 21:02:05.717</td>\n",
       "      <td>1139308</td>\n",
       "      <td>6269</td>\n",
       "      <td>1043</td>\n",
       "    </tr>\n",
       "    <tr>\n",
       "      <th>3</th>\n",
       "      <td>1796</td>\n",
       "      <td>141437</td>\n",
       "      <td>0</td>\n",
       "      <td>6ebcd6c9c6bc96</td>\n",
       "      <td>1047732</td>\n",
       "      <td>2</td>\n",
       "      <td>US&gt;CA&gt;807</td>\n",
       "      <td>US</td>\n",
       "      <td>CA</td>\n",
       "      <td>807</td>\n",
       "      <td>2016-06-13 21:02:05.717</td>\n",
       "      <td>1325421</td>\n",
       "      <td>18107</td>\n",
       "      <td>2151</td>\n",
       "    </tr>\n",
       "    <tr>\n",
       "      <th>4</th>\n",
       "      <td>7314</td>\n",
       "      <td>202991</td>\n",
       "      <td>0</td>\n",
       "      <td>e0ff8bc8860f93</td>\n",
       "      <td>1608197</td>\n",
       "      <td>2</td>\n",
       "      <td>US&gt;MI&gt;505</td>\n",
       "      <td>US</td>\n",
       "      <td>MI</td>\n",
       "      <td>505</td>\n",
       "      <td>2016-06-14 00:08:21.809</td>\n",
       "      <td>1517459</td>\n",
       "      <td>23497</td>\n",
       "      <td>2043</td>\n",
       "    </tr>\n",
       "  </tbody>\n",
       "</table>\n",
       "</div>"
      ],
      "text/plain": [
       "   display_id   ad_id  clicked            uuid  document_id_l platform  \\\n",
       "0        1796    9638        1  6ebcd6c9c6bc96        1047732        2   \n",
       "1        1796   14120        0  6ebcd6c9c6bc96        1047732        2   \n",
       "2        1796  134057        0  6ebcd6c9c6bc96        1047732        2   \n",
       "3        1796  141437        0  6ebcd6c9c6bc96        1047732        2   \n",
       "4        7314  202991        0  e0ff8bc8860f93        1608197        2   \n",
       "\n",
       "  geo_location country state  DMA              date_local  document_id_r  \\\n",
       "0    US>CA>807      US    CA  807 2016-06-13 21:02:05.717         844724   \n",
       "1    US>CA>807      US    CA  807 2016-06-13 21:02:05.717         700394   \n",
       "2    US>CA>807      US    CA  807 2016-06-13 21:02:05.717        1139308   \n",
       "3    US>CA>807      US    CA  807 2016-06-13 21:02:05.717        1325421   \n",
       "4    US>MI>505      US    MI  505 2016-06-14 00:08:21.809        1517459   \n",
       "\n",
       "   campaign_id  advertiser_id  \n",
       "0         1855           1197  \n",
       "1         2496           1222  \n",
       "2         6269           1043  \n",
       "3        18107           2151  \n",
       "4        23497           2043  "
      ]
     },
     "execution_count": 49,
     "metadata": {},
     "output_type": "execute_result"
    }
   ],
   "source": [
    "data_train.head()"
   ]
  },
  {
   "cell_type": "code",
   "execution_count": 50,
   "metadata": {
    "collapsed": true
   },
   "outputs": [],
   "source": [
    "data_train.rename(columns={'document_id_l':'document_id','document_id_r':'ad_document_id' },\\\n",
    "                    inplace=True)\n",
    "data_test.rename(columns={'document_id_l':'document_id','document_id_r':'ad_document_id' },\\\n",
    "                    inplace=True)"
   ]
  },
  {
   "cell_type": "code",
   "execution_count": 51,
   "metadata": {
    "collapsed": false
   },
   "outputs": [
    {
     "data": {
      "text/html": [
       "<div>\n",
       "<table border=\"1\" class=\"dataframe\">\n",
       "  <thead>\n",
       "    <tr style=\"text-align: right;\">\n",
       "      <th></th>\n",
       "      <th>display_id</th>\n",
       "      <th>ad_id</th>\n",
       "      <th>clicked</th>\n",
       "      <th>uuid</th>\n",
       "      <th>document_id</th>\n",
       "      <th>platform</th>\n",
       "      <th>geo_location</th>\n",
       "      <th>country</th>\n",
       "      <th>state</th>\n",
       "      <th>DMA</th>\n",
       "      <th>date_local</th>\n",
       "      <th>ad_document_id</th>\n",
       "      <th>campaign_id</th>\n",
       "      <th>advertiser_id</th>\n",
       "    </tr>\n",
       "  </thead>\n",
       "  <tbody>\n",
       "    <tr>\n",
       "      <th>0</th>\n",
       "      <td>1796</td>\n",
       "      <td>9638</td>\n",
       "      <td>1</td>\n",
       "      <td>6ebcd6c9c6bc96</td>\n",
       "      <td>1047732</td>\n",
       "      <td>2</td>\n",
       "      <td>US&gt;CA&gt;807</td>\n",
       "      <td>US</td>\n",
       "      <td>CA</td>\n",
       "      <td>807</td>\n",
       "      <td>2016-06-13 21:02:05.717</td>\n",
       "      <td>844724</td>\n",
       "      <td>1855</td>\n",
       "      <td>1197</td>\n",
       "    </tr>\n",
       "    <tr>\n",
       "      <th>1</th>\n",
       "      <td>1796</td>\n",
       "      <td>14120</td>\n",
       "      <td>0</td>\n",
       "      <td>6ebcd6c9c6bc96</td>\n",
       "      <td>1047732</td>\n",
       "      <td>2</td>\n",
       "      <td>US&gt;CA&gt;807</td>\n",
       "      <td>US</td>\n",
       "      <td>CA</td>\n",
       "      <td>807</td>\n",
       "      <td>2016-06-13 21:02:05.717</td>\n",
       "      <td>700394</td>\n",
       "      <td>2496</td>\n",
       "      <td>1222</td>\n",
       "    </tr>\n",
       "    <tr>\n",
       "      <th>2</th>\n",
       "      <td>1796</td>\n",
       "      <td>134057</td>\n",
       "      <td>0</td>\n",
       "      <td>6ebcd6c9c6bc96</td>\n",
       "      <td>1047732</td>\n",
       "      <td>2</td>\n",
       "      <td>US&gt;CA&gt;807</td>\n",
       "      <td>US</td>\n",
       "      <td>CA</td>\n",
       "      <td>807</td>\n",
       "      <td>2016-06-13 21:02:05.717</td>\n",
       "      <td>1139308</td>\n",
       "      <td>6269</td>\n",
       "      <td>1043</td>\n",
       "    </tr>\n",
       "  </tbody>\n",
       "</table>\n",
       "</div>"
      ],
      "text/plain": [
       "   display_id   ad_id  clicked            uuid  document_id platform  \\\n",
       "0        1796    9638        1  6ebcd6c9c6bc96      1047732        2   \n",
       "1        1796   14120        0  6ebcd6c9c6bc96      1047732        2   \n",
       "2        1796  134057        0  6ebcd6c9c6bc96      1047732        2   \n",
       "\n",
       "  geo_location country state  DMA              date_local  ad_document_id  \\\n",
       "0    US>CA>807      US    CA  807 2016-06-13 21:02:05.717          844724   \n",
       "1    US>CA>807      US    CA  807 2016-06-13 21:02:05.717          700394   \n",
       "2    US>CA>807      US    CA  807 2016-06-13 21:02:05.717         1139308   \n",
       "\n",
       "   campaign_id  advertiser_id  \n",
       "0         1855           1197  \n",
       "1         2496           1222  \n",
       "2         6269           1043  "
      ]
     },
     "execution_count": 51,
     "metadata": {},
     "output_type": "execute_result"
    }
   ],
   "source": [
    "data_train.head(3)"
   ]
  },
  {
   "cell_type": "code",
   "execution_count": 52,
   "metadata": {
    "collapsed": false
   },
   "outputs": [
    {
     "data": {
      "text/html": [
       "<div>\n",
       "<table border=\"1\" class=\"dataframe\">\n",
       "  <thead>\n",
       "    <tr style=\"text-align: right;\">\n",
       "      <th></th>\n",
       "      <th>display_id</th>\n",
       "      <th>ad_id</th>\n",
       "      <th>clicked</th>\n",
       "      <th>uuid</th>\n",
       "      <th>document_id</th>\n",
       "      <th>platform</th>\n",
       "      <th>geo_location</th>\n",
       "      <th>country</th>\n",
       "      <th>state</th>\n",
       "      <th>DMA</th>\n",
       "      <th>date_local</th>\n",
       "      <th>ad_document_id</th>\n",
       "      <th>campaign_id</th>\n",
       "      <th>advertiser_id</th>\n",
       "    </tr>\n",
       "  </thead>\n",
       "  <tbody>\n",
       "    <tr>\n",
       "      <th>0</th>\n",
       "      <td>65537</td>\n",
       "      <td>47575</td>\n",
       "      <td>0</td>\n",
       "      <td>416a527548d8f5</td>\n",
       "      <td>279813</td>\n",
       "      <td>2</td>\n",
       "      <td>US&gt;TX&gt;618</td>\n",
       "      <td>US</td>\n",
       "      <td>TX</td>\n",
       "      <td>618</td>\n",
       "      <td>2016-06-14 00:29:14.664</td>\n",
       "      <td>954537</td>\n",
       "      <td>6560</td>\n",
       "      <td>1890</td>\n",
       "    </tr>\n",
       "    <tr>\n",
       "      <th>1</th>\n",
       "      <td>65537</td>\n",
       "      <td>59603</td>\n",
       "      <td>0</td>\n",
       "      <td>416a527548d8f5</td>\n",
       "      <td>279813</td>\n",
       "      <td>2</td>\n",
       "      <td>US&gt;TX&gt;618</td>\n",
       "      <td>US</td>\n",
       "      <td>TX</td>\n",
       "      <td>618</td>\n",
       "      <td>2016-06-14 00:29:14.664</td>\n",
       "      <td>834542</td>\n",
       "      <td>7978</td>\n",
       "      <td>1521</td>\n",
       "    </tr>\n",
       "    <tr>\n",
       "      <th>2</th>\n",
       "      <td>65537</td>\n",
       "      <td>149931</td>\n",
       "      <td>0</td>\n",
       "      <td>416a527548d8f5</td>\n",
       "      <td>279813</td>\n",
       "      <td>2</td>\n",
       "      <td>US&gt;TX&gt;618</td>\n",
       "      <td>US</td>\n",
       "      <td>TX</td>\n",
       "      <td>618</td>\n",
       "      <td>2016-06-14 00:29:14.664</td>\n",
       "      <td>1357158</td>\n",
       "      <td>19011</td>\n",
       "      <td>1819</td>\n",
       "    </tr>\n",
       "  </tbody>\n",
       "</table>\n",
       "</div>"
      ],
      "text/plain": [
       "   display_id   ad_id  clicked            uuid  document_id platform  \\\n",
       "0       65537   47575        0  416a527548d8f5       279813        2   \n",
       "1       65537   59603        0  416a527548d8f5       279813        2   \n",
       "2       65537  149931        0  416a527548d8f5       279813        2   \n",
       "\n",
       "  geo_location country state  DMA              date_local  ad_document_id  \\\n",
       "0    US>TX>618      US    TX  618 2016-06-14 00:29:14.664          954537   \n",
       "1    US>TX>618      US    TX  618 2016-06-14 00:29:14.664          834542   \n",
       "2    US>TX>618      US    TX  618 2016-06-14 00:29:14.664         1357158   \n",
       "\n",
       "   campaign_id  advertiser_id  \n",
       "0         6560           1890  \n",
       "1         7978           1521  \n",
       "2        19011           1819  "
      ]
     },
     "execution_count": 52,
     "metadata": {},
     "output_type": "execute_result"
    }
   ],
   "source": [
    "data_test.head(3)"
   ]
  },
  {
   "cell_type": "code",
   "execution_count": 53,
   "metadata": {
    "collapsed": false
   },
   "outputs": [
    {
     "data": {
      "text/html": [
       "<div>\n",
       "<table border=\"1\" class=\"dataframe\">\n",
       "  <thead>\n",
       "    <tr style=\"text-align: right;\">\n",
       "      <th></th>\n",
       "      <th>display_id</th>\n",
       "      <th>ad_id</th>\n",
       "      <th>clicked</th>\n",
       "      <th>uuid</th>\n",
       "      <th>document_id</th>\n",
       "      <th>platform</th>\n",
       "      <th>geo_location</th>\n",
       "      <th>country</th>\n",
       "      <th>state</th>\n",
       "      <th>DMA</th>\n",
       "      <th>date_local</th>\n",
       "      <th>ad_document_id</th>\n",
       "      <th>campaign_id</th>\n",
       "      <th>advertiser_id</th>\n",
       "    </tr>\n",
       "  </thead>\n",
       "  <tbody>\n",
       "    <tr>\n",
       "      <th>1</th>\n",
       "      <td>1796</td>\n",
       "      <td>14120</td>\n",
       "      <td>0</td>\n",
       "      <td>6ebcd6c9c6bc96</td>\n",
       "      <td>1047732</td>\n",
       "      <td>2</td>\n",
       "      <td>US&gt;CA&gt;807</td>\n",
       "      <td>US</td>\n",
       "      <td>CA</td>\n",
       "      <td>807</td>\n",
       "      <td>2016-06-13 21:02:05.717</td>\n",
       "      <td>700394</td>\n",
       "      <td>2496</td>\n",
       "      <td>1222</td>\n",
       "    </tr>\n",
       "  </tbody>\n",
       "</table>\n",
       "</div>"
      ],
      "text/plain": [
       "   display_id  ad_id  clicked            uuid  document_id platform  \\\n",
       "1        1796  14120        0  6ebcd6c9c6bc96      1047732        2   \n",
       "\n",
       "  geo_location country state  DMA              date_local  ad_document_id  \\\n",
       "1    US>CA>807      US    CA  807 2016-06-13 21:02:05.717          700394   \n",
       "\n",
       "   campaign_id  advertiser_id  \n",
       "1         2496           1222  "
      ]
     },
     "execution_count": 53,
     "metadata": {},
     "output_type": "execute_result"
    }
   ],
   "source": [
    "data_train[(data_train['document_id'] == 1047732) &\\\n",
    "             (data_train['ad_document_id'] == 700394)]\n"
   ]
  },
  {
   "cell_type": "markdown",
   "metadata": {
    "collapsed": true
   },
   "source": [
    "## Bring in Document Data\n",
    "There are three sets of document data that attempt to classify the material inside a document page:\n",
    "* Topic\n",
    "* Category\n",
    "* Entity <br>\n",
    "\n",
    "Some documents have more than one of the above for categorization, in those cases the item with the highest confidence level will be added to the table."
   ]
  },
  {
   "cell_type": "code",
   "execution_count": 54,
   "metadata": {
    "collapsed": true
   },
   "outputs": [],
   "source": [
    "d_top = pd.read_csv('./data/documents_topics.csv')\n",
    "d_cat = pd.read_csv('./data/documents_categories.csv')\n",
    "d_ent = pd.read_csv('./data/documents_entities.csv')"
   ]
  },
  {
   "cell_type": "code",
   "execution_count": 88,
   "metadata": {
    "collapsed": false
   },
   "outputs": [
    {
     "data": {
      "text/html": [
       "<div>\n",
       "<table border=\"1\" class=\"dataframe\">\n",
       "  <thead>\n",
       "    <tr style=\"text-align: right;\">\n",
       "      <th></th>\n",
       "      <th>document_id</th>\n",
       "      <th>category_id</th>\n",
       "      <th>confidence_level</th>\n",
       "    </tr>\n",
       "  </thead>\n",
       "  <tbody>\n",
       "    <tr>\n",
       "      <th>0</th>\n",
       "      <td>1595802</td>\n",
       "      <td>1611</td>\n",
       "      <td>0.92</td>\n",
       "    </tr>\n",
       "    <tr>\n",
       "      <th>1</th>\n",
       "      <td>1595802</td>\n",
       "      <td>1610</td>\n",
       "      <td>0.07</td>\n",
       "    </tr>\n",
       "  </tbody>\n",
       "</table>\n",
       "</div>"
      ],
      "text/plain": [
       "   document_id  category_id  confidence_level\n",
       "0      1595802         1611              0.92\n",
       "1      1595802         1610              0.07"
      ]
     },
     "execution_count": 88,
     "metadata": {},
     "output_type": "execute_result"
    }
   ],
   "source": [
    "d_cat.head(2)"
   ]
  },
  {
   "cell_type": "code",
   "execution_count": 89,
   "metadata": {
    "collapsed": false
   },
   "outputs": [
    {
     "data": {
      "text/html": [
       "<div>\n",
       "<table border=\"1\" class=\"dataframe\">\n",
       "  <thead>\n",
       "    <tr style=\"text-align: right;\">\n",
       "      <th></th>\n",
       "      <th>document_id</th>\n",
       "      <th>entity_id</th>\n",
       "      <th>confidence_level</th>\n",
       "    </tr>\n",
       "  </thead>\n",
       "  <tbody>\n",
       "    <tr>\n",
       "      <th>0</th>\n",
       "      <td>1524246</td>\n",
       "      <td>f9eec25663db4cd83183f5c805186f16</td>\n",
       "      <td>0.672865</td>\n",
       "    </tr>\n",
       "    <tr>\n",
       "      <th>1</th>\n",
       "      <td>1524246</td>\n",
       "      <td>55ebcfbdaff1d6f60b3907151f38527a</td>\n",
       "      <td>0.399114</td>\n",
       "    </tr>\n",
       "  </tbody>\n",
       "</table>\n",
       "</div>"
      ],
      "text/plain": [
       "   document_id                         entity_id  confidence_level\n",
       "0      1524246  f9eec25663db4cd83183f5c805186f16          0.672865\n",
       "1      1524246  55ebcfbdaff1d6f60b3907151f38527a          0.399114"
      ]
     },
     "execution_count": 89,
     "metadata": {},
     "output_type": "execute_result"
    }
   ],
   "source": [
    "d_ent.head(2)"
   ]
  },
  {
   "cell_type": "markdown",
   "metadata": {},
   "source": [
    "An example of how data is organized in the tables.\n",
    "* document_id of source page: 1773554\n",
    "* document_id's of ad pages:\n",
    "    * 1328059\n",
    "    * 1086095\n",
    "    * 1414815\n",
    "    * 1130922\n",
    "\n",
    "For the source page, topic 199 will be chosen, for the first ad page 160 will be chose, and since the remainder have only one choice that will be what is used."
   ]
  },
  {
   "cell_type": "code",
   "execution_count": 55,
   "metadata": {
    "collapsed": false
   },
   "outputs": [
    {
     "data": {
      "text/html": [
       "<div>\n",
       "<table border=\"1\" class=\"dataframe\">\n",
       "  <thead>\n",
       "    <tr style=\"text-align: right;\">\n",
       "      <th></th>\n",
       "      <th>document_id</th>\n",
       "      <th>topic_id</th>\n",
       "      <th>confidence_level</th>\n",
       "    </tr>\n",
       "  </thead>\n",
       "  <tbody>\n",
       "    <tr>\n",
       "      <th>8371044</th>\n",
       "      <td>1773554</td>\n",
       "      <td>199</td>\n",
       "      <td>0.090703</td>\n",
       "    </tr>\n",
       "    <tr>\n",
       "      <th>8371045</th>\n",
       "      <td>1773554</td>\n",
       "      <td>183</td>\n",
       "      <td>0.013426</td>\n",
       "    </tr>\n",
       "    <tr>\n",
       "      <th>8371046</th>\n",
       "      <td>1773554</td>\n",
       "      <td>133</td>\n",
       "      <td>0.008202</td>\n",
       "    </tr>\n",
       "  </tbody>\n",
       "</table>\n",
       "</div>"
      ],
      "text/plain": [
       "         document_id  topic_id  confidence_level\n",
       "8371044      1773554       199          0.090703\n",
       "8371045      1773554       183          0.013426\n",
       "8371046      1773554       133          0.008202"
      ]
     },
     "execution_count": 55,
     "metadata": {},
     "output_type": "execute_result"
    }
   ],
   "source": [
    "# the original page document_id\n",
    "d_top[d_top['document_id'] == 1773554]"
   ]
  },
  {
   "cell_type": "code",
   "execution_count": 67,
   "metadata": {
    "collapsed": false
   },
   "outputs": [
    {
     "data": {
      "text/html": [
       "<div>\n",
       "<table border=\"1\" class=\"dataframe\">\n",
       "  <thead>\n",
       "    <tr style=\"text-align: right;\">\n",
       "      <th></th>\n",
       "      <th>document_id</th>\n",
       "      <th>topic_id</th>\n",
       "      <th>confidence_level</th>\n",
       "    </tr>\n",
       "  </thead>\n",
       "  <tbody>\n",
       "  </tbody>\n",
       "</table>\n",
       "</div>"
      ],
      "text/plain": [
       "Empty DataFrame\n",
       "Columns: [document_id, topic_id, confidence_level]\n",
       "Index: []"
      ]
     },
     "execution_count": 67,
     "metadata": {},
     "output_type": "execute_result"
    }
   ],
   "source": [
    "# the corresponding ad doc_id's\n",
    "d_top[d_top['document_id'] == 1328059]"
   ]
  },
  {
   "cell_type": "code",
   "execution_count": 57,
   "metadata": {
    "collapsed": false
   },
   "outputs": [
    {
     "data": {
      "text/html": [
       "<div>\n",
       "<table border=\"1\" class=\"dataframe\">\n",
       "  <thead>\n",
       "    <tr style=\"text-align: right;\">\n",
       "      <th></th>\n",
       "      <th>document_id</th>\n",
       "      <th>topic_id</th>\n",
       "      <th>confidence_level</th>\n",
       "    </tr>\n",
       "  </thead>\n",
       "  <tbody>\n",
       "    <tr>\n",
       "      <th>10588629</th>\n",
       "      <td>1086095</td>\n",
       "      <td>26</td>\n",
       "      <td>0.259674</td>\n",
       "    </tr>\n",
       "  </tbody>\n",
       "</table>\n",
       "</div>"
      ],
      "text/plain": [
       "          document_id  topic_id  confidence_level\n",
       "10588629      1086095        26          0.259674"
      ]
     },
     "execution_count": 57,
     "metadata": {},
     "output_type": "execute_result"
    }
   ],
   "source": [
    "d_top[d_top['document_id'] == 1086095]"
   ]
  },
  {
   "cell_type": "code",
   "execution_count": 58,
   "metadata": {
    "collapsed": false
   },
   "outputs": [
    {
     "data": {
      "text/html": [
       "<div>\n",
       "<table border=\"1\" class=\"dataframe\">\n",
       "  <thead>\n",
       "    <tr style=\"text-align: right;\">\n",
       "      <th></th>\n",
       "      <th>document_id</th>\n",
       "      <th>topic_id</th>\n",
       "      <th>confidence_level</th>\n",
       "    </tr>\n",
       "  </thead>\n",
       "  <tbody>\n",
       "    <tr>\n",
       "      <th>9395631</th>\n",
       "      <td>1414815</td>\n",
       "      <td>183</td>\n",
       "      <td>0.309797</td>\n",
       "    </tr>\n",
       "  </tbody>\n",
       "</table>\n",
       "</div>"
      ],
      "text/plain": [
       "         document_id  topic_id  confidence_level\n",
       "9395631      1414815       183          0.309797"
      ]
     },
     "execution_count": 58,
     "metadata": {},
     "output_type": "execute_result"
    }
   ],
   "source": [
    "d_top[d_top['document_id'] == 1414815]"
   ]
  },
  {
   "cell_type": "code",
   "execution_count": 59,
   "metadata": {
    "collapsed": false
   },
   "outputs": [
    {
     "data": {
      "text/html": [
       "<div>\n",
       "<table border=\"1\" class=\"dataframe\">\n",
       "  <thead>\n",
       "    <tr style=\"text-align: right;\">\n",
       "      <th></th>\n",
       "      <th>document_id</th>\n",
       "      <th>topic_id</th>\n",
       "      <th>confidence_level</th>\n",
       "    </tr>\n",
       "  </thead>\n",
       "  <tbody>\n",
       "    <tr>\n",
       "      <th>10551623</th>\n",
       "      <td>1130922</td>\n",
       "      <td>107</td>\n",
       "      <td>0.261741</td>\n",
       "    </tr>\n",
       "  </tbody>\n",
       "</table>\n",
       "</div>"
      ],
      "text/plain": [
       "          document_id  topic_id  confidence_level\n",
       "10551623      1130922       107          0.261741"
      ]
     },
     "execution_count": 59,
     "metadata": {},
     "output_type": "execute_result"
    }
   ],
   "source": [
    "d_top[d_top['document_id'] == 1130922]"
   ]
  },
  {
   "cell_type": "code",
   "execution_count": null,
   "metadata": {
    "collapsed": true
   },
   "outputs": [],
   "source": []
  },
  {
   "cell_type": "code",
   "execution_count": 70,
   "metadata": {
    "collapsed": false
   },
   "outputs": [],
   "source": [
    "# function to gind the max confidence level \n",
    "def doc_max (x,df,df_col):\n",
    "    try:\n",
    "        d_index = df[df['document_id'] == x][df_col].idxmax(axis=0, skipna=True)\n",
    "        return d_top.iloc[d_index][df_col]\n",
    "    except:\n",
    "        pass\n",
    "    else:\n",
    "        return np.nan\n"
   ]
  },
  {
   "cell_type": "code",
   "execution_count": 71,
   "metadata": {
    "collapsed": false
   },
   "outputs": [],
   "source": [
    "data_train['doc_id_topic'] = [doc_max(rows['document_id'],d_top,'topic_id') for index, \\\n",
    "                                rows in data_train.iterrows()]"
   ]
  },
  {
   "cell_type": "code",
   "execution_count": 75,
   "metadata": {
    "collapsed": false
   },
   "outputs": [
    {
     "name": "stdout",
     "output_type": "stream",
     "text": [
      "Time to run: 0:00:30.748548\n"
     ]
    }
   ],
   "source": [
    "start = datetime.datetime.now()\n",
    "\n",
    "data_test['doc_id_topic'] = [doc_max(rows['document_id'],d_top,'topic_id') for index, \\\n",
    "                                rows in data_test.iterrows()]\n",
    "\n",
    "finish = datetime.datetime.now()\n",
    "print('Time to run: {0}'.format(finish - start))"
   ]
  },
  {
   "cell_type": "code",
   "execution_count": 76,
   "metadata": {
    "collapsed": false
   },
   "outputs": [
    {
     "data": {
      "text/plain": [
       "253"
      ]
     },
     "execution_count": 76,
     "metadata": {},
     "output_type": "execute_result"
    }
   ],
   "source": [
    "data_test['doc_id_topic'].isnull().sum()"
   ]
  },
  {
   "cell_type": "markdown",
   "metadata": {
    "collapsed": false
   },
   "source": [
    "Not all documents are showing a topic, about half are missing. Will still include "
   ]
  },
  {
   "cell_type": "code",
   "execution_count": 84,
   "metadata": {
    "collapsed": false
   },
   "outputs": [
    {
     "data": {
      "text/plain": [
       "500"
      ]
     },
     "execution_count": 84,
     "metadata": {},
     "output_type": "execute_result"
    }
   ],
   "source": [
    "data_test['display_id'].nunique()"
   ]
  },
  {
   "cell_type": "code",
   "execution_count": 86,
   "metadata": {
    "collapsed": false
   },
   "outputs": [
    {
     "data": {
      "text/plain": [
       "457"
      ]
     },
     "execution_count": 86,
     "metadata": {},
     "output_type": "execute_result"
    }
   ],
   "source": [
    "data_test.dropna()['display_id'].nunique()"
   ]
  },
  {
   "cell_type": "markdown",
   "metadata": {},
   "source": [
    "About 10% of sample set does not have doc_id, to critical to be imputed so will continue with reduced dataset and work on remediation on next round of analysis."
   ]
  },
  {
   "cell_type": "code",
   "execution_count": 87,
   "metadata": {
    "collapsed": true
   },
   "outputs": [],
   "source": [
    "data_train = data_train.dropna()\n",
    "data_test = data_test.dropna()"
   ]
  },
  {
   "cell_type": "code",
   "execution_count": null,
   "metadata": {
    "collapsed": true
   },
   "outputs": [],
   "source": [
    "data_train.to_csv('./data/data_train.csv',index=False)\n",
    "data_test.to_csv('./data/data_test.csv',index=False)\n"
   ]
  },
  {
   "cell_type": "code",
   "execution_count": null,
   "metadata": {
    "collapsed": true
   },
   "outputs": [],
   "source": []
  },
  {
   "cell_type": "code",
   "execution_count": null,
   "metadata": {
    "collapsed": true
   },
   "outputs": [],
   "source": []
  },
  {
   "cell_type": "markdown",
   "metadata": {},
   "source": [
    "# <font color='blue'> maybe adjust this so it goes by index #, iterrows may be too slow...\n",
    "Kickes off warnings, and \n",
    "\n",
    "time to execute below was: 9:15"
   ]
  },
  {
   "cell_type": "code",
   "execution_count": 90,
   "metadata": {
    "collapsed": false
   },
   "outputs": [
    {
     "name": "stderr",
     "output_type": "stream",
     "text": [
      "/Users/alex/anaconda/lib/python2.7/site-packages/ipykernel/__main__.py:4: SettingWithCopyWarning: \n",
      "A value is trying to be set on a copy of a slice from a DataFrame.\n",
      "Try using .loc[row_indexer,col_indexer] = value instead\n",
      "\n",
      "See the caveats in the documentation: http://pandas.pydata.org/pandas-docs/stable/indexing.html#indexing-view-versus-copy\n",
      "/Users/alex/anaconda/lib/python2.7/site-packages/ipykernel/__main__.py:7: SettingWithCopyWarning: \n",
      "A value is trying to be set on a copy of a slice from a DataFrame.\n",
      "Try using .loc[row_indexer,col_indexer] = value instead\n",
      "\n",
      "See the caveats in the documentation: http://pandas.pydata.org/pandas-docs/stable/indexing.html#indexing-view-versus-copy\n"
     ]
    },
    {
     "name": "stdout",
     "output_type": "stream",
     "text": [
      "Time to run: 0:09:15.334621\n"
     ]
    },
    {
     "name": "stderr",
     "output_type": "stream",
     "text": [
      "/Users/alex/anaconda/lib/python2.7/site-packages/ipykernel/__main__.py:10: SettingWithCopyWarning: \n",
      "A value is trying to be set on a copy of a slice from a DataFrame.\n",
      "Try using .loc[row_indexer,col_indexer] = value instead\n",
      "\n",
      "See the caveats in the documentation: http://pandas.pydata.org/pandas-docs/stable/indexing.html#indexing-view-versus-copy\n"
     ]
    }
   ],
   "source": [
    "start = datetime.datetime.now()\n",
    "\n",
    "data_train['doc_id_topic'] = [doc_max(rows['document_id'],d_top,'topic_id') for index, \\\n",
    "                                rows in data_train.iterrows()]\n",
    "data_test['doc_id_topic'] = [doc_max(rows['document_id'],d_top,'topic_id') for index, \\\n",
    "                                rows in data_test.iterrows()]\n",
    "\n",
    "data_train['doc_id_cat'] = [doc_max(rows['document_id'],d_cat,'category_id') for index, \\\n",
    "                                rows in data_train.iterrows()]\n",
    "data_test['doc_id_cat'] = [doc_max(rows['document_id'],d_cat,'category_id') for index, \\\n",
    "                                rows in data_test.iterrows()]\n",
    "\n",
    "data_train['doc_id_ent'] = [doc_max(rows['document_id'],d_ent,'entity_id') for index, \\\n",
    "                                rows in data_train.iterrows()]\n",
    "data_test['doc_id_ent'] = [doc_max(rows['document_id'],d_ent,'entity_id') for index, \\\n",
    "                                rows in data_test.iterrows()]\n",
    "\n",
    "\n",
    "finish = datetime.datetime.now()\n",
    "print('Time to run: {0}'.format(finish - start))"
   ]
  },
  {
   "cell_type": "code",
   "execution_count": 91,
   "metadata": {
    "collapsed": false
   },
   "outputs": [
    {
     "name": "stderr",
     "output_type": "stream",
     "text": [
      "/Users/alex/anaconda/lib/python2.7/site-packages/ipykernel/__main__.py:4: SettingWithCopyWarning: \n",
      "A value is trying to be set on a copy of a slice from a DataFrame.\n",
      "Try using .loc[row_indexer,col_indexer] = value instead\n",
      "\n",
      "See the caveats in the documentation: http://pandas.pydata.org/pandas-docs/stable/indexing.html#indexing-view-versus-copy\n",
      "/Users/alex/anaconda/lib/python2.7/site-packages/ipykernel/__main__.py:7: SettingWithCopyWarning: \n",
      "A value is trying to be set on a copy of a slice from a DataFrame.\n",
      "Try using .loc[row_indexer,col_indexer] = value instead\n",
      "\n",
      "See the caveats in the documentation: http://pandas.pydata.org/pandas-docs/stable/indexing.html#indexing-view-versus-copy\n"
     ]
    },
    {
     "name": "stdout",
     "output_type": "stream",
     "text": [
      "Time to run: 0:10:17.455862\n"
     ]
    },
    {
     "name": "stderr",
     "output_type": "stream",
     "text": [
      "/Users/alex/anaconda/lib/python2.7/site-packages/ipykernel/__main__.py:10: SettingWithCopyWarning: \n",
      "A value is trying to be set on a copy of a slice from a DataFrame.\n",
      "Try using .loc[row_indexer,col_indexer] = value instead\n",
      "\n",
      "See the caveats in the documentation: http://pandas.pydata.org/pandas-docs/stable/indexing.html#indexing-view-versus-copy\n"
     ]
    }
   ],
   "source": [
    "start = datetime.datetime.now()\n",
    "\n",
    "data_train['ad_doc_id_topic'] = [doc_max(rows['ad_document_id'],d_top,'topic_id') for index, \\\n",
    "                                rows in data_train.iterrows()]\n",
    "data_test['ad_doc_id_topic'] = [doc_max(rows['ad_document_id'],d_top,'topic_id') for index, \\\n",
    "                                rows in data_test.iterrows()]\n",
    "\n",
    "data_train['ad_doc_id_cat'] = [doc_max(rows['ad_document_id'],d_cat,'category_id') for index, \\\n",
    "                                rows in data_train.iterrows()]\n",
    "data_test['ad_doc_id_cat'] = [doc_max(rows['ad_document_id'],d_cat,'category_id') for index, \\\n",
    "                                rows in data_test.iterrows()]\n",
    "\n",
    "data_train['ad_doc_id_ent'] = [doc_max(rows['ad_document_id'],d_ent,'entity_id') for index, \\\n",
    "                                rows in data_train.iterrows()]\n",
    "data_test['ad_doc_id_ent'] = [doc_max(rows['ad_document_id'],d_ent,'entity_id') for index, \\\n",
    "                                rows in data_test.iterrows()]\n",
    "\n",
    "\n",
    "finish = datetime.datetime.now()\n",
    "print('Time to run: {0}'.format(finish - start))"
   ]
  },
  {
   "cell_type": "code",
   "execution_count": 92,
   "metadata": {
    "collapsed": false
   },
   "outputs": [
    {
     "name": "stdout",
     "output_type": "stream",
     "text": [
      "<class 'pandas.core.frame.DataFrame'>\n",
      "Int64Index: 23179 entries, 0 to 25740\n",
      "Data columns (total 20 columns):\n",
      "display_id         23179 non-null int64\n",
      "ad_id              23179 non-null int64\n",
      "clicked            23179 non-null int64\n",
      "uuid               23179 non-null object\n",
      "document_id        23179 non-null int64\n",
      "platform           23179 non-null object\n",
      "geo_location       23179 non-null object\n",
      "country            23179 non-null object\n",
      "state              23179 non-null object\n",
      "DMA                23179 non-null object\n",
      "date_local         23179 non-null datetime64[ns]\n",
      "ad_document_id     23179 non-null int64\n",
      "campaign_id        23179 non-null int64\n",
      "advertiser_id      23179 non-null int64\n",
      "doc_id_topic       23179 non-null float64\n",
      "doc_id_cat         0 non-null object\n",
      "doc_id_ent         0 non-null object\n",
      "ad_doc_id_topic    23017 non-null float64\n",
      "ad_doc_id_cat      0 non-null object\n",
      "ad_doc_id_ent      0 non-null object\n",
      "dtypes: datetime64[ns](1), float64(2), int64(7), object(10)\n",
      "memory usage: 3.7+ MB\n"
     ]
    }
   ],
   "source": [
    "data_train.info()"
   ]
  },
  {
   "cell_type": "markdown",
   "metadata": {},
   "source": [
    "# Save tables to .csv"
   ]
  },
  {
   "cell_type": "code",
   "execution_count": 93,
   "metadata": {
    "collapsed": false
   },
   "outputs": [],
   "source": [
    "data_train.to_csv('./data/data_train.csv',index=False)\n",
    "data_test.to_csv('./data/data_test.csv',index=False)\n"
   ]
  },
  {
   "cell_type": "code",
   "execution_count": null,
   "metadata": {
    "collapsed": true
   },
   "outputs": [],
   "source": []
  }
 ],
 "metadata": {
  "anaconda-cloud": {},
  "kernelspec": {
   "display_name": "Python [Root]",
   "language": "python",
   "name": "Python [Root]"
  },
  "language_info": {
   "codemirror_mode": {
    "name": "ipython",
    "version": 2
   },
   "file_extension": ".py",
   "mimetype": "text/x-python",
   "name": "python",
   "nbconvert_exporter": "python",
   "pygments_lexer": "ipython2",
   "version": "2.7.11"
  }
 },
 "nbformat": 4,
 "nbformat_minor": 0
}
