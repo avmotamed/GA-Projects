{
 "cells": [
  {
   "cell_type": "markdown",
   "metadata": {},
   "source": [
    "# Book 2 - Exploratory Data Analysis\n",
    "\n"
   ]
  },
  {
   "cell_type": "code",
   "execution_count": 2,
   "metadata": {
    "collapsed": false
   },
   "outputs": [],
   "source": [
    "import pandas as pd\n",
    "import numpy as np\n",
    "import seaborn as sns\n",
    "import matplotlib.pyplot as plt\n",
    "import pickle\n",
    "import random\n",
    "import matplotlib\n",
    "import matplotlib.cm as cm\n",
    "import seaborn as sns\n",
    "import datetime\n",
    "\n",
    "matplotlib.style.use('ggplot') \n",
    "%matplotlib inline"
   ]
  },
  {
   "cell_type": "markdown",
   "metadata": {},
   "source": [
    "# US Data Set - with Full Feature Set"
   ]
  },
  {
   "cell_type": "code",
   "execution_count": 3,
   "metadata": {
    "collapsed": false
   },
   "outputs": [],
   "source": [
    "# Full US data set\n",
    "full = pd.read_csv('./data/events_b1a.csv')"
   ]
  },
  {
   "cell_type": "code",
   "execution_count": 4,
   "metadata": {
    "collapsed": false
   },
   "outputs": [
    {
     "name": "stdout",
     "output_type": "stream",
     "text": [
      "Number of unique display_ID's (number of events): 12,677,747\n"
     ]
    }
   ],
   "source": [
    "print(\"Number of unique display_ID's (number of events): {0:,}\".\\\n",
    "      format(full['display_id'].nunique()))"
   ]
  },
  {
   "cell_type": "code",
   "execution_count": 5,
   "metadata": {
    "collapsed": false
   },
   "outputs": [
    {
     "data": {
      "text/html": [
       "<div>\n",
       "<table border=\"1\" class=\"dataframe\">\n",
       "  <thead>\n",
       "    <tr style=\"text-align: right;\">\n",
       "      <th></th>\n",
       "      <th>display_id</th>\n",
       "      <th>uuid</th>\n",
       "      <th>document_id</th>\n",
       "      <th>platform</th>\n",
       "      <th>geo_location</th>\n",
       "      <th>country</th>\n",
       "      <th>state</th>\n",
       "      <th>DMA</th>\n",
       "      <th>date_local</th>\n",
       "      <th>period</th>\n",
       "      <th>day_of_mnth</th>\n",
       "      <th>hour</th>\n",
       "    </tr>\n",
       "  </thead>\n",
       "  <tbody>\n",
       "    <tr>\n",
       "      <th>0</th>\n",
       "      <td>1</td>\n",
       "      <td>cb8c55702adb93</td>\n",
       "      <td>379743</td>\n",
       "      <td>3</td>\n",
       "      <td>US&gt;SC&gt;519</td>\n",
       "      <td>US</td>\n",
       "      <td>SC</td>\n",
       "      <td>519</td>\n",
       "      <td>2016-06-14 00:00:00.059</td>\n",
       "      <td>overnight</td>\n",
       "      <td>14</td>\n",
       "      <td>0</td>\n",
       "    </tr>\n",
       "    <tr>\n",
       "      <th>1</th>\n",
       "      <td>2</td>\n",
       "      <td>79a85fa78311b9</td>\n",
       "      <td>1794259</td>\n",
       "      <td>2</td>\n",
       "      <td>US&gt;CA&gt;807</td>\n",
       "      <td>US</td>\n",
       "      <td>CA</td>\n",
       "      <td>807</td>\n",
       "      <td>2016-06-13 21:00:00.079</td>\n",
       "      <td>evening</td>\n",
       "      <td>13</td>\n",
       "      <td>21</td>\n",
       "    </tr>\n",
       "    <tr>\n",
       "      <th>2</th>\n",
       "      <td>3</td>\n",
       "      <td>822932ce3d8757</td>\n",
       "      <td>1179111</td>\n",
       "      <td>2</td>\n",
       "      <td>US&gt;MI&gt;505</td>\n",
       "      <td>US</td>\n",
       "      <td>MI</td>\n",
       "      <td>505</td>\n",
       "      <td>2016-06-14 00:00:00.180</td>\n",
       "      <td>overnight</td>\n",
       "      <td>14</td>\n",
       "      <td>0</td>\n",
       "    </tr>\n",
       "  </tbody>\n",
       "</table>\n",
       "</div>"
      ],
      "text/plain": [
       "   display_id            uuid  document_id  platform geo_location country  \\\n",
       "0           1  cb8c55702adb93       379743         3    US>SC>519      US   \n",
       "1           2  79a85fa78311b9      1794259         2    US>CA>807      US   \n",
       "2           3  822932ce3d8757      1179111         2    US>MI>505      US   \n",
       "\n",
       "  state  DMA               date_local     period  day_of_mnth  hour  \n",
       "0    SC  519  2016-06-14 00:00:00.059  overnight           14     0  \n",
       "1    CA  807  2016-06-13 21:00:00.079    evening           13    21  \n",
       "2    MI  505  2016-06-14 00:00:00.180  overnight           14     0  "
      ]
     },
     "execution_count": 5,
     "metadata": {},
     "output_type": "execute_result"
    }
   ],
   "source": [
    "full.head(3)"
   ]
  },
  {
   "cell_type": "code",
   "execution_count": 6,
   "metadata": {
    "collapsed": false
   },
   "outputs": [],
   "source": [
    "df_heat = pd.pivot_table(full, index=['day_of_mnth'], columns =['hour'], values=['display_id'],\\\n",
    "               aggfunc = 'count')"
   ]
  },
  {
   "cell_type": "code",
   "execution_count": 7,
   "metadata": {
    "collapsed": false
   },
   "outputs": [
    {
     "data": {
      "text/html": [
       "<div>\n",
       "<table border=\"1\" class=\"dataframe\">\n",
       "  <thead>\n",
       "    <tr>\n",
       "      <th></th>\n",
       "      <th colspan=\"21\" halign=\"left\">display_id</th>\n",
       "    </tr>\n",
       "    <tr>\n",
       "      <th>hour</th>\n",
       "      <th>0</th>\n",
       "      <th>1</th>\n",
       "      <th>2</th>\n",
       "      <th>3</th>\n",
       "      <th>4</th>\n",
       "      <th>5</th>\n",
       "      <th>6</th>\n",
       "      <th>7</th>\n",
       "      <th>8</th>\n",
       "      <th>9</th>\n",
       "      <th>...</th>\n",
       "      <th>14</th>\n",
       "      <th>15</th>\n",
       "      <th>16</th>\n",
       "      <th>17</th>\n",
       "      <th>18</th>\n",
       "      <th>19</th>\n",
       "      <th>20</th>\n",
       "      <th>21</th>\n",
       "      <th>22</th>\n",
       "      <th>23</th>\n",
       "    </tr>\n",
       "    <tr>\n",
       "      <th>day_of_mnth</th>\n",
       "      <th></th>\n",
       "      <th></th>\n",
       "      <th></th>\n",
       "      <th></th>\n",
       "      <th></th>\n",
       "      <th></th>\n",
       "      <th></th>\n",
       "      <th></th>\n",
       "      <th></th>\n",
       "      <th></th>\n",
       "      <th></th>\n",
       "      <th></th>\n",
       "      <th></th>\n",
       "      <th></th>\n",
       "      <th></th>\n",
       "      <th></th>\n",
       "      <th></th>\n",
       "      <th></th>\n",
       "      <th></th>\n",
       "      <th></th>\n",
       "      <th></th>\n",
       "    </tr>\n",
       "  </thead>\n",
       "  <tbody>\n",
       "    <tr>\n",
       "      <th>13</th>\n",
       "      <td>NaN</td>\n",
       "      <td>NaN</td>\n",
       "      <td>NaN</td>\n",
       "      <td>NaN</td>\n",
       "      <td>NaN</td>\n",
       "      <td>NaN</td>\n",
       "      <td>NaN</td>\n",
       "      <td>NaN</td>\n",
       "      <td>NaN</td>\n",
       "      <td>NaN</td>\n",
       "      <td>...</td>\n",
       "      <td>NaN</td>\n",
       "      <td>NaN</td>\n",
       "      <td>NaN</td>\n",
       "      <td>NaN</td>\n",
       "      <td>190.0</td>\n",
       "      <td>222.0</td>\n",
       "      <td>430.0</td>\n",
       "      <td>12255.0</td>\n",
       "      <td>13407.0</td>\n",
       "      <td>19811.0</td>\n",
       "    </tr>\n",
       "    <tr>\n",
       "      <th>14</th>\n",
       "      <td>24168.0</td>\n",
       "      <td>15966.0</td>\n",
       "      <td>12083.0</td>\n",
       "      <td>10564.0</td>\n",
       "      <td>13053.0</td>\n",
       "      <td>22807.0</td>\n",
       "      <td>41254.0</td>\n",
       "      <td>54525.0</td>\n",
       "      <td>60309.0</td>\n",
       "      <td>60212.0</td>\n",
       "      <td>...</td>\n",
       "      <td>63109.0</td>\n",
       "      <td>63366.0</td>\n",
       "      <td>60847.0</td>\n",
       "      <td>50798.0</td>\n",
       "      <td>46661.0</td>\n",
       "      <td>47488.0</td>\n",
       "      <td>50993.0</td>\n",
       "      <td>55155.0</td>\n",
       "      <td>51640.0</td>\n",
       "      <td>38305.0</td>\n",
       "    </tr>\n",
       "    <tr>\n",
       "      <th>15</th>\n",
       "      <td>22856.0</td>\n",
       "      <td>15330.0</td>\n",
       "      <td>11562.0</td>\n",
       "      <td>9753.0</td>\n",
       "      <td>11400.0</td>\n",
       "      <td>20019.0</td>\n",
       "      <td>37005.0</td>\n",
       "      <td>48303.0</td>\n",
       "      <td>54491.0</td>\n",
       "      <td>54843.0</td>\n",
       "      <td>...</td>\n",
       "      <td>54898.0</td>\n",
       "      <td>56912.0</td>\n",
       "      <td>56221.0</td>\n",
       "      <td>45440.0</td>\n",
       "      <td>40503.0</td>\n",
       "      <td>41246.0</td>\n",
       "      <td>44969.0</td>\n",
       "      <td>51502.0</td>\n",
       "      <td>49081.0</td>\n",
       "      <td>35810.0</td>\n",
       "    </tr>\n",
       "    <tr>\n",
       "      <th>16</th>\n",
       "      <td>23064.0</td>\n",
       "      <td>15396.0</td>\n",
       "      <td>11371.0</td>\n",
       "      <td>9611.0</td>\n",
       "      <td>11547.0</td>\n",
       "      <td>20151.0</td>\n",
       "      <td>36167.0</td>\n",
       "      <td>48129.0</td>\n",
       "      <td>54560.0</td>\n",
       "      <td>56271.0</td>\n",
       "      <td>...</td>\n",
       "      <td>56803.0</td>\n",
       "      <td>61153.0</td>\n",
       "      <td>58378.0</td>\n",
       "      <td>48807.0</td>\n",
       "      <td>44013.0</td>\n",
       "      <td>44405.0</td>\n",
       "      <td>46998.0</td>\n",
       "      <td>52646.0</td>\n",
       "      <td>50104.0</td>\n",
       "      <td>38960.0</td>\n",
       "    </tr>\n",
       "    <tr>\n",
       "      <th>17</th>\n",
       "      <td>26178.0</td>\n",
       "      <td>16948.0</td>\n",
       "      <td>12178.0</td>\n",
       "      <td>10329.0</td>\n",
       "      <td>12021.0</td>\n",
       "      <td>20467.0</td>\n",
       "      <td>37363.0</td>\n",
       "      <td>49216.0</td>\n",
       "      <td>54070.0</td>\n",
       "      <td>54752.0</td>\n",
       "      <td>...</td>\n",
       "      <td>52005.0</td>\n",
       "      <td>52563.0</td>\n",
       "      <td>49775.0</td>\n",
       "      <td>42348.0</td>\n",
       "      <td>38580.0</td>\n",
       "      <td>37941.0</td>\n",
       "      <td>40403.0</td>\n",
       "      <td>45596.0</td>\n",
       "      <td>45758.0</td>\n",
       "      <td>37694.0</td>\n",
       "    </tr>\n",
       "  </tbody>\n",
       "</table>\n",
       "<p>5 rows × 24 columns</p>\n",
       "</div>"
      ],
      "text/plain": [
       "            display_id                                                        \\\n",
       "hour                0        1        2        3        4        5        6    \n",
       "day_of_mnth                                                                    \n",
       "13                 NaN      NaN      NaN      NaN      NaN      NaN      NaN   \n",
       "14             24168.0  15966.0  12083.0  10564.0  13053.0  22807.0  41254.0   \n",
       "15             22856.0  15330.0  11562.0   9753.0  11400.0  20019.0  37005.0   \n",
       "16             23064.0  15396.0  11371.0   9611.0  11547.0  20151.0  36167.0   \n",
       "17             26178.0  16948.0  12178.0  10329.0  12021.0  20467.0  37363.0   \n",
       "\n",
       "                                         ...                                \\\n",
       "hour              7        8        9    ...          14       15       16   \n",
       "day_of_mnth                              ...                                 \n",
       "13               NaN      NaN      NaN   ...         NaN      NaN      NaN   \n",
       "14           54525.0  60309.0  60212.0   ...     63109.0  63366.0  60847.0   \n",
       "15           48303.0  54491.0  54843.0   ...     54898.0  56912.0  56221.0   \n",
       "16           48129.0  54560.0  56271.0   ...     56803.0  61153.0  58378.0   \n",
       "17           49216.0  54070.0  54752.0   ...     52005.0  52563.0  49775.0   \n",
       "\n",
       "                                                                            \n",
       "hour              17       18       19       20       21       22       23  \n",
       "day_of_mnth                                                                 \n",
       "13               NaN    190.0    222.0    430.0  12255.0  13407.0  19811.0  \n",
       "14           50798.0  46661.0  47488.0  50993.0  55155.0  51640.0  38305.0  \n",
       "15           45440.0  40503.0  41246.0  44969.0  51502.0  49081.0  35810.0  \n",
       "16           48807.0  44013.0  44405.0  46998.0  52646.0  50104.0  38960.0  \n",
       "17           42348.0  38580.0  37941.0  40403.0  45596.0  45758.0  37694.0  \n",
       "\n",
       "[5 rows x 24 columns]"
      ]
     },
     "execution_count": 7,
     "metadata": {},
     "output_type": "execute_result"
    }
   ],
   "source": [
    "df_heat.head()"
   ]
  },
  {
   "cell_type": "code",
   "execution_count": 16,
   "metadata": {
    "collapsed": false
   },
   "outputs": [
    {
     "data": {
      "image/png": "[encoded data removed]",
      "text/plain": [
       "<matplotlib.figure.Figure at 0x11b67c690>"
      ]
     },
     "metadata": {},
     "output_type": "display_data"
    }
   ],
   "source": [
    "plt.figure(figsize=(18,6))\n",
    "labels = np.arange(24)\n",
    "sns.heatmap(df_heat, annot=False, cmap='BuPu',xticklabels = labels)\n",
    "\n",
    "plt.xlabel('Hour of day (User Local Time)', fontsize=14)\n",
    "plt.ylabel('Day of Month (June 2016)', fontsize=14)\n",
    "plt.xticks(fontsize = 14)\n",
    "plt.yticks(fontsize = 14)\n",
    "\n",
    "plt.title('Heatmap of Click Events in US', fontsize = 18);"
   ]
  },
  {
   "cell_type": "code",
   "execution_count": 9,
   "metadata": {
    "collapsed": false
   },
   "outputs": [],
   "source": [
    "e_count = full['platform'].value_counts()"
   ]
  },
  {
   "cell_type": "code",
   "execution_count": 19,
   "metadata": {
    "collapsed": false
   },
   "outputs": [
    {
     "data": {
      "image/png": "[encoded data removed]",
      "text/plain": [
       "<matplotlib.figure.Figure at 0x11b774150>"
      ]
     },
     "metadata": {},
     "output_type": "display_data"
    }
   ],
   "source": [
    "measure = e_count.values\n",
    "\n",
    "fig, ax1 = plt.subplots(figsize=(9,6))\n",
    "labels = ['Mobile', 'Desktop', 'Tablet']\n",
    "ax1.bar(e_count.index, 100*measure/float(sum(measure)), color='blue',\n",
    "        alpha=0.5,tick_label=labels,align='center')\n",
    "ax1.set_title('Events by Platform (US)', fontsize=18)\n",
    "ax1.set_xlabel('Platform', fontsize=14)\n",
    "ax1.set_ylabel('% of Occurences', fontsize=14)\n",
    "plt.grid(which = 'major',axis = 'x')\n",
    "\n",
    "plt.ylim([0,50]) ;"
   ]
  },
  {
   "cell_type": "code",
   "execution_count": 11,
   "metadata": {
    "collapsed": false
   },
   "outputs": [],
   "source": [
    "user_count = full.groupby('uuid')['uuid'].count().sort_values()\n"
   ]
  },
  {
   "cell_type": "code",
   "execution_count": 20,
   "metadata": {
    "collapsed": false
   },
   "outputs": [
    {
     "data": {
      "image/png": "[encoded data removed]",
      "text/plain": [
       "<matplotlib.figure.Figure at 0x11bb48b50>"
      ]
     },
     "metadata": {},
     "output_type": "display_data"
    }
   ],
   "source": [
    "plt.figure(figsize=(9,6))\n",
    "plt.hist(user_count.values, alpha = 0.8, color = 'grey',bins = 25)\n",
    "plt.xlabel('Number of times particular user clicked on ad', fontsize=14)\n",
    "plt.ylabel('log(Count of users)', fontsize=14)\n",
    "plt.yscale('log')\n",
    "plt.title('Clicks by User ID (US)', fontsize = 18)\n",
    "plt.grid(which = 'major',axis = 'x')\n",
    "\n",
    "plt.show();\n"
   ]
  },
  {
   "cell_type": "code",
   "execution_count": 72,
   "metadata": {
    "collapsed": false
   },
   "outputs": [
    {
     "name": "stdout",
     "output_type": "stream",
     "text": [
      "Percentage of users who only clicked on one ad/recommendation: 89.0%\n"
     ]
    }
   ],
   "source": [
    "print('Percentage of users who only clicked on one ad/recommendation: {0:.1%}'.\\\n",
    "      format(round((user_count < 2).mean(), 2)))\n"
   ]
  },
  {
   "cell_type": "code",
   "execution_count": null,
   "metadata": {
    "collapsed": true
   },
   "outputs": [],
   "source": []
  },
  {
   "cell_type": "code",
   "execution_count": null,
   "metadata": {
    "collapsed": true
   },
   "outputs": [],
   "source": []
  },
  {
   "cell_type": "code",
   "execution_count": null,
   "metadata": {
    "collapsed": true
   },
   "outputs": [],
   "source": []
  },
  {
   "cell_type": "markdown",
   "metadata": {},
   "source": [
    "## A look at the sample set of data"
   ]
  },
  {
   "cell_type": "code",
   "execution_count": 79,
   "metadata": {
    "collapsed": false
   },
   "outputs": [],
   "source": [
    "# Sample US data set\n",
    "with open('./data/data_bk1_complete.pkl', 'r') as picklefile:\n",
    "    sample = pickle.load(picklefile)"
   ]
  },
  {
   "cell_type": "code",
   "execution_count": 80,
   "metadata": {
    "collapsed": false
   },
   "outputs": [
    {
     "name": "stdout",
     "output_type": "stream",
     "text": [
      "Number of unique display_ID's (number of events): 13,574\n",
      "Number of clicks (# of events): 13,574\n",
      "Number of records: 69,838\n"
     ]
    }
   ],
   "source": [
    "print(\"Number of unique display_ID's (number of events): {0:,}\".\\\n",
    "      format(sample['display_id'].nunique()))\n",
    "print('Number of clicks (# of events): {0:,}'.\\\n",
    "      format(np.sum(sample['clicked'])))\n",
    "print('Number of records: {0:,}'.\\\n",
    "      format(len(sample)))"
   ]
  },
  {
   "cell_type": "code",
   "execution_count": 84,
   "metadata": {
    "collapsed": false
   },
   "outputs": [
    {
     "name": "stdout",
     "output_type": "stream",
     "text": [
      "Average ads per page: 5.14\n",
      "Baseline for picking correct ad: 0.1944\n"
     ]
    }
   ],
   "source": [
    "print('Average ads per page: {0:.2f}'.format(69838./13574))\n",
    "print('Baseline for picking correct ad: {0:.4f}'.format(13574./69838))"
   ]
  },
  {
   "cell_type": "code",
   "execution_count": 85,
   "metadata": {
    "collapsed": false
   },
   "outputs": [
    {
     "data": {
      "text/html": [
       "<div>\n",
       "<table border=\"1\" class=\"dataframe\">\n",
       "  <thead>\n",
       "    <tr style=\"text-align: right;\">\n",
       "      <th></th>\n",
       "      <th>display_id</th>\n",
       "      <th>ad_id</th>\n",
       "      <th>clicked</th>\n",
       "      <th>uuid</th>\n",
       "      <th>document_id</th>\n",
       "      <th>platform</th>\n",
       "      <th>geo_location</th>\n",
       "      <th>country</th>\n",
       "      <th>state</th>\n",
       "      <th>DMA</th>\n",
       "      <th>date_local</th>\n",
       "      <th>period</th>\n",
       "      <th>day_of_mnth</th>\n",
       "      <th>hour</th>\n",
       "      <th>ads_per_page</th>\n",
       "      <th>ad_document_id</th>\n",
       "      <th>campaign_id</th>\n",
       "      <th>advertiser_id</th>\n",
       "      <th>doc_id_topic</th>\n",
       "      <th>ad_id_topic</th>\n",
       "    </tr>\n",
       "  </thead>\n",
       "  <tbody>\n",
       "    <tr>\n",
       "      <th>0</th>\n",
       "      <td>1525</td>\n",
       "      <td>8846</td>\n",
       "      <td>0</td>\n",
       "      <td>443715a4da754f</td>\n",
       "      <td>1697627</td>\n",
       "      <td>1</td>\n",
       "      <td>US&gt;IL&gt;602</td>\n",
       "      <td>US</td>\n",
       "      <td>IL</td>\n",
       "      <td>602</td>\n",
       "      <td>2016-06-13 23:01:46.019</td>\n",
       "      <td>overnight</td>\n",
       "      <td>13</td>\n",
       "      <td>23</td>\n",
       "      <td>9</td>\n",
       "      <td>21135</td>\n",
       "      <td>1726</td>\n",
       "      <td>24</td>\n",
       "      <td>271.0</td>\n",
       "      <td>125.0</td>\n",
       "    </tr>\n",
       "    <tr>\n",
       "      <th>1</th>\n",
       "      <td>1525</td>\n",
       "      <td>45180</td>\n",
       "      <td>0</td>\n",
       "      <td>443715a4da754f</td>\n",
       "      <td>1697627</td>\n",
       "      <td>1</td>\n",
       "      <td>US&gt;IL&gt;602</td>\n",
       "      <td>US</td>\n",
       "      <td>IL</td>\n",
       "      <td>602</td>\n",
       "      <td>2016-06-13 23:01:46.019</td>\n",
       "      <td>overnight</td>\n",
       "      <td>13</td>\n",
       "      <td>23</td>\n",
       "      <td>9</td>\n",
       "      <td>953930</td>\n",
       "      <td>6296</td>\n",
       "      <td>1594</td>\n",
       "      <td>271.0</td>\n",
       "      <td>286.0</td>\n",
       "    </tr>\n",
       "    <tr>\n",
       "      <th>2</th>\n",
       "      <td>1525</td>\n",
       "      <td>46293</td>\n",
       "      <td>0</td>\n",
       "      <td>443715a4da754f</td>\n",
       "      <td>1697627</td>\n",
       "      <td>1</td>\n",
       "      <td>US&gt;IL&gt;602</td>\n",
       "      <td>US</td>\n",
       "      <td>IL</td>\n",
       "      <td>602</td>\n",
       "      <td>2016-06-13 23:01:46.019</td>\n",
       "      <td>overnight</td>\n",
       "      <td>13</td>\n",
       "      <td>23</td>\n",
       "      <td>9</td>\n",
       "      <td>959753</td>\n",
       "      <td>959</td>\n",
       "      <td>8</td>\n",
       "      <td>271.0</td>\n",
       "      <td>147.0</td>\n",
       "    </tr>\n",
       "  </tbody>\n",
       "</table>\n",
       "</div>"
      ],
      "text/plain": [
       "   display_id  ad_id  clicked            uuid  document_id platform  \\\n",
       "0        1525   8846        0  443715a4da754f      1697627        1   \n",
       "1        1525  45180        0  443715a4da754f      1697627        1   \n",
       "2        1525  46293        0  443715a4da754f      1697627        1   \n",
       "\n",
       "  geo_location country state  DMA              date_local     period  \\\n",
       "0    US>IL>602      US    IL  602 2016-06-13 23:01:46.019  overnight   \n",
       "1    US>IL>602      US    IL  602 2016-06-13 23:01:46.019  overnight   \n",
       "2    US>IL>602      US    IL  602 2016-06-13 23:01:46.019  overnight   \n",
       "\n",
       "   day_of_mnth  hour  ads_per_page  ad_document_id  campaign_id  \\\n",
       "0           13    23             9           21135         1726   \n",
       "1           13    23             9          953930         6296   \n",
       "2           13    23             9          959753          959   \n",
       "\n",
       "   advertiser_id  doc_id_topic  ad_id_topic  \n",
       "0             24         271.0        125.0  \n",
       "1           1594         271.0        286.0  \n",
       "2              8         271.0        147.0  "
      ]
     },
     "execution_count": 85,
     "metadata": {},
     "output_type": "execute_result"
    }
   ],
   "source": [
    "sample.head(3)"
   ]
  },
  {
   "cell_type": "code",
   "execution_count": 95,
   "metadata": {
    "collapsed": false
   },
   "outputs": [
    {
     "data": {
      "text/plain": [
       "13574"
      ]
     },
     "execution_count": 95,
     "metadata": {},
     "output_type": "execute_result"
    }
   ],
   "source": [
    "sample_clicks = sample[sample['clicked'] == 1]\n",
    "len(sample_clicks)"
   ]
  },
  {
   "cell_type": "code",
   "execution_count": 92,
   "metadata": {
    "collapsed": true
   },
   "outputs": [],
   "source": [
    "s_heat = pd.pivot_table(sample_clicks, index=['day_of_mnth'], columns =['hour'], values=['display_id'],\\\n",
    "               aggfunc = 'count')"
   ]
  },
  {
   "cell_type": "code",
   "execution_count": 96,
   "metadata": {
    "collapsed": false
   },
   "outputs": [
    {
     "data": {
      "image/png": "[encoded data removed]",
      "text/plain": [
       "<matplotlib.figure.Figure at 0x11e8283d0>"
      ]
     },
     "metadata": {},
     "output_type": "display_data"
    }
   ],
   "source": [
    "plt.figure(figsize=(18,6))\n",
    "labels = np.arange(24)\n",
    "sns.heatmap(s_heat, annot=False, cmap='RdPu',xticklabels = labels)\n",
    "\n",
    "plt.xlabel('Hour of day (User Local Time)', fontsize=14)\n",
    "plt.ylabel('Day of Month (June 2016)', fontsize=14)\n",
    "\n",
    "\n",
    "plt.title('Heatmap of Click Events in US (Sample Data)', fontsize = 18);"
   ]
  },
  {
   "cell_type": "code",
   "execution_count": 97,
   "metadata": {
    "collapsed": true
   },
   "outputs": [],
   "source": [
    "s_count = sample['platform'].value_counts()"
   ]
  },
  {
   "cell_type": "code",
   "execution_count": 98,
   "metadata": {
    "collapsed": false
   },
   "outputs": [
    {
     "data": {
      "image/png": "[encoded data removed]",
      "text/plain": [
       "<matplotlib.figure.Figure at 0x11ed8aad0>"
      ]
     },
     "metadata": {},
     "output_type": "display_data"
    }
   ],
   "source": [
    "measure = s_count.values\n",
    "\n",
    "fig, ax1 = plt.subplots(figsize=(9,6))\n",
    "labels = ['Mobile', 'Desktop', 'Tablet']\n",
    "ax1.bar(e_count.index, measure/float(sum(measure)), color='red',\n",
    "        alpha=0.5,tick_label=labels,align='center')\n",
    "ax1.set_title('Events by Platform (US - Sample)', fontsize=18)\n",
    "ax1.set_xlabel('Platform', fontsize=14)\n",
    "ax1.set_ylabel('% of Occurences', fontsize=14);"
   ]
  },
  {
   "cell_type": "code",
   "execution_count": 99,
   "metadata": {
    "collapsed": true
   },
   "outputs": [],
   "source": [
    "user_count_s = sample.groupby('uuid')['uuid'].count().sort_values()\n"
   ]
  },
  {
   "cell_type": "code",
   "execution_count": 101,
   "metadata": {
    "collapsed": false
   },
   "outputs": [
    {
     "data": {
      "image/png": "[encoded data removed]",
      "text/plain": [
       "<matplotlib.figure.Figure at 0x11a4e1c10>"
      ]
     },
     "metadata": {},
     "output_type": "display_data"
    }
   ],
   "source": [
    "plt.figure(figsize=(9,6))\n",
    "plt.hist(user_count_s.values, alpha = 0.5, color = 'green',bins = 10)\n",
    "plt.xlabel('Number of times particular user clicked on ad', fontsize=14)\n",
    "plt.ylabel('log(Count of users)', fontsize=14)\n",
    "plt.yscale('log')\n",
    "plt.title('Clicks by User ID (US)', fontsize = 18)\n",
    "plt.show();"
   ]
  },
  {
   "cell_type": "code",
   "execution_count": null,
   "metadata": {
    "collapsed": true
   },
   "outputs": [],
   "source": []
  },
  {
   "cell_type": "code",
   "execution_count": null,
   "metadata": {
    "collapsed": true
   },
   "outputs": [],
   "source": []
  },
  {
   "cell_type": "code",
   "execution_count": null,
   "metadata": {
    "collapsed": true
   },
   "outputs": [],
   "source": []
  },
  {
   "cell_type": "raw",
   "metadata": {},
   "source": []
  },
  {
   "cell_type": "code",
   "execution_count": 109,
   "metadata": {
    "collapsed": false
   },
   "outputs": [],
   "source": [
    "ad_count = [(sample.groupby('display_id')['ad_id'].count().value_counts())]"
   ]
  },
  {
   "cell_type": "code",
   "execution_count": 110,
   "metadata": {
    "collapsed": false
   },
   "outputs": [],
   "source": [
    "ad_count = pd.DataFrame(ad_count).T.fillna(1)"
   ]
  },
  {
   "cell_type": "code",
   "execution_count": 117,
   "metadata": {
    "collapsed": false
   },
   "outputs": [
    {
     "data": {
      "text/html": [
       "<div>\n",
       "<table border=\"1\" class=\"dataframe\">\n",
       "  <thead>\n",
       "    <tr style=\"text-align: right;\">\n",
       "      <th></th>\n",
       "      <th>ad_id</th>\n",
       "    </tr>\n",
       "  </thead>\n",
       "  <tbody>\n",
       "    <tr>\n",
       "      <th>2</th>\n",
       "      <td>0.049580</td>\n",
       "    </tr>\n",
       "    <tr>\n",
       "      <th>3</th>\n",
       "      <td>0.109253</td>\n",
       "    </tr>\n",
       "  </tbody>\n",
       "</table>\n",
       "</div>"
      ],
      "text/plain": [
       "      ad_id\n",
       "2  0.049580\n",
       "3  0.109253"
      ]
     },
     "execution_count": 117,
     "metadata": {},
     "output_type": "execute_result"
    }
   ],
   "source": [
    "ad_count = ad_count.sort_index()\n",
    "ad_count.head(2)"
   ]
  },
  {
   "cell_type": "code",
   "execution_count": 112,
   "metadata": {
    "collapsed": false
   },
   "outputs": [
    {
     "name": "stdout",
     "output_type": "stream",
     "text": [
      "Total ad count: 13,574\n"
     ]
    }
   ],
   "source": [
    "total = ad_count['ad_id'].sum()\n",
    "print('Total ad count: {0:,}'.format(total))\n"
   ]
  },
  {
   "cell_type": "code",
   "execution_count": 113,
   "metadata": {
    "collapsed": false
   },
   "outputs": [],
   "source": [
    "ad_count['ad_id'] = ad_count['ad_id']/total\n"
   ]
  },
  {
   "cell_type": "code",
   "execution_count": 114,
   "metadata": {
    "collapsed": false
   },
   "outputs": [
    {
     "data": {
      "text/plain": [
       "1.0"
      ]
     },
     "execution_count": 114,
     "metadata": {},
     "output_type": "execute_result"
    }
   ],
   "source": [
    "# weighted ad count (global)\n",
    "ad_count['ad_id'].sum()"
   ]
  },
  {
   "cell_type": "code",
   "execution_count": 116,
   "metadata": {
    "collapsed": false
   },
   "outputs": [
    {
     "data": {
      "image/png": "[encoded data removed]",
      "text/plain": [
       "<matplotlib.figure.Figure at 0x11fc44b90>"
      ]
     },
     "metadata": {},
     "output_type": "display_data"
    }
   ],
   "source": [
    "plt.figure(figsize=(18,6))\n",
    "sns.barplot(ad_count.index, ad_count['ad_id'], color='blue', alpha=0.5)\n",
    "plt.title('Ads per display event (Sample Data Set)',fontsize = 18)\n",
    "plt.xlabel('Ads shown per display event', fontsize=14)\n",
    "plt.ylabel('Share of total click events', fontsize=14);"
   ]
  },
  {
   "cell_type": "markdown",
   "metadata": {},
   "source": [
    "The ad count per event is weighted heavily towards 4 and 6 ad displays per page (just over 60%), with almost another quarter from 2, 3, and 5 per event."
   ]
  },
  {
   "cell_type": "code",
   "execution_count": 118,
   "metadata": {
    "collapsed": false
   },
   "outputs": [],
   "source": [
    "ad_occ = sample.groupby('ad_id')['ad_id'].count()"
   ]
  },
  {
   "cell_type": "code",
   "execution_count": 122,
   "metadata": {
    "collapsed": false
   },
   "outputs": [
    {
     "data": {
      "image/png": "[encoded data removed]",
      "text/plain": [
       "<matplotlib.figure.Figure at 0x11b8b8e90>"
      ]
     },
     "metadata": {},
     "output_type": "display_data"
    }
   ],
   "source": [
    "plt.figure(figsize=(9,6))\n",
    "plt.hist(ad_occ.values, alpha = 0.5, color = 'blue',bins = 200)\n",
    "plt.title('Number of times ad appeared (Sample Data Set)',fontsize = 18)\n",
    "plt.xlabel('Number of times ad appeared', fontsize=14)\n",
    "plt.ylabel('log(Count of events with ad)', fontsize=14)\n",
    "plt.yscale('log')\n",
    "#plt.ylim([0,2])\n",
    "plt.show();"
   ]
  },
  {
   "cell_type": "markdown",
   "metadata": {},
   "source": [
    "The chart shows that a large percentage of the adds appear very few times, **with over 50% appearing less than 5 times.** \n",
    "\n",
    "From this it appears that we will not be able to use the ad iteself as a predictor, but will need to build some other linkages. Possibly the docuemnt subject matter (based on confidence level), advertiser or campaign, etc.\n"
   ]
  },
  {
   "cell_type": "code",
   "execution_count": null,
   "metadata": {
    "collapsed": true
   },
   "outputs": [],
   "source": []
  },
  {
   "cell_type": "markdown",
   "metadata": {},
   "source": [
    "## Promoted data\n",
    "The document_id associated with each ad_id in the promoted content is the document to which the ad refers (i.e. you would use this table in order to find the topics, categories, or entities referred to in an ad). One or more ads may point to the same document."
   ]
  },
  {
   "cell_type": "code",
   "execution_count": 123,
   "metadata": {
    "collapsed": false
   },
   "outputs": [
    {
     "data": {
      "text/html": [
       "<div>\n",
       "<table border=\"1\" class=\"dataframe\">\n",
       "  <thead>\n",
       "    <tr style=\"text-align: right;\">\n",
       "      <th></th>\n",
       "      <th>ad_id</th>\n",
       "      <th>document_id</th>\n",
       "      <th>campaign_id</th>\n",
       "      <th>advertiser_id</th>\n",
       "    </tr>\n",
       "  </thead>\n",
       "  <tbody>\n",
       "    <tr>\n",
       "      <th>0</th>\n",
       "      <td>1</td>\n",
       "      <td>6614</td>\n",
       "      <td>1</td>\n",
       "      <td>7</td>\n",
       "    </tr>\n",
       "    <tr>\n",
       "      <th>1</th>\n",
       "      <td>2</td>\n",
       "      <td>471467</td>\n",
       "      <td>2</td>\n",
       "      <td>7</td>\n",
       "    </tr>\n",
       "    <tr>\n",
       "      <th>2</th>\n",
       "      <td>3</td>\n",
       "      <td>7692</td>\n",
       "      <td>3</td>\n",
       "      <td>7</td>\n",
       "    </tr>\n",
       "    <tr>\n",
       "      <th>3</th>\n",
       "      <td>4</td>\n",
       "      <td>471471</td>\n",
       "      <td>2</td>\n",
       "      <td>7</td>\n",
       "    </tr>\n",
       "    <tr>\n",
       "      <th>4</th>\n",
       "      <td>5</td>\n",
       "      <td>471472</td>\n",
       "      <td>2</td>\n",
       "      <td>7</td>\n",
       "    </tr>\n",
       "  </tbody>\n",
       "</table>\n",
       "</div>"
      ],
      "text/plain": [
       "   ad_id  document_id  campaign_id  advertiser_id\n",
       "0      1         6614            1              7\n",
       "1      2       471467            2              7\n",
       "2      3         7692            3              7\n",
       "3      4       471471            2              7\n",
       "4      5       471472            2              7"
      ]
     },
     "execution_count": 123,
     "metadata": {},
     "output_type": "execute_result"
    }
   ],
   "source": [
    "promoted = pd.read_csv('./data/promoted_content.csv')\n",
    "promoted.head()"
   ]
  },
  {
   "cell_type": "code",
   "execution_count": 124,
   "metadata": {
    "collapsed": false
   },
   "outputs": [
    {
     "name": "stdout",
     "output_type": "stream",
     "text": [
      "<class 'pandas.core.frame.DataFrame'>\n",
      "RangeIndex: 559583 entries, 0 to 559582\n",
      "Data columns (total 4 columns):\n",
      "ad_id            559583 non-null int64\n",
      "document_id      559583 non-null int64\n",
      "campaign_id      559583 non-null int64\n",
      "advertiser_id    559583 non-null int64\n",
      "dtypes: int64(4)\n",
      "memory usage: 17.1 MB\n"
     ]
    }
   ],
   "source": [
    "promoted.info()"
   ]
  },
  {
   "cell_type": "code",
   "execution_count": 125,
   "metadata": {
    "collapsed": false
   },
   "outputs": [
    {
     "data": {
      "text/html": [
       "<div>\n",
       "<table border=\"1\" class=\"dataframe\">\n",
       "  <thead>\n",
       "    <tr style=\"text-align: right;\">\n",
       "      <th></th>\n",
       "      <th></th>\n",
       "      <th>ad_id</th>\n",
       "    </tr>\n",
       "    <tr>\n",
       "      <th>advertiser_id</th>\n",
       "      <th>campaign_id</th>\n",
       "      <th></th>\n",
       "    </tr>\n",
       "  </thead>\n",
       "  <tbody>\n",
       "    <tr>\n",
       "      <th>2</th>\n",
       "      <th>21016</th>\n",
       "      <td>2</td>\n",
       "    </tr>\n",
       "    <tr>\n",
       "      <th>3</th>\n",
       "      <th>26266</th>\n",
       "      <td>12</td>\n",
       "    </tr>\n",
       "    <tr>\n",
       "      <th rowspan=\"3\" valign=\"top\">4</th>\n",
       "      <th>3837</th>\n",
       "      <td>3</td>\n",
       "    </tr>\n",
       "    <tr>\n",
       "      <th>3838</th>\n",
       "      <td>15</td>\n",
       "    </tr>\n",
       "    <tr>\n",
       "      <th>4018</th>\n",
       "      <td>17</td>\n",
       "    </tr>\n",
       "  </tbody>\n",
       "</table>\n",
       "</div>"
      ],
      "text/plain": [
       "                           ad_id\n",
       "advertiser_id campaign_id       \n",
       "2             21016            2\n",
       "3             26266           12\n",
       "4             3837             3\n",
       "              3838            15\n",
       "              4018            17"
      ]
     },
     "execution_count": 125,
     "metadata": {},
     "output_type": "execute_result"
    }
   ],
   "source": [
    "pd.pivot_table(promoted, index=['advertiser_id','campaign_id'], values=['ad_id'],\\\n",
    "               aggfunc = 'count').head()"
   ]
  },
  {
   "cell_type": "code",
   "execution_count": 126,
   "metadata": {
    "collapsed": false
   },
   "outputs": [
    {
     "data": {
      "text/html": [
       "<div>\n",
       "<table border=\"1\" class=\"dataframe\">\n",
       "  <thead>\n",
       "    <tr style=\"text-align: right;\">\n",
       "      <th></th>\n",
       "      <th>ad_id</th>\n",
       "    </tr>\n",
       "    <tr>\n",
       "      <th>advertiser_id</th>\n",
       "      <th></th>\n",
       "    </tr>\n",
       "  </thead>\n",
       "  <tbody>\n",
       "    <tr>\n",
       "      <th>266</th>\n",
       "      <td>16529</td>\n",
       "    </tr>\n",
       "    <tr>\n",
       "      <th>1635</th>\n",
       "      <td>15450</td>\n",
       "    </tr>\n",
       "    <tr>\n",
       "      <th>3829</th>\n",
       "      <td>14844</td>\n",
       "    </tr>\n",
       "    <tr>\n",
       "      <th>1634</th>\n",
       "      <td>10552</td>\n",
       "    </tr>\n",
       "    <tr>\n",
       "      <th>3922</th>\n",
       "      <td>10046</td>\n",
       "    </tr>\n",
       "  </tbody>\n",
       "</table>\n",
       "</div>"
      ],
      "text/plain": [
       "               ad_id\n",
       "advertiser_id       \n",
       "266            16529\n",
       "1635           15450\n",
       "3829           14844\n",
       "1634           10552\n",
       "3922           10046"
      ]
     },
     "execution_count": 126,
     "metadata": {},
     "output_type": "execute_result"
    }
   ],
   "source": [
    "pd.pivot_table(promoted, index=['advertiser_id'], values=['ad_id'],aggfunc = 'count').\\\n",
    "                 sort_values(by='ad_id', ascending = False).head()"
   ]
  },
  {
   "cell_type": "markdown",
   "metadata": {
    "collapsed": true
   },
   "source": [
    "## Document Data\n",
    "\n",
    "* meta data\n",
    "    * source_id (the part of the site on which the document is displayed, e.g. edition.cnn.com)\n",
    "    * publisher_id (e.g. cnn.com)\n",
    "    * publish_time\n",
    "* document description - provide information about the content in a document, as well as Outbrain's confidence in each respective relationship. Their can be more than one per docuemnt/ad.\n",
    "    * topic data\n",
    "    * entity data\n",
    "    * category data"
   ]
  },
  {
   "cell_type": "code",
   "execution_count": 127,
   "metadata": {
    "collapsed": false
   },
   "outputs": [
    {
     "data": {
      "text/html": [
       "<div>\n",
       "<table border=\"1\" class=\"dataframe\">\n",
       "  <thead>\n",
       "    <tr style=\"text-align: right;\">\n",
       "      <th></th>\n",
       "      <th>document_id</th>\n",
       "      <th>source_id</th>\n",
       "      <th>publisher_id</th>\n",
       "      <th>publish_time</th>\n",
       "    </tr>\n",
       "  </thead>\n",
       "  <tbody>\n",
       "    <tr>\n",
       "      <th>0</th>\n",
       "      <td>1595802</td>\n",
       "      <td>1.0</td>\n",
       "      <td>603.0</td>\n",
       "      <td>2016-06-05 00:00:00</td>\n",
       "    </tr>\n",
       "    <tr>\n",
       "      <th>1</th>\n",
       "      <td>1524246</td>\n",
       "      <td>1.0</td>\n",
       "      <td>603.0</td>\n",
       "      <td>2016-05-26 11:00:00</td>\n",
       "    </tr>\n",
       "    <tr>\n",
       "      <th>2</th>\n",
       "      <td>1617787</td>\n",
       "      <td>1.0</td>\n",
       "      <td>603.0</td>\n",
       "      <td>2016-05-27 00:00:00</td>\n",
       "    </tr>\n",
       "    <tr>\n",
       "      <th>3</th>\n",
       "      <td>1615583</td>\n",
       "      <td>1.0</td>\n",
       "      <td>603.0</td>\n",
       "      <td>2016-06-07 00:00:00</td>\n",
       "    </tr>\n",
       "    <tr>\n",
       "      <th>4</th>\n",
       "      <td>1615460</td>\n",
       "      <td>1.0</td>\n",
       "      <td>603.0</td>\n",
       "      <td>2016-06-20 00:00:00</td>\n",
       "    </tr>\n",
       "  </tbody>\n",
       "</table>\n",
       "</div>"
      ],
      "text/plain": [
       "   document_id  source_id  publisher_id         publish_time\n",
       "0      1595802        1.0         603.0  2016-06-05 00:00:00\n",
       "1      1524246        1.0         603.0  2016-05-26 11:00:00\n",
       "2      1617787        1.0         603.0  2016-05-27 00:00:00\n",
       "3      1615583        1.0         603.0  2016-06-07 00:00:00\n",
       "4      1615460        1.0         603.0  2016-06-20 00:00:00"
      ]
     },
     "execution_count": 127,
     "metadata": {},
     "output_type": "execute_result"
    }
   ],
   "source": [
    "d_meta = pd.read_csv('./data/documents_meta.csv')\n",
    "d_meta.head()"
   ]
  },
  {
   "cell_type": "code",
   "execution_count": 128,
   "metadata": {
    "collapsed": false
   },
   "outputs": [
    {
     "name": "stdout",
     "output_type": "stream",
     "text": [
      "<class 'pandas.core.frame.DataFrame'>\n",
      "RangeIndex: 2999334 entries, 0 to 2999333\n",
      "Data columns (total 4 columns):\n",
      "document_id     int64\n",
      "source_id       float64\n",
      "publisher_id    float64\n",
      "publish_time    object\n",
      "dtypes: float64(2), int64(1), object(1)\n",
      "memory usage: 91.5+ MB\n"
     ]
    }
   ],
   "source": [
    "d_meta.info()"
   ]
  },
  {
   "cell_type": "code",
   "execution_count": 129,
   "metadata": {
    "collapsed": false
   },
   "outputs": [
    {
     "data": {
      "text/plain": [
       "array([nan, '0002-11-27 19:00:00', '0002-11-29 19:00:00', ...,\n",
       "       '3011-03-30 00:00:00', '3012-05-03 00:00:00', '9953-03-01 00:00:00'], dtype=object)"
      ]
     },
     "execution_count": 129,
     "metadata": {},
     "output_type": "execute_result"
    }
   ],
   "source": [
    "np.sort(d_meta.publish_time.unique())"
   ]
  },
  {
   "cell_type": "code",
   "execution_count": 130,
   "metadata": {
    "collapsed": false
   },
   "outputs": [
    {
     "data": {
      "text/plain": [
       "1011118"
      ]
     },
     "execution_count": 130,
     "metadata": {},
     "output_type": "execute_result"
    }
   ],
   "source": [
    "d_meta.publish_time.isnull().sum()"
   ]
  },
  {
   "cell_type": "markdown",
   "metadata": {},
   "source": [
    "<font color='red'>**About 25% of publish times are nan, and some are future time (ahead of time range sampled)**</font> \n",
    "Not sure how to use this data"
   ]
  },
  {
   "cell_type": "code",
   "execution_count": 131,
   "metadata": {
    "collapsed": false
   },
   "outputs": [
    {
     "name": "stdout",
     "output_type": "stream",
     "text": [
      "<class 'pandas.core.frame.DataFrame'>\n",
      "RangeIndex: 2999334 entries, 0 to 2999333\n",
      "Data columns (total 4 columns):\n",
      "document_id     int64\n",
      "source_id       float64\n",
      "publisher_id    float64\n",
      "publish_time    object\n",
      "dtypes: float64(2), int64(1), object(1)\n",
      "memory usage: 91.5+ MB\n"
     ]
    }
   ],
   "source": [
    "d_meta.info()"
   ]
  },
  {
   "cell_type": "code",
   "execution_count": 132,
   "metadata": {
    "collapsed": false
   },
   "outputs": [
    {
     "name": "stdout",
     "output_type": "stream",
     "text": [
      "Unique Publishers (cnn.com): 14,395\n",
      "Unique Sources (edition.cnn.com): 1,260\n"
     ]
    }
   ],
   "source": [
    "print('Unique Publishers (cnn.com): {0:,}'.format(len(d_meta.source_id.unique())))\n",
    "print('Unique Sources (edition.cnn.com): {0:,}'.format(len(d_meta.publisher_id.unique())))"
   ]
  },
  {
   "cell_type": "markdown",
   "metadata": {},
   "source": [
    "place holder"
   ]
  },
  {
   "cell_type": "code",
   "execution_count": 133,
   "metadata": {
    "collapsed": true
   },
   "outputs": [],
   "source": [
    "d_top = pd.read_csv('./data/documents_topics.csv')\n",
    "d_ent = pd.read_csv('./data/documents_entities.csv')\n",
    "d_cat = pd.read_csv('./data/documents_categories.csv')"
   ]
  },
  {
   "cell_type": "code",
   "execution_count": 134,
   "metadata": {
    "collapsed": false
   },
   "outputs": [
    {
     "name": "stdout",
     "output_type": "stream",
     "text": [
      "[140  16 143 170 113 260  92 168  54 207 258  10 148  89 198  26  84 262\n",
      " 108 202  72 242 221 192 279   2 274  32 100  65  86 249  66 193 285 298\n",
      "  67 107 196 281  74  64  20  55 109  50  62 142  75 297 296 110  68 160\n",
      " 181 153  85 176 155  52 171  69 131 136 165 219  24 228 141   8 128 149\n",
      " 105  71 173  90 162  46 213  81  43 276  19  29 177 204  95 144 290 287\n",
      "  25 121 254  42   1  94 265 271 102 223 130 295  35 175 231 179 268 145\n",
      " 184 163 244  61 112  56 154 138 190  57 232 239 235 250 104   5 291 180\n",
      " 174  23  17   9 226 132 247 167 266 201 277 156 252 292 123  13 200 208\n",
      " 272 191  78 259 286  97 125  80 218  37  73  22 243 246 294 283 289  31\n",
      " 217 248  27 183 150  60  48 257 159 241   0 288 264  93  15 199 256  44\n",
      " 103  21 238 194 269 282 135 206 119 230 118 209 270  82 172 147 134 237\n",
      "  36  79 225  76 275  38  14 106  58  30 129 229 124  41  49  39 233  11\n",
      " 117 211 227  87 216   4   3   7 188  53 186 120 224 299  33  91 157 251\n",
      " 137 220  77 158  47 139 111  63 178 146 280 253 234 166  12 152 214 203\n",
      " 133 255  96 187 161 197 101  98  45  51 189 205  40 185 236  83 215 182\n",
      " 127  70 169 210 263 278 261  59  18  88 222 151 284 164   6 245 195 116\n",
      " 240 273 267 126 115  34 114 212  28 122  99 293]\n",
      "['f9eec25663db4cd83183f5c805186f16' '55ebcfbdaff1d6f60b3907151f38527a'\n",
      " '839907a972930b17b125eb0247898412' ..., '8ccd6fd7f765065b64635b4c4117e2d9'\n",
      " '629184d33de868a075d8568dee76da7a' 'ea1da4c578e07a535e410a30eb1cc44a']\n",
      "[1611 1610 1807 1608 1305 1806 1613 1603 1606 1602 1809 1303 1408 1403 1207\n",
      " 1402 1405 1802 1100 1702 2100 2006 1808 1510 1513 1505 1302 1908 1503 1209\n",
      " 1604 1609 1206 1703 1805 2004 1407 1614 1514 1210 1203 1605 1504 2003 1607\n",
      " 1903 1205 1511 1306 1307 2002 1710 1515 1904 1512 1706 1000 1902 2005 1406\n",
      " 1612 1913 1709 1304 1911 1204 1711 1509 1208 1804 1907 1914 1211 1502 1909\n",
      " 1707 1404 1506 1516 1507 1912 1708 1202 1915 1705 1905 1308 1704 1910 2000\n",
      " 1900 1600 1400 1200 1700 1500 1800]\n"
     ]
    }
   ],
   "source": [
    "print(d_top.topic_id.unique())\n",
    "print(d_ent.entity_id.unique())\n",
    "print(d_cat.category_id.unique())\n",
    "\n",
    "# no missing descriptive ID's as seen below (no nan's or empty positions.)"
   ]
  },
  {
   "cell_type": "code",
   "execution_count": 135,
   "metadata": {
    "collapsed": false
   },
   "outputs": [
    {
     "name": "stdout",
     "output_type": "stream",
     "text": [
      "Unique Topics: 300\n"
     ]
    },
    {
     "data": {
      "text/html": [
       "<div>\n",
       "<table border=\"1\" class=\"dataframe\">\n",
       "  <thead>\n",
       "    <tr style=\"text-align: right;\">\n",
       "      <th></th>\n",
       "      <th>document_id</th>\n",
       "      <th>topic_id</th>\n",
       "      <th>confidence_level</th>\n",
       "    </tr>\n",
       "  </thead>\n",
       "  <tbody>\n",
       "    <tr>\n",
       "      <th>0</th>\n",
       "      <td>1595802</td>\n",
       "      <td>140</td>\n",
       "      <td>0.073113</td>\n",
       "    </tr>\n",
       "    <tr>\n",
       "      <th>1</th>\n",
       "      <td>1595802</td>\n",
       "      <td>16</td>\n",
       "      <td>0.059416</td>\n",
       "    </tr>\n",
       "    <tr>\n",
       "      <th>2</th>\n",
       "      <td>1595802</td>\n",
       "      <td>143</td>\n",
       "      <td>0.045421</td>\n",
       "    </tr>\n",
       "    <tr>\n",
       "      <th>3</th>\n",
       "      <td>1595802</td>\n",
       "      <td>170</td>\n",
       "      <td>0.038867</td>\n",
       "    </tr>\n",
       "    <tr>\n",
       "      <th>4</th>\n",
       "      <td>1524246</td>\n",
       "      <td>113</td>\n",
       "      <td>0.196450</td>\n",
       "    </tr>\n",
       "  </tbody>\n",
       "</table>\n",
       "</div>"
      ],
      "text/plain": [
       "   document_id  topic_id  confidence_level\n",
       "0      1595802       140          0.073113\n",
       "1      1595802        16          0.059416\n",
       "2      1595802       143          0.045421\n",
       "3      1595802       170          0.038867\n",
       "4      1524246       113          0.196450"
      ]
     },
     "execution_count": 135,
     "metadata": {},
     "output_type": "execute_result"
    }
   ],
   "source": [
    "print('Unique Topics: {0:,}'.format(len(d_top.topic_id.unique())))\n",
    "d_top.head()"
   ]
  },
  {
   "cell_type": "code",
   "execution_count": 136,
   "metadata": {
    "collapsed": false
   },
   "outputs": [
    {
     "data": {
      "image/png": "[encoded data removed]",
      "text/plain": [
       "<matplotlib.figure.Figure at 0x11b00ab10>"
      ]
     },
     "metadata": {},
     "output_type": "display_data"
    }
   ],
   "source": [
    "measure = d_cat.confidence_level\n",
    "\n",
    "# to normalize a histogram\n",
    "wght = np.ones_like(measure)/float(len(measure))\n",
    "\n",
    "fig, ax1 = plt.subplots(figsize=(15,4))\n",
    "ax1.hist(measure, weights = wght, alpha=0.7, color = 'blue')\n",
    "ax1.set_title('Document Topic Confidence Levels')\n",
    "ax1.set_ylabel('Number of Documents', fontsize=12);\n",
    "# d_top.confidence_level[d_top.confidence_level > 0.2]\n"
   ]
  },
  {
   "cell_type": "code",
   "execution_count": 137,
   "metadata": {
    "collapsed": false
   },
   "outputs": [
    {
     "name": "stdout",
     "output_type": "stream",
     "text": [
      "Unique Topics: 1,326,009\n"
     ]
    },
    {
     "data": {
      "text/html": [
       "<div>\n",
       "<table border=\"1\" class=\"dataframe\">\n",
       "  <thead>\n",
       "    <tr style=\"text-align: right;\">\n",
       "      <th></th>\n",
       "      <th>document_id</th>\n",
       "      <th>entity_id</th>\n",
       "      <th>confidence_level</th>\n",
       "    </tr>\n",
       "  </thead>\n",
       "  <tbody>\n",
       "    <tr>\n",
       "      <th>0</th>\n",
       "      <td>1524246</td>\n",
       "      <td>f9eec25663db4cd83183f5c805186f16</td>\n",
       "      <td>0.672865</td>\n",
       "    </tr>\n",
       "    <tr>\n",
       "      <th>1</th>\n",
       "      <td>1524246</td>\n",
       "      <td>55ebcfbdaff1d6f60b3907151f38527a</td>\n",
       "      <td>0.399114</td>\n",
       "    </tr>\n",
       "    <tr>\n",
       "      <th>2</th>\n",
       "      <td>1524246</td>\n",
       "      <td>839907a972930b17b125eb0247898412</td>\n",
       "      <td>0.392096</td>\n",
       "    </tr>\n",
       "    <tr>\n",
       "      <th>3</th>\n",
       "      <td>1524246</td>\n",
       "      <td>04d8f9a1ad48f126d5806a9236872604</td>\n",
       "      <td>0.213996</td>\n",
       "    </tr>\n",
       "    <tr>\n",
       "      <th>4</th>\n",
       "      <td>1617787</td>\n",
       "      <td>612a1d17685a498aff4f036c1ee02c16</td>\n",
       "      <td>0.386193</td>\n",
       "    </tr>\n",
       "  </tbody>\n",
       "</table>\n",
       "</div>"
      ],
      "text/plain": [
       "   document_id                         entity_id  confidence_level\n",
       "0      1524246  f9eec25663db4cd83183f5c805186f16          0.672865\n",
       "1      1524246  55ebcfbdaff1d6f60b3907151f38527a          0.399114\n",
       "2      1524246  839907a972930b17b125eb0247898412          0.392096\n",
       "3      1524246  04d8f9a1ad48f126d5806a9236872604          0.213996\n",
       "4      1617787  612a1d17685a498aff4f036c1ee02c16          0.386193"
      ]
     },
     "execution_count": 137,
     "metadata": {},
     "output_type": "execute_result"
    }
   ],
   "source": [
    "print('Unique Topics: {0:,}'.format(len(d_ent.entity_id.unique())))\n",
    "d_ent.head()"
   ]
  },
  {
   "cell_type": "code",
   "execution_count": 138,
   "metadata": {
    "collapsed": false
   },
   "outputs": [
    {
     "data": {
      "image/png": "[encoded data removed]",
      "text/plain": [
       "<matplotlib.figure.Figure at 0x11e3c2c50>"
      ]
     },
     "metadata": {},
     "output_type": "display_data"
    }
   ],
   "source": [
    "measure = d_ent.confidence_level\n",
    "\n",
    "# to normalize a histogram\n",
    "wght = np.ones_like(measure)/float(len(measure))\n",
    "\n",
    "fig, ax1 = plt.subplots(figsize=(15,4))\n",
    "ax1.hist(measure, weights = wght, alpha=0.7, color = 'blue')\n",
    "ax1.set_title('Document Entity Confidence Levels')\n",
    "ax1.set_ylabel('Number of Documents', fontsize=12);\n"
   ]
  },
  {
   "cell_type": "code",
   "execution_count": 139,
   "metadata": {
    "collapsed": false
   },
   "outputs": [
    {
     "name": "stdout",
     "output_type": "stream",
     "text": [
      "Unique Categories: 97\n"
     ]
    },
    {
     "data": {
      "text/html": [
       "<div>\n",
       "<table border=\"1\" class=\"dataframe\">\n",
       "  <thead>\n",
       "    <tr style=\"text-align: right;\">\n",
       "      <th></th>\n",
       "      <th>document_id</th>\n",
       "      <th>category_id</th>\n",
       "      <th>confidence_level</th>\n",
       "    </tr>\n",
       "  </thead>\n",
       "  <tbody>\n",
       "    <tr>\n",
       "      <th>0</th>\n",
       "      <td>1595802</td>\n",
       "      <td>1611</td>\n",
       "      <td>0.92</td>\n",
       "    </tr>\n",
       "    <tr>\n",
       "      <th>1</th>\n",
       "      <td>1595802</td>\n",
       "      <td>1610</td>\n",
       "      <td>0.07</td>\n",
       "    </tr>\n",
       "    <tr>\n",
       "      <th>2</th>\n",
       "      <td>1524246</td>\n",
       "      <td>1807</td>\n",
       "      <td>0.92</td>\n",
       "    </tr>\n",
       "    <tr>\n",
       "      <th>3</th>\n",
       "      <td>1524246</td>\n",
       "      <td>1608</td>\n",
       "      <td>0.07</td>\n",
       "    </tr>\n",
       "    <tr>\n",
       "      <th>4</th>\n",
       "      <td>1617787</td>\n",
       "      <td>1807</td>\n",
       "      <td>0.92</td>\n",
       "    </tr>\n",
       "  </tbody>\n",
       "</table>\n",
       "</div>"
      ],
      "text/plain": [
       "   document_id  category_id  confidence_level\n",
       "0      1595802         1611              0.92\n",
       "1      1595802         1610              0.07\n",
       "2      1524246         1807              0.92\n",
       "3      1524246         1608              0.07\n",
       "4      1617787         1807              0.92"
      ]
     },
     "execution_count": 139,
     "metadata": {},
     "output_type": "execute_result"
    }
   ],
   "source": [
    "print('Unique Categories: {0:,}'.format(len(d_cat.category_id.unique())))\n",
    "d_cat.head()"
   ]
  },
  {
   "cell_type": "code",
   "execution_count": 140,
   "metadata": {
    "collapsed": false
   },
   "outputs": [
    {
     "data": {
      "image/png": "[encoded data removed]",
      "text/plain": [
       "<matplotlib.figure.Figure at 0x11b8dcb10>"
      ]
     },
     "metadata": {},
     "output_type": "display_data"
    }
   ],
   "source": [
    "measure = d_cat.confidence_level\n",
    "\n",
    "# to normalize a histogram\n",
    "wght = np.ones_like(measure)/float(len(measure))\n",
    "\n",
    "fig, ax1 = plt.subplots(figsize=(15,4))\n",
    "ax1.hist(measure, weights = wght, alpha=0.7, color = 'blue')\n",
    "ax1.set_title('Document Category Confidence Levels')\n",
    "ax1.set_ylabel('Number of Documents', fontsize=12);\n",
    "\n"
   ]
  },
  {
   "cell_type": "code",
   "execution_count": null,
   "metadata": {
    "collapsed": true
   },
   "outputs": [],
   "source": []
  },
  {
   "cell_type": "code",
   "execution_count": null,
   "metadata": {
    "collapsed": true
   },
   "outputs": [],
   "source": []
  },
  {
   "cell_type": "code",
   "execution_count": null,
   "metadata": {
    "collapsed": true
   },
   "outputs": [],
   "source": []
  }
 ],
 "metadata": {
  "anaconda-cloud": {},
  "kernelspec": {
   "display_name": "Python [Root]",
   "language": "python",
   "name": "Python [Root]"
  },
  "language_info": {
   "codemirror_mode": {
    "name": "ipython",
    "version": 2
   },
   "file_extension": ".py",
   "mimetype": "text/x-python",
   "name": "python",
   "nbconvert_exporter": "python",
   "pygments_lexer": "ipython2",
   "version": "2.7.11"
  }
 },
 "nbformat": 4,
 "nbformat_minor": 0
}
