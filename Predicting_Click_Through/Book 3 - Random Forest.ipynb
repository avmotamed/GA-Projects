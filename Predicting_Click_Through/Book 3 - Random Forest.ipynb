{
 "cells": [
  {
   "cell_type": "markdown",
   "metadata": {},
   "source": [
    "# Book 3 - Random Forest"
   ]
  },
  {
   "cell_type": "code",
   "execution_count": 1,
   "metadata": {
    "collapsed": false
   },
   "outputs": [
    {
     "name": "stderr",
     "output_type": "stream",
     "text": [
      "/Users/alex/anaconda/lib/python2.7/site-packages/sklearn/cross_validation.py:44: DeprecationWarning: This module was deprecated in version 0.18 in favor of the model_selection module into which all the refactored classes and functions are moved. Also note that the interface of the new CV iterators are different from that of this module. This module will be removed in 0.20.\n",
      "  \"This module will be removed in 0.20.\", DeprecationWarning)\n",
      "/Users/alex/anaconda/lib/python2.7/site-packages/sklearn/grid_search.py:43: DeprecationWarning: This module was deprecated in version 0.18 in favor of the model_selection module into which all the refactored classes and functions are moved. This module will be removed in 0.20.\n",
      "  DeprecationWarning)\n"
     ]
    }
   ],
   "source": [
    "import pandas as pd\n",
    "import numpy as np\n",
    "import seaborn as sns\n",
    "import pickle\n",
    "import random\n",
    "import datetime\n",
    "import os\n",
    "\n",
    "import matplotlib\n",
    "import matplotlib.pyplot as plt\n",
    "import matplotlib.cm as cm\n",
    "import matplotlib.patheffects as path_effects\n",
    "from matplotlib import cm as cm2\n",
    "matplotlib.style.use('ggplot') \n",
    "%matplotlib inline\n",
    "\n",
    "from sklearn import linear_model, datasets\n",
    "from sklearn.grid_search import GridSearchCV\n",
    "from sklearn import datasets\n",
    "from sklearn.tree import DecisionTreeClassifier, DecisionTreeRegressor\n",
    "from sklearn.ensemble import RandomForestClassifier, AdaBoostClassifier, \\\n",
    "    GradientBoostingClassifier, ExtraTreesClassifier, BaggingRegressor, \\\n",
    "    ExtraTreesRegressor, AdaBoostRegressor, GradientBoostingRegressor, RandomForestRegressor\n",
    "from sklearn.metrics import confusion_matrix\n",
    "from sklearn.preprocessing import LabelEncoder, MinMaxScaler\n",
    "from sklearn.metrics import accuracy_score \\\n",
    "#     confusion_matrix, roc_curve, roc_auc_score, precision_score, recall_score\n",
    "from sklearn.cross_validation import train_test_split, KFold, cross_val_score\n",
    "\n",
    "\n",
    "matplotlib.style.use('ggplot') \n",
    "sns.set_style(\"darkgrid\")\n",
    "%matplotlib inline"
   ]
  },
  {
   "cell_type": "markdown",
   "metadata": {},
   "source": [
    "# Bring in X & T train & test"
   ]
  },
  {
   "cell_type": "code",
   "execution_count": 2,
   "metadata": {
    "collapsed": false
   },
   "outputs": [],
   "source": [
    "# data = pd.read_csv('./data/data_bk1_complete.csv')\n",
    "with open('./data/data_bk1_complete.pkl', 'r') as picklefile:\n",
    "    data = pickle.load(picklefile)"
   ]
  },
  {
   "cell_type": "code",
   "execution_count": null,
   "metadata": {
    "collapsed": false
   },
   "outputs": [],
   "source": []
  },
  {
   "cell_type": "code",
   "execution_count": 3,
   "metadata": {
    "collapsed": true
   },
   "outputs": [],
   "source": [
    "# Use this to do train/test split after fit\n",
    "display_list = list(data['display_id'].unique())\n",
    "\n",
    "import random\n",
    "\n",
    "# Random list from event_id list of df1 & df2\n",
    "random.seed(a=44)\n",
    "rand_list = random.sample(display_list,11000)\n",
    "\n",
    "# these lists are for later splitting of train/test\n",
    "train_list = rand_list[:10000]\n",
    "test_list = rand_list[10000:]\n"
   ]
  },
  {
   "cell_type": "code",
   "execution_count": 4,
   "metadata": {
    "collapsed": true
   },
   "outputs": [],
   "source": [
    "# skinny down data to just what is needed before doing the fit\n",
    "data = data[data['display_id'].isin(rand_list)]"
   ]
  },
  {
   "cell_type": "code",
   "execution_count": 5,
   "metadata": {
    "collapsed": false
   },
   "outputs": [
    {
     "data": {
      "text/html": [
       "<div>\n",
       "<table border=\"1\" class=\"dataframe\">\n",
       "  <thead>\n",
       "    <tr style=\"text-align: right;\">\n",
       "      <th></th>\n",
       "      <th>display_id</th>\n",
       "      <th>ad_id</th>\n",
       "      <th>clicked</th>\n",
       "      <th>uuid</th>\n",
       "      <th>document_id</th>\n",
       "      <th>platform</th>\n",
       "      <th>geo_location</th>\n",
       "      <th>country</th>\n",
       "      <th>state</th>\n",
       "      <th>DMA</th>\n",
       "      <th>date_local</th>\n",
       "      <th>period</th>\n",
       "      <th>day_of_mnth</th>\n",
       "      <th>hour</th>\n",
       "      <th>ads_per_page</th>\n",
       "      <th>ad_document_id</th>\n",
       "      <th>campaign_id</th>\n",
       "      <th>advertiser_id</th>\n",
       "      <th>doc_id_topic</th>\n",
       "      <th>ad_id_topic</th>\n",
       "    </tr>\n",
       "  </thead>\n",
       "  <tbody>\n",
       "    <tr>\n",
       "      <th>77223</th>\n",
       "      <td>16874384</td>\n",
       "      <td>160764</td>\n",
       "      <td>0</td>\n",
       "      <td>a618ff8b112574</td>\n",
       "      <td>2673511</td>\n",
       "      <td>2</td>\n",
       "      <td>US&gt;NJ&gt;501</td>\n",
       "      <td>US</td>\n",
       "      <td>NJ</td>\n",
       "      <td>501</td>\n",
       "      <td>2016-06-26 23:59:45.144</td>\n",
       "      <td>overnight</td>\n",
       "      <td>26</td>\n",
       "      <td>23</td>\n",
       "      <td>4</td>\n",
       "      <td>1144499</td>\n",
       "      <td>18226</td>\n",
       "      <td>2553</td>\n",
       "      <td>275.0</td>\n",
       "      <td>260.0</td>\n",
       "    </tr>\n",
       "    <tr>\n",
       "      <th>77224</th>\n",
       "      <td>16874384</td>\n",
       "      <td>177111</td>\n",
       "      <td>0</td>\n",
       "      <td>a618ff8b112574</td>\n",
       "      <td>2673511</td>\n",
       "      <td>2</td>\n",
       "      <td>US&gt;NJ&gt;501</td>\n",
       "      <td>US</td>\n",
       "      <td>NJ</td>\n",
       "      <td>501</td>\n",
       "      <td>2016-06-26 23:59:45.144</td>\n",
       "      <td>overnight</td>\n",
       "      <td>26</td>\n",
       "      <td>23</td>\n",
       "      <td>4</td>\n",
       "      <td>1447390</td>\n",
       "      <td>21573</td>\n",
       "      <td>210</td>\n",
       "      <td>275.0</td>\n",
       "      <td>168.0</td>\n",
       "    </tr>\n",
       "    <tr>\n",
       "      <th>77225</th>\n",
       "      <td>16874384</td>\n",
       "      <td>262434</td>\n",
       "      <td>0</td>\n",
       "      <td>a618ff8b112574</td>\n",
       "      <td>2673511</td>\n",
       "      <td>2</td>\n",
       "      <td>US&gt;NJ&gt;501</td>\n",
       "      <td>US</td>\n",
       "      <td>NJ</td>\n",
       "      <td>501</td>\n",
       "      <td>2016-06-26 23:59:45.144</td>\n",
       "      <td>overnight</td>\n",
       "      <td>26</td>\n",
       "      <td>23</td>\n",
       "      <td>4</td>\n",
       "      <td>1621715</td>\n",
       "      <td>26260</td>\n",
       "      <td>2151</td>\n",
       "      <td>275.0</td>\n",
       "      <td>296.0</td>\n",
       "    </tr>\n",
       "  </tbody>\n",
       "</table>\n",
       "</div>"
      ],
      "text/plain": [
       "       display_id   ad_id  clicked            uuid  document_id platform  \\\n",
       "77223    16874384  160764        0  a618ff8b112574      2673511        2   \n",
       "77224    16874384  177111        0  a618ff8b112574      2673511        2   \n",
       "77225    16874384  262434        0  a618ff8b112574      2673511        2   \n",
       "\n",
       "      geo_location country state  DMA              date_local     period  \\\n",
       "77223    US>NJ>501      US    NJ  501 2016-06-26 23:59:45.144  overnight   \n",
       "77224    US>NJ>501      US    NJ  501 2016-06-26 23:59:45.144  overnight   \n",
       "77225    US>NJ>501      US    NJ  501 2016-06-26 23:59:45.144  overnight   \n",
       "\n",
       "       day_of_mnth  hour  ads_per_page  ad_document_id  campaign_id  \\\n",
       "77223           26    23             4         1144499        18226   \n",
       "77224           26    23             4         1447390        21573   \n",
       "77225           26    23             4         1621715        26260   \n",
       "\n",
       "       advertiser_id  doc_id_topic  ad_id_topic  \n",
       "77223           2553         275.0        260.0  \n",
       "77224            210         275.0        168.0  \n",
       "77225           2151         275.0        296.0  "
      ]
     },
     "execution_count": 5,
     "metadata": {},
     "output_type": "execute_result"
    }
   ],
   "source": [
    "data.tail(3)"
   ]
  },
  {
   "cell_type": "code",
   "execution_count": 6,
   "metadata": {
    "collapsed": true
   },
   "outputs": [],
   "source": [
    "ad_count = data[['display_id', 'ads_per_page']]"
   ]
  },
  {
   "cell_type": "code",
   "execution_count": 7,
   "metadata": {
    "collapsed": false
   },
   "outputs": [
    {
     "data": {
      "text/html": [
       "<div>\n",
       "<table border=\"1\" class=\"dataframe\">\n",
       "  <thead>\n",
       "    <tr style=\"text-align: right;\">\n",
       "      <th></th>\n",
       "      <th>display_id</th>\n",
       "      <th>ads_per_page</th>\n",
       "    </tr>\n",
       "  </thead>\n",
       "  <tbody>\n",
       "    <tr>\n",
       "      <th>0</th>\n",
       "      <td>1525</td>\n",
       "      <td>9</td>\n",
       "    </tr>\n",
       "    <tr>\n",
       "      <th>1</th>\n",
       "      <td>1525</td>\n",
       "      <td>9</td>\n",
       "    </tr>\n",
       "    <tr>\n",
       "      <th>2</th>\n",
       "      <td>1525</td>\n",
       "      <td>9</td>\n",
       "    </tr>\n",
       "    <tr>\n",
       "      <th>3</th>\n",
       "      <td>1525</td>\n",
       "      <td>9</td>\n",
       "    </tr>\n",
       "    <tr>\n",
       "      <th>4</th>\n",
       "      <td>1525</td>\n",
       "      <td>9</td>\n",
       "    </tr>\n",
       "  </tbody>\n",
       "</table>\n",
       "</div>"
      ],
      "text/plain": [
       "   display_id  ads_per_page\n",
       "0        1525             9\n",
       "1        1525             9\n",
       "2        1525             9\n",
       "3        1525             9\n",
       "4        1525             9"
      ]
     },
     "execution_count": 7,
     "metadata": {},
     "output_type": "execute_result"
    }
   ],
   "source": [
    "ad_count.head()"
   ]
  },
  {
   "cell_type": "markdown",
   "metadata": {},
   "source": [
    "## Workaround for classifier data fit\n",
    "If modeling on a larger scale, the data fit would include all states and all document pairs.\n",
    "\n",
    "The scope of this woudl likely overload the local machine, so as a work around the data will be fit with only the combinations that are in the full data set.\n",
    "\n",
    "For parameters that are not in the training set, they will have no impact on the classifier as they will all be zeros."
   ]
  },
  {
   "cell_type": "code",
   "execution_count": 8,
   "metadata": {
    "collapsed": false
   },
   "outputs": [
    {
     "data": {
      "text/plain": [
       "56533"
      ]
     },
     "execution_count": 8,
     "metadata": {},
     "output_type": "execute_result"
    }
   ],
   "source": [
    "len(data)"
   ]
  },
  {
   "cell_type": "code",
   "execution_count": 9,
   "metadata": {
    "collapsed": false
   },
   "outputs": [
    {
     "data": {
      "text/plain": [
       "0    0\n",
       "1    0\n",
       "Name: clicked, dtype: int64"
      ]
     },
     "execution_count": 9,
     "metadata": {},
     "output_type": "execute_result"
    }
   ],
   "source": [
    "Y = data['clicked']\n",
    "Y.head(2)"
   ]
  },
  {
   "cell_type": "code",
   "execution_count": 10,
   "metadata": {
    "collapsed": false
   },
   "outputs": [
    {
     "data": {
      "text/plain": [
       "Index([u'display_id', u'ad_id', u'clicked', u'uuid', u'document_id',\n",
       "       u'platform', u'geo_location', u'country', u'state', u'DMA',\n",
       "       u'date_local', u'period', u'day_of_mnth', u'hour', u'ads_per_page',\n",
       "       u'ad_document_id', u'campaign_id', u'advertiser_id', u'doc_id_topic',\n",
       "       u'ad_id_topic'],\n",
       "      dtype='object')"
      ]
     },
     "execution_count": 10,
     "metadata": {},
     "output_type": "execute_result"
    }
   ],
   "source": [
    "data.columns"
   ]
  },
  {
   "cell_type": "code",
   "execution_count": 11,
   "metadata": {
    "collapsed": true
   },
   "outputs": [],
   "source": [
    "disp_ID = data[['display_id','ad_id','clicked','ads_per_page']]"
   ]
  },
  {
   "cell_type": "code",
   "execution_count": 12,
   "metadata": {
    "collapsed": false
   },
   "outputs": [
    {
     "data": {
      "text/html": [
       "<div>\n",
       "<table border=\"1\" class=\"dataframe\">\n",
       "  <thead>\n",
       "    <tr style=\"text-align: right;\">\n",
       "      <th></th>\n",
       "      <th>display_id</th>\n",
       "      <th>ad_id</th>\n",
       "      <th>clicked</th>\n",
       "      <th>ads_per_page</th>\n",
       "    </tr>\n",
       "  </thead>\n",
       "  <tbody>\n",
       "    <tr>\n",
       "      <th>0</th>\n",
       "      <td>1525</td>\n",
       "      <td>8846</td>\n",
       "      <td>0</td>\n",
       "      <td>9</td>\n",
       "    </tr>\n",
       "    <tr>\n",
       "      <th>1</th>\n",
       "      <td>1525</td>\n",
       "      <td>45180</td>\n",
       "      <td>0</td>\n",
       "      <td>9</td>\n",
       "    </tr>\n",
       "  </tbody>\n",
       "</table>\n",
       "</div>"
      ],
      "text/plain": [
       "   display_id  ad_id  clicked  ads_per_page\n",
       "0        1525   8846        0             9\n",
       "1        1525  45180        0             9"
      ]
     },
     "execution_count": 12,
     "metadata": {},
     "output_type": "execute_result"
    }
   ],
   "source": [
    "disp_ID.head(2)"
   ]
  },
  {
   "cell_type": "code",
   "execution_count": 13,
   "metadata": {
    "collapsed": false
   },
   "outputs": [],
   "source": [
    "X = data[['display_id','platform', 'state', 'period', 'day_of_mnth', 'ads_per_page',\n",
    "            'campaign_id', 'advertiser_id', 'doc_id_topic','ad_id_topic']]"
   ]
  },
  {
   "cell_type": "code",
   "execution_count": 14,
   "metadata": {
    "collapsed": false
   },
   "outputs": [
    {
     "name": "stdout",
     "output_type": "stream",
     "text": [
      "platform\n",
      "day_of_mnth\n",
      "ads_per_page\n",
      "campaign_id\n",
      "advertiser_id\n",
      "doc_id_topic\n"
     ]
    },
    {
     "name": "stderr",
     "output_type": "stream",
     "text": [
      "/Users/alex/anaconda/lib/python2.7/site-packages/ipykernel/__main__.py:8: SettingWithCopyWarning: \n",
      "A value is trying to be set on a copy of a slice from a DataFrame.\n",
      "Try using .loc[row_indexer,col_indexer] = value instead\n",
      "\n",
      "See the caveats in the documentation: http://pandas.pydata.org/pandas-docs/stable/indexing.html#indexing-view-versus-copy\n"
     ]
    },
    {
     "name": "stdout",
     "output_type": "stream",
     "text": [
      "ad_id_topic\n"
     ]
    }
   ],
   "source": [
    "# change numbers to strings before get_dummies\n",
    "\n",
    "to_num_str = ['platform', 'day_of_mnth', 'ads_per_page', 'campaign_id', \n",
    "              'advertiser_id', 'doc_id_topic','ad_id_topic']\n",
    "\n",
    "for s in to_num_str:\n",
    "    print(s)\n",
    "    X[s] = X[s].apply(str)"
   ]
  },
  {
   "cell_type": "markdown",
   "metadata": {},
   "source": [
    "# +++++++++++++++++++++++++++++++++++++++"
   ]
  },
  {
   "cell_type": "code",
   "execution_count": 15,
   "metadata": {
    "collapsed": false
   },
   "outputs": [
    {
     "name": "stdout",
     "output_type": "stream",
     "text": [
      "0:00:25.418923\n"
     ]
    }
   ],
   "source": [
    "start = datetime.datetime.now()\n",
    "\n",
    "X = pd.get_dummies(X, prefix=['platform', 'state', 'period', 'day_of_mnth', 'ads_per_page',\n",
    "            'campaign_id', 'advertiser_id', 'doc_id_topic','ad_id_topic'])\n",
    "\n",
    "\n",
    "finish = datetime.datetime.now()\n",
    "print(finish - start)"
   ]
  },
  {
   "cell_type": "code",
   "execution_count": 16,
   "metadata": {
    "collapsed": false
   },
   "outputs": [
    {
     "data": {
      "text/html": [
       "<div>\n",
       "<table border=\"1\" class=\"dataframe\">\n",
       "  <thead>\n",
       "    <tr style=\"text-align: right;\">\n",
       "      <th></th>\n",
       "      <th>display_id</th>\n",
       "      <th>platform_1</th>\n",
       "      <th>platform_2</th>\n",
       "      <th>platform_3</th>\n",
       "      <th>state_AK</th>\n",
       "      <th>state_AL</th>\n",
       "      <th>state_AR</th>\n",
       "      <th>state_AZ</th>\n",
       "      <th>state_CA</th>\n",
       "      <th>state_CO</th>\n",
       "      <th>...</th>\n",
       "      <th>ad_id_topic_91.0</th>\n",
       "      <th>ad_id_topic_92.0</th>\n",
       "      <th>ad_id_topic_93.0</th>\n",
       "      <th>ad_id_topic_94.0</th>\n",
       "      <th>ad_id_topic_95.0</th>\n",
       "      <th>ad_id_topic_96.0</th>\n",
       "      <th>ad_id_topic_97.0</th>\n",
       "      <th>ad_id_topic_98.0</th>\n",
       "      <th>ad_id_topic_99.0</th>\n",
       "      <th>ad_id_topic_nan</th>\n",
       "    </tr>\n",
       "  </thead>\n",
       "  <tbody>\n",
       "    <tr>\n",
       "      <th>0</th>\n",
       "      <td>1525</td>\n",
       "      <td>1.0</td>\n",
       "      <td>0.0</td>\n",
       "      <td>0.0</td>\n",
       "      <td>0.0</td>\n",
       "      <td>0.0</td>\n",
       "      <td>0.0</td>\n",
       "      <td>0.0</td>\n",
       "      <td>0.0</td>\n",
       "      <td>0.0</td>\n",
       "      <td>...</td>\n",
       "      <td>0.0</td>\n",
       "      <td>0.0</td>\n",
       "      <td>0.0</td>\n",
       "      <td>0.0</td>\n",
       "      <td>0.0</td>\n",
       "      <td>0.0</td>\n",
       "      <td>0.0</td>\n",
       "      <td>0.0</td>\n",
       "      <td>0.0</td>\n",
       "      <td>0.0</td>\n",
       "    </tr>\n",
       "  </tbody>\n",
       "</table>\n",
       "<p>1 rows × 10077 columns</p>\n",
       "</div>"
      ],
      "text/plain": [
       "   display_id  platform_1  platform_2  platform_3  state_AK  state_AL  \\\n",
       "0        1525         1.0         0.0         0.0       0.0       0.0   \n",
       "\n",
       "   state_AR  state_AZ  state_CA  state_CO       ...         ad_id_topic_91.0  \\\n",
       "0       0.0       0.0       0.0       0.0       ...                      0.0   \n",
       "\n",
       "   ad_id_topic_92.0  ad_id_topic_93.0  ad_id_topic_94.0  ad_id_topic_95.0  \\\n",
       "0               0.0               0.0               0.0               0.0   \n",
       "\n",
       "   ad_id_topic_96.0  ad_id_topic_97.0  ad_id_topic_98.0  ad_id_topic_99.0  \\\n",
       "0               0.0               0.0               0.0               0.0   \n",
       "\n",
       "   ad_id_topic_nan  \n",
       "0              0.0  \n",
       "\n",
       "[1 rows x 10077 columns]"
      ]
     },
     "execution_count": 16,
     "metadata": {},
     "output_type": "execute_result"
    }
   ],
   "source": [
    "X.head(1)"
   ]
  },
  {
   "cell_type": "code",
   "execution_count": 17,
   "metadata": {
    "collapsed": false
   },
   "outputs": [],
   "source": [
    "X = X.drop(['platform_3','state_AK','period_morning','campaign_id_18226','advertiser_id_2553',\n",
    "       'doc_id_topic_275.0','ad_id_topic_91.0','ads_per_page_12','day_of_mnth_26'],1)"
   ]
  },
  {
   "cell_type": "code",
   "execution_count": 18,
   "metadata": {
    "collapsed": false
   },
   "outputs": [
    {
     "data": {
      "text/html": [
       "<div>\n",
       "<table border=\"1\" class=\"dataframe\">\n",
       "  <thead>\n",
       "    <tr style=\"text-align: right;\">\n",
       "      <th></th>\n",
       "      <th>display_id</th>\n",
       "      <th>platform_1</th>\n",
       "      <th>platform_2</th>\n",
       "      <th>state_AL</th>\n",
       "      <th>state_AR</th>\n",
       "      <th>state_AZ</th>\n",
       "      <th>state_CA</th>\n",
       "      <th>state_CO</th>\n",
       "      <th>state_CT</th>\n",
       "      <th>state_DC</th>\n",
       "      <th>...</th>\n",
       "      <th>ad_id_topic_90.0</th>\n",
       "      <th>ad_id_topic_92.0</th>\n",
       "      <th>ad_id_topic_93.0</th>\n",
       "      <th>ad_id_topic_94.0</th>\n",
       "      <th>ad_id_topic_95.0</th>\n",
       "      <th>ad_id_topic_96.0</th>\n",
       "      <th>ad_id_topic_97.0</th>\n",
       "      <th>ad_id_topic_98.0</th>\n",
       "      <th>ad_id_topic_99.0</th>\n",
       "      <th>ad_id_topic_nan</th>\n",
       "    </tr>\n",
       "  </thead>\n",
       "  <tbody>\n",
       "    <tr>\n",
       "      <th>0</th>\n",
       "      <td>1525</td>\n",
       "      <td>1.0</td>\n",
       "      <td>0.0</td>\n",
       "      <td>0.0</td>\n",
       "      <td>0.0</td>\n",
       "      <td>0.0</td>\n",
       "      <td>0.0</td>\n",
       "      <td>0.0</td>\n",
       "      <td>0.0</td>\n",
       "      <td>0.0</td>\n",
       "      <td>...</td>\n",
       "      <td>0.0</td>\n",
       "      <td>0.0</td>\n",
       "      <td>0.0</td>\n",
       "      <td>0.0</td>\n",
       "      <td>0.0</td>\n",
       "      <td>0.0</td>\n",
       "      <td>0.0</td>\n",
       "      <td>0.0</td>\n",
       "      <td>0.0</td>\n",
       "      <td>0.0</td>\n",
       "    </tr>\n",
       "    <tr>\n",
       "      <th>1</th>\n",
       "      <td>1525</td>\n",
       "      <td>1.0</td>\n",
       "      <td>0.0</td>\n",
       "      <td>0.0</td>\n",
       "      <td>0.0</td>\n",
       "      <td>0.0</td>\n",
       "      <td>0.0</td>\n",
       "      <td>0.0</td>\n",
       "      <td>0.0</td>\n",
       "      <td>0.0</td>\n",
       "      <td>...</td>\n",
       "      <td>0.0</td>\n",
       "      <td>0.0</td>\n",
       "      <td>0.0</td>\n",
       "      <td>0.0</td>\n",
       "      <td>0.0</td>\n",
       "      <td>0.0</td>\n",
       "      <td>0.0</td>\n",
       "      <td>0.0</td>\n",
       "      <td>0.0</td>\n",
       "      <td>0.0</td>\n",
       "    </tr>\n",
       "  </tbody>\n",
       "</table>\n",
       "<p>2 rows × 10068 columns</p>\n",
       "</div>"
      ],
      "text/plain": [
       "   display_id  platform_1  platform_2  state_AL  state_AR  state_AZ  state_CA  \\\n",
       "0        1525         1.0         0.0       0.0       0.0       0.0       0.0   \n",
       "1        1525         1.0         0.0       0.0       0.0       0.0       0.0   \n",
       "\n",
       "   state_CO  state_CT  state_DC       ...         ad_id_topic_90.0  \\\n",
       "0       0.0       0.0       0.0       ...                      0.0   \n",
       "1       0.0       0.0       0.0       ...                      0.0   \n",
       "\n",
       "   ad_id_topic_92.0  ad_id_topic_93.0  ad_id_topic_94.0  ad_id_topic_95.0  \\\n",
       "0               0.0               0.0               0.0               0.0   \n",
       "1               0.0               0.0               0.0               0.0   \n",
       "\n",
       "   ad_id_topic_96.0  ad_id_topic_97.0  ad_id_topic_98.0  ad_id_topic_99.0  \\\n",
       "0               0.0               0.0               0.0               0.0   \n",
       "1               0.0               0.0               0.0               0.0   \n",
       "\n",
       "   ad_id_topic_nan  \n",
       "0              0.0  \n",
       "1              0.0  \n",
       "\n",
       "[2 rows x 10068 columns]"
      ]
     },
     "execution_count": 18,
     "metadata": {},
     "output_type": "execute_result"
    }
   ],
   "source": [
    "X.head(2)"
   ]
  },
  {
   "cell_type": "code",
   "execution_count": 19,
   "metadata": {
    "collapsed": false
   },
   "outputs": [],
   "source": [
    "X_train = X[X['display_id'].isin(train_list)]\n",
    "X_test = X[X['display_id'].isin(test_list)]"
   ]
  },
  {
   "cell_type": "code",
   "execution_count": null,
   "metadata": {
    "collapsed": false
   },
   "outputs": [],
   "source": []
  },
  {
   "cell_type": "code",
   "execution_count": 20,
   "metadata": {
    "collapsed": false
   },
   "outputs": [
    {
     "name": "stderr",
     "output_type": "stream",
     "text": [
      "/Users/alex/anaconda/lib/python2.7/site-packages/ipykernel/__main__.py:2: SettingWithCopyWarning: \n",
      "A value is trying to be set on a copy of a slice from a DataFrame\n",
      "\n",
      "See the caveats in the documentation: http://pandas.pydata.org/pandas-docs/stable/indexing.html#indexing-view-versus-copy\n",
      "  from ipykernel import kernelapp as app\n"
     ]
    }
   ],
   "source": [
    "# remove display id from X_train and X_test\n",
    "X_train.drop('display_id', axis=1, level=None, inplace=True, errors='raise')"
   ]
  },
  {
   "cell_type": "code",
   "execution_count": 21,
   "metadata": {
    "collapsed": false
   },
   "outputs": [
    {
     "name": "stderr",
     "output_type": "stream",
     "text": [
      "/Users/alex/anaconda/lib/python2.7/site-packages/ipykernel/__main__.py:1: SettingWithCopyWarning: \n",
      "A value is trying to be set on a copy of a slice from a DataFrame\n",
      "\n",
      "See the caveats in the documentation: http://pandas.pydata.org/pandas-docs/stable/indexing.html#indexing-view-versus-copy\n",
      "  if __name__ == '__main__':\n"
     ]
    }
   ],
   "source": [
    "X_test.drop('display_id', axis=1, level=None, inplace=True, errors='raise')"
   ]
  },
  {
   "cell_type": "code",
   "execution_count": 22,
   "metadata": {
    "collapsed": false
   },
   "outputs": [
    {
     "data": {
      "text/plain": [
       "(5193, 10067)"
      ]
     },
     "execution_count": 22,
     "metadata": {},
     "output_type": "execute_result"
    }
   ],
   "source": [
    "X_test.shape"
   ]
  },
  {
   "cell_type": "code",
   "execution_count": 23,
   "metadata": {
    "collapsed": false
   },
   "outputs": [],
   "source": [
    "Y_train = list(disp_ID[disp_ID['display_id'].isin(train_list)]['clicked'])"
   ]
  },
  {
   "cell_type": "code",
   "execution_count": 24,
   "metadata": {
    "collapsed": false
   },
   "outputs": [],
   "source": [
    "Y_test = list(disp_ID[disp_ID['display_id'].isin(test_list)]['clicked'])"
   ]
  },
  {
   "cell_type": "code",
   "execution_count": 25,
   "metadata": {
    "collapsed": false
   },
   "outputs": [],
   "source": [
    "disp_ID_train = disp_ID[disp_ID['display_id'].isin(train_list)]\n",
    "disp_ID_test = disp_ID[disp_ID['display_id'].isin(test_list)]"
   ]
  },
  {
   "cell_type": "code",
   "execution_count": 26,
   "metadata": {
    "collapsed": false
   },
   "outputs": [
    {
     "name": "stdout",
     "output_type": "stream",
     "text": [
      "X_train length: 51,340\n",
      "X_test  length:  5,193\n"
     ]
    }
   ],
   "source": [
    "print('X_train length: {0:,}'.format(len(X_train)))\n",
    "print('X_test  length:  {0:,}'.format(len(X_test)))"
   ]
  },
  {
   "cell_type": "code",
   "execution_count": 27,
   "metadata": {
    "collapsed": false
   },
   "outputs": [
    {
     "name": "stdout",
     "output_type": "stream",
     "text": [
      "Y_train length: 51,340\n",
      "Y_test  length:  5,193\n"
     ]
    }
   ],
   "source": [
    "print('Y_train length: {0:,}'.format(len(Y_train)))\n",
    "print('Y_test  length:  {0:,}'.format(len(Y_test)))"
   ]
  },
  {
   "cell_type": "code",
   "execution_count": 28,
   "metadata": {
    "collapsed": false
   },
   "outputs": [
    {
     "name": "stdout",
     "output_type": "stream",
     "text": [
      "disp_ID_train length: 51,340\n",
      "disp_ID_test  length:  5,193\n"
     ]
    }
   ],
   "source": [
    "print('disp_ID_train length: {0:,}'.format(len(disp_ID_train)))\n",
    "print('disp_ID_test  length:  {0:,}'.format(len(disp_ID_test)))"
   ]
  },
  {
   "cell_type": "markdown",
   "metadata": {},
   "source": [
    "# Random Forest Classifier\n",
    "\n",
    "RFC default settings\n",
    "* correct predictions: 349\n",
    "* Precent correct: 34.9%\n",
    "\n",
    "RFC on accuracy max (n_estimators = 100, max depth = 30)\n",
    "* correct predictions: 375\n",
    "* Precent correct: 37.5%\n",
    "\n",
    "RFC on precision max (n_estimators = 50, max depth = 30)\n",
    "* correct predictions: 367\n",
    "* Precent correct: 36.7%\n",
    "\n",
    "RFC (n_estimators = 1,000, max_depth = 100)\n",
    "* correct predictions: 380\n",
    "* Precent correct: 38.0%\n",
    "\n",
    "RFC (n_estimators = 3,000, max_depth = 100)\n",
    "* correct predictions: 381\n",
    "* Precent correct: 38.1%\n",
    "\n",
    "RFC (n_estimators = 500, max_depth = 200)\n",
    "* correct predictions: 373\n",
    "* Precent correct: 37.3%\n",
    "\n",
    "RFC (n_estimators = 50, max_depth = 200)\n",
    "* correct predictions: 354\n",
    "* Precent correct: 35.4%\n"
   ]
  },
  {
   "cell_type": "code",
   "execution_count": 29,
   "metadata": {
    "collapsed": false
   },
   "outputs": [
    {
     "name": "stdout",
     "output_type": "stream",
     "text": [
      "0:30:02.753917\n"
     ]
    },
    {
     "data": {
      "text/plain": [
       "256"
      ]
     },
     "execution_count": 29,
     "metadata": {},
     "output_type": "execute_result"
    }
   ],
   "source": [
    "rfc = RandomForestClassifier(bootstrap=True, class_weight=None, criterion='gini',\n",
    "            max_depth=100, max_features='auto', max_leaf_nodes=None,\n",
    "            min_impurity_split=1e-07, min_samples_leaf=1,\n",
    "            min_samples_split=2, min_weight_fraction_leaf=0.0,\n",
    "            n_estimators=1000, n_jobs=1, oob_score=False, random_state=None,\n",
    "            verbose=0, warm_start=False)\n",
    "\n",
    "start = datetime.datetime.now()\n",
    "\n",
    "rfc.fit(X_train, Y_train)\n",
    "\n",
    "finish = datetime.datetime.now()\n",
    "print(finish - start)\n",
    "os.system('say \"I am finished!\"')"
   ]
  },
  {
   "cell_type": "code",
   "execution_count": 30,
   "metadata": {
    "collapsed": false
   },
   "outputs": [],
   "source": [
    "# get probabilities of clicked/not clicked\n",
    "rf_proba = rfc.predict_proba(X_test)\n",
    "rf_Y_proba = pd.DataFrame(rf_proba,columns = ['p_no_click','p_click'])"
   ]
  },
  {
   "cell_type": "code",
   "execution_count": 31,
   "metadata": {
    "collapsed": false
   },
   "outputs": [
    {
     "data": {
      "text/plain": [
       "5193"
      ]
     },
     "execution_count": 31,
     "metadata": {},
     "output_type": "execute_result"
    }
   ],
   "source": [
    "Disp_test = list(disp_ID_test['display_id'])\n",
    "ads_pp_test = list(disp_ID_test['ads_per_page'])\n",
    "len(Disp_test)"
   ]
  },
  {
   "cell_type": "code",
   "execution_count": 32,
   "metadata": {
    "collapsed": false
   },
   "outputs": [],
   "source": [
    "ppp = rf_Y_proba\n",
    "# post processing of predictor"
   ]
  },
  {
   "cell_type": "code",
   "execution_count": 33,
   "metadata": {
    "collapsed": false
   },
   "outputs": [
    {
     "data": {
      "text/plain": [
       "5193"
      ]
     },
     "execution_count": 33,
     "metadata": {},
     "output_type": "execute_result"
    }
   ],
   "source": [
    "len(ppp)"
   ]
  },
  {
   "cell_type": "code",
   "execution_count": 34,
   "metadata": {
    "collapsed": false
   },
   "outputs": [],
   "source": [
    "ppp['display_id'] = Disp_test"
   ]
  },
  {
   "cell_type": "code",
   "execution_count": 35,
   "metadata": {
    "collapsed": false
   },
   "outputs": [
    {
     "data": {
      "text/html": [
       "<div>\n",
       "<table border=\"1\" class=\"dataframe\">\n",
       "  <thead>\n",
       "    <tr style=\"text-align: right;\">\n",
       "      <th></th>\n",
       "      <th>p_no_click</th>\n",
       "      <th>p_click</th>\n",
       "      <th>display_id</th>\n",
       "    </tr>\n",
       "  </thead>\n",
       "  <tbody>\n",
       "    <tr>\n",
       "      <th>0</th>\n",
       "      <td>0.800218</td>\n",
       "      <td>0.199782</td>\n",
       "      <td>19234</td>\n",
       "    </tr>\n",
       "    <tr>\n",
       "      <th>1</th>\n",
       "      <td>0.888764</td>\n",
       "      <td>0.111236</td>\n",
       "      <td>19234</td>\n",
       "    </tr>\n",
       "    <tr>\n",
       "      <th>2</th>\n",
       "      <td>0.852455</td>\n",
       "      <td>0.147545</td>\n",
       "      <td>19234</td>\n",
       "    </tr>\n",
       "    <tr>\n",
       "      <th>3</th>\n",
       "      <td>0.820019</td>\n",
       "      <td>0.179981</td>\n",
       "      <td>19234</td>\n",
       "    </tr>\n",
       "    <tr>\n",
       "      <th>4</th>\n",
       "      <td>0.839836</td>\n",
       "      <td>0.160164</td>\n",
       "      <td>19234</td>\n",
       "    </tr>\n",
       "  </tbody>\n",
       "</table>\n",
       "</div>"
      ],
      "text/plain": [
       "   p_no_click   p_click  display_id\n",
       "0    0.800218  0.199782       19234\n",
       "1    0.888764  0.111236       19234\n",
       "2    0.852455  0.147545       19234\n",
       "3    0.820019  0.179981       19234\n",
       "4    0.839836  0.160164       19234"
      ]
     },
     "execution_count": 35,
     "metadata": {},
     "output_type": "execute_result"
    }
   ],
   "source": [
    "ppp.head()"
   ]
  },
  {
   "cell_type": "code",
   "execution_count": 36,
   "metadata": {
    "collapsed": false
   },
   "outputs": [
    {
     "data": {
      "text/html": [
       "<div>\n",
       "<table border=\"1\" class=\"dataframe\">\n",
       "  <thead>\n",
       "    <tr style=\"text-align: right;\">\n",
       "      <th></th>\n",
       "      <th>display_id</th>\n",
       "      <th>ad_id</th>\n",
       "      <th>clicked</th>\n",
       "      <th>ads_per_page</th>\n",
       "    </tr>\n",
       "  </thead>\n",
       "  <tbody>\n",
       "    <tr>\n",
       "      <th>71</th>\n",
       "      <td>19234</td>\n",
       "      <td>89726</td>\n",
       "      <td>0</td>\n",
       "      <td>6</td>\n",
       "    </tr>\n",
       "    <tr>\n",
       "      <th>72</th>\n",
       "      <td>19234</td>\n",
       "      <td>173384</td>\n",
       "      <td>0</td>\n",
       "      <td>6</td>\n",
       "    </tr>\n",
       "    <tr>\n",
       "      <th>73</th>\n",
       "      <td>19234</td>\n",
       "      <td>173400</td>\n",
       "      <td>1</td>\n",
       "      <td>6</td>\n",
       "    </tr>\n",
       "    <tr>\n",
       "      <th>74</th>\n",
       "      <td>19234</td>\n",
       "      <td>180960</td>\n",
       "      <td>0</td>\n",
       "      <td>6</td>\n",
       "    </tr>\n",
       "    <tr>\n",
       "      <th>75</th>\n",
       "      <td>19234</td>\n",
       "      <td>225440</td>\n",
       "      <td>0</td>\n",
       "      <td>6</td>\n",
       "    </tr>\n",
       "  </tbody>\n",
       "</table>\n",
       "</div>"
      ],
      "text/plain": [
       "    display_id   ad_id  clicked  ads_per_page\n",
       "71       19234   89726        0             6\n",
       "72       19234  173384        0             6\n",
       "73       19234  173400        1             6\n",
       "74       19234  180960        0             6\n",
       "75       19234  225440        0             6"
      ]
     },
     "execution_count": 36,
     "metadata": {},
     "output_type": "execute_result"
    }
   ],
   "source": [
    "disp_ID_test.head()"
   ]
  },
  {
   "cell_type": "markdown",
   "metadata": {},
   "source": [
    "## Reduce to 1-click per display id"
   ]
  },
  {
   "cell_type": "code",
   "execution_count": 37,
   "metadata": {
    "collapsed": false
   },
   "outputs": [
    {
     "data": {
      "text/html": [
       "<div>\n",
       "<table border=\"1\" class=\"dataframe\">\n",
       "  <thead>\n",
       "    <tr style=\"text-align: right;\">\n",
       "      <th></th>\n",
       "      <th>p_no_click</th>\n",
       "      <th>p_click</th>\n",
       "      <th>display_id</th>\n",
       "    </tr>\n",
       "  </thead>\n",
       "  <tbody>\n",
       "    <tr>\n",
       "      <th>0</th>\n",
       "      <td>0.800218</td>\n",
       "      <td>0.199782</td>\n",
       "      <td>19234</td>\n",
       "    </tr>\n",
       "    <tr>\n",
       "      <th>1</th>\n",
       "      <td>0.888764</td>\n",
       "      <td>0.111236</td>\n",
       "      <td>19234</td>\n",
       "    </tr>\n",
       "    <tr>\n",
       "      <th>2</th>\n",
       "      <td>0.852455</td>\n",
       "      <td>0.147545</td>\n",
       "      <td>19234</td>\n",
       "    </tr>\n",
       "  </tbody>\n",
       "</table>\n",
       "</div>"
      ],
      "text/plain": [
       "   p_no_click   p_click  display_id\n",
       "0    0.800218  0.199782       19234\n",
       "1    0.888764  0.111236       19234\n",
       "2    0.852455  0.147545       19234"
      ]
     },
     "execution_count": 37,
     "metadata": {},
     "output_type": "execute_result"
    }
   ],
   "source": [
    "checker = ppp\n",
    "checker.head(3)"
   ]
  },
  {
   "cell_type": "code",
   "execution_count": 38,
   "metadata": {
    "collapsed": false
   },
   "outputs": [
    {
     "data": {
      "text/html": [
       "<div>\n",
       "<table border=\"1\" class=\"dataframe\">\n",
       "  <thead>\n",
       "    <tr style=\"text-align: right;\">\n",
       "      <th></th>\n",
       "      <th>p_no_click</th>\n",
       "      <th>p_click</th>\n",
       "      <th>display_id</th>\n",
       "      <th>Y_test</th>\n",
       "      <th>prediction</th>\n",
       "    </tr>\n",
       "  </thead>\n",
       "  <tbody>\n",
       "    <tr>\n",
       "      <th>0</th>\n",
       "      <td>0.800218</td>\n",
       "      <td>0.199782</td>\n",
       "      <td>19234</td>\n",
       "      <td>0</td>\n",
       "      <td>0</td>\n",
       "    </tr>\n",
       "    <tr>\n",
       "      <th>1</th>\n",
       "      <td>0.888764</td>\n",
       "      <td>0.111236</td>\n",
       "      <td>19234</td>\n",
       "      <td>0</td>\n",
       "      <td>0</td>\n",
       "    </tr>\n",
       "    <tr>\n",
       "      <th>2</th>\n",
       "      <td>0.852455</td>\n",
       "      <td>0.147545</td>\n",
       "      <td>19234</td>\n",
       "      <td>1</td>\n",
       "      <td>0</td>\n",
       "    </tr>\n",
       "    <tr>\n",
       "      <th>3</th>\n",
       "      <td>0.820019</td>\n",
       "      <td>0.179981</td>\n",
       "      <td>19234</td>\n",
       "      <td>0</td>\n",
       "      <td>0</td>\n",
       "    </tr>\n",
       "    <tr>\n",
       "      <th>4</th>\n",
       "      <td>0.839836</td>\n",
       "      <td>0.160164</td>\n",
       "      <td>19234</td>\n",
       "      <td>0</td>\n",
       "      <td>0</td>\n",
       "    </tr>\n",
       "  </tbody>\n",
       "</table>\n",
       "</div>"
      ],
      "text/plain": [
       "   p_no_click   p_click  display_id  Y_test  prediction\n",
       "0    0.800218  0.199782       19234       0           0\n",
       "1    0.888764  0.111236       19234       0           0\n",
       "2    0.852455  0.147545       19234       1           0\n",
       "3    0.820019  0.179981       19234       0           0\n",
       "4    0.839836  0.160164       19234       0           0"
      ]
     },
     "execution_count": 38,
     "metadata": {},
     "output_type": "execute_result"
    }
   ],
   "source": [
    "checker['Y_test'] = pd.Series(Y_test)\n",
    "checker['prediction'] = [0 for _ in range(len(checker))] # puts zeros in place\n",
    "checker.head()"
   ]
  },
  {
   "cell_type": "code",
   "execution_count": 39,
   "metadata": {
    "collapsed": false
   },
   "outputs": [],
   "source": [
    "# this is a list of the ads per page, to be matched up with checker\n",
    "# type(ads_test)"
   ]
  },
  {
   "cell_type": "code",
   "execution_count": 40,
   "metadata": {
    "collapsed": true
   },
   "outputs": [],
   "source": [
    "checker['ads_per_page'] = pd.Series(ads_pp_test)"
   ]
  },
  {
   "cell_type": "code",
   "execution_count": 41,
   "metadata": {
    "collapsed": false
   },
   "outputs": [
    {
     "data": {
      "text/html": [
       "<div>\n",
       "<table border=\"1\" class=\"dataframe\">\n",
       "  <thead>\n",
       "    <tr style=\"text-align: right;\">\n",
       "      <th></th>\n",
       "      <th>p_no_click</th>\n",
       "      <th>p_click</th>\n",
       "      <th>display_id</th>\n",
       "      <th>Y_test</th>\n",
       "      <th>prediction</th>\n",
       "      <th>ads_per_page</th>\n",
       "    </tr>\n",
       "  </thead>\n",
       "  <tbody>\n",
       "    <tr>\n",
       "      <th>0</th>\n",
       "      <td>0.800218</td>\n",
       "      <td>0.199782</td>\n",
       "      <td>19234</td>\n",
       "      <td>0</td>\n",
       "      <td>0</td>\n",
       "      <td>6</td>\n",
       "    </tr>\n",
       "    <tr>\n",
       "      <th>1</th>\n",
       "      <td>0.888764</td>\n",
       "      <td>0.111236</td>\n",
       "      <td>19234</td>\n",
       "      <td>0</td>\n",
       "      <td>0</td>\n",
       "      <td>6</td>\n",
       "    </tr>\n",
       "    <tr>\n",
       "      <th>2</th>\n",
       "      <td>0.852455</td>\n",
       "      <td>0.147545</td>\n",
       "      <td>19234</td>\n",
       "      <td>1</td>\n",
       "      <td>0</td>\n",
       "      <td>6</td>\n",
       "    </tr>\n",
       "    <tr>\n",
       "      <th>3</th>\n",
       "      <td>0.820019</td>\n",
       "      <td>0.179981</td>\n",
       "      <td>19234</td>\n",
       "      <td>0</td>\n",
       "      <td>0</td>\n",
       "      <td>6</td>\n",
       "    </tr>\n",
       "    <tr>\n",
       "      <th>4</th>\n",
       "      <td>0.839836</td>\n",
       "      <td>0.160164</td>\n",
       "      <td>19234</td>\n",
       "      <td>0</td>\n",
       "      <td>0</td>\n",
       "      <td>6</td>\n",
       "    </tr>\n",
       "    <tr>\n",
       "      <th>5</th>\n",
       "      <td>0.806605</td>\n",
       "      <td>0.193395</td>\n",
       "      <td>19234</td>\n",
       "      <td>0</td>\n",
       "      <td>0</td>\n",
       "      <td>6</td>\n",
       "    </tr>\n",
       "    <tr>\n",
       "      <th>6</th>\n",
       "      <td>0.797200</td>\n",
       "      <td>0.202800</td>\n",
       "      <td>30959</td>\n",
       "      <td>0</td>\n",
       "      <td>0</td>\n",
       "      <td>4</td>\n",
       "    </tr>\n",
       "    <tr>\n",
       "      <th>7</th>\n",
       "      <td>0.787380</td>\n",
       "      <td>0.212620</td>\n",
       "      <td>30959</td>\n",
       "      <td>0</td>\n",
       "      <td>0</td>\n",
       "      <td>4</td>\n",
       "    </tr>\n",
       "    <tr>\n",
       "      <th>8</th>\n",
       "      <td>0.811379</td>\n",
       "      <td>0.188621</td>\n",
       "      <td>30959</td>\n",
       "      <td>1</td>\n",
       "      <td>0</td>\n",
       "      <td>4</td>\n",
       "    </tr>\n",
       "    <tr>\n",
       "      <th>9</th>\n",
       "      <td>0.593323</td>\n",
       "      <td>0.406677</td>\n",
       "      <td>30959</td>\n",
       "      <td>0</td>\n",
       "      <td>0</td>\n",
       "      <td>4</td>\n",
       "    </tr>\n",
       "  </tbody>\n",
       "</table>\n",
       "</div>"
      ],
      "text/plain": [
       "   p_no_click   p_click  display_id  Y_test  prediction  ads_per_page\n",
       "0    0.800218  0.199782       19234       0           0             6\n",
       "1    0.888764  0.111236       19234       0           0             6\n",
       "2    0.852455  0.147545       19234       1           0             6\n",
       "3    0.820019  0.179981       19234       0           0             6\n",
       "4    0.839836  0.160164       19234       0           0             6\n",
       "5    0.806605  0.193395       19234       0           0             6\n",
       "6    0.797200  0.202800       30959       0           0             4\n",
       "7    0.787380  0.212620       30959       0           0             4\n",
       "8    0.811379  0.188621       30959       1           0             4\n",
       "9    0.593323  0.406677       30959       0           0             4"
      ]
     },
     "execution_count": 41,
     "metadata": {},
     "output_type": "execute_result"
    }
   ],
   "source": [
    "checker.head(10)"
   ]
  },
  {
   "cell_type": "code",
   "execution_count": 42,
   "metadata": {
    "collapsed": false
   },
   "outputs": [
    {
     "data": {
      "text/plain": [
       "1000"
      ]
     },
     "execution_count": 42,
     "metadata": {},
     "output_type": "execute_result"
    }
   ],
   "source": [
    "pages = checker['display_id'].unique()\n",
    "len(pages)"
   ]
  },
  {
   "cell_type": "code",
   "execution_count": 43,
   "metadata": {
    "collapsed": false
   },
   "outputs": [
    {
     "name": "stdout",
     "output_type": "stream",
     "text": [
      "0\n"
     ]
    }
   ],
   "source": [
    "# system to use probabilities to choose which page is clicked\n",
    "# compensates for zero probability across the board, or muliple matching high probabilities\n",
    "p_counter = 0\n",
    "\n",
    "for d_num in pages:  \n",
    "    indx = 0 # index that becomes click\n",
    "    disp_list = checker[checker['display_id'] == d_num].index.tolist()\n",
    "\n",
    "    temp = pd.DataFrame(ppp[ppp['display_id'] == d_num])\n",
    "\n",
    "    p_max = temp['p_click'].max()\n",
    "\n",
    "    if p_max == 0:\n",
    "        indx = random.choice(disp_list) # randomly picks from all matched values\n",
    "        p_counter += 1\n",
    "    else:\n",
    "        counter = 0\n",
    "        short_list =[]\n",
    "        for index, row in temp.iterrows():\n",
    "            if row['p_click'] == p_max:\n",
    "                counter += 1\n",
    "                short_list.append(index)\n",
    "        indx = random.choice(short_list) # randomly picks from all matched values\n",
    "    checker.set_value(indx, 'prediction', 1)\n",
    "\n",
    "print(p_counter)"
   ]
  },
  {
   "cell_type": "code",
   "execution_count": 44,
   "metadata": {
    "collapsed": false
   },
   "outputs": [
    {
     "data": {
      "text/plain": [
       "1000"
      ]
     },
     "execution_count": 44,
     "metadata": {},
     "output_type": "execute_result"
    }
   ],
   "source": [
    "sum(checker['Y_test'])"
   ]
  },
  {
   "cell_type": "code",
   "execution_count": 45,
   "metadata": {
    "collapsed": false
   },
   "outputs": [
    {
     "data": {
      "text/plain": [
       "1000"
      ]
     },
     "execution_count": 45,
     "metadata": {},
     "output_type": "execute_result"
    }
   ],
   "source": [
    "sum(checker['prediction'])"
   ]
  },
  {
   "cell_type": "code",
   "execution_count": 46,
   "metadata": {
    "collapsed": false
   },
   "outputs": [
    {
     "name": "stdout",
     "output_type": "stream",
     "text": [
      "Clicks correctly predicted: 378\n",
      "Percent correctly predicted: 37.8%\n"
     ]
    }
   ],
   "source": [
    "count = 0\n",
    "for index, row in checker.iterrows():\n",
    "    if row['prediction'] == 1 and row['Y_test'] == 1:\n",
    "        count +=1\n",
    "print('Clicks correctly predicted: {0:,}'.format(count))\n",
    "print('Percent correctly predicted: {0:.1%}'.format(float(count)/sum(checker['Y_test'])))"
   ]
  },
  {
   "cell_type": "code",
   "execution_count": 47,
   "metadata": {
    "collapsed": false
   },
   "outputs": [],
   "source": [
    "# do a checker on ads per page accuracy\n",
    "\n",
    "per_page = pd.pivot_table(checker, index=['ads_per_page'], columns = ['Y_test'],\n",
    "                          values=['prediction'], aggfunc = 'sum')"
   ]
  },
  {
   "cell_type": "code",
   "execution_count": 48,
   "metadata": {
    "collapsed": false
   },
   "outputs": [
    {
     "name": "stderr",
     "output_type": "stream",
     "text": [
      "/Users/alex/anaconda/lib/python2.7/site-packages/ipykernel/__main__.py:1: FutureWarning: icol(i) is deprecated. Please use .iloc[:,i]\n",
      "  if __name__ == '__main__':\n"
     ]
    }
   ],
   "source": [
    "per_page['% Correct'] = per_page.icol(1) / (per_page.icol(0) + per_page.icol(1))"
   ]
  },
  {
   "cell_type": "code",
   "execution_count": 49,
   "metadata": {
    "collapsed": false
   },
   "outputs": [
    {
     "data": {
      "text/html": [
       "<div>\n",
       "<table border=\"1\" class=\"dataframe\">\n",
       "  <thead>\n",
       "    <tr>\n",
       "      <th></th>\n",
       "      <th colspan=\"2\" halign=\"left\">prediction</th>\n",
       "      <th>% Correct</th>\n",
       "    </tr>\n",
       "    <tr>\n",
       "      <th>Y_test</th>\n",
       "      <th>0</th>\n",
       "      <th>1</th>\n",
       "      <th></th>\n",
       "    </tr>\n",
       "    <tr>\n",
       "      <th>ads_per_page</th>\n",
       "      <th></th>\n",
       "      <th></th>\n",
       "      <th></th>\n",
       "    </tr>\n",
       "  </thead>\n",
       "  <tbody>\n",
       "    <tr>\n",
       "      <th>2</th>\n",
       "      <td>15</td>\n",
       "      <td>24</td>\n",
       "      <td>0.615385</td>\n",
       "    </tr>\n",
       "    <tr>\n",
       "      <th>3</th>\n",
       "      <td>48</td>\n",
       "      <td>67</td>\n",
       "      <td>0.582609</td>\n",
       "    </tr>\n",
       "    <tr>\n",
       "      <th>4</th>\n",
       "      <td>189</td>\n",
       "      <td>145</td>\n",
       "      <td>0.434132</td>\n",
       "    </tr>\n",
       "    <tr>\n",
       "      <th>5</th>\n",
       "      <td>50</td>\n",
       "      <td>23</td>\n",
       "      <td>0.315068</td>\n",
       "    </tr>\n",
       "    <tr>\n",
       "      <th>6</th>\n",
       "      <td>197</td>\n",
       "      <td>81</td>\n",
       "      <td>0.291367</td>\n",
       "    </tr>\n",
       "    <tr>\n",
       "      <th>7</th>\n",
       "      <td>4</td>\n",
       "      <td>0</td>\n",
       "      <td>0.000000</td>\n",
       "    </tr>\n",
       "    <tr>\n",
       "      <th>8</th>\n",
       "      <td>50</td>\n",
       "      <td>10</td>\n",
       "      <td>0.166667</td>\n",
       "    </tr>\n",
       "    <tr>\n",
       "      <th>9</th>\n",
       "      <td>55</td>\n",
       "      <td>24</td>\n",
       "      <td>0.303797</td>\n",
       "    </tr>\n",
       "    <tr>\n",
       "      <th>10</th>\n",
       "      <td>13</td>\n",
       "      <td>4</td>\n",
       "      <td>0.235294</td>\n",
       "    </tr>\n",
       "    <tr>\n",
       "      <th>12</th>\n",
       "      <td>1</td>\n",
       "      <td>0</td>\n",
       "      <td>0.000000</td>\n",
       "    </tr>\n",
       "  </tbody>\n",
       "</table>\n",
       "</div>"
      ],
      "text/plain": [
       "             prediction      % Correct\n",
       "Y_test                0    1          \n",
       "ads_per_page                          \n",
       "2                    15   24  0.615385\n",
       "3                    48   67  0.582609\n",
       "4                   189  145  0.434132\n",
       "5                    50   23  0.315068\n",
       "6                   197   81  0.291367\n",
       "7                     4    0  0.000000\n",
       "8                    50   10  0.166667\n",
       "9                    55   24  0.303797\n",
       "10                   13    4  0.235294\n",
       "12                    1    0  0.000000"
      ]
     },
     "execution_count": 49,
     "metadata": {},
     "output_type": "execute_result"
    }
   ],
   "source": [
    "per_page"
   ]
  },
  {
   "cell_type": "code",
   "execution_count": 50,
   "metadata": {
    "collapsed": false
   },
   "outputs": [
    {
     "data": {
      "image/png": "[encoded data removed]",
      "text/plain": [
       "<matplotlib.figure.Figure at 0x11f2c5fd0>"
      ]
     },
     "metadata": {},
     "output_type": "display_data"
    }
   ],
   "source": [
    "fig, ax1 = plt.subplots(figsize=(12,6))\n",
    "base1 = [2,3,4,5,6,7,8,9,10,12]\n",
    "base_line = [100./x for x in base1]\n",
    "\n",
    "labels = ['2','3','4','5','6','7','8','9','10','12']\n",
    "ax1.bar(per_page.index, 100*per_page['% Correct'], color='darkblue',\n",
    "        alpha=0.5,align='center')\n",
    "ax1.plot(per_page.index, base_line,marker ='H',label = 'Baseline')\n",
    "ax1.set_title('Prediction Rate by Ad Count per Page', fontsize=18)\n",
    "ax1.set_xlabel('Ads per Page', fontsize=14)\n",
    "ax1.set_ylabel('Correctly Predicted', fontsize=14)\n",
    "ax1.set_xlim([1,12])\n",
    "ax1.set_xticks(per_page.index)\n",
    "plt.grid(which = 'major',axis = 'x')\n",
    "plt.legend(loc='best');"
   ]
  },
  {
   "cell_type": "code",
   "execution_count": 51,
   "metadata": {
    "collapsed": false
   },
   "outputs": [],
   "source": [
    "#rf_PARAMETERS = {\"max_depth\":[50,100,200], \"n_estimators\": [100,1000,5000]}\n",
    "#rf_SCORING = \"accuracy\"\n",
    "#rf_model = RandomForestClassifier()\n",
    "#grid = GridSearchCV(rf_model, param_grid=rf_PARAMETERS, scoring=rf_SCORING)\n",
    "#grid.fit(X_train, Y_train)\n",
    "\n",
    "#look at max features\n",
    "\n",
    "#print grid.best_estimator_\n",
    "#print grid.best_score_\n",
    "#os.system('say \"All done, all done, all done!\"')"
   ]
  },
  {
   "cell_type": "code",
   "execution_count": 52,
   "metadata": {
    "collapsed": false
   },
   "outputs": [
    {
     "data": {
      "text/plain": [
       "10067"
      ]
     },
     "execution_count": 52,
     "metadata": {},
     "output_type": "execute_result"
    }
   ],
   "source": [
    "len(rfc.feature_importances_)"
   ]
  },
  {
   "cell_type": "code",
   "execution_count": 53,
   "metadata": {
    "collapsed": false
   },
   "outputs": [],
   "source": [
    "features = pd.DataFrame(X_test.columns.T)"
   ]
  },
  {
   "cell_type": "code",
   "execution_count": 54,
   "metadata": {
    "collapsed": false
   },
   "outputs": [],
   "source": [
    "features['importance'] = rfc.feature_importances_"
   ]
  },
  {
   "cell_type": "code",
   "execution_count": 55,
   "metadata": {
    "collapsed": false
   },
   "outputs": [],
   "source": [
    "features.columns = ['feature','importance']"
   ]
  },
  {
   "cell_type": "code",
   "execution_count": 56,
   "metadata": {
    "collapsed": false
   },
   "outputs": [
    {
     "data": {
      "text/html": [
       "<div>\n",
       "<table border=\"1\" class=\"dataframe\">\n",
       "  <thead>\n",
       "    <tr style=\"text-align: right;\">\n",
       "      <th></th>\n",
       "      <th>feature</th>\n",
       "      <th>importance</th>\n",
       "    </tr>\n",
       "  </thead>\n",
       "  <tbody>\n",
       "    <tr>\n",
       "      <th>0</th>\n",
       "      <td>platform_1</td>\n",
       "      <td>0.009243</td>\n",
       "    </tr>\n",
       "    <tr>\n",
       "      <th>1</th>\n",
       "      <td>platform_2</td>\n",
       "      <td>0.005581</td>\n",
       "    </tr>\n",
       "    <tr>\n",
       "      <th>2</th>\n",
       "      <td>state_AL</td>\n",
       "      <td>0.001912</td>\n",
       "    </tr>\n",
       "    <tr>\n",
       "      <th>3</th>\n",
       "      <td>state_AR</td>\n",
       "      <td>0.000898</td>\n",
       "    </tr>\n",
       "    <tr>\n",
       "      <th>4</th>\n",
       "      <td>state_AZ</td>\n",
       "      <td>0.002657</td>\n",
       "    </tr>\n",
       "  </tbody>\n",
       "</table>\n",
       "</div>"
      ],
      "text/plain": [
       "      feature  importance\n",
       "0  platform_1    0.009243\n",
       "1  platform_2    0.005581\n",
       "2    state_AL    0.001912\n",
       "3    state_AR    0.000898\n",
       "4    state_AZ    0.002657"
      ]
     },
     "execution_count": 56,
     "metadata": {},
     "output_type": "execute_result"
    }
   ],
   "source": [
    "features.head()"
   ]
  },
  {
   "cell_type": "code",
   "execution_count": 57,
   "metadata": {
    "collapsed": false
   },
   "outputs": [
    {
     "name": "stderr",
     "output_type": "stream",
     "text": [
      "/Users/alex/anaconda/lib/python2.7/site-packages/ipykernel/__main__.py:1: FutureWarning: sort(columns=....) is deprecated, use sort_values(by=.....)\n",
      "  if __name__ == '__main__':\n"
     ]
    }
   ],
   "source": [
    "influencers = features.sort(columns= ['importance'], axis=0, ascending = False)"
   ]
  },
  {
   "cell_type": "code",
   "execution_count": 60,
   "metadata": {
    "collapsed": false
   },
   "outputs": [],
   "source": [
    "influencers.head(10)\n",
    "\n",
    "with open('./data/var_rfc.pkl', 'w') as picklefile:\n",
    "    pickle.dump(influencers, picklefile)"
   ]
  },
  {
   "cell_type": "code",
   "execution_count": 59,
   "metadata": {
    "collapsed": false
   },
   "outputs": [
    {
     "data": {
      "image/png": "[encoded data removed]",
      "text/plain": [
       "<matplotlib.figure.Figure at 0x105faf090>"
      ]
     },
     "metadata": {},
     "output_type": "display_data"
    }
   ],
   "source": [
    "fig, ax1 = plt.subplots(figsize=(12,6))\n",
    "labels = list(influencers.head(10)['feature'])\n",
    "importance = list(influencers.head(10)['importance'])\n",
    "ax1.bar(np.arange(0,10),importance, color='red', alpha=0.8,align='center')\n",
    "ax1.set_title('Feature Importance (Random Forest)', fontsize=18)\n",
    "ax1.set_ylabel('Relative Importance', fontsize=14)\n",
    "alex = ax1.set_xticklabels(labels, ha = 'left')\n",
    "plt.setp(alex, rotation=90,fontsize=10)\n",
    "ax1.set_xlim([-1,10])\n",
    "plt.grid(which = 'major',axis = 'x')\n",
    "ax1.set_xticks([0,1,2,3,4,5,6,7,8,9]);"
   ]
  },
  {
   "cell_type": "code",
   "execution_count": null,
   "metadata": {
    "collapsed": true
   },
   "outputs": [],
   "source": []
  }
 ],
 "metadata": {
  "anaconda-cloud": {},
  "kernelspec": {
   "display_name": "Python [Root]",
   "language": "python",
   "name": "Python [Root]"
  },
  "language_info": {
   "codemirror_mode": {
    "name": "ipython",
    "version": 2
   },
   "file_extension": ".py",
   "mimetype": "text/x-python",
   "name": "python",
   "nbconvert_exporter": "python",
   "pygments_lexer": "ipython2",
   "version": "2.7.11"
  }
 },
 "nbformat": 4,
 "nbformat_minor": 0
}
