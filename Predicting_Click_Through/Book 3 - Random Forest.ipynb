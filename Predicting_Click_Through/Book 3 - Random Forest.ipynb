{
 "cells": [
  {
   "cell_type": "markdown",
   "metadata": {},
   "source": [
    "# Book 3 - Random Forest 5k Events Train"
   ]
  },
  {
   "cell_type": "code",
   "execution_count": 1,
   "metadata": {
    "collapsed": false
   },
   "outputs": [
    {
     "name": "stderr",
     "output_type": "stream",
     "text": [
      "/Users/alex/anaconda/lib/python2.7/site-packages/sklearn/cross_validation.py:44: DeprecationWarning: This module was deprecated in version 0.18 in favor of the model_selection module into which all the refactored classes and functions are moved. Also note that the interface of the new CV iterators are different from that of this module. This module will be removed in 0.20.\n",
      "  \"This module will be removed in 0.20.\", DeprecationWarning)\n",
      "/Users/alex/anaconda/lib/python2.7/site-packages/sklearn/grid_search.py:43: DeprecationWarning: This module was deprecated in version 0.18 in favor of the model_selection module into which all the refactored classes and functions are moved. This module will be removed in 0.20.\n",
      "  DeprecationWarning)\n"
     ]
    }
   ],
   "source": [
    "import pandas as pd\n",
    "import numpy as np\n",
    "import seaborn as sns\n",
    "import pickle\n",
    "import random\n",
    "import datetime\n",
    "\n",
    "import matplotlib\n",
    "import matplotlib.pyplot as plt\n",
    "import matplotlib.cm as cm\n",
    "import matplotlib.patheffects as path_effects\n",
    "from matplotlib import cm as cm2\n",
    "matplotlib.style.use('ggplot') \n",
    "%matplotlib inline\n",
    "\n",
    "from sklearn import linear_model, datasets\n",
    "from sklearn.grid_search import GridSearchCV\n",
    "from sklearn import datasets\n",
    "from sklearn.tree import DecisionTreeClassifier, DecisionTreeRegressor\n",
    "from sklearn.ensemble import RandomForestClassifier, AdaBoostClassifier, \\\n",
    "    GradientBoostingClassifier, ExtraTreesClassifier, BaggingRegressor, \\\n",
    "    ExtraTreesRegressor, AdaBoostRegressor, GradientBoostingRegressor, RandomForestRegressor\n",
    "from sklearn.metrics import confusion_matrix\n",
    "from sklearn.preprocessing import LabelEncoder, MinMaxScaler\n",
    "from sklearn.metrics import accuracy_score \\\n",
    "#     confusion_matrix, roc_curve, roc_auc_score, precision_score, recall_score\n",
    "from sklearn.cross_validation import train_test_split, KFold, cross_val_score\n",
    "\n",
    "\n",
    "matplotlib.style.use('ggplot') \n",
    "%matplotlib inline"
   ]
  },
  {
   "cell_type": "markdown",
   "metadata": {},
   "source": [
    "# Bring in X & T train & test"
   ]
  },
  {
   "cell_type": "code",
   "execution_count": null,
   "metadata": {
    "collapsed": true
   },
   "outputs": [],
   "source": [
    "\n",
    "# Use this to do train/test split after fit\n",
    "event_US_id = list(events['display_id'].unique())\n",
    "\n",
    "import random\n",
    "\n",
    "# Random list from event_id list of df1 & df2\n",
    "random.seed(a=47)\n",
    "rand_list = random.sample(event_US_id,11000)\n",
    "\n",
    "train_list = rand_list[:10000]\n",
    "test_list = rand_list[10000:]\n",
    "\n",
    "\n"
   ]
  },
  {
   "cell_type": "code",
   "execution_count": 3,
   "metadata": {
    "collapsed": false
   },
   "outputs": [],
   "source": [
    "with open('X.pkl', 'r') as picklefile:\n",
    "    X = pickle.load(picklefile)\n",
    "    \n"
   ]
  },
  {
   "cell_type": "code",
   "execution_count": 4,
   "metadata": {
    "collapsed": false
   },
   "outputs": [
    {
     "data": {
      "text/plain": [
       "numpy.ndarray"
      ]
     },
     "execution_count": 4,
     "metadata": {},
     "output_type": "execute_result"
    }
   ],
   "source": []
  },
  {
   "cell_type": "code",
   "execution_count": 7,
   "metadata": {
    "collapsed": false
   },
   "outputs": [
    {
     "name": "stdout",
     "output_type": "stream",
     "text": [
      "Combined length: 25,575\n"
     ]
    }
   ],
   "source": [
    "X = X_train.append(X_test)\n",
    "print('Combined length: {0:,}'.format(len(X)))"
   ]
  },
  {
   "cell_type": "code",
   "execution_count": 8,
   "metadata": {
    "collapsed": false
   },
   "outputs": [
    {
     "data": {
      "text/html": [
       "<div>\n",
       "<table border=\"1\" class=\"dataframe\">\n",
       "  <thead>\n",
       "    <tr style=\"text-align: right;\">\n",
       "      <th></th>\n",
       "      <th>pltfrm</th>\n",
       "      <th>state</th>\n",
       "      <th>cmpgn_id</th>\n",
       "      <th>adv_id</th>\n",
       "      <th>period</th>\n",
       "      <th>doc_topic</th>\n",
       "      <th>ad_topic</th>\n",
       "    </tr>\n",
       "  </thead>\n",
       "  <tbody>\n",
       "    <tr>\n",
       "      <th>23178</th>\n",
       "      <td>1</td>\n",
       "      <td>NJ</td>\n",
       "      <td>32840</td>\n",
       "      <td>16</td>\n",
       "      <td>overnight</td>\n",
       "      <td>296.0</td>\n",
       "      <td>nan</td>\n",
       "    </tr>\n",
       "    <tr>\n",
       "      <th>0</th>\n",
       "      <td>2</td>\n",
       "      <td>TX</td>\n",
       "      <td>6560</td>\n",
       "      <td>1890</td>\n",
       "      <td>overnight</td>\n",
       "      <td>17.0</td>\n",
       "      <td>219.0</td>\n",
       "    </tr>\n",
       "  </tbody>\n",
       "</table>\n",
       "</div>"
      ],
      "text/plain": [
       "      pltfrm state cmpgn_id adv_id     period doc_topic ad_topic\n",
       "23178      1    NJ    32840     16  overnight     296.0      nan\n",
       "0          2    TX     6560   1890  overnight      17.0    219.0"
      ]
     },
     "execution_count": 8,
     "metadata": {},
     "output_type": "execute_result"
    }
   ],
   "source": [
    "X[23178:23180]"
   ]
  },
  {
   "cell_type": "code",
   "execution_count": 9,
   "metadata": {
    "collapsed": false
   },
   "outputs": [
    {
     "data": {
      "text/plain": [
       "Index([u'pltfrm', u'state', u'cmpgn_id', u'adv_id', u'period', u'doc_topic',\n",
       "       u'ad_topic'],\n",
       "      dtype='object')"
      ]
     },
     "execution_count": 9,
     "metadata": {},
     "output_type": "execute_result"
    }
   ],
   "source": [
    "X.columns"
   ]
  },
  {
   "cell_type": "code",
   "execution_count": 10,
   "metadata": {
    "collapsed": false
   },
   "outputs": [
    {
     "name": "stdout",
     "output_type": "stream",
     "text": [
      "0:00:07.462028\n"
     ]
    }
   ],
   "source": [
    "start = datetime.datetime.now()\n",
    "\n",
    "X = pd.get_dummies(X, prefix=['pltfrm', 'state', 'cmpgn_id', 'adv_id',\\\n",
    "                                          'period','doc_topic', 'ad_topic'])\n",
    "\n",
    "X.drop(['pltfrm_3','state_AK','cmpgn_id_32840','adv_id_1890','period_morning',\n",
    "       'doc_topic_17.0','ad_topic_91.0'])\n",
    "finish = datetime.datetime.now()\n",
    "print(finish - start)"
   ]
  },
  {
   "cell_type": "code",
   "execution_count": 11,
   "metadata": {
    "collapsed": false
   },
   "outputs": [
    {
     "data": {
      "text/html": [
       "<div>\n",
       "<table border=\"1\" class=\"dataframe\">\n",
       "  <thead>\n",
       "    <tr style=\"text-align: right;\">\n",
       "      <th></th>\n",
       "      <th>pltfrm_1</th>\n",
       "      <th>pltfrm_2</th>\n",
       "      <th>pltfrm_3</th>\n",
       "      <th>state_AK</th>\n",
       "      <th>state_AL</th>\n",
       "      <th>state_AR</th>\n",
       "      <th>state_AZ</th>\n",
       "      <th>state_CA</th>\n",
       "      <th>state_CO</th>\n",
       "      <th>state_CT</th>\n",
       "      <th>...</th>\n",
       "      <th>ad_topic_91.0</th>\n",
       "      <th>ad_topic_92.0</th>\n",
       "      <th>ad_topic_93.0</th>\n",
       "      <th>ad_topic_94.0</th>\n",
       "      <th>ad_topic_95.0</th>\n",
       "      <th>ad_topic_96.0</th>\n",
       "      <th>ad_topic_97.0</th>\n",
       "      <th>ad_topic_98.0</th>\n",
       "      <th>ad_topic_99.0</th>\n",
       "      <th>ad_topic_nan</th>\n",
       "    </tr>\n",
       "  </thead>\n",
       "  <tbody>\n",
       "    <tr>\n",
       "      <th>0</th>\n",
       "      <td>0.0</td>\n",
       "      <td>1.0</td>\n",
       "      <td>0.0</td>\n",
       "      <td>0.0</td>\n",
       "      <td>0.0</td>\n",
       "      <td>0.0</td>\n",
       "      <td>0.0</td>\n",
       "      <td>1.0</td>\n",
       "      <td>0.0</td>\n",
       "      <td>0.0</td>\n",
       "      <td>...</td>\n",
       "      <td>0.0</td>\n",
       "      <td>0.0</td>\n",
       "      <td>0.0</td>\n",
       "      <td>0.0</td>\n",
       "      <td>0.0</td>\n",
       "      <td>0.0</td>\n",
       "      <td>0.0</td>\n",
       "      <td>0.0</td>\n",
       "      <td>0.0</td>\n",
       "      <td>0.0</td>\n",
       "    </tr>\n",
       "    <tr>\n",
       "      <th>1</th>\n",
       "      <td>0.0</td>\n",
       "      <td>1.0</td>\n",
       "      <td>0.0</td>\n",
       "      <td>0.0</td>\n",
       "      <td>0.0</td>\n",
       "      <td>0.0</td>\n",
       "      <td>0.0</td>\n",
       "      <td>1.0</td>\n",
       "      <td>0.0</td>\n",
       "      <td>0.0</td>\n",
       "      <td>...</td>\n",
       "      <td>0.0</td>\n",
       "      <td>0.0</td>\n",
       "      <td>0.0</td>\n",
       "      <td>0.0</td>\n",
       "      <td>0.0</td>\n",
       "      <td>0.0</td>\n",
       "      <td>0.0</td>\n",
       "      <td>0.0</td>\n",
       "      <td>0.0</td>\n",
       "      <td>0.0</td>\n",
       "    </tr>\n",
       "  </tbody>\n",
       "</table>\n",
       "<p>2 rows × 7555 columns</p>\n",
       "</div>"
      ],
      "text/plain": [
       "   pltfrm_1  pltfrm_2  pltfrm_3  state_AK  state_AL  state_AR  state_AZ  \\\n",
       "0       0.0       1.0       0.0       0.0       0.0       0.0       0.0   \n",
       "1       0.0       1.0       0.0       0.0       0.0       0.0       0.0   \n",
       "\n",
       "   state_CA  state_CO  state_CT      ...       ad_topic_91.0  ad_topic_92.0  \\\n",
       "0       1.0       0.0       0.0      ...                 0.0            0.0   \n",
       "1       1.0       0.0       0.0      ...                 0.0            0.0   \n",
       "\n",
       "   ad_topic_93.0  ad_topic_94.0  ad_topic_95.0  ad_topic_96.0  ad_topic_97.0  \\\n",
       "0            0.0            0.0            0.0            0.0            0.0   \n",
       "1            0.0            0.0            0.0            0.0            0.0   \n",
       "\n",
       "   ad_topic_98.0  ad_topic_99.0  ad_topic_nan  \n",
       "0            0.0            0.0           0.0  \n",
       "1            0.0            0.0           0.0  \n",
       "\n",
       "[2 rows x 7555 columns]"
      ]
     },
     "execution_count": 11,
     "metadata": {},
     "output_type": "execute_result"
    }
   ],
   "source": [
    "X.head(2)"
   ]
  },
  {
   "cell_type": "code",
   "execution_count": 12,
   "metadata": {
    "collapsed": false
   },
   "outputs": [],
   "source": [
    "X_train = X[:23179]"
   ]
  },
  {
   "cell_type": "code",
   "execution_count": 13,
   "metadata": {
    "collapsed": false
   },
   "outputs": [
    {
     "data": {
      "text/html": [
       "<div>\n",
       "<table border=\"1\" class=\"dataframe\">\n",
       "  <thead>\n",
       "    <tr style=\"text-align: right;\">\n",
       "      <th></th>\n",
       "      <th>pltfrm_1</th>\n",
       "      <th>pltfrm_2</th>\n",
       "      <th>pltfrm_3</th>\n",
       "      <th>state_AK</th>\n",
       "      <th>state_AL</th>\n",
       "      <th>state_AR</th>\n",
       "      <th>state_AZ</th>\n",
       "      <th>state_CA</th>\n",
       "      <th>state_CO</th>\n",
       "      <th>state_CT</th>\n",
       "      <th>...</th>\n",
       "      <th>ad_topic_91.0</th>\n",
       "      <th>ad_topic_92.0</th>\n",
       "      <th>ad_topic_93.0</th>\n",
       "      <th>ad_topic_94.0</th>\n",
       "      <th>ad_topic_95.0</th>\n",
       "      <th>ad_topic_96.0</th>\n",
       "      <th>ad_topic_97.0</th>\n",
       "      <th>ad_topic_98.0</th>\n",
       "      <th>ad_topic_99.0</th>\n",
       "      <th>ad_topic_nan</th>\n",
       "    </tr>\n",
       "  </thead>\n",
       "  <tbody>\n",
       "    <tr>\n",
       "      <th>23174</th>\n",
       "      <td>1.0</td>\n",
       "      <td>0.0</td>\n",
       "      <td>0.0</td>\n",
       "      <td>0.0</td>\n",
       "      <td>0.0</td>\n",
       "      <td>0.0</td>\n",
       "      <td>0.0</td>\n",
       "      <td>0.0</td>\n",
       "      <td>0.0</td>\n",
       "      <td>0.0</td>\n",
       "      <td>...</td>\n",
       "      <td>0.0</td>\n",
       "      <td>0.0</td>\n",
       "      <td>0.0</td>\n",
       "      <td>0.0</td>\n",
       "      <td>0.0</td>\n",
       "      <td>0.0</td>\n",
       "      <td>0.0</td>\n",
       "      <td>0.0</td>\n",
       "      <td>0.0</td>\n",
       "      <td>0.0</td>\n",
       "    </tr>\n",
       "    <tr>\n",
       "      <th>23175</th>\n",
       "      <td>1.0</td>\n",
       "      <td>0.0</td>\n",
       "      <td>0.0</td>\n",
       "      <td>0.0</td>\n",
       "      <td>0.0</td>\n",
       "      <td>0.0</td>\n",
       "      <td>0.0</td>\n",
       "      <td>0.0</td>\n",
       "      <td>0.0</td>\n",
       "      <td>0.0</td>\n",
       "      <td>...</td>\n",
       "      <td>0.0</td>\n",
       "      <td>0.0</td>\n",
       "      <td>1.0</td>\n",
       "      <td>0.0</td>\n",
       "      <td>0.0</td>\n",
       "      <td>0.0</td>\n",
       "      <td>0.0</td>\n",
       "      <td>0.0</td>\n",
       "      <td>0.0</td>\n",
       "      <td>0.0</td>\n",
       "    </tr>\n",
       "    <tr>\n",
       "      <th>23176</th>\n",
       "      <td>1.0</td>\n",
       "      <td>0.0</td>\n",
       "      <td>0.0</td>\n",
       "      <td>0.0</td>\n",
       "      <td>0.0</td>\n",
       "      <td>0.0</td>\n",
       "      <td>0.0</td>\n",
       "      <td>0.0</td>\n",
       "      <td>0.0</td>\n",
       "      <td>0.0</td>\n",
       "      <td>...</td>\n",
       "      <td>0.0</td>\n",
       "      <td>0.0</td>\n",
       "      <td>0.0</td>\n",
       "      <td>0.0</td>\n",
       "      <td>0.0</td>\n",
       "      <td>0.0</td>\n",
       "      <td>0.0</td>\n",
       "      <td>0.0</td>\n",
       "      <td>0.0</td>\n",
       "      <td>0.0</td>\n",
       "    </tr>\n",
       "    <tr>\n",
       "      <th>23177</th>\n",
       "      <td>1.0</td>\n",
       "      <td>0.0</td>\n",
       "      <td>0.0</td>\n",
       "      <td>0.0</td>\n",
       "      <td>0.0</td>\n",
       "      <td>0.0</td>\n",
       "      <td>0.0</td>\n",
       "      <td>0.0</td>\n",
       "      <td>0.0</td>\n",
       "      <td>0.0</td>\n",
       "      <td>...</td>\n",
       "      <td>0.0</td>\n",
       "      <td>0.0</td>\n",
       "      <td>0.0</td>\n",
       "      <td>0.0</td>\n",
       "      <td>0.0</td>\n",
       "      <td>0.0</td>\n",
       "      <td>0.0</td>\n",
       "      <td>0.0</td>\n",
       "      <td>0.0</td>\n",
       "      <td>0.0</td>\n",
       "    </tr>\n",
       "    <tr>\n",
       "      <th>23178</th>\n",
       "      <td>1.0</td>\n",
       "      <td>0.0</td>\n",
       "      <td>0.0</td>\n",
       "      <td>0.0</td>\n",
       "      <td>0.0</td>\n",
       "      <td>0.0</td>\n",
       "      <td>0.0</td>\n",
       "      <td>0.0</td>\n",
       "      <td>0.0</td>\n",
       "      <td>0.0</td>\n",
       "      <td>...</td>\n",
       "      <td>0.0</td>\n",
       "      <td>0.0</td>\n",
       "      <td>0.0</td>\n",
       "      <td>0.0</td>\n",
       "      <td>0.0</td>\n",
       "      <td>0.0</td>\n",
       "      <td>0.0</td>\n",
       "      <td>0.0</td>\n",
       "      <td>0.0</td>\n",
       "      <td>1.0</td>\n",
       "    </tr>\n",
       "  </tbody>\n",
       "</table>\n",
       "<p>5 rows × 7555 columns</p>\n",
       "</div>"
      ],
      "text/plain": [
       "       pltfrm_1  pltfrm_2  pltfrm_3  state_AK  state_AL  state_AR  state_AZ  \\\n",
       "23174       1.0       0.0       0.0       0.0       0.0       0.0       0.0   \n",
       "23175       1.0       0.0       0.0       0.0       0.0       0.0       0.0   \n",
       "23176       1.0       0.0       0.0       0.0       0.0       0.0       0.0   \n",
       "23177       1.0       0.0       0.0       0.0       0.0       0.0       0.0   \n",
       "23178       1.0       0.0       0.0       0.0       0.0       0.0       0.0   \n",
       "\n",
       "       state_CA  state_CO  state_CT      ...       ad_topic_91.0  \\\n",
       "23174       0.0       0.0       0.0      ...                 0.0   \n",
       "23175       0.0       0.0       0.0      ...                 0.0   \n",
       "23176       0.0       0.0       0.0      ...                 0.0   \n",
       "23177       0.0       0.0       0.0      ...                 0.0   \n",
       "23178       0.0       0.0       0.0      ...                 0.0   \n",
       "\n",
       "       ad_topic_92.0  ad_topic_93.0  ad_topic_94.0  ad_topic_95.0  \\\n",
       "23174            0.0            0.0            0.0            0.0   \n",
       "23175            0.0            1.0            0.0            0.0   \n",
       "23176            0.0            0.0            0.0            0.0   \n",
       "23177            0.0            0.0            0.0            0.0   \n",
       "23178            0.0            0.0            0.0            0.0   \n",
       "\n",
       "       ad_topic_96.0  ad_topic_97.0  ad_topic_98.0  ad_topic_99.0  \\\n",
       "23174            0.0            0.0            0.0            0.0   \n",
       "23175            0.0            0.0            0.0            0.0   \n",
       "23176            0.0            0.0            0.0            0.0   \n",
       "23177            0.0            0.0            0.0            0.0   \n",
       "23178            0.0            0.0            0.0            0.0   \n",
       "\n",
       "       ad_topic_nan  \n",
       "23174           0.0  \n",
       "23175           0.0  \n",
       "23176           0.0  \n",
       "23177           0.0  \n",
       "23178           1.0  \n",
       "\n",
       "[5 rows x 7555 columns]"
      ]
     },
     "execution_count": 13,
     "metadata": {},
     "output_type": "execute_result"
    }
   ],
   "source": [
    "X_train.tail()"
   ]
  },
  {
   "cell_type": "code",
   "execution_count": 14,
   "metadata": {
    "collapsed": false
   },
   "outputs": [],
   "source": [
    "X_test = X[23179:]"
   ]
  },
  {
   "cell_type": "code",
   "execution_count": 15,
   "metadata": {
    "collapsed": false
   },
   "outputs": [
    {
     "data": {
      "text/html": [
       "<div>\n",
       "<table border=\"1\" class=\"dataframe\">\n",
       "  <thead>\n",
       "    <tr style=\"text-align: right;\">\n",
       "      <th></th>\n",
       "      <th>pltfrm_1</th>\n",
       "      <th>pltfrm_2</th>\n",
       "      <th>pltfrm_3</th>\n",
       "      <th>state_AK</th>\n",
       "      <th>state_AL</th>\n",
       "      <th>state_AR</th>\n",
       "      <th>state_AZ</th>\n",
       "      <th>state_CA</th>\n",
       "      <th>state_CO</th>\n",
       "      <th>state_CT</th>\n",
       "      <th>...</th>\n",
       "      <th>ad_topic_91.0</th>\n",
       "      <th>ad_topic_92.0</th>\n",
       "      <th>ad_topic_93.0</th>\n",
       "      <th>ad_topic_94.0</th>\n",
       "      <th>ad_topic_95.0</th>\n",
       "      <th>ad_topic_96.0</th>\n",
       "      <th>ad_topic_97.0</th>\n",
       "      <th>ad_topic_98.0</th>\n",
       "      <th>ad_topic_99.0</th>\n",
       "      <th>ad_topic_nan</th>\n",
       "    </tr>\n",
       "  </thead>\n",
       "  <tbody>\n",
       "    <tr>\n",
       "      <th>0</th>\n",
       "      <td>0.0</td>\n",
       "      <td>1.0</td>\n",
       "      <td>0.0</td>\n",
       "      <td>0.0</td>\n",
       "      <td>0.0</td>\n",
       "      <td>0.0</td>\n",
       "      <td>0.0</td>\n",
       "      <td>0.0</td>\n",
       "      <td>0.0</td>\n",
       "      <td>0.0</td>\n",
       "      <td>...</td>\n",
       "      <td>0.0</td>\n",
       "      <td>0.0</td>\n",
       "      <td>0.0</td>\n",
       "      <td>0.0</td>\n",
       "      <td>0.0</td>\n",
       "      <td>0.0</td>\n",
       "      <td>0.0</td>\n",
       "      <td>0.0</td>\n",
       "      <td>0.0</td>\n",
       "      <td>0.0</td>\n",
       "    </tr>\n",
       "    <tr>\n",
       "      <th>1</th>\n",
       "      <td>0.0</td>\n",
       "      <td>1.0</td>\n",
       "      <td>0.0</td>\n",
       "      <td>0.0</td>\n",
       "      <td>0.0</td>\n",
       "      <td>0.0</td>\n",
       "      <td>0.0</td>\n",
       "      <td>0.0</td>\n",
       "      <td>0.0</td>\n",
       "      <td>0.0</td>\n",
       "      <td>...</td>\n",
       "      <td>0.0</td>\n",
       "      <td>0.0</td>\n",
       "      <td>0.0</td>\n",
       "      <td>0.0</td>\n",
       "      <td>0.0</td>\n",
       "      <td>0.0</td>\n",
       "      <td>0.0</td>\n",
       "      <td>0.0</td>\n",
       "      <td>0.0</td>\n",
       "      <td>0.0</td>\n",
       "    </tr>\n",
       "    <tr>\n",
       "      <th>2</th>\n",
       "      <td>0.0</td>\n",
       "      <td>1.0</td>\n",
       "      <td>0.0</td>\n",
       "      <td>0.0</td>\n",
       "      <td>0.0</td>\n",
       "      <td>0.0</td>\n",
       "      <td>0.0</td>\n",
       "      <td>0.0</td>\n",
       "      <td>0.0</td>\n",
       "      <td>0.0</td>\n",
       "      <td>...</td>\n",
       "      <td>0.0</td>\n",
       "      <td>0.0</td>\n",
       "      <td>0.0</td>\n",
       "      <td>0.0</td>\n",
       "      <td>0.0</td>\n",
       "      <td>0.0</td>\n",
       "      <td>0.0</td>\n",
       "      <td>0.0</td>\n",
       "      <td>0.0</td>\n",
       "      <td>0.0</td>\n",
       "    </tr>\n",
       "    <tr>\n",
       "      <th>3</th>\n",
       "      <td>0.0</td>\n",
       "      <td>1.0</td>\n",
       "      <td>0.0</td>\n",
       "      <td>0.0</td>\n",
       "      <td>0.0</td>\n",
       "      <td>0.0</td>\n",
       "      <td>0.0</td>\n",
       "      <td>0.0</td>\n",
       "      <td>0.0</td>\n",
       "      <td>0.0</td>\n",
       "      <td>...</td>\n",
       "      <td>0.0</td>\n",
       "      <td>0.0</td>\n",
       "      <td>0.0</td>\n",
       "      <td>0.0</td>\n",
       "      <td>0.0</td>\n",
       "      <td>0.0</td>\n",
       "      <td>0.0</td>\n",
       "      <td>0.0</td>\n",
       "      <td>0.0</td>\n",
       "      <td>0.0</td>\n",
       "    </tr>\n",
       "    <tr>\n",
       "      <th>4</th>\n",
       "      <td>0.0</td>\n",
       "      <td>1.0</td>\n",
       "      <td>0.0</td>\n",
       "      <td>0.0</td>\n",
       "      <td>0.0</td>\n",
       "      <td>0.0</td>\n",
       "      <td>0.0</td>\n",
       "      <td>0.0</td>\n",
       "      <td>0.0</td>\n",
       "      <td>0.0</td>\n",
       "      <td>...</td>\n",
       "      <td>0.0</td>\n",
       "      <td>0.0</td>\n",
       "      <td>0.0</td>\n",
       "      <td>0.0</td>\n",
       "      <td>0.0</td>\n",
       "      <td>0.0</td>\n",
       "      <td>0.0</td>\n",
       "      <td>0.0</td>\n",
       "      <td>0.0</td>\n",
       "      <td>0.0</td>\n",
       "    </tr>\n",
       "  </tbody>\n",
       "</table>\n",
       "<p>5 rows × 7555 columns</p>\n",
       "</div>"
      ],
      "text/plain": [
       "   pltfrm_1  pltfrm_2  pltfrm_3  state_AK  state_AL  state_AR  state_AZ  \\\n",
       "0       0.0       1.0       0.0       0.0       0.0       0.0       0.0   \n",
       "1       0.0       1.0       0.0       0.0       0.0       0.0       0.0   \n",
       "2       0.0       1.0       0.0       0.0       0.0       0.0       0.0   \n",
       "3       0.0       1.0       0.0       0.0       0.0       0.0       0.0   \n",
       "4       0.0       1.0       0.0       0.0       0.0       0.0       0.0   \n",
       "\n",
       "   state_CA  state_CO  state_CT      ...       ad_topic_91.0  ad_topic_92.0  \\\n",
       "0       0.0       0.0       0.0      ...                 0.0            0.0   \n",
       "1       0.0       0.0       0.0      ...                 0.0            0.0   \n",
       "2       0.0       0.0       0.0      ...                 0.0            0.0   \n",
       "3       0.0       0.0       0.0      ...                 0.0            0.0   \n",
       "4       0.0       0.0       0.0      ...                 0.0            0.0   \n",
       "\n",
       "   ad_topic_93.0  ad_topic_94.0  ad_topic_95.0  ad_topic_96.0  ad_topic_97.0  \\\n",
       "0            0.0            0.0            0.0            0.0            0.0   \n",
       "1            0.0            0.0            0.0            0.0            0.0   \n",
       "2            0.0            0.0            0.0            0.0            0.0   \n",
       "3            0.0            0.0            0.0            0.0            0.0   \n",
       "4            0.0            0.0            0.0            0.0            0.0   \n",
       "\n",
       "   ad_topic_98.0  ad_topic_99.0  ad_topic_nan  \n",
       "0            0.0            0.0           0.0  \n",
       "1            0.0            0.0           0.0  \n",
       "2            0.0            0.0           0.0  \n",
       "3            0.0            0.0           0.0  \n",
       "4            0.0            0.0           0.0  \n",
       "\n",
       "[5 rows x 7555 columns]"
      ]
     },
     "execution_count": 15,
     "metadata": {},
     "output_type": "execute_result"
    }
   ],
   "source": [
    "X_test.head()"
   ]
  },
  {
   "cell_type": "code",
   "execution_count": 16,
   "metadata": {
    "collapsed": false
   },
   "outputs": [
    {
     "name": "stdout",
     "output_type": "stream",
     "text": [
      "X_train length: 23,179\n",
      "X_test  length:  2,396\n"
     ]
    }
   ],
   "source": [
    "print('X_train length: {0:,}'.format(len(X_train)))\n",
    "print('X_test  length:  {0:,}'.format(len(X_test)))"
   ]
  },
  {
   "cell_type": "code",
   "execution_count": null,
   "metadata": {
    "collapsed": false
   },
   "outputs": [],
   "source": [
    "### Y train and Y test    set these up"
   ]
  },
  {
   "cell_type": "markdown",
   "metadata": {},
   "source": [
    "# Random Forrest Classifier\n",
    "\n",
    "RFC default settings\n",
    "* correct predictions: 142\n",
    "* Precent correct: 31%\n",
    "\n",
    "RFC on accuracy max (n_estimators = 10, max depth = 5)\n",
    "* correct predictions: 115\n",
    "* Precent correct: 25%\n",
    "\n",
    "RFC on precision max (n_estimators = 20, max depth = 30)\n",
    "* correct predictions: 154\n",
    "* Precent correct: 33.7%"
   ]
  },
  {
   "cell_type": "code",
   "execution_count": 17,
   "metadata": {
    "collapsed": false
   },
   "outputs": [
    {
     "data": {
      "text/plain": [
       "RandomForestClassifier(bootstrap=True, class_weight=None, criterion='gini',\n",
       "            max_depth=30, max_features='auto', max_leaf_nodes=None,\n",
       "            min_impurity_split=1e-07, min_samples_leaf=1,\n",
       "            min_samples_split=2, min_weight_fraction_leaf=0.0,\n",
       "            n_estimators=20, n_jobs=1, oob_score=False, random_state=None,\n",
       "            verbose=0, warm_start=False)"
      ]
     },
     "execution_count": 17,
     "metadata": {},
     "output_type": "execute_result"
    }
   ],
   "source": [
    "rfc = RandomForestClassifier(bootstrap=True, class_weight=None, criterion='gini',\n",
    "            max_depth=30, max_features='auto', max_leaf_nodes=None,\n",
    "            min_impurity_split=1e-07, min_samples_leaf=1,\n",
    "            min_samples_split=2, min_weight_fraction_leaf=0.0,\n",
    "            n_estimators=20, n_jobs=1, oob_score=False, random_state=None,\n",
    "            verbose=0, warm_start=False)\n",
    "\n",
    "rfc.fit(X_train, Y_train)\n",
    "\n",
    "#start = datetime.datetime.now()\n",
    "#finish = datetime.datetime.now()\n",
    "#print(finish - start)"
   ]
  },
  {
   "cell_type": "code",
   "execution_count": 18,
   "metadata": {
    "collapsed": false
   },
   "outputs": [],
   "source": [
    "# get probabilities of clicked/not clicked\n",
    "rf_proba = rfc.predict_proba(X_test)\n",
    "rf_Y_proba = pd.DataFrame(rf_proba,columns = ['p_no_click','p_click'])"
   ]
  },
  {
   "cell_type": "code",
   "execution_count": 19,
   "metadata": {
    "collapsed": true
   },
   "outputs": [],
   "source": [
    "ppp = pd.concat([Disp_test, rf_Y_proba], axis=1)\n",
    "# post processing of predictor"
   ]
  },
  {
   "cell_type": "code",
   "execution_count": 20,
   "metadata": {
    "collapsed": false
   },
   "outputs": [
    {
     "data": {
      "text/html": [
       "<div>\n",
       "<table border=\"1\" class=\"dataframe\">\n",
       "  <thead>\n",
       "    <tr style=\"text-align: right;\">\n",
       "      <th></th>\n",
       "      <th>display_id</th>\n",
       "      <th>p_no_click</th>\n",
       "      <th>p_click</th>\n",
       "    </tr>\n",
       "  </thead>\n",
       "  <tbody>\n",
       "    <tr>\n",
       "      <th>2389</th>\n",
       "      <td>16788977</td>\n",
       "      <td>0.878545</td>\n",
       "      <td>0.121455</td>\n",
       "    </tr>\n",
       "    <tr>\n",
       "      <th>2390</th>\n",
       "      <td>16838190</td>\n",
       "      <td>0.814677</td>\n",
       "      <td>0.185323</td>\n",
       "    </tr>\n",
       "    <tr>\n",
       "      <th>2391</th>\n",
       "      <td>16838190</td>\n",
       "      <td>0.814677</td>\n",
       "      <td>0.185323</td>\n",
       "    </tr>\n",
       "    <tr>\n",
       "      <th>2392</th>\n",
       "      <td>16838190</td>\n",
       "      <td>0.802831</td>\n",
       "      <td>0.197169</td>\n",
       "    </tr>\n",
       "    <tr>\n",
       "      <th>2393</th>\n",
       "      <td>16838190</td>\n",
       "      <td>0.814677</td>\n",
       "      <td>0.185323</td>\n",
       "    </tr>\n",
       "    <tr>\n",
       "      <th>2394</th>\n",
       "      <td>16838190</td>\n",
       "      <td>0.814677</td>\n",
       "      <td>0.185323</td>\n",
       "    </tr>\n",
       "    <tr>\n",
       "      <th>2395</th>\n",
       "      <td>16838190</td>\n",
       "      <td>0.773168</td>\n",
       "      <td>0.226832</td>\n",
       "    </tr>\n",
       "  </tbody>\n",
       "</table>\n",
       "</div>"
      ],
      "text/plain": [
       "      display_id  p_no_click   p_click\n",
       "2389    16788977    0.878545  0.121455\n",
       "2390    16838190    0.814677  0.185323\n",
       "2391    16838190    0.814677  0.185323\n",
       "2392    16838190    0.802831  0.197169\n",
       "2393    16838190    0.814677  0.185323\n",
       "2394    16838190    0.814677  0.185323\n",
       "2395    16838190    0.773168  0.226832"
      ]
     },
     "execution_count": 20,
     "metadata": {},
     "output_type": "execute_result"
    }
   ],
   "source": [
    "ppp.tail(7)"
   ]
  },
  {
   "cell_type": "markdown",
   "metadata": {},
   "source": [
    "## Reduce to 1-click per display id"
   ]
  },
  {
   "cell_type": "code",
   "execution_count": 21,
   "metadata": {
    "collapsed": false
   },
   "outputs": [
    {
     "data": {
      "text/html": [
       "<div>\n",
       "<table border=\"1\" class=\"dataframe\">\n",
       "  <thead>\n",
       "    <tr style=\"text-align: right;\">\n",
       "      <th></th>\n",
       "      <th>display_id</th>\n",
       "      <th>p_no_click</th>\n",
       "      <th>p_click</th>\n",
       "    </tr>\n",
       "  </thead>\n",
       "  <tbody>\n",
       "    <tr>\n",
       "      <th>0</th>\n",
       "      <td>65537</td>\n",
       "      <td>0.797993</td>\n",
       "      <td>0.202007</td>\n",
       "    </tr>\n",
       "    <tr>\n",
       "      <th>1</th>\n",
       "      <td>65537</td>\n",
       "      <td>0.797993</td>\n",
       "      <td>0.202007</td>\n",
       "    </tr>\n",
       "    <tr>\n",
       "      <th>2</th>\n",
       "      <td>65537</td>\n",
       "      <td>0.797993</td>\n",
       "      <td>0.202007</td>\n",
       "    </tr>\n",
       "  </tbody>\n",
       "</table>\n",
       "</div>"
      ],
      "text/plain": [
       "   display_id  p_no_click   p_click\n",
       "0       65537    0.797993  0.202007\n",
       "1       65537    0.797993  0.202007\n",
       "2       65537    0.797993  0.202007"
      ]
     },
     "execution_count": 21,
     "metadata": {},
     "output_type": "execute_result"
    }
   ],
   "source": [
    "checker = ppp\n",
    "checker.head(3)"
   ]
  },
  {
   "cell_type": "code",
   "execution_count": 22,
   "metadata": {
    "collapsed": false
   },
   "outputs": [
    {
     "data": {
      "text/html": [
       "<div>\n",
       "<table border=\"1\" class=\"dataframe\">\n",
       "  <thead>\n",
       "    <tr style=\"text-align: right;\">\n",
       "      <th></th>\n",
       "      <th>display_id</th>\n",
       "      <th>p_no_click</th>\n",
       "      <th>p_click</th>\n",
       "      <th>Y_test</th>\n",
       "      <th>prediction</th>\n",
       "    </tr>\n",
       "  </thead>\n",
       "  <tbody>\n",
       "    <tr>\n",
       "      <th>0</th>\n",
       "      <td>65537</td>\n",
       "      <td>0.797993</td>\n",
       "      <td>0.202007</td>\n",
       "      <td>0</td>\n",
       "      <td>0</td>\n",
       "    </tr>\n",
       "    <tr>\n",
       "      <th>1</th>\n",
       "      <td>65537</td>\n",
       "      <td>0.797993</td>\n",
       "      <td>0.202007</td>\n",
       "      <td>0</td>\n",
       "      <td>0</td>\n",
       "    </tr>\n",
       "    <tr>\n",
       "      <th>2</th>\n",
       "      <td>65537</td>\n",
       "      <td>0.797993</td>\n",
       "      <td>0.202007</td>\n",
       "      <td>0</td>\n",
       "      <td>0</td>\n",
       "    </tr>\n",
       "    <tr>\n",
       "      <th>3</th>\n",
       "      <td>65537</td>\n",
       "      <td>0.797993</td>\n",
       "      <td>0.202007</td>\n",
       "      <td>1</td>\n",
       "      <td>0</td>\n",
       "    </tr>\n",
       "    <tr>\n",
       "      <th>4</th>\n",
       "      <td>66286</td>\n",
       "      <td>0.797993</td>\n",
       "      <td>0.202007</td>\n",
       "      <td>1</td>\n",
       "      <td>0</td>\n",
       "    </tr>\n",
       "  </tbody>\n",
       "</table>\n",
       "</div>"
      ],
      "text/plain": [
       "   display_id  p_no_click   p_click  Y_test  prediction\n",
       "0       65537    0.797993  0.202007       0           0\n",
       "1       65537    0.797993  0.202007       0           0\n",
       "2       65537    0.797993  0.202007       0           0\n",
       "3       65537    0.797993  0.202007       1           0\n",
       "4       66286    0.797993  0.202007       1           0"
      ]
     },
     "execution_count": 22,
     "metadata": {},
     "output_type": "execute_result"
    }
   ],
   "source": [
    "checker['Y_test'] = pd.Series(Y_test)\n",
    "checker['prediction'] = [0 for _ in range(len(checker))] # puts zeros in place\n",
    "checker.head()"
   ]
  },
  {
   "cell_type": "code",
   "execution_count": null,
   "metadata": {
    "collapsed": true
   },
   "outputs": [],
   "source": []
  },
  {
   "cell_type": "code",
   "execution_count": 23,
   "metadata": {
    "collapsed": false
   },
   "outputs": [
    {
     "data": {
      "text/plain": [
       "457"
      ]
     },
     "execution_count": 23,
     "metadata": {},
     "output_type": "execute_result"
    }
   ],
   "source": [
    "pages = checker['display_id'].unique()\n",
    "len(pages)"
   ]
  },
  {
   "cell_type": "code",
   "execution_count": 24,
   "metadata": {
    "collapsed": false
   },
   "outputs": [],
   "source": [
    "# system to use probabilities to choose which page is clicked\n",
    "# compensates for zero probability across the board, or muliple matching high probabilities\n",
    "\n",
    "for d_num in pages:  \n",
    "    indx = 0 # index that becomes click\n",
    "    disp_list = checker[checker['display_id'] == d_num].index.tolist()\n",
    "\n",
    "    temp = pd.DataFrame(ppp[ppp['display_id'] == d_num])\n",
    "\n",
    "    p_max = temp['p_click'].max()\n",
    "\n",
    "    if p_max == 0:\n",
    "        indx = random.choice(disp_list) # randomly picks from all matched values\n",
    "    else:\n",
    "        counter = 0\n",
    "        short_list =[]\n",
    "        for index, row in temp.iterrows():\n",
    "            if row['p_click'] == p_max:\n",
    "                counter += 1\n",
    "                short_list.append(index)\n",
    "        indx = random.choice(short_list) # randomly picks from all matched values\n",
    "    checker.set_value(indx, 'prediction', 1)\n"
   ]
  },
  {
   "cell_type": "code",
   "execution_count": 25,
   "metadata": {
    "collapsed": false
   },
   "outputs": [
    {
     "data": {
      "text/plain": [
       "457"
      ]
     },
     "execution_count": 25,
     "metadata": {},
     "output_type": "execute_result"
    }
   ],
   "source": [
    "sum(checker['Y_test'])"
   ]
  },
  {
   "cell_type": "code",
   "execution_count": 26,
   "metadata": {
    "collapsed": false
   },
   "outputs": [
    {
     "data": {
      "text/plain": [
       "457"
      ]
     },
     "execution_count": 26,
     "metadata": {},
     "output_type": "execute_result"
    }
   ],
   "source": [
    "sum(checker['prediction'])"
   ]
  },
  {
   "cell_type": "code",
   "execution_count": 27,
   "metadata": {
    "collapsed": false
   },
   "outputs": [
    {
     "name": "stdout",
     "output_type": "stream",
     "text": [
      "Clicks correctly predicted: 154\n",
      "Percent correctly predicted: 33.698031%\n"
     ]
    }
   ],
   "source": [
    "count = 0\n",
    "for index, row in checker.iterrows():\n",
    "    if row['prediction'] == 1 and row['Y_test'] == 1:\n",
    "        count +=1\n",
    "print('Clicks correctly predicted: {0:,}'.format(count))\n",
    "print('Percent correctly predicted: {0:%}'.format(float(count)/sum(checker['Y_test'])))"
   ]
  },
  {
   "cell_type": "code",
   "execution_count": 28,
   "metadata": {
    "collapsed": false
   },
   "outputs": [
    {
     "name": "stderr",
     "output_type": "stream",
     "text": [
      "/Users/alex/anaconda/lib/python2.7/site-packages/sklearn/metrics/classification.py:1113: UndefinedMetricWarning: Precision is ill-defined and being set to 0.0 due to no predicted samples.\n",
      "  'precision', 'predicted', average, warn_for)\n"
     ]
    },
    {
     "name": "stdout",
     "output_type": "stream",
     "text": [
      "RandomForestClassifier(bootstrap=True, class_weight=None, criterion='gini',\n",
      "            max_depth=30, max_features='auto', max_leaf_nodes=None,\n",
      "            min_impurity_split=1e-07, min_samples_leaf=1,\n",
      "            min_samples_split=2, min_weight_fraction_leaf=0.0,\n",
      "            n_estimators=10, n_jobs=1, oob_score=False, random_state=None,\n",
      "            verbose=0, warm_start=False)\n",
      "0.374071837056\n"
     ]
    }
   ],
   "source": [
    "rf_PARAMETERS = {\"max_depth\":[5,10,15,30], \"n_estimators\": [10,20,50,100]}\n",
    "rf_SCORING = \"precision\"\n",
    "rf_model = RandomForestClassifier()\n",
    "grid = GridSearchCV(rf_model, param_grid=rf_PARAMETERS, scoring=rf_SCORING)\n",
    "grid.fit(X_train, Y_train)\n",
    "\n",
    "#look at max features\n",
    "\n",
    "print grid.best_estimator_\n",
    "print grid.best_score_"
   ]
  },
  {
   "cell_type": "code",
   "execution_count": null,
   "metadata": {
    "collapsed": true
   },
   "outputs": [],
   "source": []
  }
 ],
 "metadata": {
  "anaconda-cloud": {},
  "kernelspec": {
   "display_name": "Python [Root]",
   "language": "python",
   "name": "Python [Root]"
  },
  "language_info": {
   "codemirror_mode": {
    "name": "ipython",
    "version": 2
   },
   "file_extension": ".py",
   "mimetype": "text/x-python",
   "name": "python",
   "nbconvert_exporter": "python",
   "pygments_lexer": "ipython2",
   "version": "2.7.11"
  }
 },
 "nbformat": 4,
 "nbformat_minor": 0
}
