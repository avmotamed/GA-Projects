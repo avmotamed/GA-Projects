{
 "cells": [
  {
   "cell_type": "markdown",
   "metadata": {},
   "source": [
    "# Book 7 - Gradient Boost"
   ]
  },
  {
   "cell_type": "code",
   "execution_count": 1,
   "metadata": {
    "collapsed": false
   },
   "outputs": [
    {
     "name": "stderr",
     "output_type": "stream",
     "text": [
      "/Users/alex/anaconda/lib/python2.7/site-packages/sklearn/cross_validation.py:44: DeprecationWarning: This module was deprecated in version 0.18 in favor of the model_selection module into which all the refactored classes and functions are moved. Also note that the interface of the new CV iterators are different from that of this module. This module will be removed in 0.20.\n",
      "  \"This module will be removed in 0.20.\", DeprecationWarning)\n",
      "/Users/alex/anaconda/lib/python2.7/site-packages/sklearn/grid_search.py:43: DeprecationWarning: This module was deprecated in version 0.18 in favor of the model_selection module into which all the refactored classes and functions are moved. This module will be removed in 0.20.\n",
      "  DeprecationWarning)\n"
     ]
    }
   ],
   "source": [
    "import pandas as pd\n",
    "import numpy as np\n",
    "import seaborn as sns\n",
    "import pickle\n",
    "import random\n",
    "import datetime\n",
    "\n",
    "import matplotlib\n",
    "import matplotlib.pyplot as plt\n",
    "import matplotlib.cm as cm\n",
    "import matplotlib.patheffects as path_effects\n",
    "from matplotlib import cm as cm2\n",
    "matplotlib.style.use('ggplot') \n",
    "%matplotlib inline\n",
    "\n",
    "from sklearn.linear_model import LogisticRegression\n",
    "from sklearn import linear_model, datasets\n",
    "from sklearn.grid_search import GridSearchCV\n",
    "from sklearn import datasets\n",
    "from sklearn.tree import DecisionTreeClassifier, DecisionTreeRegressor\n",
    "from sklearn.ensemble import RandomForestClassifier, AdaBoostClassifier, \\\n",
    "    GradientBoostingClassifier, ExtraTreesClassifier, BaggingRegressor, \\\n",
    "    ExtraTreesRegressor, AdaBoostRegressor, GradientBoostingRegressor, RandomForestRegressor\n",
    "from sklearn.metrics import confusion_matrix\n",
    "from sklearn.preprocessing import LabelEncoder, MinMaxScaler\n",
    "from sklearn.metrics import accuracy_score \\\n",
    "#     confusion_matrix, roc_curve, roc_auc_score, precision_score, recall_score\n",
    "from sklearn.cross_validation import train_test_split, KFold, cross_val_score\n",
    "\n",
    "\n",
    "matplotlib.style.use('ggplot') \n",
    "%matplotlib inline"
   ]
  },
  {
   "cell_type": "markdown",
   "metadata": {},
   "source": [
    "# Bring in X & T train & test"
   ]
  },
  {
   "cell_type": "code",
   "execution_count": 2,
   "metadata": {
    "collapsed": false
   },
   "outputs": [],
   "source": [
    "with open('X_train.pkl', 'r') as picklefile:\n",
    "    X_train = pickle.load(picklefile)\n",
    "    \n",
    "with open('X_test.pkl', 'r') as picklefile:\n",
    "    X_test = pickle.load(picklefile)\n",
    "    \n",
    "with open('Y_train.pkl', 'r') as picklefile:\n",
    "    Y_train = pickle.load(picklefile)\n",
    "    \n",
    "with open('Y_test.pkl', 'r') as picklefile:\n",
    "    Y_test = pickle.load(picklefile)"
   ]
  },
  {
   "cell_type": "code",
   "execution_count": 3,
   "metadata": {
    "collapsed": false
   },
   "outputs": [
    {
     "data": {
      "text/plain": [
       "numpy.ndarray"
      ]
     },
     "execution_count": 3,
     "metadata": {},
     "output_type": "execute_result"
    }
   ],
   "source": [
    "Y_test = np.transpose(Y_test.values)[0]\n",
    "Y_train = np.transpose(Y_train.values)[0]\n",
    "type(Y_test)"
   ]
  },
  {
   "cell_type": "code",
   "execution_count": 4,
   "metadata": {
    "collapsed": true
   },
   "outputs": [],
   "source": [
    "with open('Disp_train.pkl', 'r') as picklefile:\n",
    "    Disp_train = pickle.load(picklefile)\n",
    "    \n",
    "with open('Disp_test.pkl', 'r') as picklefile:\n",
    "    Disp_test = pickle.load(picklefile)"
   ]
  },
  {
   "cell_type": "code",
   "execution_count": 5,
   "metadata": {
    "collapsed": false
   },
   "outputs": [
    {
     "name": "stdout",
     "output_type": "stream",
     "text": [
      "X_train length: 23,179\n",
      "X_test  length:  2,396\n"
     ]
    }
   ],
   "source": [
    "print('X_train length: {0:,}'.format(len(X_train)))\n",
    "print('X_test  length:  {0:,}'.format(len(X_test)))"
   ]
  },
  {
   "cell_type": "code",
   "execution_count": 6,
   "metadata": {
    "collapsed": false
   },
   "outputs": [
    {
     "name": "stdout",
     "output_type": "stream",
     "text": [
      "Combined length: 25,575\n"
     ]
    }
   ],
   "source": [
    "X = X_train.append(X_test)\n",
    "print('Combined length: {0:,}'.format(len(X)))"
   ]
  },
  {
   "cell_type": "code",
   "execution_count": 7,
   "metadata": {
    "collapsed": false
   },
   "outputs": [
    {
     "data": {
      "text/plain": [
       "Index([u'pltfrm', u'state', u'cmpgn_id', u'adv_id', u'period', u'doc_topic',\n",
       "       u'ad_topic'],\n",
       "      dtype='object')"
      ]
     },
     "execution_count": 7,
     "metadata": {},
     "output_type": "execute_result"
    }
   ],
   "source": [
    "X.columns"
   ]
  },
  {
   "cell_type": "code",
   "execution_count": 8,
   "metadata": {
    "collapsed": false
   },
   "outputs": [
    {
     "name": "stdout",
     "output_type": "stream",
     "text": [
      "0:00:07.460484\n"
     ]
    }
   ],
   "source": [
    "start = datetime.datetime.now()\n",
    "\n",
    "X = pd.get_dummies(X, prefix=['pltfrm', 'state', 'cmpgn_id', 'adv_id',\\\n",
    "                                          'period','doc_topic', 'ad_topic'])\n",
    "\n",
    "X.drop(['pltfrm_3','state_AK','cmpgn_id_32840','adv_id_1890','period_morning',\n",
    "       'doc_topic_17.0','ad_topic_91.0'])\n",
    "finish = datetime.datetime.now()\n",
    "print(finish - start)"
   ]
  },
  {
   "cell_type": "code",
   "execution_count": 9,
   "metadata": {
    "collapsed": false
   },
   "outputs": [],
   "source": [
    "X_train = X[:23179]\n",
    "X_test = X[23179:]"
   ]
  },
  {
   "cell_type": "code",
   "execution_count": 10,
   "metadata": {
    "collapsed": false
   },
   "outputs": [
    {
     "name": "stdout",
     "output_type": "stream",
     "text": [
      "X_train length: 23,179\n",
      "X_test  length:  2,396\n"
     ]
    }
   ],
   "source": [
    "print('X_train length: {0:,}'.format(len(X_train)))\n",
    "print('X_test  length:  {0:,}'.format(len(X_test)))"
   ]
  },
  {
   "cell_type": "code",
   "execution_count": null,
   "metadata": {
    "collapsed": false
   },
   "outputs": [],
   "source": []
  },
  {
   "cell_type": "markdown",
   "metadata": {},
   "source": [
    "# Gradient Boost\n",
    "\n",
    "Gradient Boost default settings\n",
    "* correct predictions: 155\n",
    "* Precent correct: 33.9%\n",
    "\n",
    "Gradient Boost (learning rate = 0.2, n_estimators = 100 - precision gridsearch)\n",
    "* correct predictions: 171\n",
    "* Precent correct: 37.4%\n"
   ]
  },
  {
   "cell_type": "code",
   "execution_count": 11,
   "metadata": {
    "collapsed": false
   },
   "outputs": [
    {
     "data": {
      "text/plain": [
       "GradientBoostingClassifier(criterion='friedman_mse', init=None,\n",
       "              learning_rate=0.2, loss='deviance', max_depth=3,\n",
       "              max_features=None, max_leaf_nodes=None,\n",
       "              min_impurity_split=1e-07, min_samples_leaf=1,\n",
       "              min_samples_split=2, min_weight_fraction_leaf=0.0,\n",
       "              n_estimators=100, presort='auto', random_state=None,\n",
       "              subsample=1.0, verbose=0, warm_start=False)"
      ]
     },
     "execution_count": 11,
     "metadata": {},
     "output_type": "execute_result"
    }
   ],
   "source": [
    "start = datetime.datetime.now()\n",
    "\n",
    "gbc = GradientBoostingClassifier()\n",
    "\n",
    "gbc.fit(X_train,Y_train)\n",
    "\n",
    "finish = datetime.datetime.now()\n",
    "print(finish - start)"
   ]
  },
  {
   "cell_type": "code",
   "execution_count": null,
   "metadata": {
    "collapsed": true
   },
   "outputs": [],
   "source": []
  },
  {
   "cell_type": "markdown",
   "metadata": {},
   "source": [
    "# <font color='blue'> Post Processing Steps"
   ]
  },
  {
   "cell_type": "code",
   "execution_count": 12,
   "metadata": {
    "collapsed": false
   },
   "outputs": [],
   "source": [
    "# get probabilities of clicked/not clicked\n",
    "gbc_proba = gbc.predict_proba(X_test)\n",
    "gbc_Y_proba = pd.DataFrame(gbc_proba,columns = ['p_no_click','p_click'])"
   ]
  },
  {
   "cell_type": "code",
   "execution_count": 13,
   "metadata": {
    "collapsed": false
   },
   "outputs": [],
   "source": [
    "ppp = pd.concat([Disp_test, gbc_Y_proba], axis=1)\n",
    "# post processing of predictor"
   ]
  },
  {
   "cell_type": "markdown",
   "metadata": {},
   "source": [
    "## Reduce to 1-click per display id"
   ]
  },
  {
   "cell_type": "code",
   "execution_count": 14,
   "metadata": {
    "collapsed": false
   },
   "outputs": [
    {
     "data": {
      "text/html": [
       "<div>\n",
       "<table border=\"1\" class=\"dataframe\">\n",
       "  <thead>\n",
       "    <tr style=\"text-align: right;\">\n",
       "      <th></th>\n",
       "      <th>display_id</th>\n",
       "      <th>p_no_click</th>\n",
       "      <th>p_click</th>\n",
       "    </tr>\n",
       "  </thead>\n",
       "  <tbody>\n",
       "    <tr>\n",
       "      <th>0</th>\n",
       "      <td>65537</td>\n",
       "      <td>0.773755</td>\n",
       "      <td>0.226245</td>\n",
       "    </tr>\n",
       "    <tr>\n",
       "      <th>1</th>\n",
       "      <td>65537</td>\n",
       "      <td>0.799616</td>\n",
       "      <td>0.200384</td>\n",
       "    </tr>\n",
       "    <tr>\n",
       "      <th>2</th>\n",
       "      <td>65537</td>\n",
       "      <td>0.773755</td>\n",
       "      <td>0.226245</td>\n",
       "    </tr>\n",
       "  </tbody>\n",
       "</table>\n",
       "</div>"
      ],
      "text/plain": [
       "   display_id  p_no_click   p_click\n",
       "0       65537    0.773755  0.226245\n",
       "1       65537    0.799616  0.200384\n",
       "2       65537    0.773755  0.226245"
      ]
     },
     "execution_count": 14,
     "metadata": {},
     "output_type": "execute_result"
    }
   ],
   "source": [
    "checker = ppp\n",
    "checker.head(3)"
   ]
  },
  {
   "cell_type": "code",
   "execution_count": 15,
   "metadata": {
    "collapsed": false
   },
   "outputs": [
    {
     "data": {
      "text/html": [
       "<div>\n",
       "<table border=\"1\" class=\"dataframe\">\n",
       "  <thead>\n",
       "    <tr style=\"text-align: right;\">\n",
       "      <th></th>\n",
       "      <th>display_id</th>\n",
       "      <th>p_no_click</th>\n",
       "      <th>p_click</th>\n",
       "      <th>Y_test</th>\n",
       "      <th>prediction</th>\n",
       "    </tr>\n",
       "  </thead>\n",
       "  <tbody>\n",
       "    <tr>\n",
       "      <th>0</th>\n",
       "      <td>65537</td>\n",
       "      <td>0.773755</td>\n",
       "      <td>0.226245</td>\n",
       "      <td>0</td>\n",
       "      <td>0</td>\n",
       "    </tr>\n",
       "    <tr>\n",
       "      <th>1</th>\n",
       "      <td>65537</td>\n",
       "      <td>0.799616</td>\n",
       "      <td>0.200384</td>\n",
       "      <td>0</td>\n",
       "      <td>0</td>\n",
       "    </tr>\n",
       "    <tr>\n",
       "      <th>2</th>\n",
       "      <td>65537</td>\n",
       "      <td>0.773755</td>\n",
       "      <td>0.226245</td>\n",
       "      <td>0</td>\n",
       "      <td>0</td>\n",
       "    </tr>\n",
       "    <tr>\n",
       "      <th>3</th>\n",
       "      <td>65537</td>\n",
       "      <td>0.773755</td>\n",
       "      <td>0.226245</td>\n",
       "      <td>1</td>\n",
       "      <td>0</td>\n",
       "    </tr>\n",
       "    <tr>\n",
       "      <th>4</th>\n",
       "      <td>66286</td>\n",
       "      <td>0.773755</td>\n",
       "      <td>0.226245</td>\n",
       "      <td>1</td>\n",
       "      <td>0</td>\n",
       "    </tr>\n",
       "  </tbody>\n",
       "</table>\n",
       "</div>"
      ],
      "text/plain": [
       "   display_id  p_no_click   p_click  Y_test  prediction\n",
       "0       65537    0.773755  0.226245       0           0\n",
       "1       65537    0.799616  0.200384       0           0\n",
       "2       65537    0.773755  0.226245       0           0\n",
       "3       65537    0.773755  0.226245       1           0\n",
       "4       66286    0.773755  0.226245       1           0"
      ]
     },
     "execution_count": 15,
     "metadata": {},
     "output_type": "execute_result"
    }
   ],
   "source": [
    "checker['Y_test'] = pd.Series(Y_test)\n",
    "checker['prediction'] = [0 for _ in range(len(checker))] # puts zeros in place\n",
    "checker.head()"
   ]
  },
  {
   "cell_type": "code",
   "execution_count": null,
   "metadata": {
    "collapsed": true
   },
   "outputs": [],
   "source": []
  },
  {
   "cell_type": "code",
   "execution_count": 16,
   "metadata": {
    "collapsed": false
   },
   "outputs": [
    {
     "data": {
      "text/plain": [
       "457"
      ]
     },
     "execution_count": 16,
     "metadata": {},
     "output_type": "execute_result"
    }
   ],
   "source": [
    "# List of unique display_id's, with each display id corresponding to an event\n",
    "pages = checker['display_id'].unique()\n",
    "len(pages)"
   ]
  },
  {
   "cell_type": "code",
   "execution_count": 17,
   "metadata": {
    "collapsed": false
   },
   "outputs": [],
   "source": [
    "# system to use probabilities to choose which page is clicked\n",
    "# compensates for zero probability across the board, or muliple matching high probabilities\n",
    "\n",
    "for d_num in pages:  \n",
    "    indx = 0 # index that becomes click\n",
    "    disp_list = checker[checker['display_id'] == d_num].index.tolist()\n",
    "\n",
    "    temp = pd.DataFrame(ppp[ppp['display_id'] == d_num])\n",
    "\n",
    "    p_max = temp['p_click'].max()\n",
    "\n",
    "    if p_max == 0:\n",
    "        indx = random.choice(disp_list) # randomly picks from all matched values\n",
    "    else:\n",
    "        counter = 0\n",
    "        short_list =[]\n",
    "        for index, row in temp.iterrows():\n",
    "            if row['p_click'] == p_max:\n",
    "                counter += 1\n",
    "                short_list.append(index)\n",
    "        indx = random.choice(short_list) # randomly picks from all matched values\n",
    "    checker.set_value(indx, 'prediction', 1)\n"
   ]
  },
  {
   "cell_type": "code",
   "execution_count": 18,
   "metadata": {
    "collapsed": false
   },
   "outputs": [
    {
     "data": {
      "text/plain": [
       "457"
      ]
     },
     "execution_count": 18,
     "metadata": {},
     "output_type": "execute_result"
    }
   ],
   "source": [
    "sum(checker['Y_test'])"
   ]
  },
  {
   "cell_type": "code",
   "execution_count": 19,
   "metadata": {
    "collapsed": false
   },
   "outputs": [
    {
     "data": {
      "text/plain": [
       "457"
      ]
     },
     "execution_count": 19,
     "metadata": {},
     "output_type": "execute_result"
    }
   ],
   "source": [
    "sum(checker['prediction'])"
   ]
  },
  {
   "cell_type": "code",
   "execution_count": 20,
   "metadata": {
    "collapsed": false
   },
   "outputs": [
    {
     "name": "stdout",
     "output_type": "stream",
     "text": [
      "Clicks correctly predicted: 171\n",
      "Percent correctly predicted: 37.417943%\n"
     ]
    }
   ],
   "source": [
    "count = 0\n",
    "for index, row in checker.iterrows():\n",
    "    if row['prediction'] == 1 and row['Y_test'] == 1:\n",
    "        count +=1\n",
    "print('Clicks correctly predicted: {0:,}'.format(count))\n",
    "print('Percent correctly predicted: {0:%}'.format(float(count)/sum(checker['Y_test'])))"
   ]
  },
  {
   "cell_type": "markdown",
   "metadata": {
    "collapsed": false
   },
   "source": [
    "# <font color='purple'> Gridsearch goes below: <font>"
   ]
  },
  {
   "cell_type": "code",
   "execution_count": null,
   "metadata": {
    "collapsed": false
   },
   "outputs": [],
   "source": [
    "PARAMETERS = {\"learning_rate\":[0.1, 0.2, 0.4], \"n_estimators\": [50,100,500,1000]}\n",
    "SCORING = \"precision\"\n",
    "\n",
    "start = datetime.datetime.now()\n",
    "\n",
    "grid = GridSearchCV(gbc, scoring = SCORING, param_grid = PARAMETERS)\n",
    "grid.fit(X_train,Y_train)\n",
    "\n",
    "finish = datetime.datetime.now()\n",
    "print(finish - start)"
   ]
  },
  {
   "cell_type": "code",
   "execution_count": null,
   "metadata": {
    "collapsed": false
   },
   "outputs": [],
   "source": [
    "grid.best_estimator_\n"
   ]
  },
  {
   "cell_type": "code",
   "execution_count": null,
   "metadata": {
    "collapsed": true
   },
   "outputs": [],
   "source": []
  }
 ],
 "metadata": {
  "anaconda-cloud": {},
  "kernelspec": {
   "display_name": "Python [Root]",
   "language": "python",
   "name": "Python [Root]"
  },
  "language_info": {
   "codemirror_mode": {
    "name": "ipython",
    "version": 2
   },
   "file_extension": ".py",
   "mimetype": "text/x-python",
   "name": "python",
   "nbconvert_exporter": "python",
   "pygments_lexer": "ipython2",
   "version": "2.7.11"
  }
 },
 "nbformat": 4,
 "nbformat_minor": 0
}
