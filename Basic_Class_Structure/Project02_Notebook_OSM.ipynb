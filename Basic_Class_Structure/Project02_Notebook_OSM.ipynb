{
 "cells": [
  {
   "cell_type": "markdown",
   "metadata": {},
   "source": [
    "# Project 2 - Online Store Manager\n",
    "A project to develop a better understanding of classes\n",
    "\n",
    "Items in *italics* come directly from the problem statement (readme file). The follow on text then explains how it was achieved and if it differed from the problem statement and why. "
   ]
  },
  {
   "cell_type": "code",
   "execution_count": 1,
   "metadata": {
    "collapsed": false
   },
   "outputs": [],
   "source": [
    "class OnlineStoreManager:\n",
    "    \"\"\"\n",
    "    The OnlineStoreManager creates a new type of store class (1st argument), such as Pet \n",
    "    Store or Book Store, and a list of the product types that can be offered by the \n",
    "    store (remainder of arguments, can be any length)\n",
    "    \"\"\"\n",
    "    \n",
    "    def __init__(self, *args):\n",
    "        # Product types that can be sold in this store type\n",
    "        self.product_template = args\n",
    "        # Track the names of the stores created in this genre/store type\n",
    "        self.stores_created = []\n",
    "        # zero's counter when new class of store is created\n",
    "        self.count = 0\n",
    "        \n",
    "    def __s_count__(self):\n",
    "        # provide count of the number of stores created\n",
    "        return len(self.stores_created)\n",
    "        \n",
    "    def CreateOnlineStore(self, name):\n",
    "        # saves new store name to stores created list\n",
    "        self.stores_created.append(name)\n",
    "        # rolls the counter to match number of stores created\n",
    "        self.count = len(self.stores_created)\n",
    "        \"\"\"\n",
    "        To execute this the way i want, if you wanted to create a bookstore Borders\n",
    "        you would code %s = CreateOnlineStore('Borders'), where %s is the string used for\n",
    "        naming the Store Class object, which can then be tied to other classes\n",
    "        \"\"\"\n",
    "        print 'Number of stores created: {0}'.format(self.count)\n",
    "        print 'List of stores created to date: {0}'.format(self.stores_created)\n",
    "        return Store(name, self.product_template)"
   ]
  },
  {
   "cell_type": "code",
   "execution_count": 2,
   "metadata": {
    "collapsed": false
   },
   "outputs": [],
   "source": [
    "def dprint(d, depth = 0):\n",
    "    tabs = '\\t'*depth\n",
    "    for k, v in d.items():\n",
    "        if not type(v) == dict:\n",
    "            print ('{0}{1} : {2}'.format(tabs,k,v))\n",
    "        else:\n",
    "            print ('{0}{1} : '.format(tabs,k))\n",
    "            dprint(v, depth=depth+1)\n",
    "            \n",
    "    \n",
    "class Store:\n",
    "    \"\"\"\n",
    "    Create an online store from the CreateOnlineStore method within OSM\n",
    "    \"\"\"\n",
    "    def __init__(self, name, product_template):\n",
    "        self.name = name\n",
    "        # Inventory kept as dictionary key1 = type, key2 = item, value = quantity in inv\n",
    "        \"\"\"e.g {\n",
    "                'Book':{\n",
    "                        'Gullivers Travels': 5\n",
    "                        'The Art of the Deal': 103}\n",
    "                        }\n",
    "        \"\"\"         \n",
    "        self.inventory = {item: {} for item in product_template}\n",
    "        # dictionary to track customers and their transactions\n",
    "        self.customers = {} \n",
    "        \n",
    "    def add_items(self, product_class, item, quantity):\n",
    "        \"\"\"\n",
    "        This checks if product_class is allowed at this store, then if so it checks if the\n",
    "        particular item is already in the inventory list. Then either adds to the existing\n",
    "        item or creates a new one as appropriate\n",
    "        \"\"\"\n",
    "        if product_class in self.inventory:\n",
    "            if item in self.inventory[product_class]:\n",
    "                self.inventory[product_class][item] += quantity\n",
    "            else:\n",
    "                self.inventory[product_class][item] = quantity\n",
    "        else:\n",
    "            print('The store can not stock/sell this product type: {0}'.format(product_class))\n",
    "        return\n",
    "            \n",
    "    def new_customer(self, user_name):\n",
    "        \"\"\"\n",
    "        This is run when a customer creates login credentials, for the purposes of this \n",
    "        exercise, purchases can not be made without login credentials. This could be expanded\n",
    "        to include other customer details as needed (eg email, payment method, address,etc)\n",
    "        \"\"\"\n",
    "        self.customers[user_name] = []\n",
    "        # the value is a blank list, which will record transactions\n",
    "        \n",
    "    def purchase(self, user_name, product_type, item, quantity):\n",
    "        \"\"\"\n",
    "        When a customer makes a purchase, this method records the transaction in the customer\n",
    "        dictionary and updates the inventory dictionary. This could be expanded beyond the\n",
    "        scope of this project to also initiate packing and shipping instructions.\n",
    "        \"\"\"\n",
    "        # the if statement checks if sufficient quantity of item is in stock\n",
    "        if self.inventory[product_type][item] >= quantity:\n",
    "            # the below tuple stored in the list can be expanded to include date, price, etc...\n",
    "            self.customers[user_name].append((item, quantity))\n",
    "            # the inventory update finds the item and takes its number down by quantity\n",
    "            self.inventory[product_type][item] -= quantity\n",
    "        else:\n",
    "            print('We apologize, but we currently do not have {0} available'.format(item))\n"
   ]
  },
  {
   "cell_type": "markdown",
   "metadata": {},
   "source": [
    "## Create a store genre/type (e.g. Toy store) (OSM Object)"
   ]
  },
  {
   "cell_type": "markdown",
   "metadata": {},
   "source": [
    "*Each object of the class OSM has a special method called CreateOnlineStore which creates an OnlineStore using a specific template specified by a list of Products that the store can sell. *\n",
    "\n",
    "The OSM Class creates a template to make a store genre, e.g. toy store, book store. When the genre is created, the list of arguments attached to the method are the list of product types that the store is allowed to sell. Later, when the item of class OSM is used to create individual stores (e.g. from book store you can create 'Border' or 'Barnes and Noble'), the individual stores themselves can then stock any line items of the allowe product types (The tuple of product_types is passed to the individual store).\n"
   ]
  },
  {
   "cell_type": "code",
   "execution_count": 3,
   "metadata": {
    "collapsed": true
   },
   "outputs": [],
   "source": [
    "ToyStore = OnlineStoreManager('Action Figures', 'Toy Cars', 'Building Blocks')"
   ]
  },
  {
   "cell_type": "markdown",
   "metadata": {},
   "source": [
    "### Adding a specific store"
   ]
  },
  {
   "cell_type": "markdown",
   "metadata": {},
   "source": [
    "*The OSM object stores the number of stores it created and also stores a list of all of the stores it created.* - The OSM object keeps a running list of the names of stores created and a function that counts the number of stores in the list. (On a side note, I coudl not determine how, if the OSM class object is the store itself, it can also keep a sum and list of the stores created.)\n",
    "\n",
    "*Each newly created online store using the OSM template has a Name, an Inventory and a list of Customers.*\n",
    "\n",
    "Instead of creating the store directly from OSM, the intermediary step of store genre/type passes the product_type list as the inventory contraint. This allows greater flexibility in individual items carried by the store owner (e.g. specific book titles), while still constraining the owner by the product_type tuple.\n",
    "\n",
    "For more on the Store class, see section below.\n",
    "\n"
   ]
  },
  {
   "cell_type": "code",
   "execution_count": 4,
   "metadata": {
    "collapsed": false
   },
   "outputs": [
    {
     "name": "stdout",
     "output_type": "stream",
     "text": [
      "Number of stores created: 1\n",
      "List of stores created to date: [\"Al's Toy Barn\"]\n",
      "Number of stores created: 2\n",
      "List of stores created to date: [\"Al's Toy Barn\", 'Bobbies Video Games']\n"
     ]
    }
   ],
   "source": [
    "Als = ToyStore.CreateOnlineStore('Al\\'s Toy Barn')\n",
    "Bobs = ToyStore.CreateOnlineStore('Bobbies Video Games')"
   ]
  },
  {
   "cell_type": "markdown",
   "metadata": {},
   "source": [
    "When the store is generate, within the store/genre (OSM object) the store list is updated (appended) and the store count method gives the number of stores created."
   ]
  },
  {
   "cell_type": "markdown",
   "metadata": {},
   "source": [
    "## From within Store Class Objects\n",
    "\n",
    "On creation of an individual store from the OSM object, the customer and inventory data is blank. As customers and inventory are specific to an individual store (As each store has unique log-in credientials, like weebly, instead of a single log-in, like Amazon, the customer and inventory data are store specific and not shared by stores. To achieve better functionality, these two sets of data are stored as dictionaries. [A further step could be taken to make customer and inventory into classes, with which you could also switch to the amazon model and have a single log-in for any store.]\n",
    "\n",
    "Separating the individual stores themselves from the object that creates stores also allows for better tracking of the store specific information.\n",
    "\n",
    "### Add Inventory : \n",
    "\n",
    "*The inventory can hold only items defined in the template and are separated by item type.*\n",
    "\n",
    "*You can only add items to the inventory which the store can hold. You cannot sell items that you do not have. *\n",
    "\n",
    "The .new_items() method within the Store class object allows for the creation/addition of inventory items. The arguments are 'Product Type', 'Product Name', and quantity. This method first makes sure the product type is allowed, if so it then checks if it already exists, and then either adds the new line item or updates the quantity to the existing item as appropriate.\n"
   ]
  },
  {
   "cell_type": "code",
   "execution_count": 5,
   "metadata": {
    "collapsed": false
   },
   "outputs": [
    {
     "name": "stdout",
     "output_type": "stream",
     "text": [
      "The store can not stock/sell this product type: Tractors\n"
     ]
    }
   ],
   "source": [
    "Als.add_items('Action Figures','Ray', 25)\n",
    "Als.add_items('Action Figures', 'Barbie', 35)\n",
    "Als.add_items('Building Blocks', 'Lego City Set', 5)\n",
    "Als.add_items('Toy Cars', 'Matchbox Demolition Crew', 10)\n",
    "Als.add_items('Tractors', 'Frank', 5)\n"
   ]
  },
  {
   "cell_type": "code",
   "execution_count": 6,
   "metadata": {
    "collapsed": false
   },
   "outputs": [
    {
     "data": {
      "text/plain": [
       "{'Action Figures': {'Barbie': 35, 'Ray': 25},\n",
       " 'Building Blocks': {'Lego City Set': 5},\n",
       " 'Toy Cars': {'Matchbox Demolition Crew': 10}}"
      ]
     },
     "execution_count": 6,
     "metadata": {},
     "output_type": "execute_result"
    }
   ],
   "source": [
    "Als.inventory"
   ]
  },
  {
   "cell_type": "markdown",
   "metadata": {},
   "source": [
    "### Summarize Inventory\n",
    "\n",
    "*The online store has a method which allows you to summarize the inventory.*\n",
    "\n",
    "Since dictionaries were used, doing a nicely formatted summary of the output is not easily workable as the calling of the method from within a calss stumbles over the use of self.\n",
    "\n",
    "To overcome this, and also to be able to use it with customer summaries as seen below, a function 'dprint()' is used, with the initial argument being the dictionary itself (the depth of tabbing the formatting is used in the function calling itself, but is set to zero as default so is not needed in the initial call of the function).\n"
   ]
  },
  {
   "cell_type": "code",
   "execution_count": 7,
   "metadata": {
    "collapsed": false
   },
   "outputs": [
    {
     "name": "stdout",
     "output_type": "stream",
     "text": [
      "Building Blocks : \n",
      "\tLego City Set : 5\n",
      "Toy Cars : \n",
      "\tMatchbox Demolition Crew : 10\n",
      "Action Figures : \n",
      "\tBarbie : 35\n",
      "\tRay : 25\n"
     ]
    }
   ],
   "source": [
    "dprint(Als.inventory)"
   ]
  },
  {
   "cell_type": "markdown",
   "metadata": {
    "collapsed": true
   },
   "source": [
    "### Adding new customers\n",
    "\n",
    "*You can add customers to each online store.*\n",
    "\n",
    "As the project is based on the weebly model, stores do not share client information, so keeping the cusotmer blueprint within the Store class would save the same function as having a seperate customer class for something like the Amazon model.\n",
    "\n",
    "This results in adding the new user to the customer dictionary, with the value in the dictionary being a list that will contain all transactions. Other pertinent data, such as email, shipping info, etc, could also be put into the customer dictionary. The transaction tuple contains Item and Quantity, but could easiliy be expanded to include other pretinent data such as transaction date, price paid, etc."
   ]
  },
  {
   "cell_type": "code",
   "execution_count": 8,
   "metadata": {
    "collapsed": false
   },
   "outputs": [],
   "source": [
    "Als.new_customer('Alex')\n",
    "Als.new_customer('John')"
   ]
  },
  {
   "cell_type": "code",
   "execution_count": 9,
   "metadata": {
    "collapsed": false
   },
   "outputs": [
    {
     "data": {
      "text/plain": [
       "{'Alex': [], 'John': []}"
      ]
     },
     "execution_count": 9,
     "metadata": {},
     "output_type": "execute_result"
    }
   ],
   "source": [
    "Als.customers"
   ]
  },
  {
   "cell_type": "markdown",
   "metadata": {
    "collapsed": true
   },
   "source": [
    "## Making a purchase\n",
    "\n",
    "With the customer and inventory dictionaries in place, as well as the add inventory method, a transanction proceeds as follows:\n",
    "1. The inventory dictionart is verified to have sufficient quantity for the sale.\n",
    "2. In the customer dictionary, under that particular customer, a tuple of the transaction details are appended to the value list for that key, which is a list of transaction tuples.\n",
    "3. In the inventory dictionary for that particular line item, the quantity is updated to account for the transaction."
   ]
  },
  {
   "cell_type": "code",
   "execution_count": 10,
   "metadata": {
    "collapsed": false
   },
   "outputs": [],
   "source": [
    "Als.purchase('Alex', 'Action Figures', 'Ray', 2)\n",
    "Als.purchase('Alex', 'Building Blocks', 'Lego City Set', 1)\n",
    "Als.purchase('John', 'Toy Cars', 'Matchbox Demolition Crew', 2)"
   ]
  },
  {
   "cell_type": "code",
   "execution_count": 11,
   "metadata": {
    "collapsed": false
   },
   "outputs": [
    {
     "data": {
      "text/plain": [
       "{'Action Figures': {'Barbie': 35, 'Ray': 23},\n",
       " 'Building Blocks': {'Lego City Set': 4},\n",
       " 'Toy Cars': {'Matchbox Demolition Crew': 8}}"
      ]
     },
     "execution_count": 11,
     "metadata": {},
     "output_type": "execute_result"
    }
   ],
   "source": [
    "Als.inventory"
   ]
  },
  {
   "cell_type": "code",
   "execution_count": 12,
   "metadata": {
    "collapsed": false
   },
   "outputs": [
    {
     "data": {
      "text/plain": [
       "{'Alex': [('Ray', 2), ('Lego City Set', 1)],\n",
       " 'John': [('Matchbox Demolition Crew', 2)]}"
      ]
     },
     "execution_count": 12,
     "metadata": {},
     "output_type": "execute_result"
    }
   ],
   "source": [
    "Als.customers"
   ]
  },
  {
   "cell_type": "markdown",
   "metadata": {},
   "source": [
    "### Customer Summary\n",
    "\n",
    "Customer summaries can be done from two perspectives:\n",
    "1. From the store's perspective, the store manager can use the dpring() function to pring out the dictionary of transactions, so they will be grouped by customer.\n",
    "2. From the individual customer perspective, a regular print command can be used to print out the dictionary value for that customer key, which is a list of transaction tuples."
   ]
  },
  {
   "cell_type": "code",
   "execution_count": 13,
   "metadata": {
    "collapsed": false
   },
   "outputs": [
    {
     "name": "stdout",
     "output_type": "stream",
     "text": [
      "John : [('Matchbox Demolition Crew', 2)]\n",
      "Alex : [('Ray', 2), ('Lego City Set', 1)]\n"
     ]
    }
   ],
   "source": [
    "dprint(Als.customers)"
   ]
  },
  {
   "cell_type": "code",
   "execution_count": 14,
   "metadata": {
    "collapsed": false
   },
   "outputs": [
    {
     "name": "stdout",
     "output_type": "stream",
     "text": [
      "[('Ray', 2), ('Lego City Set', 1)]\n"
     ]
    }
   ],
   "source": [
    "print Als.customers['Alex']"
   ]
  },
  {
   "cell_type": "markdown",
   "metadata": {},
   "source": [
    "# A note on function overrides\n",
    "\n",
    "For further development, the pring command for the Store class could be overriden to print dictionaries. Given the difficulty in getting pretty formatting for a dictionary within a class method, this could also be moved to a customer and/or inventory class if we were to use the Amazon method were customers are almost blind to which merchant they use and have a single log-in for all stores."
   ]
  },
  {
   "cell_type": "code",
   "execution_count": null,
   "metadata": {
    "collapsed": true
   },
   "outputs": [],
   "source": []
  }
 ],
 "metadata": {
  "anaconda-cloud": {},
  "kernelspec": {
   "display_name": "Python [Root]",
   "language": "python",
   "name": "Python [Root]"
  },
  "language_info": {
   "codemirror_mode": {
    "name": "ipython",
    "version": 2
   },
   "file_extension": ".py",
   "mimetype": "text/x-python",
   "name": "python",
   "nbconvert_exporter": "python",
   "pygments_lexer": "ipython2",
   "version": "2.7.11"
  }
 },
 "nbformat": 4,
 "nbformat_minor": 0
}
